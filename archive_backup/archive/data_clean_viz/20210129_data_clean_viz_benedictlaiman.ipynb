{
 "cells": [
  {
   "cell_type": "markdown",
   "metadata": {},
   "source": [
    "# Canberra Real Estate Sales 2006-2019"
   ]
  },
  {
   "cell_type": "markdown",
   "metadata": {},
   "source": [
    "## Introduction"
   ]
  },
  {
   "cell_type": "markdown",
   "metadata": {},
   "source": [
    "Data was obtained from HtAG®. HtAG® or Higher than Average Growth is an analytics portal that assists real estate professionals, investors and home buyers in making property-related decisions with the help of timely and actionable real estate market data. HtAG® leverages the benefits of machine learning to rank the growth potential of over 420 Local Government Areas and 6,200 suburbs, Australia wide."
   ]
  },
  {
   "cell_type": "markdown",
   "metadata": {},
   "source": [
    "> #### Column Descriptions"
   ]
  },
  {
   "cell_type": "markdown",
   "metadata": {},
   "source": [
    "- datesold = date when the property was sold\n",
    "- price = price of the property when it was sold\n",
    "- suburb = suburbs in Canberra, Australia\n",
    "- postcode = post code of a place\n",
    "- lat = latitude of the location\n",
    "- lon = longitude of the location\n",
    "- parking = number of parking lots\n",
    "- bathrooms = number of bathrooms\n",
    "- bedrooms = number of bedrooms\n",
    "- propertyType = type of the property\n",
    "- suburbid = the id of the suburbs"
   ]
  },
  {
   "cell_type": "markdown",
   "metadata": {},
   "source": [
    "> #### Questions"
   ]
  },
  {
   "cell_type": "markdown",
   "metadata": {},
   "source": [
    "- What features affect the real estate prices in Canberra?\n",
    "- What is the real estate prices in Canberra going to be like in the near future according to the given datasets?"
   ]
  },
  {
   "cell_type": "markdown",
   "metadata": {},
   "source": [
    "## Data Cleaning and Visualization"
   ]
  },
  {
   "cell_type": "markdown",
   "metadata": {},
   "source": [
    "> #### Import Modules"
   ]
  },
  {
   "cell_type": "code",
   "execution_count": 1,
   "metadata": {},
   "outputs": [],
   "source": [
    "import numpy as np\n",
    "import pandas as pd\n",
    "\n",
    "import matplotlib as mpl\n",
    "import matplotlib.pyplot as plt\n",
    "import seaborn as sns\n",
    "\n",
    "from sklearn.model_selection import train_test_split\n",
    "\n",
    "import pingouin as pg\n",
    "\n",
    "import warnings\n",
    "warnings.filterwarnings('ignore')\n",
    "\n",
    "sns.set()"
   ]
  },
  {
   "cell_type": "markdown",
   "metadata": {},
   "source": [
    "> #### Import the Raw Dataset"
   ]
  },
  {
   "cell_type": "code",
   "execution_count": 47,
   "metadata": {},
   "outputs": [],
   "source": [
    "raw_df = pd.read_csv('property_sales_canberra.csv')"
   ]
  },
  {
   "cell_type": "code",
   "execution_count": 48,
   "metadata": {},
   "outputs": [
    {
     "data": {
      "text/html": [
       "<div>\n",
       "<style scoped>\n",
       "    .dataframe tbody tr th:only-of-type {\n",
       "        vertical-align: middle;\n",
       "    }\n",
       "\n",
       "    .dataframe tbody tr th {\n",
       "        vertical-align: top;\n",
       "    }\n",
       "\n",
       "    .dataframe thead th {\n",
       "        text-align: right;\n",
       "    }\n",
       "</style>\n",
       "<table border=\"1\" class=\"dataframe\">\n",
       "  <thead>\n",
       "    <tr style=\"text-align: right;\">\n",
       "      <th></th>\n",
       "      <th>datesold</th>\n",
       "      <th>price</th>\n",
       "      <th>suburb</th>\n",
       "      <th>postcode</th>\n",
       "      <th>lat</th>\n",
       "      <th>lon</th>\n",
       "      <th>parking</th>\n",
       "      <th>bathrooms</th>\n",
       "      <th>bedrooms</th>\n",
       "      <th>propertyType</th>\n",
       "      <th>suburbid</th>\n",
       "    </tr>\n",
       "  </thead>\n",
       "  <tbody>\n",
       "    <tr>\n",
       "      <th>0</th>\n",
       "      <td>9/06/2000</td>\n",
       "      <td>223000.0</td>\n",
       "      <td>Nicholls</td>\n",
       "      <td>2913</td>\n",
       "      <td>NaN</td>\n",
       "      <td>NaN</td>\n",
       "      <td>2</td>\n",
       "      <td>2.0</td>\n",
       "      <td>4</td>\n",
       "      <td>house</td>\n",
       "      <td>ACT708</td>\n",
       "    </tr>\n",
       "    <tr>\n",
       "      <th>1</th>\n",
       "      <td>1/01/2001</td>\n",
       "      <td>350000.0</td>\n",
       "      <td>Ngunnawal</td>\n",
       "      <td>2913</td>\n",
       "      <td>NaN</td>\n",
       "      <td>NaN</td>\n",
       "      <td>1</td>\n",
       "      <td>NaN</td>\n",
       "      <td>3</td>\n",
       "      <td>house</td>\n",
       "      <td>ACT706</td>\n",
       "    </tr>\n",
       "    <tr>\n",
       "      <th>2</th>\n",
       "      <td>11/12/2003</td>\n",
       "      <td>550000.0</td>\n",
       "      <td>Weston</td>\n",
       "      <td>2611</td>\n",
       "      <td>NaN</td>\n",
       "      <td>NaN</td>\n",
       "      <td>2</td>\n",
       "      <td>NaN</td>\n",
       "      <td>4</td>\n",
       "      <td>house</td>\n",
       "      <td>ACT441</td>\n",
       "    </tr>\n",
       "    <tr>\n",
       "      <th>3</th>\n",
       "      <td>21/09/2005</td>\n",
       "      <td>276000.0</td>\n",
       "      <td>Isabella Plains</td>\n",
       "      <td>2905</td>\n",
       "      <td>NaN</td>\n",
       "      <td>NaN</td>\n",
       "      <td>1</td>\n",
       "      <td>1.0</td>\n",
       "      <td>3</td>\n",
       "      <td>house</td>\n",
       "      <td>ACT612</td>\n",
       "    </tr>\n",
       "    <tr>\n",
       "      <th>4</th>\n",
       "      <td>1/11/2005</td>\n",
       "      <td>400000.0</td>\n",
       "      <td>Conder</td>\n",
       "      <td>2906</td>\n",
       "      <td>NaN</td>\n",
       "      <td>NaN</td>\n",
       "      <td>2</td>\n",
       "      <td>NaN</td>\n",
       "      <td>5</td>\n",
       "      <td>house</td>\n",
       "      <td>ACT613</td>\n",
       "    </tr>\n",
       "  </tbody>\n",
       "</table>\n",
       "</div>"
      ],
      "text/plain": [
       "     datesold     price           suburb  postcode  lat  lon  parking  \\\n",
       "0   9/06/2000  223000.0         Nicholls      2913  NaN  NaN        2   \n",
       "1   1/01/2001  350000.0        Ngunnawal      2913  NaN  NaN        1   \n",
       "2  11/12/2003  550000.0           Weston      2611  NaN  NaN        2   \n",
       "3  21/09/2005  276000.0  Isabella Plains      2905  NaN  NaN        1   \n",
       "4   1/11/2005  400000.0           Conder      2906  NaN  NaN        2   \n",
       "\n",
       "   bathrooms  bedrooms propertyType suburbid  \n",
       "0        2.0         4        house   ACT708  \n",
       "1        NaN         3        house   ACT706  \n",
       "2        NaN         4        house   ACT441  \n",
       "3        1.0         3        house   ACT612  \n",
       "4        NaN         5        house   ACT613  "
      ]
     },
     "execution_count": 48,
     "metadata": {},
     "output_type": "execute_result"
    }
   ],
   "source": [
    "raw_df.head()"
   ]
  },
  {
   "cell_type": "markdown",
   "metadata": {},
   "source": [
    "## Preprocessing"
   ]
  },
  {
   "cell_type": "markdown",
   "metadata": {},
   "source": [
    "> #### Descriptive Statistics of the Variables"
   ]
  },
  {
   "cell_type": "code",
   "execution_count": 4,
   "metadata": {},
   "outputs": [
    {
     "name": "stdout",
     "output_type": "stream",
     "text": [
      "<class 'pandas.core.frame.DataFrame'>\n",
      "RangeIndex: 43178 entries, 0 to 43177\n",
      "Data columns (total 11 columns):\n",
      " #   Column        Non-Null Count  Dtype  \n",
      "---  ------        --------------  -----  \n",
      " 0   datesold      43178 non-null  object \n",
      " 1   price         42435 non-null  float64\n",
      " 2   suburb        43178 non-null  object \n",
      " 3   postcode      43178 non-null  int64  \n",
      " 4   lat           42033 non-null  float64\n",
      " 5   lon           42033 non-null  float64\n",
      " 6   parking       43178 non-null  int64  \n",
      " 7   bathrooms     42499 non-null  float64\n",
      " 8   bedrooms      43178 non-null  int64  \n",
      " 9   propertyType  43178 non-null  object \n",
      " 10  suburbid      43178 non-null  object \n",
      "dtypes: float64(4), int64(3), object(4)\n",
      "memory usage: 3.6+ MB\n"
     ]
    }
   ],
   "source": [
    "raw_df.info()"
   ]
  },
  {
   "cell_type": "code",
   "execution_count": 5,
   "metadata": {},
   "outputs": [
    {
     "data": {
      "text/html": [
       "<div>\n",
       "<style scoped>\n",
       "    .dataframe tbody tr th:only-of-type {\n",
       "        vertical-align: middle;\n",
       "    }\n",
       "\n",
       "    .dataframe tbody tr th {\n",
       "        vertical-align: top;\n",
       "    }\n",
       "\n",
       "    .dataframe thead th {\n",
       "        text-align: right;\n",
       "    }\n",
       "</style>\n",
       "<table border=\"1\" class=\"dataframe\">\n",
       "  <thead>\n",
       "    <tr style=\"text-align: right;\">\n",
       "      <th></th>\n",
       "      <th>datesold</th>\n",
       "      <th>price</th>\n",
       "      <th>suburb</th>\n",
       "      <th>postcode</th>\n",
       "      <th>lat</th>\n",
       "      <th>lon</th>\n",
       "      <th>parking</th>\n",
       "      <th>bathrooms</th>\n",
       "      <th>bedrooms</th>\n",
       "      <th>propertyType</th>\n",
       "      <th>suburbid</th>\n",
       "    </tr>\n",
       "  </thead>\n",
       "  <tbody>\n",
       "    <tr>\n",
       "      <th>count</th>\n",
       "      <td>43178</td>\n",
       "      <td>4.243500e+04</td>\n",
       "      <td>43178</td>\n",
       "      <td>43178.000000</td>\n",
       "      <td>42033.000000</td>\n",
       "      <td>42033.000000</td>\n",
       "      <td>43178.000000</td>\n",
       "      <td>42499.000000</td>\n",
       "      <td>43178.000000</td>\n",
       "      <td>43178</td>\n",
       "      <td>43178</td>\n",
       "    </tr>\n",
       "    <tr>\n",
       "      <th>unique</th>\n",
       "      <td>3851</td>\n",
       "      <td>NaN</td>\n",
       "      <td>107</td>\n",
       "      <td>NaN</td>\n",
       "      <td>NaN</td>\n",
       "      <td>NaN</td>\n",
       "      <td>NaN</td>\n",
       "      <td>NaN</td>\n",
       "      <td>NaN</td>\n",
       "      <td>2</td>\n",
       "      <td>107</td>\n",
       "    </tr>\n",
       "    <tr>\n",
       "      <th>top</th>\n",
       "      <td>28/10/2017</td>\n",
       "      <td>NaN</td>\n",
       "      <td>Kambah</td>\n",
       "      <td>NaN</td>\n",
       "      <td>NaN</td>\n",
       "      <td>NaN</td>\n",
       "      <td>NaN</td>\n",
       "      <td>NaN</td>\n",
       "      <td>NaN</td>\n",
       "      <td>house</td>\n",
       "      <td>ACT601</td>\n",
       "    </tr>\n",
       "    <tr>\n",
       "      <th>freq</th>\n",
       "      <td>56</td>\n",
       "      <td>NaN</td>\n",
       "      <td>1404</td>\n",
       "      <td>NaN</td>\n",
       "      <td>NaN</td>\n",
       "      <td>NaN</td>\n",
       "      <td>NaN</td>\n",
       "      <td>NaN</td>\n",
       "      <td>NaN</td>\n",
       "      <td>36236</td>\n",
       "      <td>1404</td>\n",
       "    </tr>\n",
       "    <tr>\n",
       "      <th>mean</th>\n",
       "      <td>NaN</td>\n",
       "      <td>6.037398e+05</td>\n",
       "      <td>NaN</td>\n",
       "      <td>2728.855644</td>\n",
       "      <td>-35.293447</td>\n",
       "      <td>149.096122</td>\n",
       "      <td>1.760017</td>\n",
       "      <td>1.643403</td>\n",
       "      <td>3.193501</td>\n",
       "      <td>NaN</td>\n",
       "      <td>NaN</td>\n",
       "    </tr>\n",
       "    <tr>\n",
       "      <th>std</th>\n",
       "      <td>NaN</td>\n",
       "      <td>3.139764e+05</td>\n",
       "      <td>NaN</td>\n",
       "      <td>146.564444</td>\n",
       "      <td>0.091796</td>\n",
       "      <td>0.040526</td>\n",
       "      <td>0.937361</td>\n",
       "      <td>0.644463</td>\n",
       "      <td>0.990638</td>\n",
       "      <td>NaN</td>\n",
       "      <td>NaN</td>\n",
       "    </tr>\n",
       "    <tr>\n",
       "      <th>min</th>\n",
       "      <td>NaN</td>\n",
       "      <td>5.000000e+04</td>\n",
       "      <td>NaN</td>\n",
       "      <td>2092.000000</td>\n",
       "      <td>-35.509975</td>\n",
       "      <td>148.921424</td>\n",
       "      <td>0.000000</td>\n",
       "      <td>1.000000</td>\n",
       "      <td>0.000000</td>\n",
       "      <td>NaN</td>\n",
       "      <td>NaN</td>\n",
       "    </tr>\n",
       "    <tr>\n",
       "      <th>25%</th>\n",
       "      <td>NaN</td>\n",
       "      <td>4.300000e+05</td>\n",
       "      <td>NaN</td>\n",
       "      <td>2607.000000</td>\n",
       "      <td>-35.363857</td>\n",
       "      <td>149.067390</td>\n",
       "      <td>1.000000</td>\n",
       "      <td>1.000000</td>\n",
       "      <td>3.000000</td>\n",
       "      <td>NaN</td>\n",
       "      <td>NaN</td>\n",
       "    </tr>\n",
       "    <tr>\n",
       "      <th>50%</th>\n",
       "      <td>NaN</td>\n",
       "      <td>5.390000e+05</td>\n",
       "      <td>NaN</td>\n",
       "      <td>2615.000000</td>\n",
       "      <td>-35.270536</td>\n",
       "      <td>149.099522</td>\n",
       "      <td>2.000000</td>\n",
       "      <td>2.000000</td>\n",
       "      <td>3.000000</td>\n",
       "      <td>NaN</td>\n",
       "      <td>NaN</td>\n",
       "    </tr>\n",
       "    <tr>\n",
       "      <th>75%</th>\n",
       "      <td>NaN</td>\n",
       "      <td>6.760000e+05</td>\n",
       "      <td>NaN</td>\n",
       "      <td>2905.000000</td>\n",
       "      <td>-35.212323</td>\n",
       "      <td>149.130708</td>\n",
       "      <td>2.000000</td>\n",
       "      <td>2.000000</td>\n",
       "      <td>4.000000</td>\n",
       "      <td>NaN</td>\n",
       "      <td>NaN</td>\n",
       "    </tr>\n",
       "    <tr>\n",
       "      <th>max</th>\n",
       "      <td>NaN</td>\n",
       "      <td>8.000000e+06</td>\n",
       "      <td>NaN</td>\n",
       "      <td>2914.000000</td>\n",
       "      <td>-35.138572</td>\n",
       "      <td>149.250290</td>\n",
       "      <td>31.000000</td>\n",
       "      <td>21.000000</td>\n",
       "      <td>14.000000</td>\n",
       "      <td>NaN</td>\n",
       "      <td>NaN</td>\n",
       "    </tr>\n",
       "  </tbody>\n",
       "</table>\n",
       "</div>"
      ],
      "text/plain": [
       "          datesold         price  suburb      postcode           lat  \\\n",
       "count        43178  4.243500e+04   43178  43178.000000  42033.000000   \n",
       "unique        3851           NaN     107           NaN           NaN   \n",
       "top     28/10/2017           NaN  Kambah           NaN           NaN   \n",
       "freq            56           NaN    1404           NaN           NaN   \n",
       "mean           NaN  6.037398e+05     NaN   2728.855644    -35.293447   \n",
       "std            NaN  3.139764e+05     NaN    146.564444      0.091796   \n",
       "min            NaN  5.000000e+04     NaN   2092.000000    -35.509975   \n",
       "25%            NaN  4.300000e+05     NaN   2607.000000    -35.363857   \n",
       "50%            NaN  5.390000e+05     NaN   2615.000000    -35.270536   \n",
       "75%            NaN  6.760000e+05     NaN   2905.000000    -35.212323   \n",
       "max            NaN  8.000000e+06     NaN   2914.000000    -35.138572   \n",
       "\n",
       "                 lon       parking     bathrooms      bedrooms propertyType  \\\n",
       "count   42033.000000  43178.000000  42499.000000  43178.000000        43178   \n",
       "unique           NaN           NaN           NaN           NaN            2   \n",
       "top              NaN           NaN           NaN           NaN        house   \n",
       "freq             NaN           NaN           NaN           NaN        36236   \n",
       "mean      149.096122      1.760017      1.643403      3.193501          NaN   \n",
       "std         0.040526      0.937361      0.644463      0.990638          NaN   \n",
       "min       148.921424      0.000000      1.000000      0.000000          NaN   \n",
       "25%       149.067390      1.000000      1.000000      3.000000          NaN   \n",
       "50%       149.099522      2.000000      2.000000      3.000000          NaN   \n",
       "75%       149.130708      2.000000      2.000000      4.000000          NaN   \n",
       "max       149.250290     31.000000     21.000000     14.000000          NaN   \n",
       "\n",
       "       suburbid  \n",
       "count     43178  \n",
       "unique      107  \n",
       "top      ACT601  \n",
       "freq       1404  \n",
       "mean        NaN  \n",
       "std         NaN  \n",
       "min         NaN  \n",
       "25%         NaN  \n",
       "50%         NaN  \n",
       "75%         NaN  \n",
       "max         NaN  "
      ]
     },
     "execution_count": 5,
     "metadata": {},
     "output_type": "execute_result"
    }
   ],
   "source": [
    "raw_df.describe(include='all')"
   ]
  },
  {
   "cell_type": "code",
   "execution_count": 6,
   "metadata": {},
   "outputs": [
    {
     "data": {
      "image/png": "[encoded data removed]",
      "text/plain": [
       "<Figure size 1080x576 with 1 Axes>"
      ]
     },
     "metadata": {},
     "output_type": "display_data"
    }
   ],
   "source": [
    "plt.figure(figsize=(15,8))\n",
    "sns.heatmap(raw_df.isnull(), yticklabels = False, cbar = False)\n",
    "plt.show()"
   ]
  },
  {
   "cell_type": "code",
   "execution_count": 7,
   "metadata": {},
   "outputs": [
    {
     "data": {
      "text/plain": [
       "datesold           0\n",
       "price            743\n",
       "suburb             0\n",
       "postcode           0\n",
       "lat             1145\n",
       "lon             1145\n",
       "parking            0\n",
       "bathrooms        679\n",
       "bedrooms           0\n",
       "propertyType       0\n",
       "suburbid           0\n",
       "dtype: int64"
      ]
     },
     "execution_count": 7,
     "metadata": {},
     "output_type": "execute_result"
    }
   ],
   "source": [
    "raw_df.isna().sum()"
   ]
  },
  {
   "cell_type": "code",
   "execution_count": 8,
   "metadata": {},
   "outputs": [],
   "source": [
    "df = raw_df.copy()"
   ]
  },
  {
   "cell_type": "markdown",
   "metadata": {},
   "source": [
    "> #### Removing Features"
   ]
  },
  {
   "cell_type": "markdown",
   "metadata": {},
   "source": [
    "- According to tables above, both 'lat' and 'lon' columns that display latitude and longitude of a place respectively, are not affecting the real estate prices since they are all have a similar value because all of the units/ houses are located at the same place (Canberra). Thus it is safe to remove these columns."
   ]
  },
  {
   "cell_type": "code",
   "execution_count": 9,
   "metadata": {},
   "outputs": [],
   "source": [
    "# Removing 'lat' and 'lon'\n",
    "df.drop(['lat', 'lon'], axis=1, inplace=True)"
   ]
  },
  {
   "cell_type": "code",
   "execution_count": 10,
   "metadata": {},
   "outputs": [
    {
     "data": {
      "text/html": [
       "<div>\n",
       "<style scoped>\n",
       "    .dataframe tbody tr th:only-of-type {\n",
       "        vertical-align: middle;\n",
       "    }\n",
       "\n",
       "    .dataframe tbody tr th {\n",
       "        vertical-align: top;\n",
       "    }\n",
       "\n",
       "    .dataframe thead th {\n",
       "        text-align: right;\n",
       "    }\n",
       "</style>\n",
       "<table border=\"1\" class=\"dataframe\">\n",
       "  <thead>\n",
       "    <tr style=\"text-align: right;\">\n",
       "      <th></th>\n",
       "      <th>datesold</th>\n",
       "      <th>price</th>\n",
       "      <th>suburb</th>\n",
       "      <th>postcode</th>\n",
       "      <th>parking</th>\n",
       "      <th>bathrooms</th>\n",
       "      <th>bedrooms</th>\n",
       "      <th>propertyType</th>\n",
       "      <th>suburbid</th>\n",
       "    </tr>\n",
       "  </thead>\n",
       "  <tbody>\n",
       "    <tr>\n",
       "      <th>0</th>\n",
       "      <td>9/06/2000</td>\n",
       "      <td>223000.0</td>\n",
       "      <td>Nicholls</td>\n",
       "      <td>2913</td>\n",
       "      <td>2</td>\n",
       "      <td>2.0</td>\n",
       "      <td>4</td>\n",
       "      <td>house</td>\n",
       "      <td>ACT708</td>\n",
       "    </tr>\n",
       "    <tr>\n",
       "      <th>1</th>\n",
       "      <td>1/01/2001</td>\n",
       "      <td>350000.0</td>\n",
       "      <td>Ngunnawal</td>\n",
       "      <td>2913</td>\n",
       "      <td>1</td>\n",
       "      <td>NaN</td>\n",
       "      <td>3</td>\n",
       "      <td>house</td>\n",
       "      <td>ACT706</td>\n",
       "    </tr>\n",
       "    <tr>\n",
       "      <th>2</th>\n",
       "      <td>11/12/2003</td>\n",
       "      <td>550000.0</td>\n",
       "      <td>Weston</td>\n",
       "      <td>2611</td>\n",
       "      <td>2</td>\n",
       "      <td>NaN</td>\n",
       "      <td>4</td>\n",
       "      <td>house</td>\n",
       "      <td>ACT441</td>\n",
       "    </tr>\n",
       "    <tr>\n",
       "      <th>3</th>\n",
       "      <td>21/09/2005</td>\n",
       "      <td>276000.0</td>\n",
       "      <td>Isabella Plains</td>\n",
       "      <td>2905</td>\n",
       "      <td>1</td>\n",
       "      <td>1.0</td>\n",
       "      <td>3</td>\n",
       "      <td>house</td>\n",
       "      <td>ACT612</td>\n",
       "    </tr>\n",
       "    <tr>\n",
       "      <th>4</th>\n",
       "      <td>1/11/2005</td>\n",
       "      <td>400000.0</td>\n",
       "      <td>Conder</td>\n",
       "      <td>2906</td>\n",
       "      <td>2</td>\n",
       "      <td>NaN</td>\n",
       "      <td>5</td>\n",
       "      <td>house</td>\n",
       "      <td>ACT613</td>\n",
       "    </tr>\n",
       "  </tbody>\n",
       "</table>\n",
       "</div>"
      ],
      "text/plain": [
       "     datesold     price           suburb  postcode  parking  bathrooms  \\\n",
       "0   9/06/2000  223000.0         Nicholls      2913        2        2.0   \n",
       "1   1/01/2001  350000.0        Ngunnawal      2913        1        NaN   \n",
       "2  11/12/2003  550000.0           Weston      2611        2        NaN   \n",
       "3  21/09/2005  276000.0  Isabella Plains      2905        1        1.0   \n",
       "4   1/11/2005  400000.0           Conder      2906        2        NaN   \n",
       "\n",
       "   bedrooms propertyType suburbid  \n",
       "0         4        house   ACT708  \n",
       "1         3        house   ACT706  \n",
       "2         4        house   ACT441  \n",
       "3         3        house   ACT612  \n",
       "4         5        house   ACT613  "
      ]
     },
     "execution_count": 10,
     "metadata": {},
     "output_type": "execute_result"
    }
   ],
   "source": [
    "df.head()"
   ]
  },
  {
   "cell_type": "markdown",
   "metadata": {},
   "source": [
    "- Column named 'suburbid' is going to be removed since it is literally just conveying the id of the suburbs from 'suburb' column. "
   ]
  },
  {
   "cell_type": "code",
   "execution_count": 11,
   "metadata": {},
   "outputs": [],
   "source": [
    "df.drop('suburbid', axis=1, inplace=True)"
   ]
  },
  {
   "cell_type": "code",
   "execution_count": 12,
   "metadata": {},
   "outputs": [
    {
     "data": {
      "text/html": [
       "<div>\n",
       "<style scoped>\n",
       "    .dataframe tbody tr th:only-of-type {\n",
       "        vertical-align: middle;\n",
       "    }\n",
       "\n",
       "    .dataframe tbody tr th {\n",
       "        vertical-align: top;\n",
       "    }\n",
       "\n",
       "    .dataframe thead th {\n",
       "        text-align: right;\n",
       "    }\n",
       "</style>\n",
       "<table border=\"1\" class=\"dataframe\">\n",
       "  <thead>\n",
       "    <tr style=\"text-align: right;\">\n",
       "      <th></th>\n",
       "      <th>datesold</th>\n",
       "      <th>price</th>\n",
       "      <th>suburb</th>\n",
       "      <th>postcode</th>\n",
       "      <th>parking</th>\n",
       "      <th>bathrooms</th>\n",
       "      <th>bedrooms</th>\n",
       "      <th>propertyType</th>\n",
       "    </tr>\n",
       "  </thead>\n",
       "  <tbody>\n",
       "    <tr>\n",
       "      <th>0</th>\n",
       "      <td>9/06/2000</td>\n",
       "      <td>223000.0</td>\n",
       "      <td>Nicholls</td>\n",
       "      <td>2913</td>\n",
       "      <td>2</td>\n",
       "      <td>2.0</td>\n",
       "      <td>4</td>\n",
       "      <td>house</td>\n",
       "    </tr>\n",
       "    <tr>\n",
       "      <th>1</th>\n",
       "      <td>1/01/2001</td>\n",
       "      <td>350000.0</td>\n",
       "      <td>Ngunnawal</td>\n",
       "      <td>2913</td>\n",
       "      <td>1</td>\n",
       "      <td>NaN</td>\n",
       "      <td>3</td>\n",
       "      <td>house</td>\n",
       "    </tr>\n",
       "    <tr>\n",
       "      <th>2</th>\n",
       "      <td>11/12/2003</td>\n",
       "      <td>550000.0</td>\n",
       "      <td>Weston</td>\n",
       "      <td>2611</td>\n",
       "      <td>2</td>\n",
       "      <td>NaN</td>\n",
       "      <td>4</td>\n",
       "      <td>house</td>\n",
       "    </tr>\n",
       "    <tr>\n",
       "      <th>3</th>\n",
       "      <td>21/09/2005</td>\n",
       "      <td>276000.0</td>\n",
       "      <td>Isabella Plains</td>\n",
       "      <td>2905</td>\n",
       "      <td>1</td>\n",
       "      <td>1.0</td>\n",
       "      <td>3</td>\n",
       "      <td>house</td>\n",
       "    </tr>\n",
       "    <tr>\n",
       "      <th>4</th>\n",
       "      <td>1/11/2005</td>\n",
       "      <td>400000.0</td>\n",
       "      <td>Conder</td>\n",
       "      <td>2906</td>\n",
       "      <td>2</td>\n",
       "      <td>NaN</td>\n",
       "      <td>5</td>\n",
       "      <td>house</td>\n",
       "    </tr>\n",
       "  </tbody>\n",
       "</table>\n",
       "</div>"
      ],
      "text/plain": [
       "     datesold     price           suburb  postcode  parking  bathrooms  \\\n",
       "0   9/06/2000  223000.0         Nicholls      2913        2        2.0   \n",
       "1   1/01/2001  350000.0        Ngunnawal      2913        1        NaN   \n",
       "2  11/12/2003  550000.0           Weston      2611        2        NaN   \n",
       "3  21/09/2005  276000.0  Isabella Plains      2905        1        1.0   \n",
       "4   1/11/2005  400000.0           Conder      2906        2        NaN   \n",
       "\n",
       "   bedrooms propertyType  \n",
       "0         4        house  \n",
       "1         3        house  \n",
       "2         4        house  \n",
       "3         3        house  \n",
       "4         5        house  "
      ]
     },
     "execution_count": 12,
     "metadata": {},
     "output_type": "execute_result"
    }
   ],
   "source": [
    "df.head()"
   ]
  },
  {
   "cell_type": "markdown",
   "metadata": {},
   "source": [
    "> #### Changing Data Type "
   ]
  },
  {
   "cell_type": "markdown",
   "metadata": {},
   "source": [
    "- Converting 'datesold' column data type to Date Type"
   ]
  },
  {
   "cell_type": "code",
   "execution_count": 13,
   "metadata": {},
   "outputs": [
    {
     "data": {
      "text/plain": [
       "pandas._libs.tslibs.timestamps.Timestamp"
      ]
     },
     "execution_count": 13,
     "metadata": {},
     "output_type": "execute_result"
    }
   ],
   "source": [
    "df['datesold'] = pd.to_datetime(df['datesold'])\n",
    "type(df['datesold'][0])  # checking"
   ]
  },
  {
   "cell_type": "markdown",
   "metadata": {},
   "source": [
    "- Converting 'bathrooms' column data type to integer"
   ]
  },
  {
   "cell_type": "code",
   "execution_count": 14,
   "metadata": {
    "jupyter": {
     "source_hidden": true
    }
   },
   "outputs": [],
   "source": [
    "# df['bathrooms'] = df['bathrooms'].astype(int)\n",
    "# type(df['bathrooms'][0])  # checking"
   ]
  },
  {
   "cell_type": "code",
   "execution_count": 15,
   "metadata": {},
   "outputs": [
    {
     "name": "stdout",
     "output_type": "stream",
     "text": [
      "<class 'pandas.core.frame.DataFrame'>\n",
      "RangeIndex: 43178 entries, 0 to 43177\n",
      "Data columns (total 8 columns):\n",
      " #   Column        Non-Null Count  Dtype         \n",
      "---  ------        --------------  -----         \n",
      " 0   datesold      43178 non-null  datetime64[ns]\n",
      " 1   price         42435 non-null  float64       \n",
      " 2   suburb        43178 non-null  object        \n",
      " 3   postcode      43178 non-null  int64         \n",
      " 4   parking       43178 non-null  int64         \n",
      " 5   bathrooms     42499 non-null  float64       \n",
      " 6   bedrooms      43178 non-null  int64         \n",
      " 7   propertyType  43178 non-null  object        \n",
      "dtypes: datetime64[ns](1), float64(2), int64(3), object(2)\n",
      "memory usage: 2.6+ MB\n"
     ]
    },
    {
     "data": {
      "text/plain": [
       "None"
      ]
     },
     "metadata": {},
     "output_type": "display_data"
    }
   ],
   "source": [
    "display(df.info())"
   ]
  },
  {
   "cell_type": "markdown",
   "metadata": {},
   "source": [
    "> #### Dealing with Missing Values"
   ]
  },
  {
   "cell_type": "code",
   "execution_count": 16,
   "metadata": {},
   "outputs": [
    {
     "data": {
      "text/plain": [
       "datesold          0\n",
       "price           743\n",
       "suburb            0\n",
       "postcode          0\n",
       "parking           0\n",
       "bathrooms       679\n",
       "bedrooms          0\n",
       "propertyType      0\n",
       "dtype: int64"
      ]
     },
     "execution_count": 16,
     "metadata": {},
     "output_type": "execute_result"
    }
   ],
   "source": [
    "df.isna().sum()"
   ]
  },
  {
   "cell_type": "markdown",
   "metadata": {},
   "source": [
    "- Missing values in the 'price' column are going to be removed as this analysis is depended on the historical data of this feature."
   ]
  },
  {
   "cell_type": "code",
   "execution_count": 17,
   "metadata": {},
   "outputs": [
    {
     "name": "stdout",
     "output_type": "stream",
     "text": [
      "Missing values ratio: 0.017207837324563435\n"
     ]
    }
   ],
   "source": [
    "# Percentage of missing values in 'price' column compare to all entries\n",
    "\n",
    "df['price_null'] = np.where(df['price'].isnull(), 1, 0)\n",
    "print(f\"Missing values ratio: {df['price_null'].mean()}\")"
   ]
  },
  {
   "cell_type": "code",
   "execution_count": 18,
   "metadata": {},
   "outputs": [
    {
     "name": "stdout",
     "output_type": "stream",
     "text": [
      "Null values in 'price' column: 0\n",
      "<class 'pandas.core.frame.DataFrame'>\n",
      "Int64Index: 42435 entries, 0 to 43177\n",
      "Data columns (total 8 columns):\n",
      " #   Column        Non-Null Count  Dtype         \n",
      "---  ------        --------------  -----         \n",
      " 0   datesold      42435 non-null  datetime64[ns]\n",
      " 1   price         42435 non-null  float64       \n",
      " 2   suburb        42435 non-null  object        \n",
      " 3   postcode      42435 non-null  int64         \n",
      " 4   parking       42435 non-null  int64         \n",
      " 5   bathrooms     41777 non-null  float64       \n",
      " 6   bedrooms      42435 non-null  int64         \n",
      " 7   propertyType  42435 non-null  object        \n",
      "dtypes: datetime64[ns](1), float64(2), int64(3), object(2)\n",
      "memory usage: 2.9+ MB\n"
     ]
    },
    {
     "data": {
      "text/plain": [
       "None"
      ]
     },
     "metadata": {},
     "output_type": "display_data"
    }
   ],
   "source": [
    "# Removing missing values in 'price' column\n",
    "\n",
    "df.drop(['price_null'], axis=1, inplace=True)\n",
    "df = df.dropna(subset=['price'])\n",
    "print(f\"Null values in 'price' column: {df['price'].isna().sum()}\")  # checking\n",
    "display(df.info())"
   ]
  },
  {
   "cell_type": "code",
   "execution_count": 19,
   "metadata": {},
   "outputs": [
    {
     "data": {
      "text/plain": [
       "datesold          0\n",
       "price             0\n",
       "suburb            0\n",
       "postcode          0\n",
       "parking           0\n",
       "bathrooms       658\n",
       "bedrooms          0\n",
       "propertyType      0\n",
       "dtype: int64"
      ]
     },
     "execution_count": 19,
     "metadata": {},
     "output_type": "execute_result"
    }
   ],
   "source": [
    "df.isna().sum()"
   ]
  },
  {
   "cell_type": "markdown",
   "metadata": {},
   "source": [
    "- Dealing with 'bathrooms' column missing values"
   ]
  },
  {
   "cell_type": "code",
   "execution_count": 20,
   "metadata": {},
   "outputs": [
    {
     "data": {
      "image/png": "[encoded data removed]",
      "text/plain": [
       "<Figure size 1152x720 with 2 Axes>"
      ]
     },
     "metadata": {},
     "output_type": "display_data"
    }
   ],
   "source": [
    "# Correlation Inspection\n",
    "plt.figure(figsize=(16,10))\n",
    "sns.heatmap(df.corr(), annot= True)\n",
    "plt.title('Correlation')\n",
    "plt.show()"
   ]
  },
  {
   "cell_type": "code",
   "execution_count": 21,
   "metadata": {},
   "outputs": [
    {
     "name": "stdout",
     "output_type": "stream",
     "text": [
      "Missing values ratio: 0.015506068104159302\n"
     ]
    }
   ],
   "source": [
    "# Percentage of missing values in 'bathrooms' column compare to all entries\n",
    "\n",
    "df['bathrooms_null'] = np.where(df['bathrooms'].isnull(), 1, 0)\n",
    "print(f\"Missing values ratio: {df['bathrooms_null'].mean()}\")"
   ]
  },
  {
   "cell_type": "code",
   "execution_count": 22,
   "metadata": {},
   "outputs": [
    {
     "name": "stdout",
     "output_type": "stream",
     "text": [
      "Statistics for 'bathrooms' column before dropping missing values:\n",
      "\n",
      "Minimum 'bathrooms':  1.0\n",
      "Maximum 'bathrooms':  21.0\n",
      "Mean 'bathrooms':  1.6413337482346746\n",
      "Median 'bathrooms':  2.0\n",
      "Standard deviation of 'bathrooms':  0.6437348103230224\n"
     ]
    }
   ],
   "source": [
    "# Checking 'bathrooms' column before preprocessing technique\n",
    "\n",
    "df.drop(['bathrooms_null'], axis=1, inplace=True)\n",
    "min_b = df['bathrooms'].min()\n",
    "max_b = df['bathrooms'].max()\n",
    "mean_b = df['bathrooms'].mean()\n",
    "median_b = df['bathrooms'].median()\n",
    "std_b = df['bathrooms'].std()\n",
    "\n",
    "print(\"Statistics for 'bathrooms' column before dropping missing values:\\n\")\n",
    "print(\"Minimum 'bathrooms': \", min_b) \n",
    "print(\"Maximum 'bathrooms': \", max_b)\n",
    "print(\"Mean 'bathrooms': \", mean_b)\n",
    "print(\"Median 'bathrooms': \", median_b)\n",
    "print(\"Standard deviation of 'bathrooms': \", std_b)"
   ]
  },
  {
   "cell_type": "code",
   "execution_count": 23,
   "metadata": {},
   "outputs": [
    {
     "data": {
      "image/png": "[encoded data removed]",
      "text/plain": [
       "<Figure size 432x288 with 1 Axes>"
      ]
     },
     "metadata": {},
     "output_type": "display_data"
    }
   ],
   "source": [
    "sns.distplot(df['bathrooms'], kde=False)\n",
    "plt.show()"
   ]
  },
  {
   "cell_type": "code",
   "execution_count": 24,
   "metadata": {},
   "outputs": [
    {
     "data": {
      "text/plain": [
       "<AxesSubplot:title={'center':'Q-Q Plot'}, xlabel='Theoretical quantiles', ylabel='Ordered quantiles'>"
      ]
     },
     "execution_count": 24,
     "metadata": {},
     "output_type": "execute_result"
    },
    {
     "data": {
      "image/png": "[encoded data removed]",
      "text/plain": [
       "<Figure size 360x288 with 1 Axes>"
      ]
     },
     "metadata": {},
     "output_type": "display_data"
    }
   ],
   "source": [
    "pg.qqplot(df.bathrooms, dist='norm')\n",
    "# It can be seen from Q-Q Plot diagram below that 'bathrooms' column is not normally distributed.  "
   ]
  },
  {
   "cell_type": "code",
   "execution_count": 25,
   "metadata": {},
   "outputs": [
    {
     "data": {
      "text/plain": [
       "2.0     20729\n",
       "1.0     18201\n",
       "3.0      2563\n",
       "4.0       235\n",
       "5.0        38\n",
       "6.0         6\n",
       "9.0         3\n",
       "21.0        1\n",
       "8.0         1\n",
       "Name: bathrooms, dtype: int64"
      ]
     },
     "execution_count": 25,
     "metadata": {},
     "output_type": "execute_result"
    }
   ],
   "source": [
    "df['bathrooms'].value_counts()"
   ]
  },
  {
   "cell_type": "markdown",
   "metadata": {},
   "source": [
    "Replacing missing values in 'bathrooms' column with its median, since it is not possible replacing them with its mean because 'bathrooms' datasets are not normally distributed."
   ]
  },
  {
   "cell_type": "code",
   "execution_count": 26,
   "metadata": {},
   "outputs": [
    {
     "data": {
      "text/plain": [
       "0"
      ]
     },
     "execution_count": 26,
     "metadata": {},
     "output_type": "execute_result"
    }
   ],
   "source": [
    "df['bathrooms'].fillna(df['bathrooms'].median(), inplace=True)\n",
    "df['bathrooms'].isna().sum()"
   ]
  },
  {
   "cell_type": "code",
   "execution_count": 27,
   "metadata": {},
   "outputs": [
    {
     "name": "stdout",
     "output_type": "stream",
     "text": [
      "Statistics for 'bathrooms' column after dropping missing values:\n",
      "\n",
      "Minimum 'bathrooms':  1.0\n",
      "Maximum 'bathrooms':  21.0\n",
      "Mean 'bathrooms':  1.6468952515612112\n",
      "Median 'bathrooms':  2.0\n",
      "Standard deviation of 'bathrooms':  0.6402597634352706\n"
     ]
    }
   ],
   "source": [
    "# Checking 'bathrooms' column after preprocessing technique\n",
    "\n",
    "min_b2 = df['bathrooms'].min()\n",
    "max_b2 = df['bathrooms'].max()\n",
    "mean_b2 = df['bathrooms'].mean()\n",
    "median_b2 = df['bathrooms'].median()\n",
    "std_b2 = df['bathrooms'].std()\n",
    "\n",
    "print(\"Statistics for 'bathrooms' column after dropping missing values:\\n\")\n",
    "print(\"Minimum 'bathrooms': \", min_b2) \n",
    "print(\"Maximum 'bathrooms': \", max_b2)\n",
    "print(\"Mean 'bathrooms': \", mean_b2)\n",
    "print(\"Median 'bathrooms': \", median_b2)\n",
    "print(\"Standard deviation of 'bathrooms': \", std_b2)"
   ]
  },
  {
   "cell_type": "markdown",
   "metadata": {},
   "source": [
    "Standard deviation for 'bathrooms' column after filling its missing values with its median is almost the same as before preprocessing technique. There is only a small decline in standard deviation of 'bathroom' column after preprocessing process."
   ]
  },
  {
   "cell_type": "code",
   "execution_count": 28,
   "metadata": {},
   "outputs": [
    {
     "data": {
      "text/plain": [
       "datesold        0\n",
       "price           0\n",
       "suburb          0\n",
       "postcode        0\n",
       "parking         0\n",
       "bathrooms       0\n",
       "bedrooms        0\n",
       "propertyType    0\n",
       "dtype: int64"
      ]
     },
     "execution_count": 28,
     "metadata": {},
     "output_type": "execute_result"
    }
   ],
   "source": [
    "df.isna().sum()"
   ]
  },
  {
   "cell_type": "code",
   "execution_count": 29,
   "metadata": {},
   "outputs": [
    {
     "data": {
      "text/html": [
       "<div>\n",
       "<style scoped>\n",
       "    .dataframe tbody tr th:only-of-type {\n",
       "        vertical-align: middle;\n",
       "    }\n",
       "\n",
       "    .dataframe tbody tr th {\n",
       "        vertical-align: top;\n",
       "    }\n",
       "\n",
       "    .dataframe thead th {\n",
       "        text-align: right;\n",
       "    }\n",
       "</style>\n",
       "<table border=\"1\" class=\"dataframe\">\n",
       "  <thead>\n",
       "    <tr style=\"text-align: right;\">\n",
       "      <th></th>\n",
       "      <th>datesold</th>\n",
       "      <th>price</th>\n",
       "      <th>suburb</th>\n",
       "      <th>postcode</th>\n",
       "      <th>parking</th>\n",
       "      <th>bathrooms</th>\n",
       "      <th>bedrooms</th>\n",
       "      <th>propertyType</th>\n",
       "    </tr>\n",
       "  </thead>\n",
       "  <tbody>\n",
       "    <tr>\n",
       "      <th>0</th>\n",
       "      <td>2000-09-06</td>\n",
       "      <td>223000.0</td>\n",
       "      <td>Nicholls</td>\n",
       "      <td>2913</td>\n",
       "      <td>2</td>\n",
       "      <td>2.0</td>\n",
       "      <td>4</td>\n",
       "      <td>house</td>\n",
       "    </tr>\n",
       "    <tr>\n",
       "      <th>1</th>\n",
       "      <td>2001-01-01</td>\n",
       "      <td>350000.0</td>\n",
       "      <td>Ngunnawal</td>\n",
       "      <td>2913</td>\n",
       "      <td>1</td>\n",
       "      <td>2.0</td>\n",
       "      <td>3</td>\n",
       "      <td>house</td>\n",
       "    </tr>\n",
       "    <tr>\n",
       "      <th>2</th>\n",
       "      <td>2003-11-12</td>\n",
       "      <td>550000.0</td>\n",
       "      <td>Weston</td>\n",
       "      <td>2611</td>\n",
       "      <td>2</td>\n",
       "      <td>2.0</td>\n",
       "      <td>4</td>\n",
       "      <td>house</td>\n",
       "    </tr>\n",
       "    <tr>\n",
       "      <th>3</th>\n",
       "      <td>2005-09-21</td>\n",
       "      <td>276000.0</td>\n",
       "      <td>Isabella Plains</td>\n",
       "      <td>2905</td>\n",
       "      <td>1</td>\n",
       "      <td>1.0</td>\n",
       "      <td>3</td>\n",
       "      <td>house</td>\n",
       "    </tr>\n",
       "    <tr>\n",
       "      <th>4</th>\n",
       "      <td>2005-01-11</td>\n",
       "      <td>400000.0</td>\n",
       "      <td>Conder</td>\n",
       "      <td>2906</td>\n",
       "      <td>2</td>\n",
       "      <td>2.0</td>\n",
       "      <td>5</td>\n",
       "      <td>house</td>\n",
       "    </tr>\n",
       "  </tbody>\n",
       "</table>\n",
       "</div>"
      ],
      "text/plain": [
       "    datesold     price           suburb  postcode  parking  bathrooms  \\\n",
       "0 2000-09-06  223000.0         Nicholls      2913        2        2.0   \n",
       "1 2001-01-01  350000.0        Ngunnawal      2913        1        2.0   \n",
       "2 2003-11-12  550000.0           Weston      2611        2        2.0   \n",
       "3 2005-09-21  276000.0  Isabella Plains      2905        1        1.0   \n",
       "4 2005-01-11  400000.0           Conder      2906        2        2.0   \n",
       "\n",
       "   bedrooms propertyType  \n",
       "0         4        house  \n",
       "1         3        house  \n",
       "2         4        house  \n",
       "3         3        house  \n",
       "4         5        house  "
      ]
     },
     "execution_count": 29,
     "metadata": {},
     "output_type": "execute_result"
    }
   ],
   "source": [
    "df.head()"
   ]
  },
  {
   "cell_type": "code",
   "execution_count": null,
   "metadata": {},
   "outputs": [],
   "source": []
  },
  {
   "cell_type": "code",
   "execution_count": null,
   "metadata": {},
   "outputs": [],
   "source": []
  },
  {
   "cell_type": "code",
   "execution_count": 30,
   "metadata": {},
   "outputs": [
    {
     "data": {
      "text/html": [
       "<div>\n",
       "<style scoped>\n",
       "    .dataframe tbody tr th:only-of-type {\n",
       "        vertical-align: middle;\n",
       "    }\n",
       "\n",
       "    .dataframe tbody tr th {\n",
       "        vertical-align: top;\n",
       "    }\n",
       "\n",
       "    .dataframe thead th {\n",
       "        text-align: right;\n",
       "    }\n",
       "</style>\n",
       "<table border=\"1\" class=\"dataframe\">\n",
       "  <thead>\n",
       "    <tr style=\"text-align: right;\">\n",
       "      <th></th>\n",
       "      <th>datesold</th>\n",
       "      <th>price</th>\n",
       "      <th>suburb</th>\n",
       "      <th>postcode</th>\n",
       "      <th>parking</th>\n",
       "      <th>bathrooms</th>\n",
       "      <th>bedrooms</th>\n",
       "      <th>propertyType</th>\n",
       "    </tr>\n",
       "  </thead>\n",
       "  <tbody>\n",
       "    <tr>\n",
       "      <th>count</th>\n",
       "      <td>42435</td>\n",
       "      <td>4.243500e+04</td>\n",
       "      <td>42435</td>\n",
       "      <td>42435.000000</td>\n",
       "      <td>42435.000000</td>\n",
       "      <td>42435.000000</td>\n",
       "      <td>42435.000000</td>\n",
       "      <td>42435</td>\n",
       "    </tr>\n",
       "    <tr>\n",
       "      <th>unique</th>\n",
       "      <td>3845</td>\n",
       "      <td>NaN</td>\n",
       "      <td>107</td>\n",
       "      <td>NaN</td>\n",
       "      <td>NaN</td>\n",
       "      <td>NaN</td>\n",
       "      <td>NaN</td>\n",
       "      <td>2</td>\n",
       "    </tr>\n",
       "    <tr>\n",
       "      <th>top</th>\n",
       "      <td>2017-10-28 00:00:00</td>\n",
       "      <td>NaN</td>\n",
       "      <td>Kambah</td>\n",
       "      <td>NaN</td>\n",
       "      <td>NaN</td>\n",
       "      <td>NaN</td>\n",
       "      <td>NaN</td>\n",
       "      <td>house</td>\n",
       "    </tr>\n",
       "    <tr>\n",
       "      <th>freq</th>\n",
       "      <td>56</td>\n",
       "      <td>NaN</td>\n",
       "      <td>1387</td>\n",
       "      <td>NaN</td>\n",
       "      <td>NaN</td>\n",
       "      <td>NaN</td>\n",
       "      <td>NaN</td>\n",
       "      <td>35627</td>\n",
       "    </tr>\n",
       "    <tr>\n",
       "      <th>first</th>\n",
       "      <td>2000-09-06 00:00:00</td>\n",
       "      <td>NaN</td>\n",
       "      <td>NaN</td>\n",
       "      <td>NaN</td>\n",
       "      <td>NaN</td>\n",
       "      <td>NaN</td>\n",
       "      <td>NaN</td>\n",
       "      <td>NaN</td>\n",
       "    </tr>\n",
       "    <tr>\n",
       "      <th>last</th>\n",
       "      <td>2019-12-09 00:00:00</td>\n",
       "      <td>NaN</td>\n",
       "      <td>NaN</td>\n",
       "      <td>NaN</td>\n",
       "      <td>NaN</td>\n",
       "      <td>NaN</td>\n",
       "      <td>NaN</td>\n",
       "      <td>NaN</td>\n",
       "    </tr>\n",
       "    <tr>\n",
       "      <th>mean</th>\n",
       "      <td>NaN</td>\n",
       "      <td>6.037398e+05</td>\n",
       "      <td>NaN</td>\n",
       "      <td>2728.979592</td>\n",
       "      <td>1.758595</td>\n",
       "      <td>1.646895</td>\n",
       "      <td>3.193307</td>\n",
       "      <td>NaN</td>\n",
       "    </tr>\n",
       "    <tr>\n",
       "      <th>std</th>\n",
       "      <td>NaN</td>\n",
       "      <td>3.139764e+05</td>\n",
       "      <td>NaN</td>\n",
       "      <td>146.572504</td>\n",
       "      <td>0.937494</td>\n",
       "      <td>0.640260</td>\n",
       "      <td>0.989735</td>\n",
       "      <td>NaN</td>\n",
       "    </tr>\n",
       "    <tr>\n",
       "      <th>min</th>\n",
       "      <td>NaN</td>\n",
       "      <td>5.000000e+04</td>\n",
       "      <td>NaN</td>\n",
       "      <td>2092.000000</td>\n",
       "      <td>0.000000</td>\n",
       "      <td>1.000000</td>\n",
       "      <td>0.000000</td>\n",
       "      <td>NaN</td>\n",
       "    </tr>\n",
       "    <tr>\n",
       "      <th>25%</th>\n",
       "      <td>NaN</td>\n",
       "      <td>4.300000e+05</td>\n",
       "      <td>NaN</td>\n",
       "      <td>2607.000000</td>\n",
       "      <td>1.000000</td>\n",
       "      <td>1.000000</td>\n",
       "      <td>3.000000</td>\n",
       "      <td>NaN</td>\n",
       "    </tr>\n",
       "    <tr>\n",
       "      <th>50%</th>\n",
       "      <td>NaN</td>\n",
       "      <td>5.390000e+05</td>\n",
       "      <td>NaN</td>\n",
       "      <td>2615.000000</td>\n",
       "      <td>2.000000</td>\n",
       "      <td>2.000000</td>\n",
       "      <td>3.000000</td>\n",
       "      <td>NaN</td>\n",
       "    </tr>\n",
       "    <tr>\n",
       "      <th>75%</th>\n",
       "      <td>NaN</td>\n",
       "      <td>6.760000e+05</td>\n",
       "      <td>NaN</td>\n",
       "      <td>2905.000000</td>\n",
       "      <td>2.000000</td>\n",
       "      <td>2.000000</td>\n",
       "      <td>4.000000</td>\n",
       "      <td>NaN</td>\n",
       "    </tr>\n",
       "    <tr>\n",
       "      <th>max</th>\n",
       "      <td>NaN</td>\n",
       "      <td>8.000000e+06</td>\n",
       "      <td>NaN</td>\n",
       "      <td>2914.000000</td>\n",
       "      <td>31.000000</td>\n",
       "      <td>21.000000</td>\n",
       "      <td>14.000000</td>\n",
       "      <td>NaN</td>\n",
       "    </tr>\n",
       "  </tbody>\n",
       "</table>\n",
       "</div>"
      ],
      "text/plain": [
       "                   datesold         price  suburb      postcode       parking  \\\n",
       "count                 42435  4.243500e+04   42435  42435.000000  42435.000000   \n",
       "unique                 3845           NaN     107           NaN           NaN   \n",
       "top     2017-10-28 00:00:00           NaN  Kambah           NaN           NaN   \n",
       "freq                     56           NaN    1387           NaN           NaN   \n",
       "first   2000-09-06 00:00:00           NaN     NaN           NaN           NaN   \n",
       "last    2019-12-09 00:00:00           NaN     NaN           NaN           NaN   \n",
       "mean                    NaN  6.037398e+05     NaN   2728.979592      1.758595   \n",
       "std                     NaN  3.139764e+05     NaN    146.572504      0.937494   \n",
       "min                     NaN  5.000000e+04     NaN   2092.000000      0.000000   \n",
       "25%                     NaN  4.300000e+05     NaN   2607.000000      1.000000   \n",
       "50%                     NaN  5.390000e+05     NaN   2615.000000      2.000000   \n",
       "75%                     NaN  6.760000e+05     NaN   2905.000000      2.000000   \n",
       "max                     NaN  8.000000e+06     NaN   2914.000000     31.000000   \n",
       "\n",
       "           bathrooms      bedrooms propertyType  \n",
       "count   42435.000000  42435.000000        42435  \n",
       "unique           NaN           NaN            2  \n",
       "top              NaN           NaN        house  \n",
       "freq             NaN           NaN        35627  \n",
       "first            NaN           NaN          NaN  \n",
       "last             NaN           NaN          NaN  \n",
       "mean        1.646895      3.193307          NaN  \n",
       "std         0.640260      0.989735          NaN  \n",
       "min         1.000000      0.000000          NaN  \n",
       "25%         1.000000      3.000000          NaN  \n",
       "50%         2.000000      3.000000          NaN  \n",
       "75%         2.000000      4.000000          NaN  \n",
       "max        21.000000     14.000000          NaN  "
      ]
     },
     "execution_count": 30,
     "metadata": {},
     "output_type": "execute_result"
    }
   ],
   "source": [
    "df.describe(include='all')"
   ]
  },
  {
   "cell_type": "code",
   "execution_count": 31,
   "metadata": {},
   "outputs": [
    {
     "data": {
      "text/html": [
       "<div>\n",
       "<style scoped>\n",
       "    .dataframe tbody tr th:only-of-type {\n",
       "        vertical-align: middle;\n",
       "    }\n",
       "\n",
       "    .dataframe tbody tr th {\n",
       "        vertical-align: top;\n",
       "    }\n",
       "\n",
       "    .dataframe thead th {\n",
       "        text-align: right;\n",
       "    }\n",
       "</style>\n",
       "<table border=\"1\" class=\"dataframe\">\n",
       "  <thead>\n",
       "    <tr style=\"text-align: right;\">\n",
       "      <th></th>\n",
       "      <th>price</th>\n",
       "      <th>parking</th>\n",
       "      <th>bathrooms</th>\n",
       "      <th>bedrooms</th>\n",
       "      <th>suburb</th>\n",
       "      <th>postcode</th>\n",
       "      <th>propertyType</th>\n",
       "      <th>datesold</th>\n",
       "    </tr>\n",
       "  </thead>\n",
       "  <tbody>\n",
       "    <tr>\n",
       "      <th>0</th>\n",
       "      <td>223000.0</td>\n",
       "      <td>2</td>\n",
       "      <td>2.0</td>\n",
       "      <td>4</td>\n",
       "      <td>Nicholls</td>\n",
       "      <td>2913</td>\n",
       "      <td>house</td>\n",
       "      <td>2000-09-06</td>\n",
       "    </tr>\n",
       "    <tr>\n",
       "      <th>1</th>\n",
       "      <td>350000.0</td>\n",
       "      <td>1</td>\n",
       "      <td>2.0</td>\n",
       "      <td>3</td>\n",
       "      <td>Ngunnawal</td>\n",
       "      <td>2913</td>\n",
       "      <td>house</td>\n",
       "      <td>2001-01-01</td>\n",
       "    </tr>\n",
       "    <tr>\n",
       "      <th>2</th>\n",
       "      <td>550000.0</td>\n",
       "      <td>2</td>\n",
       "      <td>2.0</td>\n",
       "      <td>4</td>\n",
       "      <td>Weston</td>\n",
       "      <td>2611</td>\n",
       "      <td>house</td>\n",
       "      <td>2003-11-12</td>\n",
       "    </tr>\n",
       "    <tr>\n",
       "      <th>3</th>\n",
       "      <td>276000.0</td>\n",
       "      <td>1</td>\n",
       "      <td>1.0</td>\n",
       "      <td>3</td>\n",
       "      <td>Isabella Plains</td>\n",
       "      <td>2905</td>\n",
       "      <td>house</td>\n",
       "      <td>2005-09-21</td>\n",
       "    </tr>\n",
       "    <tr>\n",
       "      <th>4</th>\n",
       "      <td>400000.0</td>\n",
       "      <td>2</td>\n",
       "      <td>2.0</td>\n",
       "      <td>5</td>\n",
       "      <td>Conder</td>\n",
       "      <td>2906</td>\n",
       "      <td>house</td>\n",
       "      <td>2005-01-11</td>\n",
       "    </tr>\n",
       "  </tbody>\n",
       "</table>\n",
       "</div>"
      ],
      "text/plain": [
       "      price  parking  bathrooms  bedrooms           suburb  postcode  \\\n",
       "0  223000.0        2        2.0         4         Nicholls      2913   \n",
       "1  350000.0        1        2.0         3        Ngunnawal      2913   \n",
       "2  550000.0        2        2.0         4           Weston      2611   \n",
       "3  276000.0        1        1.0         3  Isabella Plains      2905   \n",
       "4  400000.0        2        2.0         5           Conder      2906   \n",
       "\n",
       "  propertyType   datesold  \n",
       "0        house 2000-09-06  \n",
       "1        house 2001-01-01  \n",
       "2        house 2003-11-12  \n",
       "3        house 2005-09-21  \n",
       "4        house 2005-01-11  "
      ]
     },
     "execution_count": 31,
     "metadata": {},
     "output_type": "execute_result"
    }
   ],
   "source": [
    "#  Reordering Columns\n",
    "\n",
    "df_categorical = df[['suburb', 'postcode', 'propertyType', 'datesold']]\n",
    "df_numerical = df[['price', 'parking', 'bathrooms', 'bedrooms']]\n",
    "df = pd.concat([df_numerical, df_categorical], axis=1)\n",
    "df.head()\n",
    "\n",
    "# bulannya coba d grupin per musim ato kuartal\n",
    "# coba 1 data pke postcode 1 data gpke postcode\n",
    "# perminggu, perkuartal bulan/ musim\n",
    "# kalo price mw scaling coba log > tpi ntr hasil prediksi d inverse log\n",
    "#  parking, bathrooms, bedrooms > ttep bsa d scaling >untuk knn (klo tree based non scaling)"
   ]
  },
  {
   "cell_type": "code",
   "execution_count": 32,
   "metadata": {},
   "outputs": [
    {
     "data": {
      "image/png": "[encoded data removed]",
      "text/plain": [
       "<Figure size 900x900 with 30 Axes>"
      ]
     },
     "metadata": {},
     "output_type": "display_data"
    }
   ],
   "source": [
    "sns.pairplot(df, size=2.5)\n",
    "plt.tight_layout()"
   ]
  },
  {
   "cell_type": "markdown",
   "metadata": {},
   "source": [
    "> #### Dealing with Outliers"
   ]
  },
  {
   "cell_type": "code",
   "execution_count": 33,
   "metadata": {},
   "outputs": [],
   "source": [
    "def stats(feature):\n",
    "    min_ = df[feature].min()\n",
    "    max_ = df[feature].max()\n",
    "    mean_ = df[feature].mean()\n",
    "    median_ = df[feature].median()\n",
    "    std_ = df[feature].std()\n",
    "\n",
    "    print(f\"Statistics for '{feature}' column:\\n\")\n",
    "    print(f\"Minimum '{feature}': \", min_)\n",
    "    print(f\"Maximum '{feature}': \", max_)\n",
    "    print(f\"Mean '{feature}': \", mean_)\n",
    "    print(f\"Median '{feature}': \", median_)\n",
    "    print(f\"Standard deviation of '{feature}': \", std_)\n",
    "\n",
    "def boxplot_outlier(feature):\n",
    "    plt.figure(figsize=(8,8))\n",
    "    sns.boxplot(data=df[feature])\n",
    "    plt.xticks(rotation=90)\n",
    "    plt.title(feature)\n",
    "    plt.show()\n",
    "    \n",
    "def distplot_outlier(feature):\n",
    "    plt.figure(figsize=(8,8))\n",
    "    sns.distplot(df[feature], kde=False)\n",
    "    plt.xticks(rotation=90)\n",
    "    plt.title(feature)\n",
    "    plt.show()\n",
    "    \n",
    "def detect_outlier_iqr(data):\n",
    "    outliers=[]\n",
    "    data_sorted = sorted(data)\n",
    "    q1, q3= np.percentile(data,[25,75])\n",
    "    iqr = q3 - q1\n",
    "    lower_bound = q1 -(1.5 * iqr) \n",
    "    upper_bound = q3 +(1.5 * iqr) \n",
    "    \n",
    "    for y in data_sorted:\n",
    "        if y < lower_bound or y > upper_bound:\n",
    "            outliers.append(y)\n",
    "    return outliers\n",
    "\n",
    "# bikin data 2 coba 1 data isi outlier, 1 isi data ga outlier\n",
    "# DecisionTreeRegressor, Random Forest Regressor, Gradient Boosting, Ridge Lasso, KNN regressor"
   ]
  },
  {
   "cell_type": "code",
   "execution_count": 34,
   "metadata": {},
   "outputs": [
    {
     "name": "stdout",
     "output_type": "stream",
     "text": [
      "Number of outliers in 'price' column:  2573\n",
      "Number of outliers in 'parking' column:  1959\n",
      "Number of outliers in 'bathrooms' column:  284\n",
      "Number of outliers in 'bedrooms' column:  2771\n"
     ]
    }
   ],
   "source": [
    "for i in df_numerical.columns:\n",
    "    print(f\"Number of outliers in '{i}' column: \", len(detect_outlier_iqr(df[i])))\n",
    "\n",
    "# len(detect_outlier_iqr(df['bathrooms']))\n",
    "# OUTLIER SEBANYAK INI DIAPAIN YA?\n"
   ]
  },
  {
   "cell_type": "markdown",
   "metadata": {},
   "source": [
    "- Checking outlier in 'price' columns"
   ]
  },
  {
   "cell_type": "code",
   "execution_count": 35,
   "metadata": {},
   "outputs": [
    {
     "name": "stdout",
     "output_type": "stream",
     "text": [
      "Statistics for 'price' column:\n",
      "\n",
      "Minimum 'price':  50000.0\n",
      "Maximum 'price':  8000000.0\n",
      "Mean 'price':  603739.7770708142\n",
      "Median 'price':  539000.0\n",
      "Standard deviation of 'price':  313976.3626098973\n"
     ]
    }
   ],
   "source": [
    "stats('price')"
   ]
  },
  {
   "cell_type": "code",
   "execution_count": 36,
   "metadata": {},
   "outputs": [
    {
     "data": {
      "image/png": "[encoded data removed]",
      "text/plain": [
       "<Figure size 576x576 with 1 Axes>"
      ]
     },
     "metadata": {},
     "output_type": "display_data"
    }
   ],
   "source": [
    "boxplot_outlier('price')"
   ]
  },
  {
   "cell_type": "code",
   "execution_count": 37,
   "metadata": {},
   "outputs": [
    {
     "data": {
      "image/png": "[encoded data removed]",
      "text/plain": [
       "<Figure size 576x576 with 1 Axes>"
      ]
     },
     "metadata": {},
     "output_type": "display_data"
    }
   ],
   "source": [
    "distplot_outlier('price')"
   ]
  },
  {
   "cell_type": "code",
   "execution_count": 38,
   "metadata": {},
   "outputs": [
    {
     "data": {
      "text/html": [
       "<div>\n",
       "<style scoped>\n",
       "    .dataframe tbody tr th:only-of-type {\n",
       "        vertical-align: middle;\n",
       "    }\n",
       "\n",
       "    .dataframe tbody tr th {\n",
       "        vertical-align: top;\n",
       "    }\n",
       "\n",
       "    .dataframe thead th {\n",
       "        text-align: right;\n",
       "    }\n",
       "</style>\n",
       "<table border=\"1\" class=\"dataframe\">\n",
       "  <thead>\n",
       "    <tr style=\"text-align: right;\">\n",
       "      <th></th>\n",
       "      <th>price</th>\n",
       "      <th>parking</th>\n",
       "      <th>bathrooms</th>\n",
       "      <th>bedrooms</th>\n",
       "      <th>suburb</th>\n",
       "      <th>postcode</th>\n",
       "      <th>propertyType</th>\n",
       "      <th>datesold</th>\n",
       "    </tr>\n",
       "  </thead>\n",
       "  <tbody>\n",
       "    <tr>\n",
       "      <th>0</th>\n",
       "      <td>223000.0</td>\n",
       "      <td>2</td>\n",
       "      <td>2.0</td>\n",
       "      <td>4</td>\n",
       "      <td>Nicholls</td>\n",
       "      <td>2913</td>\n",
       "      <td>house</td>\n",
       "      <td>2000-09-06</td>\n",
       "    </tr>\n",
       "    <tr>\n",
       "      <th>1</th>\n",
       "      <td>350000.0</td>\n",
       "      <td>1</td>\n",
       "      <td>2.0</td>\n",
       "      <td>3</td>\n",
       "      <td>Ngunnawal</td>\n",
       "      <td>2913</td>\n",
       "      <td>house</td>\n",
       "      <td>2001-01-01</td>\n",
       "    </tr>\n",
       "    <tr>\n",
       "      <th>2</th>\n",
       "      <td>550000.0</td>\n",
       "      <td>2</td>\n",
       "      <td>2.0</td>\n",
       "      <td>4</td>\n",
       "      <td>Weston</td>\n",
       "      <td>2611</td>\n",
       "      <td>house</td>\n",
       "      <td>2003-11-12</td>\n",
       "    </tr>\n",
       "    <tr>\n",
       "      <th>3</th>\n",
       "      <td>276000.0</td>\n",
       "      <td>1</td>\n",
       "      <td>1.0</td>\n",
       "      <td>3</td>\n",
       "      <td>Isabella Plains</td>\n",
       "      <td>2905</td>\n",
       "      <td>house</td>\n",
       "      <td>2005-09-21</td>\n",
       "    </tr>\n",
       "    <tr>\n",
       "      <th>4</th>\n",
       "      <td>400000.0</td>\n",
       "      <td>2</td>\n",
       "      <td>2.0</td>\n",
       "      <td>5</td>\n",
       "      <td>Conder</td>\n",
       "      <td>2906</td>\n",
       "      <td>house</td>\n",
       "      <td>2005-01-11</td>\n",
       "    </tr>\n",
       "  </tbody>\n",
       "</table>\n",
       "</div>"
      ],
      "text/plain": [
       "      price  parking  bathrooms  bedrooms           suburb  postcode  \\\n",
       "0  223000.0        2        2.0         4         Nicholls      2913   \n",
       "1  350000.0        1        2.0         3        Ngunnawal      2913   \n",
       "2  550000.0        2        2.0         4           Weston      2611   \n",
       "3  276000.0        1        1.0         3  Isabella Plains      2905   \n",
       "4  400000.0        2        2.0         5           Conder      2906   \n",
       "\n",
       "  propertyType   datesold  \n",
       "0        house 2000-09-06  \n",
       "1        house 2001-01-01  \n",
       "2        house 2003-11-12  \n",
       "3        house 2005-09-21  \n",
       "4        house 2005-01-11  "
      ]
     },
     "execution_count": 38,
     "metadata": {},
     "output_type": "execute_result"
    }
   ],
   "source": [
    "df.head()"
   ]
  },
  {
   "cell_type": "code",
   "execution_count": null,
   "metadata": {},
   "outputs": [],
   "source": []
  },
  {
   "cell_type": "code",
   "execution_count": null,
   "metadata": {},
   "outputs": [],
   "source": []
  },
  {
   "cell_type": "code",
   "execution_count": 39,
   "metadata": {},
   "outputs": [
    {
     "data": {
      "image/png": "[encoded data removed]",
      "text/plain": [
       "<Figure size 720x720 with 1 Axes>"
      ]
     },
     "metadata": {},
     "output_type": "display_data"
    }
   ],
   "source": [
    "# for i in df.columns:\n",
    "#     plt.figure(figsize = (10,10))\n",
    "#     sns.distplot(df[i])\n",
    "#     plt.show()\n",
    "\n",
    "plt.figure(figsize = (10,10))\n",
    "sns.distplot(df['postcode'], kde=False)\n",
    "plt.show()"
   ]
  },
  {
   "cell_type": "code",
   "execution_count": 40,
   "metadata": {},
   "outputs": [
    {
     "data": {
      "image/png": "[encoded data removed]",
      "text/plain": [
       "<Figure size 1440x720 with 1 Axes>"
      ]
     },
     "metadata": {},
     "output_type": "display_data"
    }
   ],
   "source": [
    "plt.figure(figsize=(20,10))\n",
    "sns.countplot(df['suburb'])\n",
    "plt.xticks(rotation=90)\n",
    "plt.show()"
   ]
  },
  {
   "cell_type": "code",
   "execution_count": 41,
   "metadata": {},
   "outputs": [
    {
     "data": {
      "image/png": "[encoded data removed]",
      "text/plain": [
       "<Figure size 1440x720 with 1 Axes>"
      ]
     },
     "metadata": {},
     "output_type": "display_data"
    }
   ],
   "source": [
    "plt.figure(figsize=(20,10))\n",
    "sns.countplot(df['postcode'])\n",
    "plt.xticks(rotation=90)\n",
    "plt.show()"
   ]
  },
  {
   "cell_type": "code",
   "execution_count": null,
   "metadata": {},
   "outputs": [],
   "source": []
  },
  {
   "cell_type": "code",
   "execution_count": null,
   "metadata": {},
   "outputs": [],
   "source": []
  },
  {
   "cell_type": "code",
   "execution_count": null,
   "metadata": {},
   "outputs": [],
   "source": []
  },
  {
   "cell_type": "code",
   "execution_count": null,
   "metadata": {},
   "outputs": [],
   "source": []
  },
  {
   "cell_type": "code",
   "execution_count": null,
   "metadata": {},
   "outputs": [],
   "source": []
  },
  {
   "cell_type": "code",
   "execution_count": null,
   "metadata": {},
   "outputs": [],
   "source": []
  },
  {
   "cell_type": "code",
   "execution_count": 42,
   "metadata": {},
   "outputs": [],
   "source": [
    "# df.groupby(['Survived'])['cabin_null'].mean()"
   ]
  },
  {
   "cell_type": "code",
   "execution_count": null,
   "metadata": {},
   "outputs": [],
   "source": []
  },
  {
   "cell_type": "code",
   "execution_count": null,
   "metadata": {},
   "outputs": [],
   "source": []
  },
  {
   "cell_type": "code",
   "execution_count": null,
   "metadata": {},
   "outputs": [],
   "source": []
  },
  {
   "cell_type": "code",
   "execution_count": null,
   "metadata": {},
   "outputs": [],
   "source": []
  },
  {
   "cell_type": "code",
   "execution_count": null,
   "metadata": {},
   "outputs": [],
   "source": []
  },
  {
   "cell_type": "code",
   "execution_count": null,
   "metadata": {},
   "outputs": [],
   "source": []
  },
  {
   "cell_type": "code",
   "execution_count": null,
   "metadata": {},
   "outputs": [],
   "source": []
  },
  {
   "cell_type": "code",
   "execution_count": null,
   "metadata": {},
   "outputs": [],
   "source": []
  },
  {
   "cell_type": "code",
   "execution_count": null,
   "metadata": {},
   "outputs": [],
   "source": []
  },
  {
   "cell_type": "code",
   "execution_count": null,
   "metadata": {},
   "outputs": [],
   "source": []
  },
  {
   "cell_type": "code",
   "execution_count": null,
   "metadata": {},
   "outputs": [],
   "source": []
  },
  {
   "cell_type": "code",
   "execution_count": 43,
   "metadata": {},
   "outputs": [
    {
     "data": {
      "image/png": "[encoded data removed]",
      "text/plain": [
       "<Figure size 1152x576 with 1 Axes>"
      ]
     },
     "metadata": {},
     "output_type": "display_data"
    }
   ],
   "source": [
    "plt.figure(figsize = (16,8))\n",
    "sns.boxplot(data = df)\n",
    "plt.xticks(rotation = 90)\n",
    "plt.show()"
   ]
  },
  {
   "cell_type": "code",
   "execution_count": null,
   "metadata": {},
   "outputs": [],
   "source": []
  },
  {
   "cell_type": "code",
   "execution_count": null,
   "metadata": {},
   "outputs": [],
   "source": []
  },
  {
   "cell_type": "code",
   "execution_count": null,
   "metadata": {},
   "outputs": [],
   "source": []
  },
  {
   "cell_type": "code",
   "execution_count": null,
   "metadata": {},
   "outputs": [],
   "source": []
  },
  {
   "cell_type": "code",
   "execution_count": null,
   "metadata": {},
   "outputs": [],
   "source": []
  },
  {
   "cell_type": "code",
   "execution_count": null,
   "metadata": {},
   "outputs": [],
   "source": []
  },
  {
   "cell_type": "code",
   "execution_count": null,
   "metadata": {},
   "outputs": [],
   "source": []
  },
  {
   "cell_type": "code",
   "execution_count": null,
   "metadata": {},
   "outputs": [],
   "source": []
  },
  {
   "cell_type": "code",
   "execution_count": null,
   "metadata": {},
   "outputs": [],
   "source": []
  },
  {
   "cell_type": "code",
   "execution_count": null,
   "metadata": {},
   "outputs": [],
   "source": []
  },
  {
   "cell_type": "code",
   "execution_count": null,
   "metadata": {},
   "outputs": [],
   "source": []
  },
  {
   "cell_type": "code",
   "execution_count": null,
   "metadata": {},
   "outputs": [],
   "source": []
  },
  {
   "cell_type": "code",
   "execution_count": 44,
   "metadata": {},
   "outputs": [
    {
     "data": {
      "text/html": [
       "<div>\n",
       "<style scoped>\n",
       "    .dataframe tbody tr th:only-of-type {\n",
       "        vertical-align: middle;\n",
       "    }\n",
       "\n",
       "    .dataframe tbody tr th {\n",
       "        vertical-align: top;\n",
       "    }\n",
       "\n",
       "    .dataframe thead th {\n",
       "        text-align: right;\n",
       "    }\n",
       "</style>\n",
       "<table border=\"1\" class=\"dataframe\">\n",
       "  <thead>\n",
       "    <tr style=\"text-align: right;\">\n",
       "      <th></th>\n",
       "      <th>price</th>\n",
       "      <th>parking</th>\n",
       "      <th>bathrooms</th>\n",
       "      <th>bedrooms</th>\n",
       "    </tr>\n",
       "    <tr>\n",
       "      <th>postcode</th>\n",
       "      <th></th>\n",
       "      <th></th>\n",
       "      <th></th>\n",
       "      <th></th>\n",
       "    </tr>\n",
       "  </thead>\n",
       "  <tbody>\n",
       "    <tr>\n",
       "      <th>2092</th>\n",
       "      <td>5.500000e+05</td>\n",
       "      <td>1.000000</td>\n",
       "      <td>2.000000</td>\n",
       "      <td>4.000000</td>\n",
       "    </tr>\n",
       "    <tr>\n",
       "      <th>2093</th>\n",
       "      <td>4.250000e+05</td>\n",
       "      <td>2.000000</td>\n",
       "      <td>2.000000</td>\n",
       "      <td>3.000000</td>\n",
       "    </tr>\n",
       "    <tr>\n",
       "      <th>2163</th>\n",
       "      <td>2.500000e+05</td>\n",
       "      <td>0.000000</td>\n",
       "      <td>1.000000</td>\n",
       "      <td>2.000000</td>\n",
       "    </tr>\n",
       "    <tr>\n",
       "      <th>2326</th>\n",
       "      <td>5.500000e+05</td>\n",
       "      <td>2.000000</td>\n",
       "      <td>3.000000</td>\n",
       "      <td>3.000000</td>\n",
       "    </tr>\n",
       "    <tr>\n",
       "      <th>2600</th>\n",
       "      <td>1.049049e+06</td>\n",
       "      <td>1.628743</td>\n",
       "      <td>1.771457</td>\n",
       "      <td>2.937126</td>\n",
       "    </tr>\n",
       "    <tr>\n",
       "      <th>2601</th>\n",
       "      <td>5.901913e+05</td>\n",
       "      <td>1.362069</td>\n",
       "      <td>1.532020</td>\n",
       "      <td>1.672414</td>\n",
       "    </tr>\n",
       "    <tr>\n",
       "      <th>2602</th>\n",
       "      <td>6.821488e+05</td>\n",
       "      <td>1.503648</td>\n",
       "      <td>1.465422</td>\n",
       "      <td>2.945142</td>\n",
       "    </tr>\n",
       "    <tr>\n",
       "      <th>2603</th>\n",
       "      <td>1.058613e+06</td>\n",
       "      <td>1.656667</td>\n",
       "      <td>1.857500</td>\n",
       "      <td>3.032500</td>\n",
       "    </tr>\n",
       "    <tr>\n",
       "      <th>2604</th>\n",
       "      <td>6.871133e+05</td>\n",
       "      <td>1.452233</td>\n",
       "      <td>1.555211</td>\n",
       "      <td>2.482630</td>\n",
       "    </tr>\n",
       "    <tr>\n",
       "      <th>2605</th>\n",
       "      <td>8.088265e+05</td>\n",
       "      <td>1.714145</td>\n",
       "      <td>1.732809</td>\n",
       "      <td>3.398821</td>\n",
       "    </tr>\n",
       "    <tr>\n",
       "      <th>2606</th>\n",
       "      <td>5.994358e+05</td>\n",
       "      <td>1.577290</td>\n",
       "      <td>1.423664</td>\n",
       "      <td>2.689885</td>\n",
       "    </tr>\n",
       "    <tr>\n",
       "      <th>2607</th>\n",
       "      <td>6.840614e+05</td>\n",
       "      <td>1.813172</td>\n",
       "      <td>1.743280</td>\n",
       "      <td>3.357527</td>\n",
       "    </tr>\n",
       "    <tr>\n",
       "      <th>2609</th>\n",
       "      <td>1.292353e+05</td>\n",
       "      <td>1.000000</td>\n",
       "      <td>1.058824</td>\n",
       "      <td>1.941176</td>\n",
       "    </tr>\n",
       "    <tr>\n",
       "      <th>2611</th>\n",
       "      <td>6.345605e+05</td>\n",
       "      <td>1.860721</td>\n",
       "      <td>1.687287</td>\n",
       "      <td>3.440228</td>\n",
       "    </tr>\n",
       "    <tr>\n",
       "      <th>2612</th>\n",
       "      <td>6.592158e+05</td>\n",
       "      <td>1.414205</td>\n",
       "      <td>1.605114</td>\n",
       "      <td>2.249432</td>\n",
       "    </tr>\n",
       "    <tr>\n",
       "      <th>2614</th>\n",
       "      <td>5.978543e+05</td>\n",
       "      <td>1.692905</td>\n",
       "      <td>1.550998</td>\n",
       "      <td>3.264967</td>\n",
       "    </tr>\n",
       "    <tr>\n",
       "      <th>2615</th>\n",
       "      <td>4.935762e+05</td>\n",
       "      <td>1.814868</td>\n",
       "      <td>1.563747</td>\n",
       "      <td>3.356823</td>\n",
       "    </tr>\n",
       "    <tr>\n",
       "      <th>2616</th>\n",
       "      <td>4.033242e+05</td>\n",
       "      <td>1.363636</td>\n",
       "      <td>1.424242</td>\n",
       "      <td>2.090909</td>\n",
       "    </tr>\n",
       "    <tr>\n",
       "      <th>2617</th>\n",
       "      <td>5.202292e+05</td>\n",
       "      <td>1.747535</td>\n",
       "      <td>1.589415</td>\n",
       "      <td>2.932610</td>\n",
       "    </tr>\n",
       "    <tr>\n",
       "      <th>2618</th>\n",
       "      <td>9.895714e+05</td>\n",
       "      <td>2.642857</td>\n",
       "      <td>2.000000</td>\n",
       "      <td>3.785714</td>\n",
       "    </tr>\n",
       "    <tr>\n",
       "      <th>2619</th>\n",
       "      <td>4.500000e+05</td>\n",
       "      <td>1.000000</td>\n",
       "      <td>2.000000</td>\n",
       "      <td>3.000000</td>\n",
       "    </tr>\n",
       "    <tr>\n",
       "      <th>2620</th>\n",
       "      <td>3.723717e+05</td>\n",
       "      <td>1.702703</td>\n",
       "      <td>1.324324</td>\n",
       "      <td>2.378378</td>\n",
       "    </tr>\n",
       "    <tr>\n",
       "      <th>2900</th>\n",
       "      <td>4.547229e+05</td>\n",
       "      <td>1.651515</td>\n",
       "      <td>1.684848</td>\n",
       "      <td>2.533333</td>\n",
       "    </tr>\n",
       "    <tr>\n",
       "      <th>2902</th>\n",
       "      <td>5.360974e+05</td>\n",
       "      <td>1.952484</td>\n",
       "      <td>1.594672</td>\n",
       "      <td>3.469402</td>\n",
       "    </tr>\n",
       "    <tr>\n",
       "      <th>2903</th>\n",
       "      <td>5.284757e+05</td>\n",
       "      <td>2.042775</td>\n",
       "      <td>1.655491</td>\n",
       "      <td>3.479769</td>\n",
       "    </tr>\n",
       "    <tr>\n",
       "      <th>2904</th>\n",
       "      <td>5.831247e+05</td>\n",
       "      <td>2.050889</td>\n",
       "      <td>1.880452</td>\n",
       "      <td>3.672052</td>\n",
       "    </tr>\n",
       "    <tr>\n",
       "      <th>2905</th>\n",
       "      <td>4.900995e+05</td>\n",
       "      <td>2.009473</td>\n",
       "      <td>1.554784</td>\n",
       "      <td>3.395958</td>\n",
       "    </tr>\n",
       "    <tr>\n",
       "      <th>2906</th>\n",
       "      <td>4.880875e+05</td>\n",
       "      <td>1.879211</td>\n",
       "      <td>1.573952</td>\n",
       "      <td>3.414544</td>\n",
       "    </tr>\n",
       "    <tr>\n",
       "      <th>2911</th>\n",
       "      <td>6.873445e+05</td>\n",
       "      <td>1.954545</td>\n",
       "      <td>1.990909</td>\n",
       "      <td>3.481818</td>\n",
       "    </tr>\n",
       "    <tr>\n",
       "      <th>2912</th>\n",
       "      <td>5.147039e+05</td>\n",
       "      <td>1.699088</td>\n",
       "      <td>1.738602</td>\n",
       "      <td>2.954407</td>\n",
       "    </tr>\n",
       "    <tr>\n",
       "      <th>2913</th>\n",
       "      <td>5.616865e+05</td>\n",
       "      <td>1.729912</td>\n",
       "      <td>1.773458</td>\n",
       "      <td>3.392431</td>\n",
       "    </tr>\n",
       "    <tr>\n",
       "      <th>2914</th>\n",
       "      <td>6.038479e+05</td>\n",
       "      <td>1.877400</td>\n",
       "      <td>1.926883</td>\n",
       "      <td>3.635155</td>\n",
       "    </tr>\n",
       "  </tbody>\n",
       "</table>\n",
       "</div>"
      ],
      "text/plain": [
       "                 price   parking  bathrooms  bedrooms\n",
       "postcode                                             \n",
       "2092      5.500000e+05  1.000000   2.000000  4.000000\n",
       "2093      4.250000e+05  2.000000   2.000000  3.000000\n",
       "2163      2.500000e+05  0.000000   1.000000  2.000000\n",
       "2326      5.500000e+05  2.000000   3.000000  3.000000\n",
       "2600      1.049049e+06  1.628743   1.771457  2.937126\n",
       "2601      5.901913e+05  1.362069   1.532020  1.672414\n",
       "2602      6.821488e+05  1.503648   1.465422  2.945142\n",
       "2603      1.058613e+06  1.656667   1.857500  3.032500\n",
       "2604      6.871133e+05  1.452233   1.555211  2.482630\n",
       "2605      8.088265e+05  1.714145   1.732809  3.398821\n",
       "2606      5.994358e+05  1.577290   1.423664  2.689885\n",
       "2607      6.840614e+05  1.813172   1.743280  3.357527\n",
       "2609      1.292353e+05  1.000000   1.058824  1.941176\n",
       "2611      6.345605e+05  1.860721   1.687287  3.440228\n",
       "2612      6.592158e+05  1.414205   1.605114  2.249432\n",
       "2614      5.978543e+05  1.692905   1.550998  3.264967\n",
       "2615      4.935762e+05  1.814868   1.563747  3.356823\n",
       "2616      4.033242e+05  1.363636   1.424242  2.090909\n",
       "2617      5.202292e+05  1.747535   1.589415  2.932610\n",
       "2618      9.895714e+05  2.642857   2.000000  3.785714\n",
       "2619      4.500000e+05  1.000000   2.000000  3.000000\n",
       "2620      3.723717e+05  1.702703   1.324324  2.378378\n",
       "2900      4.547229e+05  1.651515   1.684848  2.533333\n",
       "2902      5.360974e+05  1.952484   1.594672  3.469402\n",
       "2903      5.284757e+05  2.042775   1.655491  3.479769\n",
       "2904      5.831247e+05  2.050889   1.880452  3.672052\n",
       "2905      4.900995e+05  2.009473   1.554784  3.395958\n",
       "2906      4.880875e+05  1.879211   1.573952  3.414544\n",
       "2911      6.873445e+05  1.954545   1.990909  3.481818\n",
       "2912      5.147039e+05  1.699088   1.738602  2.954407\n",
       "2913      5.616865e+05  1.729912   1.773458  3.392431\n",
       "2914      6.038479e+05  1.877400   1.926883  3.635155"
      ]
     },
     "execution_count": 44,
     "metadata": {},
     "output_type": "execute_result"
    }
   ],
   "source": [
    "df.groupby('postcode').mean()"
   ]
  },
  {
   "cell_type": "code",
   "execution_count": null,
   "metadata": {},
   "outputs": [],
   "source": []
  },
  {
   "cell_type": "code",
   "execution_count": null,
   "metadata": {},
   "outputs": [],
   "source": []
  },
  {
   "cell_type": "code",
   "execution_count": null,
   "metadata": {},
   "outputs": [],
   "source": []
  },
  {
   "cell_type": "code",
   "execution_count": null,
   "metadata": {},
   "outputs": [],
   "source": []
  },
  {
   "cell_type": "code",
   "execution_count": null,
   "metadata": {},
   "outputs": [],
   "source": []
  },
  {
   "cell_type": "code",
   "execution_count": 45,
   "metadata": {},
   "outputs": [
    {
     "data": {
      "text/plain": [
       "(array([2913, 2611, 2905, 2906, 2903, 2904, 2607, 2606, 2902, 2600, 2612,\n",
       "        2604, 2615, 2914, 2603, 2602, 2616, 2605, 2601, 2614, 2617, 2912,\n",
       "        2900, 2163, 2620, 2609, 2619, 2326, 2092, 2093, 2618, 2911],\n",
       "       dtype=int64),\n",
       " 32)"
      ]
     },
     "execution_count": 45,
     "metadata": {},
     "output_type": "execute_result"
    }
   ],
   "source": [
    "df['postcode'].unique(), df['postcode'].nunique()"
   ]
  },
  {
   "cell_type": "code",
   "execution_count": 46,
   "metadata": {},
   "outputs": [
    {
     "data": {
      "text/plain": [
       "(array(['Nicholls', 'Ngunnawal', 'Weston', 'Isabella Plains', 'Conder',\n",
       "        'Theodore', 'Banks', 'Gordon', 'Chisholm', 'Waramanga',\n",
       "        'Wanniassa', 'Gilmore', 'Gowrie', 'Bonython', 'Pearce', 'Calwell',\n",
       "        'Mawson', \"O'Malley\", 'Kambah', 'Yarralumla', 'Deakin', 'Monash',\n",
       "        'Braddon', 'Reid', 'Fadden', 'Narrabundah', 'Fraser', 'Amaroo',\n",
       "        'Red Hill', 'Hackett', 'Belconnen', 'Florey', 'Barton', 'Downer',\n",
       "        'Garran', 'City', 'Oxley', 'Griffith', 'Curtin', \"O'Connor\",\n",
       "        'Ainslie', 'Scullin', 'Chapman', 'Lyons', 'Isaacs', 'Farrer',\n",
       "        'Richardson', 'Hughes', 'Kaleen', 'Fisher', 'Torrens', 'Forrest',\n",
       "        'Duffy', 'Stirling', 'McKellar', 'Turner', 'Macquarie', 'Evatt',\n",
       "        'Spence', 'Dickson', 'Aranda', 'Holt', 'Dunlop', 'Watson',\n",
       "        'Gungahlin', 'Bruce', 'Palmerston', 'Latham', 'Chifley', 'Phillip',\n",
       "        'Melba', 'Harrison', 'Campbell', 'Hawker', 'Giralang', 'Rivett',\n",
       "        'Macarthur', 'Flynn', 'Lyneham', 'MacGregor', 'Cook', 'Higgins',\n",
       "        'Forde', 'Charnwood', 'Page', 'Franklin', 'Holder', 'Greenway',\n",
       "        'Weetangera', 'Kingston', 'Tharwa', 'Oaks Estate', 'Symonston',\n",
       "        'Bonner', 'Casey', 'Hall', 'Uriarra Village', 'Crace', 'Wright',\n",
       "        'Acton', 'Jacka', 'Coombs', 'Moncrieff', 'Lawson', 'Throsby',\n",
       "        'Denman Prospect', 'Taylor'], dtype=object),\n",
       " 107)"
      ]
     },
     "execution_count": 46,
     "metadata": {},
     "output_type": "execute_result"
    }
   ],
   "source": [
    "df['suburb'].unique(), df['suburb'].nunique()"
   ]
  },
  {
   "cell_type": "code",
   "execution_count": null,
   "metadata": {},
   "outputs": [],
   "source": []
  },
  {
   "cell_type": "code",
   "execution_count": null,
   "metadata": {},
   "outputs": [],
   "source": []
  }
 ],
 "metadata": {
  "kernelspec": {
   "display_name": "Python 3",
   "language": "python",
   "name": "python3"
  },
  "language_info": {
   "codemirror_mode": {
    "name": "ipython",
    "version": 3
   },
   "file_extension": ".py",
   "mimetype": "text/x-python",
   "name": "python",
   "nbconvert_exporter": "python",
   "pygments_lexer": "ipython3",
   "version": "3.8.5"
  }
 },
 "nbformat": 4,
 "nbformat_minor": 4
}
