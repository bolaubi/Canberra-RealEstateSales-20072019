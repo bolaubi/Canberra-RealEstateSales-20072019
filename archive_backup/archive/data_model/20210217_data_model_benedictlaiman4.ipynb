{
 "cells": [
  {
   "cell_type": "markdown",
   "metadata": {},
   "source": [
    "# Canberra Real Estate Sales 2007-2019"
   ]
  },
  {
   "cell_type": "markdown",
   "metadata": {},
   "source": [
    "## Introduction"
   ]
  },
  {
   "cell_type": "markdown",
   "metadata": {},
   "source": [
    "Data was obtained from HtAG®. HtAG® or Higher than Average Growth is an analytics portal that assists real estate professionals, investors and home buyers in making property-related decisions with the help of timely and actionable real estate market data. HtAG® leverages the benefits of machine learning to rank the growth potential of over 420 Local Government Areas and 6,200 suburbs, Australia wide."
   ]
  },
  {
   "cell_type": "markdown",
   "metadata": {},
   "source": [
    "> #### Column Descriptions\n",
    "- datesold = date when the property was sold\n",
    "- price = price of the property when it was sold\n",
    "- suburb = suburbs in Canberra, Australia\n",
    "- postcode = postal code of a place\n",
    "- lat = latitude of the location\n",
    "- lon = longitude of the location\n",
    "- parking = number of parking lots\n",
    "- bathrooms = number of bathrooms\n",
    "- bedrooms = number of bedrooms\n",
    "- propertyType = type of the property\n",
    "- suburbid = the id of the suburbs"
   ]
  },
  {
   "cell_type": "markdown",
   "metadata": {},
   "source": [
    "> #### Background Stories\n",
    "\n",
    "The world was experiencing a global financial crisis around 2007 to 2008 due to excessive risk-taking by banks combined with the bursting of the United States housing bubble caused the values of securities tied to U.S. real estate to plummet, damaging financial institutions globally and culminating an international banking crisis. The crisis sparked the Great Recession, which at the time was the most severe global recession since the \"Great Depression\". Canberra as the capital city of Australia was no exception to this crisis.\n",
    "\n",
    "Through this project, we hope to understand how the real estate market in Canberra responded to this incident and what is the aftermath pricing trend. We are also hoping to gain any valuable insight in the Canberra real estate market."
   ]
  },
  {
   "cell_type": "markdown",
   "metadata": {},
   "source": [
    "> #### Questions\n",
    "- What features affect the real estate prices in Canberra?\n",
    "- What is the real estate prices in Canberra going to be like in the near future according to the given datasets?"
   ]
  },
  {
   "cell_type": "markdown",
   "metadata": {},
   "source": [
    "> #### The Scope of the Research Problem\n",
    "- Historical data from 2007 - 2019\n",
    "- Maximum real estate price capped at 5M (for analysis and visualization)"
   ]
  },
  {
   "cell_type": "markdown",
   "metadata": {},
   "source": [
    "> #### Users\n",
    "- Users & renters\n",
    "- Property investors\n",
    "- Renovators"
   ]
  },
  {
   "cell_type": "markdown",
   "metadata": {},
   "source": [
    "## Data Modelling"
   ]
  },
  {
   "cell_type": "markdown",
   "metadata": {},
   "source": [
    "> #### Import Modules"
   ]
  },
  {
   "cell_type": "code",
   "execution_count": null,
   "metadata": {},
   "outputs": [],
   "source": [
    "import numpy as np\n",
    "import pandas as pd\n",
    "import matplotlib.pyplot as plt\n",
    "import seaborn as sns\n",
    "\n",
    "import scipy.stats as stats\n",
    "import pingouin as pg\n",
    "\n",
    "import category_encoders as ce\n",
    "import statsmodels.api as sm\n",
    "from statsmodels.api import OLS\n",
    "import sklearn\n",
    "from sklearn import metrics\n",
    "\n",
    "from sklearn.pipeline import Pipeline\n",
    "from sklearn.preprocessing import MinMaxScaler, StandardScaler, RobustScaler, OneHotEncoder\n",
    "from sklearn.compose import ColumnTransformer\n",
    "from sklearn.impute import SimpleImputer\n",
    "\n",
    "from sklearn.linear_model import LogisticRegression\n",
    "from sklearn.neighbors import KNeighborsRegressor\n",
    "from sklearn.tree import DecisionTreeRegressor\n",
    "from sklearn.ensemble import RandomForestRegressor, GradientBoostingRegressor\n",
    "import xgboost as xgb\n",
    "\n",
    "from sklearn.model_selection import train_test_split, GridSearchCV, RandomizedSearchCV\n",
    "from sklearn.model_selection import cross_val_score, StratifiedKFold, KFold\n",
    "from sklearn.metrics import confusion_matrix, classification_report, f1_score, recall_score, precision_score, plot_confusion_matrix\n",
    "from sklearn.metrics import roc_auc_score, balanced_accuracy_score\n",
    "from imblearn.over_sampling import RandomOverSampler, SMOTE\n",
    "from imblearn.pipeline import Pipeline as imbPipeline\n",
    "\n",
    "import warnings\n",
    "warnings.filterwarnings('ignore')\n",
    "\n",
    "import pickle\n",
    "import joblib\n",
    "\n",
    "sns.set()"
   ]
  },
  {
   "cell_type": "markdown",
   "metadata": {},
   "source": [
    "> #### Import the Raw Dataset"
   ]
  },
  {
   "cell_type": "code",
   "execution_count": 2,
   "metadata": {},
   "outputs": [],
   "source": [
    "raw_df = pd.read_csv('property_sales_canberra.csv')"
   ]
  },
  {
   "cell_type": "code",
   "execution_count": 3,
   "metadata": {},
   "outputs": [
    {
     "data": {
      "text/html": [
       "<div>\n",
       "<style scoped>\n",
       "    .dataframe tbody tr th:only-of-type {\n",
       "        vertical-align: middle;\n",
       "    }\n",
       "\n",
       "    .dataframe tbody tr th {\n",
       "        vertical-align: top;\n",
       "    }\n",
       "\n",
       "    .dataframe thead th {\n",
       "        text-align: right;\n",
       "    }\n",
       "</style>\n",
       "<table border=\"1\" class=\"dataframe\">\n",
       "  <thead>\n",
       "    <tr style=\"text-align: right;\">\n",
       "      <th></th>\n",
       "      <th>datesold</th>\n",
       "      <th>price</th>\n",
       "      <th>suburb</th>\n",
       "      <th>postcode</th>\n",
       "      <th>lat</th>\n",
       "      <th>lon</th>\n",
       "      <th>parking</th>\n",
       "      <th>bathrooms</th>\n",
       "      <th>bedrooms</th>\n",
       "      <th>propertyType</th>\n",
       "      <th>suburbid</th>\n",
       "    </tr>\n",
       "  </thead>\n",
       "  <tbody>\n",
       "    <tr>\n",
       "      <th>0</th>\n",
       "      <td>9/06/2000</td>\n",
       "      <td>223000.0</td>\n",
       "      <td>Nicholls</td>\n",
       "      <td>2913</td>\n",
       "      <td>NaN</td>\n",
       "      <td>NaN</td>\n",
       "      <td>2</td>\n",
       "      <td>2.0</td>\n",
       "      <td>4</td>\n",
       "      <td>house</td>\n",
       "      <td>ACT708</td>\n",
       "    </tr>\n",
       "    <tr>\n",
       "      <th>1</th>\n",
       "      <td>1/01/2001</td>\n",
       "      <td>350000.0</td>\n",
       "      <td>Ngunnawal</td>\n",
       "      <td>2913</td>\n",
       "      <td>NaN</td>\n",
       "      <td>NaN</td>\n",
       "      <td>1</td>\n",
       "      <td>NaN</td>\n",
       "      <td>3</td>\n",
       "      <td>house</td>\n",
       "      <td>ACT706</td>\n",
       "    </tr>\n",
       "    <tr>\n",
       "      <th>2</th>\n",
       "      <td>11/12/2003</td>\n",
       "      <td>550000.0</td>\n",
       "      <td>Weston</td>\n",
       "      <td>2611</td>\n",
       "      <td>NaN</td>\n",
       "      <td>NaN</td>\n",
       "      <td>2</td>\n",
       "      <td>NaN</td>\n",
       "      <td>4</td>\n",
       "      <td>house</td>\n",
       "      <td>ACT441</td>\n",
       "    </tr>\n",
       "    <tr>\n",
       "      <th>3</th>\n",
       "      <td>21/09/2005</td>\n",
       "      <td>276000.0</td>\n",
       "      <td>Isabella Plains</td>\n",
       "      <td>2905</td>\n",
       "      <td>NaN</td>\n",
       "      <td>NaN</td>\n",
       "      <td>1</td>\n",
       "      <td>1.0</td>\n",
       "      <td>3</td>\n",
       "      <td>house</td>\n",
       "      <td>ACT612</td>\n",
       "    </tr>\n",
       "    <tr>\n",
       "      <th>4</th>\n",
       "      <td>1/11/2005</td>\n",
       "      <td>400000.0</td>\n",
       "      <td>Conder</td>\n",
       "      <td>2906</td>\n",
       "      <td>NaN</td>\n",
       "      <td>NaN</td>\n",
       "      <td>2</td>\n",
       "      <td>NaN</td>\n",
       "      <td>5</td>\n",
       "      <td>house</td>\n",
       "      <td>ACT613</td>\n",
       "    </tr>\n",
       "  </tbody>\n",
       "</table>\n",
       "</div>"
      ],
      "text/plain": [
       "     datesold     price           suburb  postcode  lat  lon  parking  \\\n",
       "0   9/06/2000  223000.0         Nicholls      2913  NaN  NaN        2   \n",
       "1   1/01/2001  350000.0        Ngunnawal      2913  NaN  NaN        1   \n",
       "2  11/12/2003  550000.0           Weston      2611  NaN  NaN        2   \n",
       "3  21/09/2005  276000.0  Isabella Plains      2905  NaN  NaN        1   \n",
       "4   1/11/2005  400000.0           Conder      2906  NaN  NaN        2   \n",
       "\n",
       "   bathrooms  bedrooms propertyType suburbid  \n",
       "0        2.0         4        house   ACT708  \n",
       "1        NaN         3        house   ACT706  \n",
       "2        NaN         4        house   ACT441  \n",
       "3        1.0         3        house   ACT612  \n",
       "4        NaN         5        house   ACT613  "
      ]
     },
     "execution_count": 3,
     "metadata": {},
     "output_type": "execute_result"
    }
   ],
   "source": [
    "raw_df.head()"
   ]
  },
  {
   "cell_type": "markdown",
   "metadata": {},
   "source": [
    "## Preprocessing"
   ]
  },
  {
   "cell_type": "markdown",
   "metadata": {},
   "source": [
    "> #### Descriptive Statistics of the Variables"
   ]
  },
  {
   "cell_type": "code",
   "execution_count": 4,
   "metadata": {},
   "outputs": [
    {
     "name": "stdout",
     "output_type": "stream",
     "text": [
      "<class 'pandas.core.frame.DataFrame'>\n",
      "RangeIndex: 43178 entries, 0 to 43177\n",
      "Data columns (total 11 columns):\n",
      " #   Column        Non-Null Count  Dtype  \n",
      "---  ------        --------------  -----  \n",
      " 0   datesold      43178 non-null  object \n",
      " 1   price         42435 non-null  float64\n",
      " 2   suburb        43178 non-null  object \n",
      " 3   postcode      43178 non-null  int64  \n",
      " 4   lat           42033 non-null  float64\n",
      " 5   lon           42033 non-null  float64\n",
      " 6   parking       43178 non-null  int64  \n",
      " 7   bathrooms     42499 non-null  float64\n",
      " 8   bedrooms      43178 non-null  int64  \n",
      " 9   propertyType  43178 non-null  object \n",
      " 10  suburbid      43178 non-null  object \n",
      "dtypes: float64(4), int64(3), object(4)\n",
      "memory usage: 3.6+ MB\n"
     ]
    }
   ],
   "source": [
    "raw_df.info()"
   ]
  },
  {
   "cell_type": "code",
   "execution_count": 5,
   "metadata": {},
   "outputs": [
    {
     "data": {
      "text/html": [
       "<div>\n",
       "<style scoped>\n",
       "    .dataframe tbody tr th:only-of-type {\n",
       "        vertical-align: middle;\n",
       "    }\n",
       "\n",
       "    .dataframe tbody tr th {\n",
       "        vertical-align: top;\n",
       "    }\n",
       "\n",
       "    .dataframe thead th {\n",
       "        text-align: right;\n",
       "    }\n",
       "</style>\n",
       "<table border=\"1\" class=\"dataframe\">\n",
       "  <thead>\n",
       "    <tr style=\"text-align: right;\">\n",
       "      <th></th>\n",
       "      <th>datesold</th>\n",
       "      <th>price</th>\n",
       "      <th>suburb</th>\n",
       "      <th>postcode</th>\n",
       "      <th>lat</th>\n",
       "      <th>lon</th>\n",
       "      <th>parking</th>\n",
       "      <th>bathrooms</th>\n",
       "      <th>bedrooms</th>\n",
       "      <th>propertyType</th>\n",
       "      <th>suburbid</th>\n",
       "    </tr>\n",
       "  </thead>\n",
       "  <tbody>\n",
       "    <tr>\n",
       "      <th>count</th>\n",
       "      <td>43178</td>\n",
       "      <td>4.243500e+04</td>\n",
       "      <td>43178</td>\n",
       "      <td>43178.000000</td>\n",
       "      <td>42033.000000</td>\n",
       "      <td>42033.000000</td>\n",
       "      <td>43178.000000</td>\n",
       "      <td>42499.000000</td>\n",
       "      <td>43178.000000</td>\n",
       "      <td>43178</td>\n",
       "      <td>43178</td>\n",
       "    </tr>\n",
       "    <tr>\n",
       "      <th>unique</th>\n",
       "      <td>3851</td>\n",
       "      <td>NaN</td>\n",
       "      <td>107</td>\n",
       "      <td>NaN</td>\n",
       "      <td>NaN</td>\n",
       "      <td>NaN</td>\n",
       "      <td>NaN</td>\n",
       "      <td>NaN</td>\n",
       "      <td>NaN</td>\n",
       "      <td>2</td>\n",
       "      <td>107</td>\n",
       "    </tr>\n",
       "    <tr>\n",
       "      <th>top</th>\n",
       "      <td>28/10/2017</td>\n",
       "      <td>NaN</td>\n",
       "      <td>Kambah</td>\n",
       "      <td>NaN</td>\n",
       "      <td>NaN</td>\n",
       "      <td>NaN</td>\n",
       "      <td>NaN</td>\n",
       "      <td>NaN</td>\n",
       "      <td>NaN</td>\n",
       "      <td>house</td>\n",
       "      <td>ACT601</td>\n",
       "    </tr>\n",
       "    <tr>\n",
       "      <th>freq</th>\n",
       "      <td>56</td>\n",
       "      <td>NaN</td>\n",
       "      <td>1404</td>\n",
       "      <td>NaN</td>\n",
       "      <td>NaN</td>\n",
       "      <td>NaN</td>\n",
       "      <td>NaN</td>\n",
       "      <td>NaN</td>\n",
       "      <td>NaN</td>\n",
       "      <td>36236</td>\n",
       "      <td>1404</td>\n",
       "    </tr>\n",
       "    <tr>\n",
       "      <th>mean</th>\n",
       "      <td>NaN</td>\n",
       "      <td>6.037398e+05</td>\n",
       "      <td>NaN</td>\n",
       "      <td>2728.855644</td>\n",
       "      <td>-35.293447</td>\n",
       "      <td>149.096122</td>\n",
       "      <td>1.760017</td>\n",
       "      <td>1.643403</td>\n",
       "      <td>3.193501</td>\n",
       "      <td>NaN</td>\n",
       "      <td>NaN</td>\n",
       "    </tr>\n",
       "    <tr>\n",
       "      <th>std</th>\n",
       "      <td>NaN</td>\n",
       "      <td>3.139764e+05</td>\n",
       "      <td>NaN</td>\n",
       "      <td>146.564444</td>\n",
       "      <td>0.091796</td>\n",
       "      <td>0.040526</td>\n",
       "      <td>0.937361</td>\n",
       "      <td>0.644463</td>\n",
       "      <td>0.990638</td>\n",
       "      <td>NaN</td>\n",
       "      <td>NaN</td>\n",
       "    </tr>\n",
       "    <tr>\n",
       "      <th>min</th>\n",
       "      <td>NaN</td>\n",
       "      <td>5.000000e+04</td>\n",
       "      <td>NaN</td>\n",
       "      <td>2092.000000</td>\n",
       "      <td>-35.509975</td>\n",
       "      <td>148.921424</td>\n",
       "      <td>0.000000</td>\n",
       "      <td>1.000000</td>\n",
       "      <td>0.000000</td>\n",
       "      <td>NaN</td>\n",
       "      <td>NaN</td>\n",
       "    </tr>\n",
       "    <tr>\n",
       "      <th>25%</th>\n",
       "      <td>NaN</td>\n",
       "      <td>4.300000e+05</td>\n",
       "      <td>NaN</td>\n",
       "      <td>2607.000000</td>\n",
       "      <td>-35.363857</td>\n",
       "      <td>149.067390</td>\n",
       "      <td>1.000000</td>\n",
       "      <td>1.000000</td>\n",
       "      <td>3.000000</td>\n",
       "      <td>NaN</td>\n",
       "      <td>NaN</td>\n",
       "    </tr>\n",
       "    <tr>\n",
       "      <th>50%</th>\n",
       "      <td>NaN</td>\n",
       "      <td>5.390000e+05</td>\n",
       "      <td>NaN</td>\n",
       "      <td>2615.000000</td>\n",
       "      <td>-35.270536</td>\n",
       "      <td>149.099522</td>\n",
       "      <td>2.000000</td>\n",
       "      <td>2.000000</td>\n",
       "      <td>3.000000</td>\n",
       "      <td>NaN</td>\n",
       "      <td>NaN</td>\n",
       "    </tr>\n",
       "    <tr>\n",
       "      <th>75%</th>\n",
       "      <td>NaN</td>\n",
       "      <td>6.760000e+05</td>\n",
       "      <td>NaN</td>\n",
       "      <td>2905.000000</td>\n",
       "      <td>-35.212323</td>\n",
       "      <td>149.130708</td>\n",
       "      <td>2.000000</td>\n",
       "      <td>2.000000</td>\n",
       "      <td>4.000000</td>\n",
       "      <td>NaN</td>\n",
       "      <td>NaN</td>\n",
       "    </tr>\n",
       "    <tr>\n",
       "      <th>max</th>\n",
       "      <td>NaN</td>\n",
       "      <td>8.000000e+06</td>\n",
       "      <td>NaN</td>\n",
       "      <td>2914.000000</td>\n",
       "      <td>-35.138572</td>\n",
       "      <td>149.250290</td>\n",
       "      <td>31.000000</td>\n",
       "      <td>21.000000</td>\n",
       "      <td>14.000000</td>\n",
       "      <td>NaN</td>\n",
       "      <td>NaN</td>\n",
       "    </tr>\n",
       "  </tbody>\n",
       "</table>\n",
       "</div>"
      ],
      "text/plain": [
       "          datesold         price  suburb      postcode           lat  \\\n",
       "count        43178  4.243500e+04   43178  43178.000000  42033.000000   \n",
       "unique        3851           NaN     107           NaN           NaN   \n",
       "top     28/10/2017           NaN  Kambah           NaN           NaN   \n",
       "freq            56           NaN    1404           NaN           NaN   \n",
       "mean           NaN  6.037398e+05     NaN   2728.855644    -35.293447   \n",
       "std            NaN  3.139764e+05     NaN    146.564444      0.091796   \n",
       "min            NaN  5.000000e+04     NaN   2092.000000    -35.509975   \n",
       "25%            NaN  4.300000e+05     NaN   2607.000000    -35.363857   \n",
       "50%            NaN  5.390000e+05     NaN   2615.000000    -35.270536   \n",
       "75%            NaN  6.760000e+05     NaN   2905.000000    -35.212323   \n",
       "max            NaN  8.000000e+06     NaN   2914.000000    -35.138572   \n",
       "\n",
       "                 lon       parking     bathrooms      bedrooms propertyType  \\\n",
       "count   42033.000000  43178.000000  42499.000000  43178.000000        43178   \n",
       "unique           NaN           NaN           NaN           NaN            2   \n",
       "top              NaN           NaN           NaN           NaN        house   \n",
       "freq             NaN           NaN           NaN           NaN        36236   \n",
       "mean      149.096122      1.760017      1.643403      3.193501          NaN   \n",
       "std         0.040526      0.937361      0.644463      0.990638          NaN   \n",
       "min       148.921424      0.000000      1.000000      0.000000          NaN   \n",
       "25%       149.067390      1.000000      1.000000      3.000000          NaN   \n",
       "50%       149.099522      2.000000      2.000000      3.000000          NaN   \n",
       "75%       149.130708      2.000000      2.000000      4.000000          NaN   \n",
       "max       149.250290     31.000000     21.000000     14.000000          NaN   \n",
       "\n",
       "       suburbid  \n",
       "count     43178  \n",
       "unique      107  \n",
       "top      ACT601  \n",
       "freq       1404  \n",
       "mean        NaN  \n",
       "std         NaN  \n",
       "min         NaN  \n",
       "25%         NaN  \n",
       "50%         NaN  \n",
       "75%         NaN  \n",
       "max         NaN  "
      ]
     },
     "execution_count": 5,
     "metadata": {},
     "output_type": "execute_result"
    }
   ],
   "source": [
    "raw_df.describe(include='all')"
   ]
  },
  {
   "cell_type": "code",
   "execution_count": 6,
   "metadata": {},
   "outputs": [
    {
     "data": {
      "text/html": [
       "<div>\n",
       "<style scoped>\n",
       "    .dataframe tbody tr th:only-of-type {\n",
       "        vertical-align: middle;\n",
       "    }\n",
       "\n",
       "    .dataframe tbody tr th {\n",
       "        vertical-align: top;\n",
       "    }\n",
       "\n",
       "    .dataframe thead th {\n",
       "        text-align: right;\n",
       "    }\n",
       "</style>\n",
       "<table border=\"1\" class=\"dataframe\">\n",
       "  <thead>\n",
       "    <tr style=\"text-align: right;\">\n",
       "      <th></th>\n",
       "      <th>dataFeatures</th>\n",
       "      <th>dataType</th>\n",
       "      <th>null</th>\n",
       "      <th>nullPct</th>\n",
       "      <th>unique</th>\n",
       "      <th>uniqueSample</th>\n",
       "    </tr>\n",
       "  </thead>\n",
       "  <tbody>\n",
       "    <tr>\n",
       "      <th>0</th>\n",
       "      <td>datesold</td>\n",
       "      <td>object</td>\n",
       "      <td>0</td>\n",
       "      <td>0.00</td>\n",
       "      <td>3851</td>\n",
       "      <td>[6/04/2017, 4/11/2014]</td>\n",
       "    </tr>\n",
       "    <tr>\n",
       "      <th>1</th>\n",
       "      <td>price</td>\n",
       "      <td>float64</td>\n",
       "      <td>743</td>\n",
       "      <td>1.72</td>\n",
       "      <td>2701</td>\n",
       "      <td>[512500.0, 200000.0]</td>\n",
       "    </tr>\n",
       "    <tr>\n",
       "      <th>2</th>\n",
       "      <td>suburb</td>\n",
       "      <td>object</td>\n",
       "      <td>0</td>\n",
       "      <td>0.00</td>\n",
       "      <td>107</td>\n",
       "      <td>[Wright, Dickson]</td>\n",
       "    </tr>\n",
       "    <tr>\n",
       "      <th>3</th>\n",
       "      <td>postcode</td>\n",
       "      <td>int64</td>\n",
       "      <td>0</td>\n",
       "      <td>0.00</td>\n",
       "      <td>32</td>\n",
       "      <td>[2163, 2604]</td>\n",
       "    </tr>\n",
       "    <tr>\n",
       "      <th>4</th>\n",
       "      <td>lat</td>\n",
       "      <td>float64</td>\n",
       "      <td>1145</td>\n",
       "      <td>2.65</td>\n",
       "      <td>29673</td>\n",
       "      <td>[-35.370651, -35.26142]</td>\n",
       "    </tr>\n",
       "    <tr>\n",
       "      <th>5</th>\n",
       "      <td>lon</td>\n",
       "      <td>float64</td>\n",
       "      <td>1145</td>\n",
       "      <td>2.65</td>\n",
       "      <td>28505</td>\n",
       "      <td>[149.11236599999998, 149.148296]</td>\n",
       "    </tr>\n",
       "    <tr>\n",
       "      <th>6</th>\n",
       "      <td>parking</td>\n",
       "      <td>int64</td>\n",
       "      <td>0</td>\n",
       "      <td>0.00</td>\n",
       "      <td>18</td>\n",
       "      <td>[21, 8]</td>\n",
       "    </tr>\n",
       "    <tr>\n",
       "      <th>7</th>\n",
       "      <td>bathrooms</td>\n",
       "      <td>float64</td>\n",
       "      <td>679</td>\n",
       "      <td>1.57</td>\n",
       "      <td>9</td>\n",
       "      <td>[3.0, 1.0]</td>\n",
       "    </tr>\n",
       "    <tr>\n",
       "      <th>8</th>\n",
       "      <td>bedrooms</td>\n",
       "      <td>int64</td>\n",
       "      <td>0</td>\n",
       "      <td>0.00</td>\n",
       "      <td>13</td>\n",
       "      <td>[11, 8]</td>\n",
       "    </tr>\n",
       "    <tr>\n",
       "      <th>9</th>\n",
       "      <td>propertyType</td>\n",
       "      <td>object</td>\n",
       "      <td>0</td>\n",
       "      <td>0.00</td>\n",
       "      <td>2</td>\n",
       "      <td>[house, unit]</td>\n",
       "    </tr>\n",
       "    <tr>\n",
       "      <th>10</th>\n",
       "      <td>suburbid</td>\n",
       "      <td>object</td>\n",
       "      <td>0</td>\n",
       "      <td>0.00</td>\n",
       "      <td>107</td>\n",
       "      <td>[ACT578, ACT216]</td>\n",
       "    </tr>\n",
       "  </tbody>\n",
       "</table>\n",
       "</div>"
      ],
      "text/plain": [
       "    dataFeatures dataType   null  nullPct  unique  \\\n",
       "0       datesold   object      0     0.00    3851   \n",
       "1          price  float64    743     1.72    2701   \n",
       "2         suburb   object      0     0.00     107   \n",
       "3       postcode    int64      0     0.00      32   \n",
       "4            lat  float64   1145     2.65   29673   \n",
       "5            lon  float64   1145     2.65   28505   \n",
       "6        parking    int64      0     0.00      18   \n",
       "7      bathrooms  float64    679     1.57       9   \n",
       "8       bedrooms    int64      0     0.00      13   \n",
       "9   propertyType   object      0     0.00       2   \n",
       "10      suburbid   object      0     0.00     107   \n",
       "\n",
       "                        uniqueSample  \n",
       "0             [6/04/2017, 4/11/2014]  \n",
       "1               [512500.0, 200000.0]  \n",
       "2                  [Wright, Dickson]  \n",
       "3                       [2163, 2604]  \n",
       "4            [-35.370651, -35.26142]  \n",
       "5   [149.11236599999998, 149.148296]  \n",
       "6                            [21, 8]  \n",
       "7                         [3.0, 1.0]  \n",
       "8                            [11, 8]  \n",
       "9                      [house, unit]  \n",
       "10                  [ACT578, ACT216]  "
      ]
     },
     "execution_count": 6,
     "metadata": {},
     "output_type": "execute_result"
    }
   ],
   "source": [
    "# Checking raw datasets\n",
    "\n",
    "desc = []\n",
    "for i in raw_df.columns:\n",
    "    desc.append([i,\n",
    "                     raw_df[i].dtypes,\n",
    "                     raw_df[i].isna().sum(),\n",
    "                     round((raw_df[i].isna().sum())/len(raw_df)*100,2),\n",
    "                     raw_df[i].nunique(),\n",
    "                     raw_df[i].drop_duplicates().sample(2).values])\n",
    "pd.DataFrame(desc, columns = ['dataFeatures', 'dataType',' null', 'nullPct', 'unique', 'uniqueSample'])"
   ]
  },
  {
   "cell_type": "code",
   "execution_count": 7,
   "metadata": {},
   "outputs": [
    {
     "data": {
      "image/png": "[encoded data removed]",
      "text/plain": [
       "<Figure size 1080x576 with 1 Axes>"
      ]
     },
     "metadata": {},
     "output_type": "display_data"
    }
   ],
   "source": [
    "plt.figure(figsize=(15,8))\n",
    "sns.heatmap(raw_df.isnull(), yticklabels=False, cbar=False, cmap='viridis')\n",
    "plt.show()"
   ]
  },
  {
   "cell_type": "code",
   "execution_count": 8,
   "metadata": {},
   "outputs": [
    {
     "data": {
      "text/plain": [
       "datesold           0\n",
       "price            743\n",
       "suburb             0\n",
       "postcode           0\n",
       "lat             1145\n",
       "lon             1145\n",
       "parking            0\n",
       "bathrooms        679\n",
       "bedrooms           0\n",
       "propertyType       0\n",
       "suburbid           0\n",
       "dtype: int64"
      ]
     },
     "execution_count": 8,
     "metadata": {},
     "output_type": "execute_result"
    }
   ],
   "source": [
    "raw_df.isna().sum()"
   ]
  },
  {
   "cell_type": "code",
   "execution_count": 9,
   "metadata": {},
   "outputs": [],
   "source": [
    "df = raw_df.copy()"
   ]
  },
  {
   "cell_type": "markdown",
   "metadata": {},
   "source": [
    "- __Determining Numerical and Categorical Features:__"
   ]
  },
  {
   "cell_type": "code",
   "execution_count": 10,
   "metadata": {},
   "outputs": [
    {
     "data": {
      "text/plain": [
       "11"
      ]
     },
     "execution_count": 10,
     "metadata": {},
     "output_type": "execute_result"
    }
   ],
   "source": [
    "len(df.columns)  # checking"
   ]
  },
  {
   "cell_type": "code",
   "execution_count": 11,
   "metadata": {},
   "outputs": [],
   "source": [
    "categorical_columns = list(df.describe(exclude='number').columns)\n",
    "numerical_columns = list(df.describe().columns)"
   ]
  },
  {
   "cell_type": "code",
   "execution_count": 12,
   "metadata": {},
   "outputs": [],
   "source": [
    "numerical_columns.remove('postcode')\n",
    "categorical_columns.append('postcode')"
   ]
  },
  {
   "cell_type": "code",
   "execution_count": 13,
   "metadata": {},
   "outputs": [
    {
     "data": {
      "text/plain": [
       "(['datesold', 'suburb', 'propertyType', 'suburbid', 'postcode'], 5)"
      ]
     },
     "execution_count": 13,
     "metadata": {},
     "output_type": "execute_result"
    }
   ],
   "source": [
    "categorical_columns, len(categorical_columns)"
   ]
  },
  {
   "cell_type": "code",
   "execution_count": 14,
   "metadata": {},
   "outputs": [
    {
     "data": {
      "text/plain": [
       "(['price', 'lat', 'lon', 'parking', 'bathrooms', 'bedrooms'], 6)"
      ]
     },
     "execution_count": 14,
     "metadata": {},
     "output_type": "execute_result"
    }
   ],
   "source": [
    "numerical_columns, len(numerical_columns)"
   ]
  },
  {
   "cell_type": "markdown",
   "metadata": {},
   "source": [
    "- __Checking the Distribution of the Datasets Numerical Features Through Bar Plots:__"
   ]
  },
  {
   "cell_type": "code",
   "execution_count": 15,
   "metadata": {},
   "outputs": [
    {
     "data": {
      "image/png": "[encoded data removed]",
      "text/plain": [
       "<Figure size 576x576 with 1 Axes>"
      ]
     },
     "metadata": {},
     "output_type": "display_data"
    },
    {
     "data": {
      "image/png": "[encoded data removed]",
      "text/plain": [
       "<Figure size 576x576 with 1 Axes>"
      ]
     },
     "metadata": {},
     "output_type": "display_data"
    },
    {
     "data": {
      "image/png": "[encoded data removed]",
      "text/plain": [
       "<Figure size 576x576 with 1 Axes>"
      ]
     },
     "metadata": {},
     "output_type": "display_data"
    },
    {
     "data": {
      "image/png": "[encoded data removed]",
      "text/plain": [
       "<Figure size 576x576 with 1 Axes>"
      ]
     },
     "metadata": {},
     "output_type": "display_data"
    },
    {
     "data": {
      "image/png": "[encoded data removed]",
      "text/plain": [
       "<Figure size 576x576 with 1 Axes>"
      ]
     },
     "metadata": {},
     "output_type": "display_data"
    },
    {
     "data": {
      "image/png": "[encoded data removed]",
      "text/plain": [
       "<Figure size 576x576 with 1 Axes>"
      ]
     },
     "metadata": {},
     "output_type": "display_data"
    }
   ],
   "source": [
    "for i in numerical_columns:\n",
    "    plt.figure(figsize = (8,8))\n",
    "    sns.distplot(df[i], kde=False)"
   ]
  },
  {
   "cell_type": "markdown",
   "metadata": {},
   "source": [
    "- __Using Scatter Plot to See the Relationship Between 'price' Column and Other Numerical Columns:__"
   ]
  },
  {
   "cell_type": "code",
   "execution_count": 16,
   "metadata": {},
   "outputs": [],
   "source": [
    "numerical_columns_noprice = numerical_columns.copy()"
   ]
  },
  {
   "cell_type": "code",
   "execution_count": 17,
   "metadata": {},
   "outputs": [],
   "source": [
    "numerical_columns_noprice.remove('price')"
   ]
  },
  {
   "cell_type": "code",
   "execution_count": 18,
   "metadata": {},
   "outputs": [
    {
     "data": {
      "text/plain": [
       "['lat', 'lon', 'parking', 'bathrooms', 'bedrooms']"
      ]
     },
     "execution_count": 18,
     "metadata": {},
     "output_type": "execute_result"
    }
   ],
   "source": [
    "numerical_columns_noprice"
   ]
  },
  {
   "cell_type": "code",
   "execution_count": 19,
   "metadata": {},
   "outputs": [
    {
     "data": {
      "image/png": "[encoded data removed]",
      "text/plain": [
       "<Figure size 432x288 with 1 Axes>"
      ]
     },
     "metadata": {},
     "output_type": "display_data"
    },
    {
     "data": {
      "image/png": "[encoded data removed]",
      "text/plain": [
       "<Figure size 432x288 with 1 Axes>"
      ]
     },
     "metadata": {},
     "output_type": "display_data"
    },
    {
     "data": {
      "image/png": "[encoded data removed]",
      "text/plain": [
       "<Figure size 432x288 with 1 Axes>"
      ]
     },
     "metadata": {},
     "output_type": "display_data"
    },
    {
     "data": {
      "image/png": "[encoded data removed]",
      "text/plain": [
       "<Figure size 432x288 with 1 Axes>"
      ]
     },
     "metadata": {},
     "output_type": "display_data"
    },
    {
     "data": {
      "image/png": "[encoded data removed]",
      "text/plain": [
       "<Figure size 432x288 with 1 Axes>"
      ]
     },
     "metadata": {},
     "output_type": "display_data"
    }
   ],
   "source": [
    "for i in numerical_columns_noprice:\n",
    "    sns.scatterplot(df[i], df['price'])\n",
    "    plt.show()"
   ]
  },
  {
   "cell_type": "markdown",
   "metadata": {},
   "source": [
    "- __Checking Numerical Features Through Describe Method:__"
   ]
  },
  {
   "cell_type": "code",
   "execution_count": 20,
   "metadata": {},
   "outputs": [
    {
     "data": {
      "text/html": [
       "<div>\n",
       "<style scoped>\n",
       "    .dataframe tbody tr th:only-of-type {\n",
       "        vertical-align: middle;\n",
       "    }\n",
       "\n",
       "    .dataframe tbody tr th {\n",
       "        vertical-align: top;\n",
       "    }\n",
       "\n",
       "    .dataframe thead th {\n",
       "        text-align: right;\n",
       "    }\n",
       "</style>\n",
       "<table border=\"1\" class=\"dataframe\">\n",
       "  <thead>\n",
       "    <tr style=\"text-align: right;\">\n",
       "      <th></th>\n",
       "      <th>price</th>\n",
       "      <th>lat</th>\n",
       "      <th>lon</th>\n",
       "      <th>parking</th>\n",
       "      <th>bathrooms</th>\n",
       "      <th>bedrooms</th>\n",
       "    </tr>\n",
       "  </thead>\n",
       "  <tbody>\n",
       "    <tr>\n",
       "      <th>count</th>\n",
       "      <td>4.243500e+04</td>\n",
       "      <td>42033.000000</td>\n",
       "      <td>42033.000000</td>\n",
       "      <td>43178.000000</td>\n",
       "      <td>42499.000000</td>\n",
       "      <td>43178.000000</td>\n",
       "    </tr>\n",
       "    <tr>\n",
       "      <th>mean</th>\n",
       "      <td>6.037398e+05</td>\n",
       "      <td>-35.293447</td>\n",
       "      <td>149.096122</td>\n",
       "      <td>1.760017</td>\n",
       "      <td>1.643403</td>\n",
       "      <td>3.193501</td>\n",
       "    </tr>\n",
       "    <tr>\n",
       "      <th>std</th>\n",
       "      <td>3.139764e+05</td>\n",
       "      <td>0.091796</td>\n",
       "      <td>0.040526</td>\n",
       "      <td>0.937361</td>\n",
       "      <td>0.644463</td>\n",
       "      <td>0.990638</td>\n",
       "    </tr>\n",
       "    <tr>\n",
       "      <th>min</th>\n",
       "      <td>5.000000e+04</td>\n",
       "      <td>-35.509975</td>\n",
       "      <td>148.921424</td>\n",
       "      <td>0.000000</td>\n",
       "      <td>1.000000</td>\n",
       "      <td>0.000000</td>\n",
       "    </tr>\n",
       "    <tr>\n",
       "      <th>25%</th>\n",
       "      <td>4.300000e+05</td>\n",
       "      <td>-35.363857</td>\n",
       "      <td>149.067390</td>\n",
       "      <td>1.000000</td>\n",
       "      <td>1.000000</td>\n",
       "      <td>3.000000</td>\n",
       "    </tr>\n",
       "    <tr>\n",
       "      <th>50%</th>\n",
       "      <td>5.390000e+05</td>\n",
       "      <td>-35.270536</td>\n",
       "      <td>149.099522</td>\n",
       "      <td>2.000000</td>\n",
       "      <td>2.000000</td>\n",
       "      <td>3.000000</td>\n",
       "    </tr>\n",
       "    <tr>\n",
       "      <th>75%</th>\n",
       "      <td>6.760000e+05</td>\n",
       "      <td>-35.212323</td>\n",
       "      <td>149.130708</td>\n",
       "      <td>2.000000</td>\n",
       "      <td>2.000000</td>\n",
       "      <td>4.000000</td>\n",
       "    </tr>\n",
       "    <tr>\n",
       "      <th>max</th>\n",
       "      <td>8.000000e+06</td>\n",
       "      <td>-35.138572</td>\n",
       "      <td>149.250290</td>\n",
       "      <td>31.000000</td>\n",
       "      <td>21.000000</td>\n",
       "      <td>14.000000</td>\n",
       "    </tr>\n",
       "  </tbody>\n",
       "</table>\n",
       "</div>"
      ],
      "text/plain": [
       "              price           lat           lon       parking     bathrooms  \\\n",
       "count  4.243500e+04  42033.000000  42033.000000  43178.000000  42499.000000   \n",
       "mean   6.037398e+05    -35.293447    149.096122      1.760017      1.643403   \n",
       "std    3.139764e+05      0.091796      0.040526      0.937361      0.644463   \n",
       "min    5.000000e+04    -35.509975    148.921424      0.000000      1.000000   \n",
       "25%    4.300000e+05    -35.363857    149.067390      1.000000      1.000000   \n",
       "50%    5.390000e+05    -35.270536    149.099522      2.000000      2.000000   \n",
       "75%    6.760000e+05    -35.212323    149.130708      2.000000      2.000000   \n",
       "max    8.000000e+06    -35.138572    149.250290     31.000000     21.000000   \n",
       "\n",
       "           bedrooms  \n",
       "count  43178.000000  \n",
       "mean       3.193501  \n",
       "std        0.990638  \n",
       "min        0.000000  \n",
       "25%        3.000000  \n",
       "50%        3.000000  \n",
       "75%        4.000000  \n",
       "max       14.000000  "
      ]
     },
     "execution_count": 20,
     "metadata": {},
     "output_type": "execute_result"
    }
   ],
   "source": [
    "df[numerical_columns].describe()"
   ]
  },
  {
   "cell_type": "markdown",
   "metadata": {},
   "source": [
    "- __Checking Categorical Features Through Describe Method:__"
   ]
  },
  {
   "cell_type": "code",
   "execution_count": 21,
   "metadata": {},
   "outputs": [
    {
     "data": {
      "text/html": [
       "<div>\n",
       "<style scoped>\n",
       "    .dataframe tbody tr th:only-of-type {\n",
       "        vertical-align: middle;\n",
       "    }\n",
       "\n",
       "    .dataframe tbody tr th {\n",
       "        vertical-align: top;\n",
       "    }\n",
       "\n",
       "    .dataframe thead th {\n",
       "        text-align: right;\n",
       "    }\n",
       "</style>\n",
       "<table border=\"1\" class=\"dataframe\">\n",
       "  <thead>\n",
       "    <tr style=\"text-align: right;\">\n",
       "      <th></th>\n",
       "      <th>datesold</th>\n",
       "      <th>suburb</th>\n",
       "      <th>propertyType</th>\n",
       "      <th>suburbid</th>\n",
       "      <th>postcode</th>\n",
       "    </tr>\n",
       "  </thead>\n",
       "  <tbody>\n",
       "    <tr>\n",
       "      <th>count</th>\n",
       "      <td>43178</td>\n",
       "      <td>43178</td>\n",
       "      <td>43178</td>\n",
       "      <td>43178</td>\n",
       "      <td>43178.000000</td>\n",
       "    </tr>\n",
       "    <tr>\n",
       "      <th>unique</th>\n",
       "      <td>3851</td>\n",
       "      <td>107</td>\n",
       "      <td>2</td>\n",
       "      <td>107</td>\n",
       "      <td>NaN</td>\n",
       "    </tr>\n",
       "    <tr>\n",
       "      <th>top</th>\n",
       "      <td>28/10/2017</td>\n",
       "      <td>Kambah</td>\n",
       "      <td>house</td>\n",
       "      <td>ACT601</td>\n",
       "      <td>NaN</td>\n",
       "    </tr>\n",
       "    <tr>\n",
       "      <th>freq</th>\n",
       "      <td>56</td>\n",
       "      <td>1404</td>\n",
       "      <td>36236</td>\n",
       "      <td>1404</td>\n",
       "      <td>NaN</td>\n",
       "    </tr>\n",
       "    <tr>\n",
       "      <th>mean</th>\n",
       "      <td>NaN</td>\n",
       "      <td>NaN</td>\n",
       "      <td>NaN</td>\n",
       "      <td>NaN</td>\n",
       "      <td>2728.855644</td>\n",
       "    </tr>\n",
       "    <tr>\n",
       "      <th>std</th>\n",
       "      <td>NaN</td>\n",
       "      <td>NaN</td>\n",
       "      <td>NaN</td>\n",
       "      <td>NaN</td>\n",
       "      <td>146.564444</td>\n",
       "    </tr>\n",
       "    <tr>\n",
       "      <th>min</th>\n",
       "      <td>NaN</td>\n",
       "      <td>NaN</td>\n",
       "      <td>NaN</td>\n",
       "      <td>NaN</td>\n",
       "      <td>2092.000000</td>\n",
       "    </tr>\n",
       "    <tr>\n",
       "      <th>25%</th>\n",
       "      <td>NaN</td>\n",
       "      <td>NaN</td>\n",
       "      <td>NaN</td>\n",
       "      <td>NaN</td>\n",
       "      <td>2607.000000</td>\n",
       "    </tr>\n",
       "    <tr>\n",
       "      <th>50%</th>\n",
       "      <td>NaN</td>\n",
       "      <td>NaN</td>\n",
       "      <td>NaN</td>\n",
       "      <td>NaN</td>\n",
       "      <td>2615.000000</td>\n",
       "    </tr>\n",
       "    <tr>\n",
       "      <th>75%</th>\n",
       "      <td>NaN</td>\n",
       "      <td>NaN</td>\n",
       "      <td>NaN</td>\n",
       "      <td>NaN</td>\n",
       "      <td>2905.000000</td>\n",
       "    </tr>\n",
       "    <tr>\n",
       "      <th>max</th>\n",
       "      <td>NaN</td>\n",
       "      <td>NaN</td>\n",
       "      <td>NaN</td>\n",
       "      <td>NaN</td>\n",
       "      <td>2914.000000</td>\n",
       "    </tr>\n",
       "  </tbody>\n",
       "</table>\n",
       "</div>"
      ],
      "text/plain": [
       "          datesold  suburb propertyType suburbid      postcode\n",
       "count        43178   43178        43178    43178  43178.000000\n",
       "unique        3851     107            2      107           NaN\n",
       "top     28/10/2017  Kambah        house   ACT601           NaN\n",
       "freq            56    1404        36236     1404           NaN\n",
       "mean           NaN     NaN          NaN      NaN   2728.855644\n",
       "std            NaN     NaN          NaN      NaN    146.564444\n",
       "min            NaN     NaN          NaN      NaN   2092.000000\n",
       "25%            NaN     NaN          NaN      NaN   2607.000000\n",
       "50%            NaN     NaN          NaN      NaN   2615.000000\n",
       "75%            NaN     NaN          NaN      NaN   2905.000000\n",
       "max            NaN     NaN          NaN      NaN   2914.000000"
      ]
     },
     "execution_count": 21,
     "metadata": {},
     "output_type": "execute_result"
    }
   ],
   "source": [
    "df[categorical_columns].describe(include='all')"
   ]
  },
  {
   "cell_type": "code",
   "execution_count": 22,
   "metadata": {},
   "outputs": [
    {
     "data": {
      "image/png": "[encoded data removed]",
      "text/plain": [
       "<Figure size 720x432 with 2 Axes>"
      ]
     },
     "metadata": {},
     "output_type": "display_data"
    }
   ],
   "source": [
    "# Correlation Inspection\n",
    "\n",
    "target = 'price'\n",
    "k = 7 # number of variables for heatmap\n",
    "cols = df[numerical_columns].corr().nlargest(k, target)[target].index\n",
    "cm = df[cols].corr()\n",
    "plt.figure(figsize=(10,6))\n",
    "sns.heatmap(cm, annot=True, cmap = 'viridis')\n",
    "plt.title('Correlation')\n",
    "plt.show()"
   ]
  },
  {
   "cell_type": "markdown",
   "metadata": {},
   "source": [
    "Through this heatmap it can be seen that 'lat', and 'lon' columns have relatively small correlation with the 'price' column, while 'bedrooms' has the highest."
   ]
  },
  {
   "cell_type": "markdown",
   "metadata": {},
   "source": [
    "> #### Removing Features"
   ]
  },
  {
   "cell_type": "markdown",
   "metadata": {},
   "source": [
    "- __Checking the Features:__"
   ]
  },
  {
   "cell_type": "code",
   "execution_count": 23,
   "metadata": {},
   "outputs": [
    {
     "data": {
      "text/plain": [
       "['datesold', 'suburb', 'propertyType', 'suburbid', 'postcode']"
      ]
     },
     "execution_count": 23,
     "metadata": {},
     "output_type": "execute_result"
    }
   ],
   "source": [
    "categorical_columns"
   ]
  },
  {
   "cell_type": "code",
   "execution_count": 24,
   "metadata": {},
   "outputs": [
    {
     "data": {
      "text/plain": [
       "['price', 'lat', 'lon', 'parking', 'bathrooms', 'bedrooms']"
      ]
     },
     "execution_count": 24,
     "metadata": {},
     "output_type": "execute_result"
    }
   ],
   "source": [
    "numerical_columns"
   ]
  },
  {
   "cell_type": "markdown",
   "metadata": {},
   "source": [
    "- __Removing 'datesold' and 'suburbid' features:__"
   ]
  },
  {
   "cell_type": "code",
   "execution_count": 25,
   "metadata": {},
   "outputs": [
    {
     "data": {
      "text/plain": [
       "pandas._libs.tslibs.timestamps.Timestamp"
      ]
     },
     "execution_count": 25,
     "metadata": {},
     "output_type": "execute_result"
    }
   ],
   "source": [
    "df['datesold'] = pd.to_datetime(df['datesold'])\n",
    "type(df['datesold'][0])  # checking"
   ]
  },
  {
   "cell_type": "code",
   "execution_count": 26,
   "metadata": {},
   "outputs": [
    {
     "data": {
      "text/plain": [
       "107"
      ]
     },
     "execution_count": 26,
     "metadata": {},
     "output_type": "execute_result"
    }
   ],
   "source": [
    "df['suburb'].nunique()  # checking 'suburb'"
   ]
  },
  {
   "cell_type": "code",
   "execution_count": 27,
   "metadata": {},
   "outputs": [],
   "source": [
    "# Removing data before 2007 because there are too many missing values\n",
    "\n",
    "df.drop(df[df['datesold'].dt.year<2007].index, inplace=True)"
   ]
  },
  {
   "cell_type": "code",
   "execution_count": 28,
   "metadata": {},
   "outputs": [
    {
     "data": {
      "text/plain": [
       "107"
      ]
     },
     "execution_count": 28,
     "metadata": {},
     "output_type": "execute_result"
    }
   ],
   "source": [
    "df['suburb'].nunique()  # checking 'suburb'"
   ]
  },
  {
   "cell_type": "code",
   "execution_count": 29,
   "metadata": {},
   "outputs": [
    {
     "name": "stdout",
     "output_type": "stream",
     "text": [
      "Number of unique values in 'suburb' column:  107\n",
      "Number of unique values in 'suburbid' column:  107\n"
     ]
    }
   ],
   "source": [
    "print(\"Number of unique values in 'suburb' column: \", df['suburb'].nunique())\n",
    "print(\"Number of unique values in 'suburbid' column: \", df['suburbid'].nunique())"
   ]
  },
  {
   "cell_type": "code",
   "execution_count": 30,
   "metadata": {},
   "outputs": [],
   "source": [
    "categorical_columns.remove('datesold')\n",
    "categorical_columns.remove('suburbid')"
   ]
  },
  {
   "cell_type": "code",
   "execution_count": 31,
   "metadata": {},
   "outputs": [
    {
     "data": {
      "text/plain": [
       "['suburb', 'propertyType', 'postcode']"
      ]
     },
     "execution_count": 31,
     "metadata": {},
     "output_type": "execute_result"
    }
   ],
   "source": [
    "categorical_columns"
   ]
  },
  {
   "cell_type": "markdown",
   "metadata": {},
   "source": [
    "'datesold' column is going to be dropped since this feature only beneficial for data analysis and visualization stages; and not in modelling phase. In addition, 'suburbid' feature is also going to be removed since it is just conveying the id of suburbs in 'suburb' column."
   ]
  },
  {
   "cell_type": "markdown",
   "metadata": {},
   "source": [
    "- __Removing 'postcode' feature:__"
   ]
  },
  {
   "cell_type": "code",
   "execution_count": 32,
   "metadata": {},
   "outputs": [
    {
     "name": "stdout",
     "output_type": "stream",
     "text": [
      "Number of unique values in 'suburb' column:  107\n",
      "Number of unique values in 'postcode' column:  32\n"
     ]
    }
   ],
   "source": [
    "print(\"Number of unique values in 'suburb' column: \", df['suburb'].nunique())\n",
    "print(\"Number of unique values in 'postcode' column: \", df['postcode'].nunique())"
   ]
  },
  {
   "cell_type": "code",
   "execution_count": 33,
   "metadata": {},
   "outputs": [],
   "source": [
    "categorical_columns.remove('postcode')"
   ]
  },
  {
   "cell_type": "code",
   "execution_count": 34,
   "metadata": {},
   "outputs": [
    {
     "data": {
      "text/plain": [
       "['suburb', 'propertyType']"
      ]
     },
     "execution_count": 34,
     "metadata": {},
     "output_type": "execute_result"
    }
   ],
   "source": [
    "categorical_columns"
   ]
  },
  {
   "cell_type": "markdown",
   "metadata": {},
   "source": [
    "At this stage, 'postcode' feature is going to be deleted since it covers Canberra area significantly wider than 'suburb' feature, thus it lacks precision. This machine learning model will rely on 'suburb' feature to categorize real estate properties which are being sold in Canberra."
   ]
  },
  {
   "cell_type": "markdown",
   "metadata": {},
   "source": [
    "- __Removing 'lat' and 'lon' features:__"
   ]
  },
  {
   "cell_type": "code",
   "execution_count": 35,
   "metadata": {},
   "outputs": [],
   "source": [
    "numerical_columns.remove('lat')\n",
    "numerical_columns.remove('lon')"
   ]
  },
  {
   "cell_type": "code",
   "execution_count": 36,
   "metadata": {},
   "outputs": [
    {
     "data": {
      "text/plain": [
       "['price', 'parking', 'bathrooms', 'bedrooms']"
      ]
     },
     "execution_count": 36,
     "metadata": {},
     "output_type": "execute_result"
    }
   ],
   "source": [
    "numerical_columns"
   ]
  },
  {
   "cell_type": "markdown",
   "metadata": {},
   "source": [
    "As 'lat' and 'lon' columns have low correlation values with 'price' column and this machine learning model is going to solely rely on 'suburb' as the main feature to categorize properties that are being sold in Canberra, both of them are going to be removed."
   ]
  },
  {
   "cell_type": "markdown",
   "metadata": {},
   "source": [
    "- __Updating Data Frame:__"
   ]
  },
  {
   "cell_type": "code",
   "execution_count": 37,
   "metadata": {},
   "outputs": [],
   "source": [
    "df_numerical = df[numerical_columns]\n",
    "df_categorical = df[categorical_columns]\n",
    "df = pd.concat([df_numerical, df_categorical], axis=1)"
   ]
  },
  {
   "cell_type": "code",
   "execution_count": 38,
   "metadata": {},
   "outputs": [
    {
     "data": {
      "text/html": [
       "<div>\n",
       "<style scoped>\n",
       "    .dataframe tbody tr th:only-of-type {\n",
       "        vertical-align: middle;\n",
       "    }\n",
       "\n",
       "    .dataframe tbody tr th {\n",
       "        vertical-align: top;\n",
       "    }\n",
       "\n",
       "    .dataframe thead th {\n",
       "        text-align: right;\n",
       "    }\n",
       "</style>\n",
       "<table border=\"1\" class=\"dataframe\">\n",
       "  <thead>\n",
       "    <tr style=\"text-align: right;\">\n",
       "      <th></th>\n",
       "      <th>price</th>\n",
       "      <th>parking</th>\n",
       "      <th>bathrooms</th>\n",
       "      <th>bedrooms</th>\n",
       "      <th>suburb</th>\n",
       "      <th>propertyType</th>\n",
       "    </tr>\n",
       "  </thead>\n",
       "  <tbody>\n",
       "    <tr>\n",
       "      <th>42</th>\n",
       "      <td>450000.0</td>\n",
       "      <td>2</td>\n",
       "      <td>2.0</td>\n",
       "      <td>3</td>\n",
       "      <td>Conder</td>\n",
       "      <td>house</td>\n",
       "    </tr>\n",
       "    <tr>\n",
       "      <th>43</th>\n",
       "      <td>525000.0</td>\n",
       "      <td>2</td>\n",
       "      <td>NaN</td>\n",
       "      <td>4</td>\n",
       "      <td>Pearce</td>\n",
       "      <td>house</td>\n",
       "    </tr>\n",
       "    <tr>\n",
       "      <th>44</th>\n",
       "      <td>250000.0</td>\n",
       "      <td>1</td>\n",
       "      <td>1.0</td>\n",
       "      <td>3</td>\n",
       "      <td>Isabella Plains</td>\n",
       "      <td>house</td>\n",
       "    </tr>\n",
       "  </tbody>\n",
       "</table>\n",
       "</div>"
      ],
      "text/plain": [
       "       price  parking  bathrooms  bedrooms           suburb propertyType\n",
       "42  450000.0        2        2.0         3           Conder        house\n",
       "43  525000.0        2        NaN         4           Pearce        house\n",
       "44  250000.0        1        1.0         3  Isabella Plains        house"
      ]
     },
     "execution_count": 38,
     "metadata": {},
     "output_type": "execute_result"
    }
   ],
   "source": [
    "df.head(3)"
   ]
  },
  {
   "cell_type": "markdown",
   "metadata": {},
   "source": [
    "> #### Removing Missing Values"
   ]
  },
  {
   "cell_type": "markdown",
   "metadata": {},
   "source": [
    "- __Removing Missing Values in 'price' column:__"
   ]
  },
  {
   "cell_type": "code",
   "execution_count": 39,
   "metadata": {},
   "outputs": [
    {
     "data": {
      "text/plain": [
       "price           743\n",
       "parking           0\n",
       "bathrooms       667\n",
       "bedrooms          0\n",
       "suburb            0\n",
       "propertyType      0\n",
       "dtype: int64"
      ]
     },
     "execution_count": 39,
     "metadata": {},
     "output_type": "execute_result"
    }
   ],
   "source": [
    "df.isna().sum()"
   ]
  },
  {
   "cell_type": "code",
   "execution_count": 40,
   "metadata": {},
   "outputs": [],
   "source": [
    "df.dropna(subset=['price'], inplace=True)"
   ]
  },
  {
   "cell_type": "code",
   "execution_count": 41,
   "metadata": {},
   "outputs": [
    {
     "data": {
      "text/plain": [
       "price             0\n",
       "parking           0\n",
       "bathrooms       646\n",
       "bedrooms          0\n",
       "suburb            0\n",
       "propertyType      0\n",
       "dtype: int64"
      ]
     },
     "execution_count": 41,
     "metadata": {},
     "output_type": "execute_result"
    }
   ],
   "source": [
    "df.isna().sum()"
   ]
  },
  {
   "cell_type": "markdown",
   "metadata": {},
   "source": [
    "Missing values in 'price' column are going to be dropped since this machine learning model is depended on the historical datas in this column. Furthermore, missing values that exist in 'bathrooms' feature will be   resolved later through pipeline."
   ]
  },
  {
   "cell_type": "markdown",
   "metadata": {},
   "source": [
    "## Machine Learning Modelling"
   ]
  },
  {
   "cell_type": "markdown",
   "metadata": {},
   "source": [
    "- __Determining the Dependent and Independent Features:__"
   ]
  },
  {
   "cell_type": "code",
   "execution_count": 42,
   "metadata": {},
   "outputs": [],
   "source": [
    "# Selecting features and target\n",
    "\n",
    "y = df['price']\n",
    "X = df.drop('price', axis=1)"
   ]
  },
  {
   "cell_type": "code",
   "execution_count": 43,
   "metadata": {},
   "outputs": [
    {
     "data": {
      "text/plain": [
       "42    450000.0\n",
       "43    525000.0\n",
       "44    250000.0\n",
       "45    350000.0\n",
       "46    290000.0\n",
       "Name: price, dtype: float64"
      ]
     },
     "execution_count": 43,
     "metadata": {},
     "output_type": "execute_result"
    }
   ],
   "source": [
    "y[:5]  # checking"
   ]
  },
  {
   "cell_type": "code",
   "execution_count": 44,
   "metadata": {},
   "outputs": [
    {
     "data": {
      "text/html": [
       "<div>\n",
       "<style scoped>\n",
       "    .dataframe tbody tr th:only-of-type {\n",
       "        vertical-align: middle;\n",
       "    }\n",
       "\n",
       "    .dataframe tbody tr th {\n",
       "        vertical-align: top;\n",
       "    }\n",
       "\n",
       "    .dataframe thead th {\n",
       "        text-align: right;\n",
       "    }\n",
       "</style>\n",
       "<table border=\"1\" class=\"dataframe\">\n",
       "  <thead>\n",
       "    <tr style=\"text-align: right;\">\n",
       "      <th></th>\n",
       "      <th>parking</th>\n",
       "      <th>bathrooms</th>\n",
       "      <th>bedrooms</th>\n",
       "      <th>suburb</th>\n",
       "      <th>propertyType</th>\n",
       "    </tr>\n",
       "  </thead>\n",
       "  <tbody>\n",
       "    <tr>\n",
       "      <th>42</th>\n",
       "      <td>2</td>\n",
       "      <td>2.0</td>\n",
       "      <td>3</td>\n",
       "      <td>Conder</td>\n",
       "      <td>house</td>\n",
       "    </tr>\n",
       "    <tr>\n",
       "      <th>43</th>\n",
       "      <td>2</td>\n",
       "      <td>NaN</td>\n",
       "      <td>4</td>\n",
       "      <td>Pearce</td>\n",
       "      <td>house</td>\n",
       "    </tr>\n",
       "    <tr>\n",
       "      <th>44</th>\n",
       "      <td>1</td>\n",
       "      <td>1.0</td>\n",
       "      <td>3</td>\n",
       "      <td>Isabella Plains</td>\n",
       "      <td>house</td>\n",
       "    </tr>\n",
       "    <tr>\n",
       "      <th>45</th>\n",
       "      <td>1</td>\n",
       "      <td>2.0</td>\n",
       "      <td>3</td>\n",
       "      <td>Gordon</td>\n",
       "      <td>house</td>\n",
       "    </tr>\n",
       "    <tr>\n",
       "      <th>46</th>\n",
       "      <td>1</td>\n",
       "      <td>1.0</td>\n",
       "      <td>3</td>\n",
       "      <td>Conder</td>\n",
       "      <td>house</td>\n",
       "    </tr>\n",
       "  </tbody>\n",
       "</table>\n",
       "</div>"
      ],
      "text/plain": [
       "    parking  bathrooms  bedrooms           suburb propertyType\n",
       "42        2        2.0         3           Conder        house\n",
       "43        2        NaN         4           Pearce        house\n",
       "44        1        1.0         3  Isabella Plains        house\n",
       "45        1        2.0         3           Gordon        house\n",
       "46        1        1.0         3           Conder        house"
      ]
     },
     "execution_count": 44,
     "metadata": {},
     "output_type": "execute_result"
    }
   ],
   "source": [
    "X.head()"
   ]
  },
  {
   "cell_type": "markdown",
   "metadata": {},
   "source": [
    "- __Splitting Training-validation Set and Test Set:__"
   ]
  },
  {
   "cell_type": "code",
   "execution_count": 45,
   "metadata": {},
   "outputs": [],
   "source": [
    "# Train test split\n",
    "\n",
    "X_train_val, X_test, y_train_val, y_test= train_test_split(X, y, random_state=2021, test_size=0.2)"
   ]
  },
  {
   "cell_type": "markdown",
   "metadata": {},
   "source": [
    "- __Updating Numerical and Categorical Columns:__"
   ]
  },
  {
   "cell_type": "code",
   "execution_count": 46,
   "metadata": {},
   "outputs": [],
   "source": [
    "numerical_columns = list(X.describe().columns)\n",
    "categorical_columns = list(X.describe(exclude='number').columns)"
   ]
  },
  {
   "cell_type": "code",
   "execution_count": 47,
   "metadata": {},
   "outputs": [
    {
     "data": {
      "text/plain": [
       "['parking', 'bathrooms', 'bedrooms']"
      ]
     },
     "execution_count": 47,
     "metadata": {},
     "output_type": "execute_result"
    }
   ],
   "source": [
    "numerical_columns"
   ]
  },
  {
   "cell_type": "code",
   "execution_count": 48,
   "metadata": {},
   "outputs": [
    {
     "data": {
      "text/plain": [
       "['suburb', 'propertyType']"
      ]
     },
     "execution_count": 48,
     "metadata": {},
     "output_type": "execute_result"
    }
   ],
   "source": [
    "categorical_columns"
   ]
  },
  {
   "cell_type": "markdown",
   "metadata": {},
   "source": [
    "> ## Parametric Benchmark Model"
   ]
  },
  {
   "cell_type": "markdown",
   "metadata": {},
   "source": [
    "- __Creating a Multiple Linear Regression Model:__"
   ]
  },
  {
   "cell_type": "code",
   "execution_count": 49,
   "metadata": {},
   "outputs": [
    {
     "data": {
      "text/plain": [
       "price             0\n",
       "parking           0\n",
       "bathrooms       646\n",
       "bedrooms          0\n",
       "suburb            0\n",
       "propertyType      0\n",
       "dtype: int64"
      ]
     },
     "execution_count": 49,
     "metadata": {},
     "output_type": "execute_result"
    }
   ],
   "source": [
    "df.isna().sum()  # checking"
   ]
  },
  {
   "cell_type": "code",
   "execution_count": 50,
   "metadata": {},
   "outputs": [],
   "source": [
    "# Creating a simple imputer pipeline\n",
    "# imputing missing values in 'bathrooms' column with median resulting in little to no difference in 'bathrooms' standard deviation\n",
    "numerical_pipeline = Pipeline([\n",
    "    ('impute_num', SimpleImputer(strategy='median')),\n",
    "    ('robust', RobustScaler())  # robust to outliers\n",
    "])\n",
    "\n",
    "# Creating a binary encoder pipeline\n",
    "binary_pipeline = Pipeline([\n",
    "    ('binary', ce.BinaryEncoder())\n",
    "])\n",
    "\n",
    "# Creating a onehot encoder pipeline\n",
    "onehot_pipeline = Pipeline([\n",
    "    ('onehot', OneHotEncoder(drop='first'))\n",
    "])\n",
    "\n",
    "# Creating a columns transformer\n",
    "transformer_mlr = ColumnTransformer([\n",
    "    ('impute_pipe', numerical_pipeline, numerical_columns), \n",
    "    ('onehot_pipe', onehot_pipeline, ['propertyType']),  \n",
    "    ('binary_pipe', binary_pipeline, ['suburb'])\n",
    "], remainder='passthrough')"
   ]
  },
  {
   "cell_type": "code",
   "execution_count": 51,
   "metadata": {},
   "outputs": [],
   "source": [
    "X_train_val_transform = transformer_mlr.fit_transform(X_train_val, y_train_val)\n",
    "X_test_transform = transformer_mlr.transform(X_test)"
   ]
  },
  {
   "cell_type": "code",
   "execution_count": 52,
   "metadata": {},
   "outputs": [
    {
     "data": {
      "text/plain": [
       "array([[-1., -1.,  0., ...,  0.,  0.,  1.],\n",
       "       [-1.,  0.,  1., ...,  0.,  1.,  0.],\n",
       "       [-1.,  0.,  0., ...,  0.,  1.,  1.],\n",
       "       ...,\n",
       "       [ 0.,  0.,  1., ...,  1.,  0.,  0.],\n",
       "       [-1., -1.,  0., ...,  0.,  0.,  0.],\n",
       "       [-1.,  1., -1., ...,  1.,  1.,  0.]])"
      ]
     },
     "execution_count": 52,
     "metadata": {},
     "output_type": "execute_result"
    }
   ],
   "source": [
    "X_train_val_transform  # checking"
   ]
  },
  {
   "cell_type": "code",
   "execution_count": 53,
   "metadata": {},
   "outputs": [
    {
     "data": {
      "text/plain": [
       "array([[ 4.,  0.,  3., ...,  1.,  0.,  1.],\n",
       "       [ 1.,  0.,  1., ...,  0.,  1.,  1.],\n",
       "       [ 0.,  0.,  1., ...,  1.,  1.,  0.],\n",
       "       ...,\n",
       "       [-1., -1.,  0., ...,  0.,  1.,  0.],\n",
       "       [-1.,  0.,  0., ...,  1.,  1.,  0.],\n",
       "       [ 0.,  0.,  1., ...,  1.,  1.,  0.]])"
      ]
     },
     "execution_count": 53,
     "metadata": {},
     "output_type": "execute_result"
    }
   ],
   "source": [
    "X_test_transform  # checking"
   ]
  },
  {
   "cell_type": "code",
   "execution_count": 54,
   "metadata": {},
   "outputs": [],
   "source": [
    "x = sm.add_constant(X_train_val_transform)\n",
    "results = sm.OLS(y_train_val, x).fit()"
   ]
  },
  {
   "cell_type": "code",
   "execution_count": 55,
   "metadata": {},
   "outputs": [
    {
     "data": {
      "text/html": [
       "<table class=\"simpletable\">\n",
       "<caption>OLS Regression Results</caption>\n",
       "<tr>\n",
       "  <th>Dep. Variable:</th>          <td>price</td>      <th>  R-squared:         </th>  <td>   0.250</td>  \n",
       "</tr>\n",
       "<tr>\n",
       "  <th>Model:</th>                   <td>OLS</td>       <th>  Adj. R-squared:    </th>  <td>   0.250</td>  \n",
       "</tr>\n",
       "<tr>\n",
       "  <th>Method:</th>             <td>Least Squares</td>  <th>  F-statistic:       </th>  <td>   1030.</td>  \n",
       "</tr>\n",
       "<tr>\n",
       "  <th>Date:</th>             <td>Wed, 17 Feb 2021</td> <th>  Prob (F-statistic):</th>   <td>  0.00</td>   \n",
       "</tr>\n",
       "<tr>\n",
       "  <th>Time:</th>                 <td>22:24:43</td>     <th>  Log-Likelihood:    </th> <td>-4.7248e+05</td>\n",
       "</tr>\n",
       "<tr>\n",
       "  <th>No. Observations:</th>      <td> 33914</td>      <th>  AIC:               </th>  <td>9.450e+05</td> \n",
       "</tr>\n",
       "<tr>\n",
       "  <th>Df Residuals:</th>          <td> 33902</td>      <th>  BIC:               </th>  <td>9.451e+05</td> \n",
       "</tr>\n",
       "<tr>\n",
       "  <th>Df Model:</th>              <td>    11</td>      <th>                     </th>      <td> </td>     \n",
       "</tr>\n",
       "<tr>\n",
       "  <th>Covariance Type:</th>      <td>nonrobust</td>    <th>                     </th>      <td> </td>     \n",
       "</tr>\n",
       "</table>\n",
       "<table class=\"simpletable\">\n",
       "<tr>\n",
       "    <td></td>       <th>coef</th>     <th>std err</th>      <th>t</th>      <th>P>|t|</th>  <th>[0.025</th>    <th>0.975]</th>  \n",
       "</tr>\n",
       "<tr>\n",
       "  <th>const</th> <td> 5.494e+05</td> <td> 4510.902</td> <td>  121.784</td> <td> 0.000</td> <td> 5.41e+05</td> <td> 5.58e+05</td>\n",
       "</tr>\n",
       "<tr>\n",
       "  <th>x1</th>    <td> 2.098e+04</td> <td> 1699.837</td> <td>   12.342</td> <td> 0.000</td> <td> 1.76e+04</td> <td> 2.43e+04</td>\n",
       "</tr>\n",
       "<tr>\n",
       "  <th>x2</th>    <td>  6.11e+04</td> <td> 2508.290</td> <td>   24.360</td> <td> 0.000</td> <td> 5.62e+04</td> <td>  6.6e+04</td>\n",
       "</tr>\n",
       "<tr>\n",
       "  <th>x3</th>    <td> 1.371e+05</td> <td> 2070.622</td> <td>   66.229</td> <td> 0.000</td> <td> 1.33e+05</td> <td> 1.41e+05</td>\n",
       "</tr>\n",
       "<tr>\n",
       "  <th>x4</th>    <td> 5.463e+04</td> <td> 5068.661</td> <td>   10.779</td> <td> 0.000</td> <td> 4.47e+04</td> <td> 6.46e+04</td>\n",
       "</tr>\n",
       "<tr>\n",
       "  <th>x5</th>    <td>-1.443e-12</td> <td> 1.81e-12</td> <td>   -0.797</td> <td> 0.426</td> <td>-4.99e-12</td> <td> 2.11e-12</td>\n",
       "</tr>\n",
       "<tr>\n",
       "  <th>x6</th>    <td> 3.238e+04</td> <td> 3503.079</td> <td>    9.244</td> <td> 0.000</td> <td> 2.55e+04</td> <td> 3.92e+04</td>\n",
       "</tr>\n",
       "<tr>\n",
       "  <th>x7</th>    <td> 1.005e+04</td> <td> 3293.860</td> <td>    3.051</td> <td> 0.002</td> <td> 3592.810</td> <td> 1.65e+04</td>\n",
       "</tr>\n",
       "<tr>\n",
       "  <th>x8</th>    <td>-9016.4322</td> <td> 3086.854</td> <td>   -2.921</td> <td> 0.003</td> <td>-1.51e+04</td> <td>-2966.094</td>\n",
       "</tr>\n",
       "<tr>\n",
       "  <th>x9</th>    <td> 2.597e+04</td> <td> 2988.302</td> <td>    8.690</td> <td> 0.000</td> <td> 2.01e+04</td> <td> 3.18e+04</td>\n",
       "</tr>\n",
       "<tr>\n",
       "  <th>x10</th>   <td> 1.552e+04</td> <td> 2987.680</td> <td>    5.195</td> <td> 0.000</td> <td> 9663.928</td> <td> 2.14e+04</td>\n",
       "</tr>\n",
       "<tr>\n",
       "  <th>x11</th>   <td> 4.766e+04</td> <td> 2972.180</td> <td>   16.037</td> <td> 0.000</td> <td> 4.18e+04</td> <td> 5.35e+04</td>\n",
       "</tr>\n",
       "<tr>\n",
       "  <th>x12</th>   <td>-1.072e+04</td> <td> 2984.302</td> <td>   -3.591</td> <td> 0.000</td> <td>-1.66e+04</td> <td>-4866.439</td>\n",
       "</tr>\n",
       "</table>\n",
       "<table class=\"simpletable\">\n",
       "<tr>\n",
       "  <th>Omnibus:</th>       <td>33719.785</td> <th>  Durbin-Watson:     </th>  <td>   2.009</td>  \n",
       "</tr>\n",
       "<tr>\n",
       "  <th>Prob(Omnibus):</th>  <td> 0.000</td>   <th>  Jarque-Bera (JB):  </th> <td>4171387.197</td>\n",
       "</tr>\n",
       "<tr>\n",
       "  <th>Skew:</th>           <td> 4.605</td>   <th>  Prob(JB):          </th>  <td>    0.00</td>  \n",
       "</tr>\n",
       "<tr>\n",
       "  <th>Kurtosis:</th>       <td>56.546</td>   <th>  Cond. No.          </th>  <td>2.57e+17</td>  \n",
       "</tr>\n",
       "</table><br/><br/>Warnings:<br/>[1] Standard Errors assume that the covariance matrix of the errors is correctly specified.<br/>[2] The smallest eigenvalue is 1.43e-30. This might indicate that there are<br/>strong multicollinearity problems or that the design matrix is singular."
      ],
      "text/plain": [
       "<class 'statsmodels.iolib.summary.Summary'>\n",
       "\"\"\"\n",
       "                            OLS Regression Results                            \n",
       "==============================================================================\n",
       "Dep. Variable:                  price   R-squared:                       0.250\n",
       "Model:                            OLS   Adj. R-squared:                  0.250\n",
       "Method:                 Least Squares   F-statistic:                     1030.\n",
       "Date:                Wed, 17 Feb 2021   Prob (F-statistic):               0.00\n",
       "Time:                        22:24:43   Log-Likelihood:            -4.7248e+05\n",
       "No. Observations:               33914   AIC:                         9.450e+05\n",
       "Df Residuals:                   33902   BIC:                         9.451e+05\n",
       "Df Model:                          11                                         \n",
       "Covariance Type:            nonrobust                                         \n",
       "==============================================================================\n",
       "                 coef    std err          t      P>|t|      [0.025      0.975]\n",
       "------------------------------------------------------------------------------\n",
       "const       5.494e+05   4510.902    121.784      0.000    5.41e+05    5.58e+05\n",
       "x1          2.098e+04   1699.837     12.342      0.000    1.76e+04    2.43e+04\n",
       "x2           6.11e+04   2508.290     24.360      0.000    5.62e+04     6.6e+04\n",
       "x3          1.371e+05   2070.622     66.229      0.000    1.33e+05    1.41e+05\n",
       "x4          5.463e+04   5068.661     10.779      0.000    4.47e+04    6.46e+04\n",
       "x5         -1.443e-12   1.81e-12     -0.797      0.426   -4.99e-12    2.11e-12\n",
       "x6          3.238e+04   3503.079      9.244      0.000    2.55e+04    3.92e+04\n",
       "x7          1.005e+04   3293.860      3.051      0.002    3592.810    1.65e+04\n",
       "x8         -9016.4322   3086.854     -2.921      0.003   -1.51e+04   -2966.094\n",
       "x9          2.597e+04   2988.302      8.690      0.000    2.01e+04    3.18e+04\n",
       "x10         1.552e+04   2987.680      5.195      0.000    9663.928    2.14e+04\n",
       "x11         4.766e+04   2972.180     16.037      0.000    4.18e+04    5.35e+04\n",
       "x12        -1.072e+04   2984.302     -3.591      0.000   -1.66e+04   -4866.439\n",
       "==============================================================================\n",
       "Omnibus:                    33719.785   Durbin-Watson:                   2.009\n",
       "Prob(Omnibus):                  0.000   Jarque-Bera (JB):          4171387.197\n",
       "Skew:                           4.605   Prob(JB):                         0.00\n",
       "Kurtosis:                      56.546   Cond. No.                     2.57e+17\n",
       "==============================================================================\n",
       "\n",
       "Warnings:\n",
       "[1] Standard Errors assume that the covariance matrix of the errors is correctly specified.\n",
       "[2] The smallest eigenvalue is 1.43e-30. This might indicate that there are\n",
       "strong multicollinearity problems or that the design matrix is singular.\n",
       "\"\"\""
      ]
     },
     "execution_count": 55,
     "metadata": {},
     "output_type": "execute_result"
    }
   ],
   "source": [
    "results.summary()"
   ]
  },
  {
   "cell_type": "markdown",
   "metadata": {},
   "source": [
    "- __Checking the Distribution of the Residuals:__"
   ]
  },
  {
   "cell_type": "code",
   "execution_count": 56,
   "metadata": {},
   "outputs": [
    {
     "data": {
      "image/png": "[encoded data removed]",
      "text/plain": [
       "<Figure size 720x720 with 1 Axes>"
      ]
     },
     "metadata": {},
     "output_type": "display_data"
    }
   ],
   "source": [
    "plt.figure(figsize=(10,10))\n",
    "sns.distplot(results.resid)\n",
    "plt.xlabel('Residuals')\n",
    "plt.show()"
   ]
  },
  {
   "cell_type": "code",
   "execution_count": 57,
   "metadata": {},
   "outputs": [
    {
     "data": {
      "image/png": "[encoded data removed]",
      "text/plain": [
       "<Figure size 432x288 with 1 Axes>"
      ]
     },
     "metadata": {},
     "output_type": "display_data"
    }
   ],
   "source": [
    "sm.qqplot(results.resid, line='45', alpha=0.5)\n",
    "plt.show()"
   ]
  },
  {
   "cell_type": "markdown",
   "metadata": {},
   "source": [
    "The residuals are not normally distributed. The metric that is going to be used for scoring the machine learning models is 'Mean Absolute Error' (MAE), since there are a lot of outliers."
   ]
  },
  {
   "cell_type": "markdown",
   "metadata": {},
   "source": [
    "- __Residual Analysis: Gauss-Markov__"
   ]
  },
  {
   "cell_type": "code",
   "execution_count": 58,
   "metadata": {},
   "outputs": [
    {
     "data": {
      "image/png": "[encoded data removed]",
      "text/plain": [
       "<Figure size 720x720 with 1 Axes>"
      ]
     },
     "metadata": {},
     "output_type": "display_data"
    }
   ],
   "source": [
    "plt.figure(figsize=(10,10))\n",
    "sns.scatterplot(results.fittedvalues, results.resid, alpha=0.5)\n",
    "sns.lineplot(results.fittedvalues, 0)\n",
    "plt.xlabel('Fitted Values')\n",
    "plt.ylabel('Residuals')\n",
    "plt.show()"
   ]
  },
  {
   "cell_type": "markdown",
   "metadata": {},
   "source": [
    "__Non-constant standard deviation__ - Residuals that show an increasing trend.\n",
    "\n",
    "It is not possible to use a parametric method in this machine learning model, since there is a violation in Gauss Markov rule."
   ]
  },
  {
   "cell_type": "markdown",
   "metadata": {},
   "source": [
    "> ## Non-parametric Benchmark Model"
   ]
  },
  {
   "cell_type": "code",
   "execution_count": 59,
   "metadata": {},
   "outputs": [
    {
     "data": {
      "text/plain": [
       "dict_keys(['explained_variance', 'r2', 'max_error', 'neg_median_absolute_error', 'neg_mean_absolute_error', 'neg_mean_squared_error', 'neg_mean_squared_log_error', 'neg_root_mean_squared_error', 'neg_mean_poisson_deviance', 'neg_mean_gamma_deviance', 'accuracy', 'roc_auc', 'roc_auc_ovr', 'roc_auc_ovo', 'roc_auc_ovr_weighted', 'roc_auc_ovo_weighted', 'balanced_accuracy', 'average_precision', 'neg_log_loss', 'neg_brier_score', 'adjusted_rand_score', 'homogeneity_score', 'completeness_score', 'v_measure_score', 'mutual_info_score', 'adjusted_mutual_info_score', 'normalized_mutual_info_score', 'fowlkes_mallows_score', 'precision', 'precision_macro', 'precision_micro', 'precision_samples', 'precision_weighted', 'recall', 'recall_macro', 'recall_micro', 'recall_samples', 'recall_weighted', 'f1', 'f1_macro', 'f1_micro', 'f1_samples', 'f1_weighted', 'jaccard', 'jaccard_macro', 'jaccard_micro', 'jaccard_samples', 'jaccard_weighted'])"
      ]
     },
     "execution_count": 59,
     "metadata": {},
     "output_type": "execute_result"
    }
   ],
   "source": [
    "sklearn.metrics.SCORERS.keys() "
   ]
  },
  {
   "cell_type": "markdown",
   "metadata": {},
   "source": [
    "- __Creating a Decision Tree Regressor Benchmark Model:__"
   ]
  },
  {
   "cell_type": "code",
   "execution_count": 60,
   "metadata": {},
   "outputs": [],
   "source": [
    "# Scoring: mean absolute error\n",
    "\n",
    "dtr = DecisionTreeRegressor(max_depth=6, criterion='mae', random_state=2021)"
   ]
  },
  {
   "cell_type": "code",
   "execution_count": 61,
   "metadata": {},
   "outputs": [],
   "source": [
    "# imputing missing values in 'bathrooms' column with median resulting in little to no difference in 'bathrooms' standard deviation\n",
    "\n",
    "# Creating a columns transformer\n",
    "transformer_dtr = ColumnTransformer([\n",
    "    ('impute_num', SimpleImputer(strategy='median'), numerical_columns), \n",
    "    ('onehot', OneHotEncoder(drop='first'), ['propertyType']),  \n",
    "    ('binary', ce.BinaryEncoder(), ['suburb'])    \n",
    "], remainder='passthrough')\n",
    "\n",
    "# Creating a pipeline for DTR benchmark model\n",
    "pipe_dtr_bench = Pipeline([\n",
    "    ('transformer', transformer_dtr),\n",
    "    ('reg', dtr)\n",
    "])"
   ]
  },
  {
   "cell_type": "code",
   "execution_count": 62,
   "metadata": {},
   "outputs": [
    {
     "name": "stdout",
     "output_type": "stream",
     "text": [
      "CV Decision Tree Regressor Benchmark: [-137564.61713106 -143645.73050273 -141731.51835471 -145000.31903288\n",
      " -140208.51961073]\n",
      "CV Decision Tree Regressor Benchmark Mean: -141630.14092642226\n"
     ]
    }
   ],
   "source": [
    "# Scoring: neg_mean_absolute_error\n",
    "# There is to many outliers in residuals\n",
    "# This metric is negatively-oriented scores, which means lower value is better\n",
    "\n",
    "skfold = StratifiedKFold(n_splits = 5, random_state=2021, shuffle=True)\n",
    "dtr_bench_cv = cross_val_score(pipe_dtr_bench, X_train_val, y_train_val, cv=skfold, scoring='neg_mean_absolute_error')\n",
    "print('CV Decision Tree Regressor Benchmark:', dtr_bench_cv)\n",
    "print('CV Decision Tree Regressor Benchmark Mean:', dtr_bench_cv.mean())"
   ]
  },
  {
   "cell_type": "markdown",
   "metadata": {},
   "source": [
    "- __Creating a XG Boost Regressor Benchmark Model:__"
   ]
  },
  {
   "cell_type": "code",
   "execution_count": 63,
   "metadata": {},
   "outputs": [],
   "source": [
    "xgbr = xgb.XGBRegressor(max_depth=6, random_state=2021, n_jobs=-1)"
   ]
  },
  {
   "cell_type": "code",
   "execution_count": 64,
   "metadata": {},
   "outputs": [],
   "source": [
    "# imputing missing values in 'bathrooms' column with median resulting in little to no difference in 'bathrooms' standard deviation\n",
    "\n",
    "# Creating a columns transformer\n",
    "transformer_xgbr = ColumnTransformer([\n",
    "    ('impute_num', SimpleImputer(strategy='median'), numerical_columns), \n",
    "    ('onehot', OneHotEncoder(drop='first'), ['propertyType']),  \n",
    "    ('binary', ce.BinaryEncoder(), ['suburb'])    \n",
    "], remainder='passthrough')\n",
    "\n",
    "# Creating a pipeline for XGBR benchmark model\n",
    "pipe_xgbr_bench = Pipeline([\n",
    "    ('transformer', transformer_xgbr),\n",
    "    ('reg', xgbr)\n",
    "])"
   ]
  },
  {
   "cell_type": "code",
   "execution_count": 65,
   "metadata": {},
   "outputs": [
    {
     "name": "stdout",
     "output_type": "stream",
     "text": [
      "CV XG Boost Regressor Benchmark: [-111943.0796154  -113865.2011497  -113087.33251096 -113743.70923978\n",
      " -110808.85246159]\n",
      "CV XG Boost Regressor Benchmark Mean: -112689.63499548852\n"
     ]
    }
   ],
   "source": [
    "# Scoring: neg_mean_absolute_error\n",
    "# There is to many outliers in residuals\n",
    "# This metric is negatively-oriented scores, which means lower value is better\n",
    "\n",
    "skfold = StratifiedKFold(n_splits = 5, random_state=2021, shuffle=True)\n",
    "xgbr_bench_cv = cross_val_score(pipe_xgbr_bench, X_train_val, y_train_val, cv=skfold, scoring='neg_mean_absolute_error')\n",
    "print('CV XG Boost Regressor Benchmark:', xgbr_bench_cv)\n",
    "print('CV XG Boost Regressor Benchmark Mean:', xgbr_bench_cv.mean())"
   ]
  },
  {
   "cell_type": "markdown",
   "metadata": {},
   "source": [
    "- __Creating a Gradient Boosting Regressor Benchmark Model:__"
   ]
  },
  {
   "cell_type": "code",
   "execution_count": 66,
   "metadata": {},
   "outputs": [],
   "source": [
    "gbr= GradientBoostingRegressor(max_depth=6, random_state=2021)"
   ]
  },
  {
   "cell_type": "code",
   "execution_count": 67,
   "metadata": {},
   "outputs": [],
   "source": [
    "# imputing missing values in 'bathrooms' column with median resulting in little to no difference in 'bathrooms' standard deviation\n",
    "\n",
    "# Creating a columns transformer\n",
    "transformer_gbr = ColumnTransformer([\n",
    "    ('impute_num', SimpleImputer(strategy='median'), numerical_columns), \n",
    "    ('onehot', OneHotEncoder(drop='first'), ['propertyType']),  \n",
    "    ('binary', ce.BinaryEncoder(), ['suburb'])    \n",
    "], remainder='passthrough')\n",
    "\n",
    "# Creating a pipeline for GBR benchmark model\n",
    "pipe_gbr_bench = Pipeline([\n",
    "    ('transformer', transformer_gbr),\n",
    "    ('reg', gbr)\n",
    "])"
   ]
  },
  {
   "cell_type": "code",
   "execution_count": 68,
   "metadata": {},
   "outputs": [
    {
     "name": "stdout",
     "output_type": "stream",
     "text": [
      "CV XG Boost Regressor Benchmark: [-117605.92891272 -120804.4953183  -120185.13092868 -124919.03646217\n",
      " -124407.21013676]\n",
      "CV XG Boost Regressor Benchmark Mean: -121584.36035172586\n"
     ]
    }
   ],
   "source": [
    "# Scoring: neg_mean_absolute_error\n",
    "# There is to many outliers in residuals\n",
    "# This metric is negatively-oriented scores, which means lower value is better\n",
    "\n",
    "skfold = StratifiedKFold(n_splits = 5, random_state=2021, shuffle=True)\n",
    "gbr_bench_cv = cross_val_score(pipe_gbr_bench, X_train_val, y_train_val, cv=skfold, scoring='neg_mean_absolute_error')\n",
    "print('CV XG Boost Regressor Benchmark:', gbr_bench_cv)\n",
    "print('CV XG Boost Regressor Benchmark Mean:', gbr_bench_cv.mean())"
   ]
  },
  {
   "cell_type": "markdown",
   "metadata": {},
   "source": [
    "- __Conclusion:__\n",
    "In the benchmark modelling phase, XG Boosting benchmark model is the best machine learning model compared to others. The scoring method that is used to determine the best model is 'Mean Absolute Error' (MAE). This metric is negatively-oriented scores, which means lower value is better"
   ]
  },
  {
   "cell_type": "markdown",
   "metadata": {},
   "source": [
    "> ## Non-parametric Tuned Model"
   ]
  },
  {
   "cell_type": "markdown",
   "metadata": {},
   "source": [
    "- __Creating a Decision Tree Regressor Tuned Model:__"
   ]
  },
  {
   "cell_type": "code",
   "execution_count": 69,
   "metadata": {},
   "outputs": [],
   "source": [
    "# imputing missing values in 'bathrooms' column with median resulting in little to no difference in 'bathrooms' standard deviation\n",
    "\n",
    "# Creating a columns transformer\n",
    "transformer_dtr = ColumnTransformer([\n",
    "    ('impute_num', SimpleImputer(strategy='median'), numerical_columns), \n",
    "    ('onehot', OneHotEncoder(drop='first'), ['propertyType']),  \n",
    "    ('binary', ce.BinaryEncoder(), ['suburb'])    \n",
    "], remainder='passthrough')\n",
    "\n",
    "# Creating a pipeline for DTR tuned model\n",
    "pipe_dtr_tuned = Pipeline([\n",
    "    ('transformer', transformer_dtr),\n",
    "    ('reg', dtr)\n",
    "])"
   ]
  },
  {
   "cell_type": "code",
   "execution_count": 70,
   "metadata": {},
   "outputs": [
    {
     "data": {
      "text/plain": [
       "{'memory': None,\n",
       " 'steps': [('transformer',\n",
       "   ColumnTransformer(remainder='passthrough',\n",
       "                     transformers=[('impute_num', SimpleImputer(strategy='median'),\n",
       "                                    ['parking', 'bathrooms', 'bedrooms']),\n",
       "                                   ('onehot', OneHotEncoder(drop='first'),\n",
       "                                    ['propertyType']),\n",
       "                                   ('binary', BinaryEncoder(), ['suburb'])])),\n",
       "  ('reg',\n",
       "   DecisionTreeRegressor(criterion='mae', max_depth=6, random_state=2021))],\n",
       " 'verbose': False,\n",
       " 'transformer': ColumnTransformer(remainder='passthrough',\n",
       "                   transformers=[('impute_num', SimpleImputer(strategy='median'),\n",
       "                                  ['parking', 'bathrooms', 'bedrooms']),\n",
       "                                 ('onehot', OneHotEncoder(drop='first'),\n",
       "                                  ['propertyType']),\n",
       "                                 ('binary', BinaryEncoder(), ['suburb'])]),\n",
       " 'reg': DecisionTreeRegressor(criterion='mae', max_depth=6, random_state=2021),\n",
       " 'transformer__n_jobs': None,\n",
       " 'transformer__remainder': 'passthrough',\n",
       " 'transformer__sparse_threshold': 0.3,\n",
       " 'transformer__transformer_weights': None,\n",
       " 'transformer__transformers': [('impute_num',\n",
       "   SimpleImputer(strategy='median'),\n",
       "   ['parking', 'bathrooms', 'bedrooms']),\n",
       "  ('onehot', OneHotEncoder(drop='first'), ['propertyType']),\n",
       "  ('binary', BinaryEncoder(), ['suburb'])],\n",
       " 'transformer__verbose': False,\n",
       " 'transformer__impute_num': SimpleImputer(strategy='median'),\n",
       " 'transformer__onehot': OneHotEncoder(drop='first'),\n",
       " 'transformer__binary': BinaryEncoder(),\n",
       " 'transformer__impute_num__add_indicator': False,\n",
       " 'transformer__impute_num__copy': True,\n",
       " 'transformer__impute_num__fill_value': None,\n",
       " 'transformer__impute_num__missing_values': nan,\n",
       " 'transformer__impute_num__strategy': 'median',\n",
       " 'transformer__impute_num__verbose': 0,\n",
       " 'transformer__onehot__categories': 'auto',\n",
       " 'transformer__onehot__drop': 'first',\n",
       " 'transformer__onehot__dtype': numpy.float64,\n",
       " 'transformer__onehot__handle_unknown': 'error',\n",
       " 'transformer__onehot__sparse': True,\n",
       " 'transformer__binary__cols': None,\n",
       " 'transformer__binary__drop_invariant': False,\n",
       " 'transformer__binary__handle_missing': 'value',\n",
       " 'transformer__binary__handle_unknown': 'value',\n",
       " 'transformer__binary__mapping': None,\n",
       " 'transformer__binary__return_df': True,\n",
       " 'transformer__binary__verbose': 0,\n",
       " 'reg__ccp_alpha': 0.0,\n",
       " 'reg__criterion': 'mae',\n",
       " 'reg__max_depth': 6,\n",
       " 'reg__max_features': None,\n",
       " 'reg__max_leaf_nodes': None,\n",
       " 'reg__min_impurity_decrease': 0.0,\n",
       " 'reg__min_impurity_split': None,\n",
       " 'reg__min_samples_leaf': 1,\n",
       " 'reg__min_samples_split': 2,\n",
       " 'reg__min_weight_fraction_leaf': 0.0,\n",
       " 'reg__presort': 'deprecated',\n",
       " 'reg__random_state': 2021,\n",
       " 'reg__splitter': 'best'}"
      ]
     },
     "execution_count": 70,
     "metadata": {},
     "output_type": "execute_result"
    }
   ],
   "source": [
    "pipe_dtr_tuned.get_params()"
   ]
  },
  {
   "cell_type": "code",
   "execution_count": 72,
   "metadata": {},
   "outputs": [
    {
     "name": "stdout",
     "output_type": "stream",
     "text": [
      "Fitting 5 folds for each of 75 candidates, totalling 375 fits\n"
     ]
    },
    {
     "name": "stderr",
     "output_type": "stream",
     "text": [
      "[Parallel(n_jobs=-1)]: Using backend LokyBackend with 16 concurrent workers.\n",
      "[Parallel(n_jobs=-1)]: Done  18 tasks      | elapsed:    3.5s\n",
      "[Parallel(n_jobs=-1)]: Done 168 tasks      | elapsed:  2.9min\n",
      "[Parallel(n_jobs=-1)]: Done 375 out of 375 | elapsed:  6.4min finished\n"
     ]
    },
    {
     "data": {
      "text/plain": [
       "GridSearchCV(cv=StratifiedKFold(n_splits=5, random_state=2021, shuffle=True),\n",
       "             estimator=Pipeline(steps=[('transformer',\n",
       "                                        ColumnTransformer(remainder='passthrough',\n",
       "                                                          transformers=[('impute_num',\n",
       "                                                                         SimpleImputer(strategy='median'),\n",
       "                                                                         ['parking',\n",
       "                                                                          'bathrooms',\n",
       "                                                                          'bedrooms']),\n",
       "                                                                        ('onehot',\n",
       "                                                                         OneHotEncoder(drop='first'),\n",
       "                                                                         ['propertyType']),\n",
       "                                                                        ('binary',\n",
       "                                                                         BinaryEncoder(),\n",
       "                                                                         ['suburb'])])),\n",
       "                                       ('reg',\n",
       "                                        DecisionTreeRegressor(criterion='mae',\n",
       "                                                              max_depth=6,\n",
       "                                                              random_state=2021))]),\n",
       "             n_jobs=-1,\n",
       "             param_grid={'reg__criterion': ['mse', 'mae', 'friedman_mse'],\n",
       "                         'reg__max_depth': [6, 10, 14, 18, 22],\n",
       "                         'reg__min_samples_split': [2, 3, 4, 5, 6]},\n",
       "             scoring='neg_mean_absolute_error', verbose=1)"
      ]
     },
     "execution_count": 72,
     "metadata": {},
     "output_type": "execute_result"
    }
   ],
   "source": [
    "# DTR Tuned\n",
    "\n",
    "hyperparam_space_dtr = {\n",
    "    'reg__max_depth': [6, 10, 14, 18, 22],\n",
    "    'reg__min_samples_split': [2, 3, 4, 5, 6],\n",
    "    'reg__criterion': ['mse', 'mae', 'friedman_mse']\n",
    "}\n",
    "\n",
    "skfold = StratifiedKFold(n_splits=5, random_state=2021, shuffle=True)\n",
    "gridsearch_dtr = GridSearchCV(\n",
    "    pipe_dtr_tuned,\n",
    "    param_grid = hyperparam_space_dtr,\n",
    "    cv = skfold,\n",
    "    scoring = 'neg_mean_absolute_error',\n",
    "    n_jobs =-1,\n",
    "    verbose=1\n",
    ")\n",
    "\n",
    "gridsearch_dtr.fit(X_train_val, y_train_val)"
   ]
  },
  {
   "cell_type": "code",
   "execution_count": 73,
   "metadata": {},
   "outputs": [
    {
     "name": "stdout",
     "output_type": "stream",
     "text": [
      "Best DTR Tuned Model:  Pipeline(steps=[('transformer',\n",
      "                 ColumnTransformer(remainder='passthrough',\n",
      "                                   transformers=[('impute_num',\n",
      "                                                  SimpleImputer(strategy='median'),\n",
      "                                                  ['parking', 'bathrooms',\n",
      "                                                   'bedrooms']),\n",
      "                                                 ('onehot',\n",
      "                                                  OneHotEncoder(drop='first'),\n",
      "                                                  ['propertyType']),\n",
      "                                                 ('binary', BinaryEncoder(),\n",
      "                                                  ['suburb'])])),\n",
      "                ('reg',\n",
      "                 DecisionTreeRegressor(criterion='mae', max_depth=22,\n",
      "                                       min_samples_split=6,\n",
      "                                       random_state=2021))])\n",
      "DTR Tuned Model Best Score:  -111483.16163513195\n",
      "DTR Tuned Model Best Params:  {'reg__criterion': 'mae', 'reg__max_depth': 22, 'reg__min_samples_split': 6}\n"
     ]
    }
   ],
   "source": [
    "print(\"Best DTR Tuned Model: \", gridsearch_dtr.best_estimator_)\n",
    "print(\"DTR Tuned Model Best Score: \", gridsearch_dtr.best_score_)\n",
    "print(\"DTR Tuned Model Best Params: \", gridsearch_dtr.best_params_)"
   ]
  },
  {
   "cell_type": "code",
   "execution_count": 74,
   "metadata": {},
   "outputs": [
    {
     "name": "stdout",
     "output_type": "stream",
     "text": [
      "CV DTR Tuned: [-110608.51009878 -112529.54688191 -109243.56051894 -112804.83517618\n",
      " -112229.35549985]\n",
      "CV DTR Tuned Mean: -111483.16163513195\n"
     ]
    }
   ],
   "source": [
    "skfold = StratifiedKFold(n_splits=5, random_state=2021, shuffle=True)\n",
    "dtr_tuned = gridsearch_dtr.best_estimator_\n",
    "dtr_tuned_cv = cross_val_score(dtr_tuned, X_train_val, y_train_val, cv=skfold, scoring='neg_mean_absolute_error', n_jobs=-1)\n",
    "print('CV DTR Tuned:', dtr_tuned_cv)\n",
    "print('CV DTR Tuned Mean:', dtr_tuned_cv.mean())"
   ]
  },
  {
   "cell_type": "code",
   "execution_count": 75,
   "metadata": {},
   "outputs": [
    {
     "data": {
      "text/html": [
       "<div>\n",
       "<style scoped>\n",
       "    .dataframe tbody tr th:only-of-type {\n",
       "        vertical-align: middle;\n",
       "    }\n",
       "\n",
       "    .dataframe tbody tr th {\n",
       "        vertical-align: top;\n",
       "    }\n",
       "\n",
       "    .dataframe thead th {\n",
       "        text-align: right;\n",
       "    }\n",
       "</style>\n",
       "<table border=\"1\" class=\"dataframe\">\n",
       "  <thead>\n",
       "    <tr style=\"text-align: right;\">\n",
       "      <th></th>\n",
       "      <th>mean_fit_time</th>\n",
       "      <th>std_fit_time</th>\n",
       "      <th>mean_score_time</th>\n",
       "      <th>std_score_time</th>\n",
       "      <th>param_reg__criterion</th>\n",
       "      <th>param_reg__max_depth</th>\n",
       "      <th>param_reg__min_samples_split</th>\n",
       "      <th>params</th>\n",
       "      <th>split0_test_score</th>\n",
       "      <th>split1_test_score</th>\n",
       "      <th>split2_test_score</th>\n",
       "      <th>split3_test_score</th>\n",
       "      <th>split4_test_score</th>\n",
       "      <th>mean_test_score</th>\n",
       "      <th>std_test_score</th>\n",
       "      <th>rank_test_score</th>\n",
       "    </tr>\n",
       "  </thead>\n",
       "  <tbody>\n",
       "    <tr>\n",
       "      <th>49</th>\n",
       "      <td>25.205454</td>\n",
       "      <td>1.355715</td>\n",
       "      <td>0.012405</td>\n",
       "      <td>0.000484</td>\n",
       "      <td>mae</td>\n",
       "      <td>22</td>\n",
       "      <td>6</td>\n",
       "      <td>{'reg__criterion': 'mae', 'reg__max_depth': 22...</td>\n",
       "      <td>-110608.510099</td>\n",
       "      <td>-112529.546882</td>\n",
       "      <td>-109243.560519</td>\n",
       "      <td>-112804.835176</td>\n",
       "      <td>-112229.355500</td>\n",
       "      <td>-111483.161635</td>\n",
       "      <td>1354.944780</td>\n",
       "      <td>1</td>\n",
       "    </tr>\n",
       "    <tr>\n",
       "      <th>44</th>\n",
       "      <td>39.317005</td>\n",
       "      <td>1.675465</td>\n",
       "      <td>0.026009</td>\n",
       "      <td>0.006987</td>\n",
       "      <td>mae</td>\n",
       "      <td>18</td>\n",
       "      <td>6</td>\n",
       "      <td>{'reg__criterion': 'mae', 'reg__max_depth': 18...</td>\n",
       "      <td>-110608.510099</td>\n",
       "      <td>-112529.546882</td>\n",
       "      <td>-109243.560519</td>\n",
       "      <td>-112804.098039</td>\n",
       "      <td>-112437.553671</td>\n",
       "      <td>-111524.653842</td>\n",
       "      <td>1380.063744</td>\n",
       "      <td>2</td>\n",
       "    </tr>\n",
       "    <tr>\n",
       "      <th>39</th>\n",
       "      <td>46.451210</td>\n",
       "      <td>2.474073</td>\n",
       "      <td>0.028407</td>\n",
       "      <td>0.010896</td>\n",
       "      <td>mae</td>\n",
       "      <td>14</td>\n",
       "      <td>6</td>\n",
       "      <td>{'reg__criterion': 'mae', 'reg__max_depth': 14...</td>\n",
       "      <td>-109959.765812</td>\n",
       "      <td>-112324.473242</td>\n",
       "      <td>-109343.609981</td>\n",
       "      <td>-112731.019018</td>\n",
       "      <td>-113321.556989</td>\n",
       "      <td>-111536.085008</td>\n",
       "      <td>1582.975833</td>\n",
       "      <td>3</td>\n",
       "    </tr>\n",
       "  </tbody>\n",
       "</table>\n",
       "</div>"
      ],
      "text/plain": [
       "    mean_fit_time  std_fit_time  mean_score_time  std_score_time  \\\n",
       "49      25.205454      1.355715         0.012405        0.000484   \n",
       "44      39.317005      1.675465         0.026009        0.006987   \n",
       "39      46.451210      2.474073         0.028407        0.010896   \n",
       "\n",
       "   param_reg__criterion param_reg__max_depth param_reg__min_samples_split  \\\n",
       "49                  mae                   22                            6   \n",
       "44                  mae                   18                            6   \n",
       "39                  mae                   14                            6   \n",
       "\n",
       "                                               params  split0_test_score  \\\n",
       "49  {'reg__criterion': 'mae', 'reg__max_depth': 22...     -110608.510099   \n",
       "44  {'reg__criterion': 'mae', 'reg__max_depth': 18...     -110608.510099   \n",
       "39  {'reg__criterion': 'mae', 'reg__max_depth': 14...     -109959.765812   \n",
       "\n",
       "    split1_test_score  split2_test_score  split3_test_score  \\\n",
       "49     -112529.546882     -109243.560519     -112804.835176   \n",
       "44     -112529.546882     -109243.560519     -112804.098039   \n",
       "39     -112324.473242     -109343.609981     -112731.019018   \n",
       "\n",
       "    split4_test_score  mean_test_score  std_test_score  rank_test_score  \n",
       "49     -112229.355500   -111483.161635     1354.944780                1  \n",
       "44     -112437.553671   -111524.653842     1380.063744                2  \n",
       "39     -113321.556989   -111536.085008     1582.975833                3  "
      ]
     },
     "execution_count": 75,
     "metadata": {},
     "output_type": "execute_result"
    }
   ],
   "source": [
    "# DTR Tuned Model CV Result\n",
    "\n",
    "gridsearch_dtr_df = pd.DataFrame(gridsearch_dtr.cv_results_)\n",
    "gridsearch_dtr_df.sort_values('rank_test_score').head(3)"
   ]
  },
  {
   "cell_type": "markdown",
   "metadata": {},
   "source": [
    "- __Creating a XG Boost Regressor Tuned Model:__"
   ]
  },
  {
   "cell_type": "code",
   "execution_count": 76,
   "metadata": {},
   "outputs": [],
   "source": [
    "# imputing missing values in 'bathrooms' column with median resulting in little to no difference in 'bathrooms' standard deviation\n",
    "\n",
    "# Creating a columns transformer\n",
    "transformer_xgbr = ColumnTransformer([\n",
    "    ('impute_num', SimpleImputer(strategy='median'), numerical_columns), \n",
    "    ('onehot', OneHotEncoder(drop='first'), ['propertyType']),  \n",
    "    ('binary', ce.BinaryEncoder(), ['suburb'])    \n",
    "], remainder='passthrough')\n",
    "\n",
    "# Creating a pipeline for XGBR tuned model\n",
    "pipe_xgbr_tuned = Pipeline([\n",
    "    ('transformer', transformer_xgbr),\n",
    "    ('reg', xgbr)\n",
    "])"
   ]
  },
  {
   "cell_type": "code",
   "execution_count": 77,
   "metadata": {},
   "outputs": [
    {
     "data": {
      "text/plain": [
       "{'memory': None,\n",
       " 'steps': [('transformer',\n",
       "   ColumnTransformer(remainder='passthrough',\n",
       "                     transformers=[('impute_num', SimpleImputer(strategy='median'),\n",
       "                                    ['parking', 'bathrooms', 'bedrooms']),\n",
       "                                   ('onehot', OneHotEncoder(drop='first'),\n",
       "                                    ['propertyType']),\n",
       "                                   ('binary', BinaryEncoder(), ['suburb'])])),\n",
       "  ('reg',\n",
       "   XGBRegressor(base_score=None, booster=None, colsample_bylevel=None,\n",
       "                colsample_bynode=None, colsample_bytree=None, gamma=None,\n",
       "                gpu_id=None, importance_type='gain', interaction_constraints=None,\n",
       "                learning_rate=None, max_delta_step=None, max_depth=6,\n",
       "                min_child_weight=None, missing=nan, monotone_constraints=None,\n",
       "                n_estimators=100, n_jobs=-1, num_parallel_tree=None,\n",
       "                random_state=2021, reg_alpha=None, reg_lambda=None,\n",
       "                scale_pos_weight=None, subsample=None, tree_method=None,\n",
       "                validate_parameters=None, verbosity=None))],\n",
       " 'verbose': False,\n",
       " 'transformer': ColumnTransformer(remainder='passthrough',\n",
       "                   transformers=[('impute_num', SimpleImputer(strategy='median'),\n",
       "                                  ['parking', 'bathrooms', 'bedrooms']),\n",
       "                                 ('onehot', OneHotEncoder(drop='first'),\n",
       "                                  ['propertyType']),\n",
       "                                 ('binary', BinaryEncoder(), ['suburb'])]),\n",
       " 'reg': XGBRegressor(base_score=None, booster=None, colsample_bylevel=None,\n",
       "              colsample_bynode=None, colsample_bytree=None, gamma=None,\n",
       "              gpu_id=None, importance_type='gain', interaction_constraints=None,\n",
       "              learning_rate=None, max_delta_step=None, max_depth=6,\n",
       "              min_child_weight=None, missing=nan, monotone_constraints=None,\n",
       "              n_estimators=100, n_jobs=-1, num_parallel_tree=None,\n",
       "              random_state=2021, reg_alpha=None, reg_lambda=None,\n",
       "              scale_pos_weight=None, subsample=None, tree_method=None,\n",
       "              validate_parameters=None, verbosity=None),\n",
       " 'transformer__n_jobs': None,\n",
       " 'transformer__remainder': 'passthrough',\n",
       " 'transformer__sparse_threshold': 0.3,\n",
       " 'transformer__transformer_weights': None,\n",
       " 'transformer__transformers': [('impute_num',\n",
       "   SimpleImputer(strategy='median'),\n",
       "   ['parking', 'bathrooms', 'bedrooms']),\n",
       "  ('onehot', OneHotEncoder(drop='first'), ['propertyType']),\n",
       "  ('binary', BinaryEncoder(), ['suburb'])],\n",
       " 'transformer__verbose': False,\n",
       " 'transformer__impute_num': SimpleImputer(strategy='median'),\n",
       " 'transformer__onehot': OneHotEncoder(drop='first'),\n",
       " 'transformer__binary': BinaryEncoder(),\n",
       " 'transformer__impute_num__add_indicator': False,\n",
       " 'transformer__impute_num__copy': True,\n",
       " 'transformer__impute_num__fill_value': None,\n",
       " 'transformer__impute_num__missing_values': nan,\n",
       " 'transformer__impute_num__strategy': 'median',\n",
       " 'transformer__impute_num__verbose': 0,\n",
       " 'transformer__onehot__categories': 'auto',\n",
       " 'transformer__onehot__drop': 'first',\n",
       " 'transformer__onehot__dtype': numpy.float64,\n",
       " 'transformer__onehot__handle_unknown': 'error',\n",
       " 'transformer__onehot__sparse': True,\n",
       " 'transformer__binary__cols': None,\n",
       " 'transformer__binary__drop_invariant': False,\n",
       " 'transformer__binary__handle_missing': 'value',\n",
       " 'transformer__binary__handle_unknown': 'value',\n",
       " 'transformer__binary__mapping': None,\n",
       " 'transformer__binary__return_df': True,\n",
       " 'transformer__binary__verbose': 0,\n",
       " 'reg__objective': 'reg:squarederror',\n",
       " 'reg__base_score': None,\n",
       " 'reg__booster': None,\n",
       " 'reg__colsample_bylevel': None,\n",
       " 'reg__colsample_bynode': None,\n",
       " 'reg__colsample_bytree': None,\n",
       " 'reg__gamma': None,\n",
       " 'reg__gpu_id': None,\n",
       " 'reg__importance_type': 'gain',\n",
       " 'reg__interaction_constraints': None,\n",
       " 'reg__learning_rate': None,\n",
       " 'reg__max_delta_step': None,\n",
       " 'reg__max_depth': 6,\n",
       " 'reg__min_child_weight': None,\n",
       " 'reg__missing': nan,\n",
       " 'reg__monotone_constraints': None,\n",
       " 'reg__n_estimators': 100,\n",
       " 'reg__n_jobs': -1,\n",
       " 'reg__num_parallel_tree': None,\n",
       " 'reg__random_state': 2021,\n",
       " 'reg__reg_alpha': None,\n",
       " 'reg__reg_lambda': None,\n",
       " 'reg__scale_pos_weight': None,\n",
       " 'reg__subsample': None,\n",
       " 'reg__tree_method': None,\n",
       " 'reg__validate_parameters': None,\n",
       " 'reg__verbosity': None}"
      ]
     },
     "execution_count": 77,
     "metadata": {},
     "output_type": "execute_result"
    }
   ],
   "source": [
    "pipe_xgbr_tuned.get_params()"
   ]
  },
  {
   "cell_type": "code",
   "execution_count": 78,
   "metadata": {},
   "outputs": [
    {
     "name": "stdout",
     "output_type": "stream",
     "text": [
      "Fitting 5 folds for each of 125 candidates, totalling 625 fits\n"
     ]
    },
    {
     "name": "stderr",
     "output_type": "stream",
     "text": [
      "[Parallel(n_jobs=-1)]: Using backend LokyBackend with 16 concurrent workers.\n",
      "[Parallel(n_jobs=-1)]: Done  18 tasks      | elapsed:   10.6s\n",
      "[Parallel(n_jobs=-1)]: Done 168 tasks      | elapsed:  3.9min\n",
      "[Parallel(n_jobs=-1)]: Done 418 tasks      | elapsed: 10.9min\n",
      "[Parallel(n_jobs=-1)]: Done 625 out of 625 | elapsed: 17.5min finished\n"
     ]
    },
    {
     "data": {
      "text/plain": [
       "GridSearchCV(cv=StratifiedKFold(n_splits=5, random_state=2021, shuffle=True),\n",
       "             estimator=Pipeline(steps=[('transformer',\n",
       "                                        ColumnTransformer(remainder='passthrough',\n",
       "                                                          transformers=[('impute_num',\n",
       "                                                                         SimpleImputer(strategy='median'),\n",
       "                                                                         ['parking',\n",
       "                                                                          'bathrooms',\n",
       "                                                                          'bedrooms']),\n",
       "                                                                        ('onehot',\n",
       "                                                                         OneHotEncoder(drop='first'),\n",
       "                                                                         ['propertyType']),\n",
       "                                                                        ('binary',\n",
       "                                                                         BinaryEncoder(),\n",
       "                                                                         ['suburb'])])...\n",
       "                                                     random_state=2021,\n",
       "                                                     reg_alpha=None,\n",
       "                                                     reg_lambda=None,\n",
       "                                                     scale_pos_weight=None,\n",
       "                                                     subsample=None,\n",
       "                                                     tree_method=None,\n",
       "                                                     validate_parameters=None,\n",
       "                                                     verbosity=None))]),\n",
       "             n_jobs=-1,\n",
       "             param_grid={'reg__importance_type': ['gain', 'weight', 'cover',\n",
       "                                                  'total_gain', 'total_cover'],\n",
       "                         'reg__max_depth': [6, 10, 14, 18, 22],\n",
       "                         'reg__n_estimators': [100, 120, 140, 160, 180]},\n",
       "             scoring='neg_mean_absolute_error', verbose=1)"
      ]
     },
     "execution_count": 78,
     "metadata": {},
     "output_type": "execute_result"
    }
   ],
   "source": [
    "# XGBR Tuned\n",
    "\n",
    "hyperparam_space_xgbr = {\n",
    "    'reg__max_depth': [6, 10, 14, 18, 22],\n",
    "    'reg__n_estimators': [100, 120, 140, 160, 180],\n",
    "    'reg__importance_type': ['gain', 'weight', 'cover', 'total_gain', 'total_cover']\n",
    "}\n",
    "\n",
    "skfold = StratifiedKFold(n_splits = 5, random_state=2021, shuffle=True)\n",
    "gridsearch_xgbr = GridSearchCV(\n",
    "    pipe_xgbr_tuned,\n",
    "    param_grid = hyperparam_space_xgbr,\n",
    "    cv = skfold,\n",
    "    scoring = 'neg_mean_absolute_error',\n",
    "    n_jobs =-1,\n",
    "    verbose=1\n",
    ")\n",
    "\n",
    "gridsearch_xgbr.fit(X_train_val, y_train_val)"
   ]
  },
  {
   "cell_type": "code",
   "execution_count": 79,
   "metadata": {},
   "outputs": [
    {
     "name": "stdout",
     "output_type": "stream",
     "text": [
      "Best XGBR Tuned Model:  Pipeline(steps=[('transformer',\n",
      "                 ColumnTransformer(remainder='passthrough',\n",
      "                                   transformers=[('impute_num',\n",
      "                                                  SimpleImputer(strategy='median'),\n",
      "                                                  ['parking', 'bathrooms',\n",
      "                                                   'bedrooms']),\n",
      "                                                 ('onehot',\n",
      "                                                  OneHotEncoder(drop='first'),\n",
      "                                                  ['propertyType']),\n",
      "                                                 ('binary', BinaryEncoder(),\n",
      "                                                  ['suburb'])])),\n",
      "                ('reg',\n",
      "                 XGBRegressor(base_score=0.5, booster='gbtree',\n",
      "                              colsample_bylevel=1, colsample_b...\n",
      "                              colsample_bytree=1, gamma=0, gpu_id=-1,\n",
      "                              importance_type='gain',\n",
      "                              interaction_constraints='',\n",
      "                              learning_rate=0.300000012, max_delta_step=0,\n",
      "                              max_depth=6, min_child_weight=1, missing=nan,\n",
      "                              monotone_constraints='()', n_estimators=180,\n",
      "                              n_jobs=-1, num_parallel_tree=1, random_state=2021,\n",
      "                              reg_alpha=0, reg_lambda=1, scale_pos_weight=1,\n",
      "                              subsample=1, tree_method='exact',\n",
      "                              validate_parameters=1, verbosity=None))])\n",
      "XGBR Tuned Model Best Score:  -111543.94237610782\n",
      "XGBR Tuned Model Best Params:  {'reg__importance_type': 'gain', 'reg__max_depth': 6, 'reg__n_estimators': 180}\n"
     ]
    }
   ],
   "source": [
    "print(\"Best XGBR Tuned Model: \", gridsearch_xgbr.best_estimator_)\n",
    "print(\"XGBR Tuned Model Best Score: \", gridsearch_xgbr.best_score_)\n",
    "print(\"XGBR Tuned Model Best Params: \", gridsearch_xgbr.best_params_)"
   ]
  },
  {
   "cell_type": "code",
   "execution_count": 80,
   "metadata": {},
   "outputs": [
    {
     "name": "stdout",
     "output_type": "stream",
     "text": [
      "CV XGBR Tuned: [-110326.38386407 -113697.75697055 -111610.12171125 -112101.65841361\n",
      " -109983.79092106]\n",
      "CV XGBR Tuned Mean: -111543.94237610782\n"
     ]
    }
   ],
   "source": [
    "skfold = StratifiedKFold(n_splits=5, random_state=2021, shuffle=True)\n",
    "xgbr_tuned = gridsearch_xgbr.best_estimator_\n",
    "xgbr_tuned_cv = cross_val_score(xgbr_tuned, X_train_val, y_train_val, cv=skfold, scoring='neg_mean_absolute_error', n_jobs=-1)\n",
    "print('CV XGBR Tuned:', xgbr_tuned_cv)\n",
    "print('CV XGBR Tuned Mean:', xgbr_tuned_cv.mean())"
   ]
  },
  {
   "cell_type": "code",
   "execution_count": 81,
   "metadata": {},
   "outputs": [
    {
     "data": {
      "text/html": [
       "<div>\n",
       "<style scoped>\n",
       "    .dataframe tbody tr th:only-of-type {\n",
       "        vertical-align: middle;\n",
       "    }\n",
       "\n",
       "    .dataframe tbody tr th {\n",
       "        vertical-align: top;\n",
       "    }\n",
       "\n",
       "    .dataframe thead th {\n",
       "        text-align: right;\n",
       "    }\n",
       "</style>\n",
       "<table border=\"1\" class=\"dataframe\">\n",
       "  <thead>\n",
       "    <tr style=\"text-align: right;\">\n",
       "      <th></th>\n",
       "      <th>mean_fit_time</th>\n",
       "      <th>std_fit_time</th>\n",
       "      <th>mean_score_time</th>\n",
       "      <th>std_score_time</th>\n",
       "      <th>param_reg__importance_type</th>\n",
       "      <th>param_reg__max_depth</th>\n",
       "      <th>param_reg__n_estimators</th>\n",
       "      <th>params</th>\n",
       "      <th>split0_test_score</th>\n",
       "      <th>split1_test_score</th>\n",
       "      <th>split2_test_score</th>\n",
       "      <th>split3_test_score</th>\n",
       "      <th>split4_test_score</th>\n",
       "      <th>mean_test_score</th>\n",
       "      <th>std_test_score</th>\n",
       "      <th>rank_test_score</th>\n",
       "    </tr>\n",
       "  </thead>\n",
       "  <tbody>\n",
       "    <tr>\n",
       "      <th>4</th>\n",
       "      <td>6.025550</td>\n",
       "      <td>0.126831</td>\n",
       "      <td>0.038209</td>\n",
       "      <td>0.005742</td>\n",
       "      <td>gain</td>\n",
       "      <td>6</td>\n",
       "      <td>180</td>\n",
       "      <td>{'reg__importance_type': 'gain', 'reg__max_dep...</td>\n",
       "      <td>-110326.383864</td>\n",
       "      <td>-113697.756971</td>\n",
       "      <td>-111610.121711</td>\n",
       "      <td>-112101.658414</td>\n",
       "      <td>-109983.790921</td>\n",
       "      <td>-111543.942376</td>\n",
       "      <td>1331.980892</td>\n",
       "      <td>1</td>\n",
       "    </tr>\n",
       "    <tr>\n",
       "      <th>29</th>\n",
       "      <td>11.424760</td>\n",
       "      <td>4.246529</td>\n",
       "      <td>0.036808</td>\n",
       "      <td>0.004309</td>\n",
       "      <td>weight</td>\n",
       "      <td>6</td>\n",
       "      <td>180</td>\n",
       "      <td>{'reg__importance_type': 'weight', 'reg__max_d...</td>\n",
       "      <td>-110326.383864</td>\n",
       "      <td>-113697.756971</td>\n",
       "      <td>-111610.121711</td>\n",
       "      <td>-112101.658414</td>\n",
       "      <td>-109983.790921</td>\n",
       "      <td>-111543.942376</td>\n",
       "      <td>1331.980892</td>\n",
       "      <td>1</td>\n",
       "    </tr>\n",
       "    <tr>\n",
       "      <th>79</th>\n",
       "      <td>9.089037</td>\n",
       "      <td>0.294905</td>\n",
       "      <td>0.036408</td>\n",
       "      <td>0.003930</td>\n",
       "      <td>total_gain</td>\n",
       "      <td>6</td>\n",
       "      <td>180</td>\n",
       "      <td>{'reg__importance_type': 'total_gain', 'reg__m...</td>\n",
       "      <td>-110326.383864</td>\n",
       "      <td>-113697.756971</td>\n",
       "      <td>-111610.121711</td>\n",
       "      <td>-112101.658414</td>\n",
       "      <td>-109983.790921</td>\n",
       "      <td>-111543.942376</td>\n",
       "      <td>1331.980892</td>\n",
       "      <td>1</td>\n",
       "    </tr>\n",
       "  </tbody>\n",
       "</table>\n",
       "</div>"
      ],
      "text/plain": [
       "    mean_fit_time  std_fit_time  mean_score_time  std_score_time  \\\n",
       "4        6.025550      0.126831         0.038209        0.005742   \n",
       "29      11.424760      4.246529         0.036808        0.004309   \n",
       "79       9.089037      0.294905         0.036408        0.003930   \n",
       "\n",
       "   param_reg__importance_type param_reg__max_depth param_reg__n_estimators  \\\n",
       "4                        gain                    6                     180   \n",
       "29                     weight                    6                     180   \n",
       "79                 total_gain                    6                     180   \n",
       "\n",
       "                                               params  split0_test_score  \\\n",
       "4   {'reg__importance_type': 'gain', 'reg__max_dep...     -110326.383864   \n",
       "29  {'reg__importance_type': 'weight', 'reg__max_d...     -110326.383864   \n",
       "79  {'reg__importance_type': 'total_gain', 'reg__m...     -110326.383864   \n",
       "\n",
       "    split1_test_score  split2_test_score  split3_test_score  \\\n",
       "4      -113697.756971     -111610.121711     -112101.658414   \n",
       "29     -113697.756971     -111610.121711     -112101.658414   \n",
       "79     -113697.756971     -111610.121711     -112101.658414   \n",
       "\n",
       "    split4_test_score  mean_test_score  std_test_score  rank_test_score  \n",
       "4      -109983.790921   -111543.942376     1331.980892                1  \n",
       "29     -109983.790921   -111543.942376     1331.980892                1  \n",
       "79     -109983.790921   -111543.942376     1331.980892                1  "
      ]
     },
     "execution_count": 81,
     "metadata": {},
     "output_type": "execute_result"
    }
   ],
   "source": [
    "# XGBR Tuned Model CV Result\n",
    "\n",
    "gridsearch_xgbr_df = pd.DataFrame(gridsearch_xgbr.cv_results_)\n",
    "gridsearch_xgbr_df.sort_values('rank_test_score').head(3)"
   ]
  },
  {
   "cell_type": "markdown",
   "metadata": {},
   "source": [
    "- __Creating a Gradient Boosting Regressor Tuned Model:__"
   ]
  },
  {
   "cell_type": "code",
   "execution_count": 82,
   "metadata": {},
   "outputs": [],
   "source": [
    "# imputing missing values in 'bathrooms' column with median resulting in little to no difference in 'bathrooms' standard deviation\n",
    "\n",
    "# Creating a columns transformer\n",
    "transformer_gbr = ColumnTransformer([\n",
    "    ('impute_num', SimpleImputer(strategy='median'), numerical_columns), \n",
    "    ('onehot', OneHotEncoder(drop='first'), ['propertyType']),  \n",
    "    ('binary', ce.BinaryEncoder(), ['suburb'])    \n",
    "], remainder='passthrough')\n",
    "\n",
    "# Creating a pipeline for XGBR tuned model\n",
    "pipe_gbr_tuned = Pipeline([\n",
    "    ('transformer', transformer_gbr),\n",
    "    ('reg', gbr)\n",
    "])"
   ]
  },
  {
   "cell_type": "code",
   "execution_count": 83,
   "metadata": {},
   "outputs": [
    {
     "data": {
      "text/plain": [
       "{'memory': None,\n",
       " 'steps': [('transformer',\n",
       "   ColumnTransformer(remainder='passthrough',\n",
       "                     transformers=[('impute_num', SimpleImputer(strategy='median'),\n",
       "                                    ['parking', 'bathrooms', 'bedrooms']),\n",
       "                                   ('onehot', OneHotEncoder(drop='first'),\n",
       "                                    ['propertyType']),\n",
       "                                   ('binary', BinaryEncoder(), ['suburb'])])),\n",
       "  ('reg', GradientBoostingRegressor(max_depth=6, random_state=2021))],\n",
       " 'verbose': False,\n",
       " 'transformer': ColumnTransformer(remainder='passthrough',\n",
       "                   transformers=[('impute_num', SimpleImputer(strategy='median'),\n",
       "                                  ['parking', 'bathrooms', 'bedrooms']),\n",
       "                                 ('onehot', OneHotEncoder(drop='first'),\n",
       "                                  ['propertyType']),\n",
       "                                 ('binary', BinaryEncoder(), ['suburb'])]),\n",
       " 'reg': GradientBoostingRegressor(max_depth=6, random_state=2021),\n",
       " 'transformer__n_jobs': None,\n",
       " 'transformer__remainder': 'passthrough',\n",
       " 'transformer__sparse_threshold': 0.3,\n",
       " 'transformer__transformer_weights': None,\n",
       " 'transformer__transformers': [('impute_num',\n",
       "   SimpleImputer(strategy='median'),\n",
       "   ['parking', 'bathrooms', 'bedrooms']),\n",
       "  ('onehot', OneHotEncoder(drop='first'), ['propertyType']),\n",
       "  ('binary', BinaryEncoder(), ['suburb'])],\n",
       " 'transformer__verbose': False,\n",
       " 'transformer__impute_num': SimpleImputer(strategy='median'),\n",
       " 'transformer__onehot': OneHotEncoder(drop='first'),\n",
       " 'transformer__binary': BinaryEncoder(),\n",
       " 'transformer__impute_num__add_indicator': False,\n",
       " 'transformer__impute_num__copy': True,\n",
       " 'transformer__impute_num__fill_value': None,\n",
       " 'transformer__impute_num__missing_values': nan,\n",
       " 'transformer__impute_num__strategy': 'median',\n",
       " 'transformer__impute_num__verbose': 0,\n",
       " 'transformer__onehot__categories': 'auto',\n",
       " 'transformer__onehot__drop': 'first',\n",
       " 'transformer__onehot__dtype': numpy.float64,\n",
       " 'transformer__onehot__handle_unknown': 'error',\n",
       " 'transformer__onehot__sparse': True,\n",
       " 'transformer__binary__cols': None,\n",
       " 'transformer__binary__drop_invariant': False,\n",
       " 'transformer__binary__handle_missing': 'value',\n",
       " 'transformer__binary__handle_unknown': 'value',\n",
       " 'transformer__binary__mapping': None,\n",
       " 'transformer__binary__return_df': True,\n",
       " 'transformer__binary__verbose': 0,\n",
       " 'reg__alpha': 0.9,\n",
       " 'reg__ccp_alpha': 0.0,\n",
       " 'reg__criterion': 'friedman_mse',\n",
       " 'reg__init': None,\n",
       " 'reg__learning_rate': 0.1,\n",
       " 'reg__loss': 'ls',\n",
       " 'reg__max_depth': 6,\n",
       " 'reg__max_features': None,\n",
       " 'reg__max_leaf_nodes': None,\n",
       " 'reg__min_impurity_decrease': 0.0,\n",
       " 'reg__min_impurity_split': None,\n",
       " 'reg__min_samples_leaf': 1,\n",
       " 'reg__min_samples_split': 2,\n",
       " 'reg__min_weight_fraction_leaf': 0.0,\n",
       " 'reg__n_estimators': 100,\n",
       " 'reg__n_iter_no_change': None,\n",
       " 'reg__presort': 'deprecated',\n",
       " 'reg__random_state': 2021,\n",
       " 'reg__subsample': 1.0,\n",
       " 'reg__tol': 0.0001,\n",
       " 'reg__validation_fraction': 0.1,\n",
       " 'reg__verbose': 0,\n",
       " 'reg__warm_start': False}"
      ]
     },
     "execution_count": 83,
     "metadata": {},
     "output_type": "execute_result"
    }
   ],
   "source": [
    "pipe_gbr_tuned.get_params()"
   ]
  },
  {
   "cell_type": "code",
   "execution_count": null,
   "metadata": {},
   "outputs": [
    {
     "name": "stdout",
     "output_type": "stream",
     "text": [
      "Fitting 5 folds for each of 72 candidates, totalling 360 fits\n"
     ]
    },
    {
     "name": "stderr",
     "output_type": "stream",
     "text": [
      "[Parallel(n_jobs=-1)]: Using backend LokyBackend with 16 concurrent workers.\n",
      "[Parallel(n_jobs=-1)]: Done  18 tasks      | elapsed:   13.4s\n",
      "[Parallel(n_jobs=-1)]: Done 168 tasks      | elapsed:  6.3min\n"
     ]
    }
   ],
   "source": [
    "# GBR Tuned\n",
    "\n",
    "hyperparam_space_gbr = {\n",
    "    'reg__max_depth': [6, 12, 18],\n",
    "    'reg__n_estimators': [100, 150],\n",
    "    'reg__criterion': ['friedman_mse', 'mse', 'mae'],\n",
    "    'reg__loss': ['ls', 'lad', 'huber', 'quantile']\n",
    "}\n",
    "\n",
    "skfold = StratifiedKFold(n_splits = 5, random_state=2021, shuffle=True)\n",
    "gridsearch_gbr = GridSearchCV(\n",
    "    pipe_gbr_tuned,\n",
    "    param_grid = hyperparam_space_gbr,\n",
    "    cv = skfold,\n",
    "    scoring = 'neg_mean_absolute_error',\n",
    "    n_jobs =-1,\n",
    "    verbose=1\n",
    ")\n",
    "\n",
    "gridsearch_gbr.fit(X_train_val, y_train_val)"
   ]
  },
  {
   "cell_type": "code",
   "execution_count": null,
   "metadata": {},
   "outputs": [],
   "source": [
    "print(\"Best GBR Tuned Model: \", gridsearch_gbr.best_estimator_)\n",
    "print(\"GBR Tuned Model Best Score: \", gridsearch_gbr.best_score_)\n",
    "print(\"GBR Tuned Model Best Params: \", gridsearch_gbr.best_params_)"
   ]
  },
  {
   "cell_type": "code",
   "execution_count": null,
   "metadata": {},
   "outputs": [],
   "source": [
    "skfold = StratifiedKFold(n_splits=5, random_state=2021, shuffle=True)\n",
    "gbr_tuned = gridsearch_gbr.best_estimator_\n",
    "gbr_tuned_cv = cross_val_score(gbr_tuned, X_train_val, y_train_val, cv=skfold, scoring='neg_mean_absolute_error', n_jobs=-1)\n",
    "print('CV GBR Tuned:', gbr_tuned_cv)\n",
    "print('CV GBR Tuned Mean:', gbr_tuned_cv.mean())"
   ]
  },
  {
   "cell_type": "code",
   "execution_count": null,
   "metadata": {},
   "outputs": [],
   "source": [
    "# XGBR Tuned Model CV Result\n",
    "\n",
    "gridsearch_gbr_df = pd.DataFrame(gridsearch_gbr.cv_results_)\n",
    "gridsearch_gbr_df.sort_values('rank_test_score').head(3)"
   ]
  },
  {
   "cell_type": "code",
   "execution_count": null,
   "metadata": {},
   "outputs": [],
   "source": []
  },
  {
   "cell_type": "code",
   "execution_count": null,
   "metadata": {},
   "outputs": [],
   "source": []
  },
  {
   "cell_type": "code",
   "execution_count": null,
   "metadata": {},
   "outputs": [],
   "source": []
  },
  {
   "cell_type": "code",
   "execution_count": null,
   "metadata": {},
   "outputs": [],
   "source": []
  },
  {
   "cell_type": "code",
   "execution_count": null,
   "metadata": {},
   "outputs": [],
   "source": []
  },
  {
   "cell_type": "code",
   "execution_count": null,
   "metadata": {},
   "outputs": [],
   "source": []
  }
 ],
 "metadata": {
  "kernelspec": {
   "display_name": "Python 3",
   "language": "python",
   "name": "python3"
  },
  "language_info": {
   "codemirror_mode": {
    "name": "ipython",
    "version": 3
   },
   "file_extension": ".py",
   "mimetype": "text/x-python",
   "name": "python",
   "nbconvert_exporter": "python",
   "pygments_lexer": "ipython3",
   "version": "3.8.3"
  }
 },
 "nbformat": 4,
 "nbformat_minor": 4
}
