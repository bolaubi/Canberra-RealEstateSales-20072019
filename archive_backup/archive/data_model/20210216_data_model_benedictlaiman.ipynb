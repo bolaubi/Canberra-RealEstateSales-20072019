{
 "cells": [
  {
   "cell_type": "markdown",
   "metadata": {},
   "source": [
    "# Canberra Real Estate Sales 2007-2019"
   ]
  },
  {
   "cell_type": "markdown",
   "metadata": {},
   "source": [
    "## Introduction"
   ]
  },
  {
   "cell_type": "markdown",
   "metadata": {},
   "source": [
    "Data was obtained from HtAG®. HtAG® or Higher than Average Growth is an analytics portal that assists real estate professionals, investors and home buyers in making property-related decisions with the help of timely and actionable real estate market data. HtAG® leverages the benefits of machine learning to rank the growth potential of over 420 Local Government Areas and 6,200 suburbs, Australia wide."
   ]
  },
  {
   "cell_type": "markdown",
   "metadata": {},
   "source": [
    "> #### Column Descriptions\n",
    "- datesold = date when the property was sold\n",
    "- price = price of the property when it was sold\n",
    "- suburb = suburbs in Canberra, Australia\n",
    "- postcode = postal code of a place\n",
    "- lat = latitude of the location\n",
    "- lon = longitude of the location\n",
    "- parking = number of parking lots\n",
    "- bathrooms = number of bathrooms\n",
    "- bedrooms = number of bedrooms\n",
    "- propertyType = type of the property\n",
    "- suburbid = the id of the suburbs"
   ]
  },
  {
   "cell_type": "markdown",
   "metadata": {},
   "source": [
    "> #### Background Stories\n",
    "\n",
    "The world was experiencing a global financial crisis around 2007 to 2008 due to excessive risk-taking by banks combined with the bursting of the United States housing bubble caused the values of securities tied to U.S. real estate to plummet, damaging financial institutions globally and culminating an international banking crisis. The crisis sparked the Great Recession, which at the time was the most severe global recession since the \"Great Depression\". Canberra as the capital city of Australia was no exception to this crisis.\n",
    "\n",
    "Through this project, we hope to understand how the real estate market in Canberra responded to this incident and what is the aftermath pricing trend. We are also hoping to gain any valuable insight in the Canberra real estate market."
   ]
  },
  {
   "cell_type": "markdown",
   "metadata": {},
   "source": [
    "> #### Questions\n",
    "- What features affect the real estate prices in Canberra?\n",
    "- What is the real estate prices in Canberra going to be like in the near future according to the given datasets?"
   ]
  },
  {
   "cell_type": "markdown",
   "metadata": {},
   "source": [
    "> #### The Scope of the Research Problem\n",
    "- Historical data from 2007 - 2019\n",
    "- Maximum real estate price capped at 5M"
   ]
  },
  {
   "cell_type": "markdown",
   "metadata": {},
   "source": [
    "> #### Users\n",
    "- Users & renters\n",
    "- Property investors\n",
    "- Property brokers\n",
    "- Renovators\n",
    "- Developers\n",
    "- Banks\n",
    "- Regulators"
   ]
  },
  {
   "cell_type": "markdown",
   "metadata": {},
   "source": [
    "## Data Modelling"
   ]
  },
  {
   "cell_type": "markdown",
   "metadata": {},
   "source": [
    "> #### Import Modules"
   ]
  },
  {
   "cell_type": "code",
   "execution_count": 93,
   "metadata": {},
   "outputs": [],
   "source": [
    "import numpy as np\n",
    "import pandas as pd\n",
    "import matplotlib.pyplot as plt\n",
    "import seaborn as sns\n",
    "\n",
    "import scipy.stats as stats\n",
    "import pingouin as pg\n",
    "\n",
    "import category_encoders as ce\n",
    "import statsmodels.api as sm\n",
    "from statsmodels.api import OLS\n",
    "import sklearn\n",
    "\n",
    "from sklearn.pipeline import Pipeline\n",
    "from sklearn.preprocessing import MinMaxScaler, StandardScaler, RobustScaler, OneHotEncoder\n",
    "from sklearn.compose import ColumnTransformer\n",
    "from sklearn.impute import SimpleImputer\n",
    "\n",
    "from sklearn.linear_model import LogisticRegression\n",
    "from sklearn.neighbors import KNeighborsRegressor\n",
    "from sklearn.tree import DecisionTreeRegressor\n",
    "from sklearn.ensemble import RandomForestRegressor\n",
    "import xgboost as xgb\n",
    "\n",
    "from sklearn.model_selection import train_test_split, GridSearchCV, RandomizedSearchCV\n",
    "from sklearn.model_selection import cross_val_score, StratifiedKFold\n",
    "from sklearn.metrics import confusion_matrix, classification_report, f1_score, recall_score, precision_score, plot_confusion_matrix\n",
    "from sklearn.metrics import roc_auc_score, balanced_accuracy_score\n",
    "from imblearn.over_sampling import RandomOverSampler, SMOTE\n",
    "from imblearn.pipeline import Pipeline as imbPipeline\n",
    "\n",
    "import warnings\n",
    "warnings.filterwarnings('ignore')"
   ]
  },
  {
   "cell_type": "markdown",
   "metadata": {},
   "source": [
    "> #### Import the Raw Dataset"
   ]
  },
  {
   "cell_type": "code",
   "execution_count": 2,
   "metadata": {},
   "outputs": [],
   "source": [
    "raw_df = pd.read_csv('property_sales_canberra.csv')"
   ]
  },
  {
   "cell_type": "code",
   "execution_count": 3,
   "metadata": {},
   "outputs": [
    {
     "data": {
      "text/html": [
       "<div>\n",
       "<style scoped>\n",
       "    .dataframe tbody tr th:only-of-type {\n",
       "        vertical-align: middle;\n",
       "    }\n",
       "\n",
       "    .dataframe tbody tr th {\n",
       "        vertical-align: top;\n",
       "    }\n",
       "\n",
       "    .dataframe thead th {\n",
       "        text-align: right;\n",
       "    }\n",
       "</style>\n",
       "<table border=\"1\" class=\"dataframe\">\n",
       "  <thead>\n",
       "    <tr style=\"text-align: right;\">\n",
       "      <th></th>\n",
       "      <th>datesold</th>\n",
       "      <th>price</th>\n",
       "      <th>suburb</th>\n",
       "      <th>postcode</th>\n",
       "      <th>lat</th>\n",
       "      <th>lon</th>\n",
       "      <th>parking</th>\n",
       "      <th>bathrooms</th>\n",
       "      <th>bedrooms</th>\n",
       "      <th>propertyType</th>\n",
       "      <th>suburbid</th>\n",
       "    </tr>\n",
       "  </thead>\n",
       "  <tbody>\n",
       "    <tr>\n",
       "      <th>0</th>\n",
       "      <td>9/06/2000</td>\n",
       "      <td>223000.0</td>\n",
       "      <td>Nicholls</td>\n",
       "      <td>2913</td>\n",
       "      <td>NaN</td>\n",
       "      <td>NaN</td>\n",
       "      <td>2</td>\n",
       "      <td>2.0</td>\n",
       "      <td>4</td>\n",
       "      <td>house</td>\n",
       "      <td>ACT708</td>\n",
       "    </tr>\n",
       "    <tr>\n",
       "      <th>1</th>\n",
       "      <td>1/01/2001</td>\n",
       "      <td>350000.0</td>\n",
       "      <td>Ngunnawal</td>\n",
       "      <td>2913</td>\n",
       "      <td>NaN</td>\n",
       "      <td>NaN</td>\n",
       "      <td>1</td>\n",
       "      <td>NaN</td>\n",
       "      <td>3</td>\n",
       "      <td>house</td>\n",
       "      <td>ACT706</td>\n",
       "    </tr>\n",
       "    <tr>\n",
       "      <th>2</th>\n",
       "      <td>11/12/2003</td>\n",
       "      <td>550000.0</td>\n",
       "      <td>Weston</td>\n",
       "      <td>2611</td>\n",
       "      <td>NaN</td>\n",
       "      <td>NaN</td>\n",
       "      <td>2</td>\n",
       "      <td>NaN</td>\n",
       "      <td>4</td>\n",
       "      <td>house</td>\n",
       "      <td>ACT441</td>\n",
       "    </tr>\n",
       "    <tr>\n",
       "      <th>3</th>\n",
       "      <td>21/09/2005</td>\n",
       "      <td>276000.0</td>\n",
       "      <td>Isabella Plains</td>\n",
       "      <td>2905</td>\n",
       "      <td>NaN</td>\n",
       "      <td>NaN</td>\n",
       "      <td>1</td>\n",
       "      <td>1.0</td>\n",
       "      <td>3</td>\n",
       "      <td>house</td>\n",
       "      <td>ACT612</td>\n",
       "    </tr>\n",
       "    <tr>\n",
       "      <th>4</th>\n",
       "      <td>1/11/2005</td>\n",
       "      <td>400000.0</td>\n",
       "      <td>Conder</td>\n",
       "      <td>2906</td>\n",
       "      <td>NaN</td>\n",
       "      <td>NaN</td>\n",
       "      <td>2</td>\n",
       "      <td>NaN</td>\n",
       "      <td>5</td>\n",
       "      <td>house</td>\n",
       "      <td>ACT613</td>\n",
       "    </tr>\n",
       "  </tbody>\n",
       "</table>\n",
       "</div>"
      ],
      "text/plain": [
       "     datesold     price           suburb  postcode  lat  lon  parking  \\\n",
       "0   9/06/2000  223000.0         Nicholls      2913  NaN  NaN        2   \n",
       "1   1/01/2001  350000.0        Ngunnawal      2913  NaN  NaN        1   \n",
       "2  11/12/2003  550000.0           Weston      2611  NaN  NaN        2   \n",
       "3  21/09/2005  276000.0  Isabella Plains      2905  NaN  NaN        1   \n",
       "4   1/11/2005  400000.0           Conder      2906  NaN  NaN        2   \n",
       "\n",
       "   bathrooms  bedrooms propertyType suburbid  \n",
       "0        2.0         4        house   ACT708  \n",
       "1        NaN         3        house   ACT706  \n",
       "2        NaN         4        house   ACT441  \n",
       "3        1.0         3        house   ACT612  \n",
       "4        NaN         5        house   ACT613  "
      ]
     },
     "execution_count": 3,
     "metadata": {},
     "output_type": "execute_result"
    }
   ],
   "source": [
    "raw_df.head()"
   ]
  },
  {
   "cell_type": "markdown",
   "metadata": {},
   "source": [
    "## Preprocessing"
   ]
  },
  {
   "cell_type": "markdown",
   "metadata": {},
   "source": [
    "> #### Descriptive Statistics of the Variables"
   ]
  },
  {
   "cell_type": "code",
   "execution_count": 4,
   "metadata": {},
   "outputs": [
    {
     "name": "stdout",
     "output_type": "stream",
     "text": [
      "<class 'pandas.core.frame.DataFrame'>\n",
      "RangeIndex: 43178 entries, 0 to 43177\n",
      "Data columns (total 11 columns):\n",
      " #   Column        Non-Null Count  Dtype  \n",
      "---  ------        --------------  -----  \n",
      " 0   datesold      43178 non-null  object \n",
      " 1   price         42435 non-null  float64\n",
      " 2   suburb        43178 non-null  object \n",
      " 3   postcode      43178 non-null  int64  \n",
      " 4   lat           42033 non-null  float64\n",
      " 5   lon           42033 non-null  float64\n",
      " 6   parking       43178 non-null  int64  \n",
      " 7   bathrooms     42499 non-null  float64\n",
      " 8   bedrooms      43178 non-null  int64  \n",
      " 9   propertyType  43178 non-null  object \n",
      " 10  suburbid      43178 non-null  object \n",
      "dtypes: float64(4), int64(3), object(4)\n",
      "memory usage: 3.6+ MB\n"
     ]
    }
   ],
   "source": [
    "raw_df.info()"
   ]
  },
  {
   "cell_type": "code",
   "execution_count": 5,
   "metadata": {},
   "outputs": [
    {
     "data": {
      "text/html": [
       "<div>\n",
       "<style scoped>\n",
       "    .dataframe tbody tr th:only-of-type {\n",
       "        vertical-align: middle;\n",
       "    }\n",
       "\n",
       "    .dataframe tbody tr th {\n",
       "        vertical-align: top;\n",
       "    }\n",
       "\n",
       "    .dataframe thead th {\n",
       "        text-align: right;\n",
       "    }\n",
       "</style>\n",
       "<table border=\"1\" class=\"dataframe\">\n",
       "  <thead>\n",
       "    <tr style=\"text-align: right;\">\n",
       "      <th></th>\n",
       "      <th>datesold</th>\n",
       "      <th>price</th>\n",
       "      <th>suburb</th>\n",
       "      <th>postcode</th>\n",
       "      <th>lat</th>\n",
       "      <th>lon</th>\n",
       "      <th>parking</th>\n",
       "      <th>bathrooms</th>\n",
       "      <th>bedrooms</th>\n",
       "      <th>propertyType</th>\n",
       "      <th>suburbid</th>\n",
       "    </tr>\n",
       "  </thead>\n",
       "  <tbody>\n",
       "    <tr>\n",
       "      <th>count</th>\n",
       "      <td>43178</td>\n",
       "      <td>4.243500e+04</td>\n",
       "      <td>43178</td>\n",
       "      <td>43178.000000</td>\n",
       "      <td>42033.000000</td>\n",
       "      <td>42033.000000</td>\n",
       "      <td>43178.000000</td>\n",
       "      <td>42499.000000</td>\n",
       "      <td>43178.000000</td>\n",
       "      <td>43178</td>\n",
       "      <td>43178</td>\n",
       "    </tr>\n",
       "    <tr>\n",
       "      <th>unique</th>\n",
       "      <td>3851</td>\n",
       "      <td>NaN</td>\n",
       "      <td>107</td>\n",
       "      <td>NaN</td>\n",
       "      <td>NaN</td>\n",
       "      <td>NaN</td>\n",
       "      <td>NaN</td>\n",
       "      <td>NaN</td>\n",
       "      <td>NaN</td>\n",
       "      <td>2</td>\n",
       "      <td>107</td>\n",
       "    </tr>\n",
       "    <tr>\n",
       "      <th>top</th>\n",
       "      <td>28/10/2017</td>\n",
       "      <td>NaN</td>\n",
       "      <td>Kambah</td>\n",
       "      <td>NaN</td>\n",
       "      <td>NaN</td>\n",
       "      <td>NaN</td>\n",
       "      <td>NaN</td>\n",
       "      <td>NaN</td>\n",
       "      <td>NaN</td>\n",
       "      <td>house</td>\n",
       "      <td>ACT601</td>\n",
       "    </tr>\n",
       "    <tr>\n",
       "      <th>freq</th>\n",
       "      <td>56</td>\n",
       "      <td>NaN</td>\n",
       "      <td>1404</td>\n",
       "      <td>NaN</td>\n",
       "      <td>NaN</td>\n",
       "      <td>NaN</td>\n",
       "      <td>NaN</td>\n",
       "      <td>NaN</td>\n",
       "      <td>NaN</td>\n",
       "      <td>36236</td>\n",
       "      <td>1404</td>\n",
       "    </tr>\n",
       "    <tr>\n",
       "      <th>mean</th>\n",
       "      <td>NaN</td>\n",
       "      <td>6.037398e+05</td>\n",
       "      <td>NaN</td>\n",
       "      <td>2728.855644</td>\n",
       "      <td>-35.293447</td>\n",
       "      <td>149.096122</td>\n",
       "      <td>1.760017</td>\n",
       "      <td>1.643403</td>\n",
       "      <td>3.193501</td>\n",
       "      <td>NaN</td>\n",
       "      <td>NaN</td>\n",
       "    </tr>\n",
       "    <tr>\n",
       "      <th>std</th>\n",
       "      <td>NaN</td>\n",
       "      <td>3.139764e+05</td>\n",
       "      <td>NaN</td>\n",
       "      <td>146.564444</td>\n",
       "      <td>0.091796</td>\n",
       "      <td>0.040526</td>\n",
       "      <td>0.937361</td>\n",
       "      <td>0.644463</td>\n",
       "      <td>0.990638</td>\n",
       "      <td>NaN</td>\n",
       "      <td>NaN</td>\n",
       "    </tr>\n",
       "    <tr>\n",
       "      <th>min</th>\n",
       "      <td>NaN</td>\n",
       "      <td>5.000000e+04</td>\n",
       "      <td>NaN</td>\n",
       "      <td>2092.000000</td>\n",
       "      <td>-35.509975</td>\n",
       "      <td>148.921424</td>\n",
       "      <td>0.000000</td>\n",
       "      <td>1.000000</td>\n",
       "      <td>0.000000</td>\n",
       "      <td>NaN</td>\n",
       "      <td>NaN</td>\n",
       "    </tr>\n",
       "    <tr>\n",
       "      <th>25%</th>\n",
       "      <td>NaN</td>\n",
       "      <td>4.300000e+05</td>\n",
       "      <td>NaN</td>\n",
       "      <td>2607.000000</td>\n",
       "      <td>-35.363857</td>\n",
       "      <td>149.067390</td>\n",
       "      <td>1.000000</td>\n",
       "      <td>1.000000</td>\n",
       "      <td>3.000000</td>\n",
       "      <td>NaN</td>\n",
       "      <td>NaN</td>\n",
       "    </tr>\n",
       "    <tr>\n",
       "      <th>50%</th>\n",
       "      <td>NaN</td>\n",
       "      <td>5.390000e+05</td>\n",
       "      <td>NaN</td>\n",
       "      <td>2615.000000</td>\n",
       "      <td>-35.270536</td>\n",
       "      <td>149.099522</td>\n",
       "      <td>2.000000</td>\n",
       "      <td>2.000000</td>\n",
       "      <td>3.000000</td>\n",
       "      <td>NaN</td>\n",
       "      <td>NaN</td>\n",
       "    </tr>\n",
       "    <tr>\n",
       "      <th>75%</th>\n",
       "      <td>NaN</td>\n",
       "      <td>6.760000e+05</td>\n",
       "      <td>NaN</td>\n",
       "      <td>2905.000000</td>\n",
       "      <td>-35.212323</td>\n",
       "      <td>149.130708</td>\n",
       "      <td>2.000000</td>\n",
       "      <td>2.000000</td>\n",
       "      <td>4.000000</td>\n",
       "      <td>NaN</td>\n",
       "      <td>NaN</td>\n",
       "    </tr>\n",
       "    <tr>\n",
       "      <th>max</th>\n",
       "      <td>NaN</td>\n",
       "      <td>8.000000e+06</td>\n",
       "      <td>NaN</td>\n",
       "      <td>2914.000000</td>\n",
       "      <td>-35.138572</td>\n",
       "      <td>149.250290</td>\n",
       "      <td>31.000000</td>\n",
       "      <td>21.000000</td>\n",
       "      <td>14.000000</td>\n",
       "      <td>NaN</td>\n",
       "      <td>NaN</td>\n",
       "    </tr>\n",
       "  </tbody>\n",
       "</table>\n",
       "</div>"
      ],
      "text/plain": [
       "          datesold         price  suburb      postcode           lat  \\\n",
       "count        43178  4.243500e+04   43178  43178.000000  42033.000000   \n",
       "unique        3851           NaN     107           NaN           NaN   \n",
       "top     28/10/2017           NaN  Kambah           NaN           NaN   \n",
       "freq            56           NaN    1404           NaN           NaN   \n",
       "mean           NaN  6.037398e+05     NaN   2728.855644    -35.293447   \n",
       "std            NaN  3.139764e+05     NaN    146.564444      0.091796   \n",
       "min            NaN  5.000000e+04     NaN   2092.000000    -35.509975   \n",
       "25%            NaN  4.300000e+05     NaN   2607.000000    -35.363857   \n",
       "50%            NaN  5.390000e+05     NaN   2615.000000    -35.270536   \n",
       "75%            NaN  6.760000e+05     NaN   2905.000000    -35.212323   \n",
       "max            NaN  8.000000e+06     NaN   2914.000000    -35.138572   \n",
       "\n",
       "                 lon       parking     bathrooms      bedrooms propertyType  \\\n",
       "count   42033.000000  43178.000000  42499.000000  43178.000000        43178   \n",
       "unique           NaN           NaN           NaN           NaN            2   \n",
       "top              NaN           NaN           NaN           NaN        house   \n",
       "freq             NaN           NaN           NaN           NaN        36236   \n",
       "mean      149.096122      1.760017      1.643403      3.193501          NaN   \n",
       "std         0.040526      0.937361      0.644463      0.990638          NaN   \n",
       "min       148.921424      0.000000      1.000000      0.000000          NaN   \n",
       "25%       149.067390      1.000000      1.000000      3.000000          NaN   \n",
       "50%       149.099522      2.000000      2.000000      3.000000          NaN   \n",
       "75%       149.130708      2.000000      2.000000      4.000000          NaN   \n",
       "max       149.250290     31.000000     21.000000     14.000000          NaN   \n",
       "\n",
       "       suburbid  \n",
       "count     43178  \n",
       "unique      107  \n",
       "top      ACT601  \n",
       "freq       1404  \n",
       "mean        NaN  \n",
       "std         NaN  \n",
       "min         NaN  \n",
       "25%         NaN  \n",
       "50%         NaN  \n",
       "75%         NaN  \n",
       "max         NaN  "
      ]
     },
     "execution_count": 5,
     "metadata": {},
     "output_type": "execute_result"
    }
   ],
   "source": [
    "raw_df.describe(include='all')"
   ]
  },
  {
   "cell_type": "code",
   "execution_count": 6,
   "metadata": {},
   "outputs": [
    {
     "data": {
      "text/html": [
       "<div>\n",
       "<style scoped>\n",
       "    .dataframe tbody tr th:only-of-type {\n",
       "        vertical-align: middle;\n",
       "    }\n",
       "\n",
       "    .dataframe tbody tr th {\n",
       "        vertical-align: top;\n",
       "    }\n",
       "\n",
       "    .dataframe thead th {\n",
       "        text-align: right;\n",
       "    }\n",
       "</style>\n",
       "<table border=\"1\" class=\"dataframe\">\n",
       "  <thead>\n",
       "    <tr style=\"text-align: right;\">\n",
       "      <th></th>\n",
       "      <th>dataFeatures</th>\n",
       "      <th>dataType</th>\n",
       "      <th>null</th>\n",
       "      <th>nullPct</th>\n",
       "      <th>unique</th>\n",
       "      <th>uniqueSample</th>\n",
       "    </tr>\n",
       "  </thead>\n",
       "  <tbody>\n",
       "    <tr>\n",
       "      <th>0</th>\n",
       "      <td>datesold</td>\n",
       "      <td>object</td>\n",
       "      <td>0</td>\n",
       "      <td>0.00</td>\n",
       "      <td>3851</td>\n",
       "      <td>[15/10/2011, 20/02/2019]</td>\n",
       "    </tr>\n",
       "    <tr>\n",
       "      <th>1</th>\n",
       "      <td>price</td>\n",
       "      <td>float64</td>\n",
       "      <td>743</td>\n",
       "      <td>1.72</td>\n",
       "      <td>2701</td>\n",
       "      <td>[451000.0, 247500.0]</td>\n",
       "    </tr>\n",
       "    <tr>\n",
       "      <th>2</th>\n",
       "      <td>suburb</td>\n",
       "      <td>object</td>\n",
       "      <td>0</td>\n",
       "      <td>0.00</td>\n",
       "      <td>107</td>\n",
       "      <td>[Gowrie, Higgins]</td>\n",
       "    </tr>\n",
       "    <tr>\n",
       "      <th>3</th>\n",
       "      <td>postcode</td>\n",
       "      <td>int64</td>\n",
       "      <td>0</td>\n",
       "      <td>0.00</td>\n",
       "      <td>32</td>\n",
       "      <td>[2612, 2603]</td>\n",
       "    </tr>\n",
       "    <tr>\n",
       "      <th>4</th>\n",
       "      <td>lat</td>\n",
       "      <td>float64</td>\n",
       "      <td>1145</td>\n",
       "      <td>2.65</td>\n",
       "      <td>29673</td>\n",
       "      <td>[-35.205605, -35.184804]</td>\n",
       "    </tr>\n",
       "    <tr>\n",
       "      <th>5</th>\n",
       "      <td>lon</td>\n",
       "      <td>float64</td>\n",
       "      <td>1145</td>\n",
       "      <td>2.65</td>\n",
       "      <td>28505</td>\n",
       "      <td>[149.145093, 149.097961]</td>\n",
       "    </tr>\n",
       "    <tr>\n",
       "      <th>6</th>\n",
       "      <td>parking</td>\n",
       "      <td>int64</td>\n",
       "      <td>0</td>\n",
       "      <td>0.00</td>\n",
       "      <td>18</td>\n",
       "      <td>[3, 8]</td>\n",
       "    </tr>\n",
       "    <tr>\n",
       "      <th>7</th>\n",
       "      <td>bathrooms</td>\n",
       "      <td>float64</td>\n",
       "      <td>679</td>\n",
       "      <td>1.57</td>\n",
       "      <td>9</td>\n",
       "      <td>[5.0, 4.0]</td>\n",
       "    </tr>\n",
       "    <tr>\n",
       "      <th>8</th>\n",
       "      <td>bedrooms</td>\n",
       "      <td>int64</td>\n",
       "      <td>0</td>\n",
       "      <td>0.00</td>\n",
       "      <td>13</td>\n",
       "      <td>[7, 3]</td>\n",
       "    </tr>\n",
       "    <tr>\n",
       "      <th>9</th>\n",
       "      <td>propertyType</td>\n",
       "      <td>object</td>\n",
       "      <td>0</td>\n",
       "      <td>0.00</td>\n",
       "      <td>2</td>\n",
       "      <td>[unit, house]</td>\n",
       "    </tr>\n",
       "    <tr>\n",
       "      <th>10</th>\n",
       "      <td>suburbid</td>\n",
       "      <td>object</td>\n",
       "      <td>0</td>\n",
       "      <td>0.00</td>\n",
       "      <td>107</td>\n",
       "      <td>[ACT447, ACT616]</td>\n",
       "    </tr>\n",
       "  </tbody>\n",
       "</table>\n",
       "</div>"
      ],
      "text/plain": [
       "    dataFeatures dataType   null  nullPct  unique              uniqueSample\n",
       "0       datesold   object      0     0.00    3851  [15/10/2011, 20/02/2019]\n",
       "1          price  float64    743     1.72    2701      [451000.0, 247500.0]\n",
       "2         suburb   object      0     0.00     107         [Gowrie, Higgins]\n",
       "3       postcode    int64      0     0.00      32              [2612, 2603]\n",
       "4            lat  float64   1145     2.65   29673  [-35.205605, -35.184804]\n",
       "5            lon  float64   1145     2.65   28505  [149.145093, 149.097961]\n",
       "6        parking    int64      0     0.00      18                    [3, 8]\n",
       "7      bathrooms  float64    679     1.57       9                [5.0, 4.0]\n",
       "8       bedrooms    int64      0     0.00      13                    [7, 3]\n",
       "9   propertyType   object      0     0.00       2             [unit, house]\n",
       "10      suburbid   object      0     0.00     107          [ACT447, ACT616]"
      ]
     },
     "execution_count": 6,
     "metadata": {},
     "output_type": "execute_result"
    }
   ],
   "source": [
    "# Checking raw datasets\n",
    "\n",
    "desc = []\n",
    "for i in raw_df.columns:\n",
    "    desc.append([i,\n",
    "                     raw_df[i].dtypes,\n",
    "                     raw_df[i].isna().sum(),\n",
    "                     round((raw_df[i].isna().sum())/len(raw_df)*100,2),\n",
    "                     raw_df[i].nunique(),\n",
    "                     raw_df[i].drop_duplicates().sample(2).values])\n",
    "pd.DataFrame(desc, columns = ['dataFeatures', 'dataType',' null', 'nullPct', 'unique', 'uniqueSample'])"
   ]
  },
  {
   "cell_type": "code",
   "execution_count": 7,
   "metadata": {},
   "outputs": [
    {
     "data": {
      "image/png": "[encoded data removed]",
      "text/plain": [
       "<Figure size 1080x576 with 1 Axes>"
      ]
     },
     "metadata": {
      "needs_background": "light"
     },
     "output_type": "display_data"
    }
   ],
   "source": [
    "plt.figure(figsize=(15,8))\n",
    "sns.heatmap(raw_df.isnull(), yticklabels=False, cbar=False, cmap='viridis')\n",
    "plt.show()"
   ]
  },
  {
   "cell_type": "code",
   "execution_count": 8,
   "metadata": {},
   "outputs": [
    {
     "data": {
      "text/plain": [
       "datesold           0\n",
       "price            743\n",
       "suburb             0\n",
       "postcode           0\n",
       "lat             1145\n",
       "lon             1145\n",
       "parking            0\n",
       "bathrooms        679\n",
       "bedrooms           0\n",
       "propertyType       0\n",
       "suburbid           0\n",
       "dtype: int64"
      ]
     },
     "execution_count": 8,
     "metadata": {},
     "output_type": "execute_result"
    }
   ],
   "source": [
    "raw_df.isna().sum()"
   ]
  },
  {
   "cell_type": "code",
   "execution_count": 9,
   "metadata": {},
   "outputs": [],
   "source": [
    "df = raw_df.copy()"
   ]
  },
  {
   "cell_type": "markdown",
   "metadata": {},
   "source": [
    "- __Determining Numerical and Categorical Features:__"
   ]
  },
  {
   "cell_type": "code",
   "execution_count": 10,
   "metadata": {},
   "outputs": [
    {
     "data": {
      "text/plain": [
       "11"
      ]
     },
     "execution_count": 10,
     "metadata": {},
     "output_type": "execute_result"
    }
   ],
   "source": [
    "len(df.columns)  # checking"
   ]
  },
  {
   "cell_type": "code",
   "execution_count": 11,
   "metadata": {},
   "outputs": [],
   "source": [
    "categorical_columns = list(df.describe(exclude='number').columns)\n",
    "numerical_columns = list(df.describe().columns)"
   ]
  },
  {
   "cell_type": "code",
   "execution_count": 12,
   "metadata": {},
   "outputs": [],
   "source": [
    "numerical_columns.remove('postcode')\n",
    "categorical_columns.append('postcode')"
   ]
  },
  {
   "cell_type": "code",
   "execution_count": 13,
   "metadata": {},
   "outputs": [
    {
     "data": {
      "text/plain": [
       "(['datesold', 'suburb', 'propertyType', 'suburbid', 'postcode'], 5)"
      ]
     },
     "execution_count": 13,
     "metadata": {},
     "output_type": "execute_result"
    }
   ],
   "source": [
    "categorical_columns, len(categorical_columns)"
   ]
  },
  {
   "cell_type": "code",
   "execution_count": 14,
   "metadata": {},
   "outputs": [
    {
     "data": {
      "text/plain": [
       "(['price', 'lat', 'lon', 'parking', 'bathrooms', 'bedrooms'], 6)"
      ]
     },
     "execution_count": 14,
     "metadata": {},
     "output_type": "execute_result"
    }
   ],
   "source": [
    "numerical_columns, len(numerical_columns)"
   ]
  },
  {
   "cell_type": "markdown",
   "metadata": {},
   "source": [
    "- __Checking the Distribution of the Datasets Numerical Features Through Bar Plots:__"
   ]
  },
  {
   "cell_type": "code",
   "execution_count": 15,
   "metadata": {},
   "outputs": [
    {
     "data": {
      "image/png": "[encoded data removed]",
      "text/plain": [
       "<Figure size 576x576 with 1 Axes>"
      ]
     },
     "metadata": {
      "needs_background": "light"
     },
     "output_type": "display_data"
    },
    {
     "data": {
      "image/png": "[encoded data removed]",
      "text/plain": [
       "<Figure size 576x576 with 1 Axes>"
      ]
     },
     "metadata": {
      "needs_background": "light"
     },
     "output_type": "display_data"
    },
    {
     "data": {
      "image/png": "[encoded data removed]",
      "text/plain": [
       "<Figure size 576x576 with 1 Axes>"
      ]
     },
     "metadata": {
      "needs_background": "light"
     },
     "output_type": "display_data"
    },
    {
     "data": {
      "image/png": "[encoded data removed]",
      "text/plain": [
       "<Figure size 576x576 with 1 Axes>"
      ]
     },
     "metadata": {
      "needs_background": "light"
     },
     "output_type": "display_data"
    },
    {
     "data": {
      "image/png": "[encoded data removed]",
      "text/plain": [
       "<Figure size 576x576 with 1 Axes>"
      ]
     },
     "metadata": {
      "needs_background": "light"
     },
     "output_type": "display_data"
    },
    {
     "data": {
      "image/png": "[encoded data removed]",
      "text/plain": [
       "<Figure size 576x576 with 1 Axes>"
      ]
     },
     "metadata": {
      "needs_background": "light"
     },
     "output_type": "display_data"
    }
   ],
   "source": [
    "for i in numerical_columns:\n",
    "    plt.figure(figsize = (8,8))\n",
    "    sns.distplot(df[i], kde=False)"
   ]
  },
  {
   "cell_type": "markdown",
   "metadata": {},
   "source": [
    "- __Using Scatter Plot to See the Relationship Between 'price' Column and Other Numerical Columns:__"
   ]
  },
  {
   "cell_type": "code",
   "execution_count": 16,
   "metadata": {},
   "outputs": [],
   "source": [
    "numerical_columns_noprice = numerical_columns.copy()"
   ]
  },
  {
   "cell_type": "code",
   "execution_count": 17,
   "metadata": {},
   "outputs": [],
   "source": [
    "numerical_columns_noprice.remove('price')"
   ]
  },
  {
   "cell_type": "code",
   "execution_count": 18,
   "metadata": {},
   "outputs": [
    {
     "data": {
      "text/plain": [
       "['lat', 'lon', 'parking', 'bathrooms', 'bedrooms']"
      ]
     },
     "execution_count": 18,
     "metadata": {},
     "output_type": "execute_result"
    }
   ],
   "source": [
    "numerical_columns_noprice"
   ]
  },
  {
   "cell_type": "code",
   "execution_count": 19,
   "metadata": {},
   "outputs": [
    {
     "data": {
      "image/png": "[encoded data removed]",
      "text/plain": [
       "<Figure size 432x288 with 1 Axes>"
      ]
     },
     "metadata": {
      "needs_background": "light"
     },
     "output_type": "display_data"
    },
    {
     "data": {
      "image/png": "[encoded data removed]",
      "text/plain": [
       "<Figure size 432x288 with 1 Axes>"
      ]
     },
     "metadata": {
      "needs_background": "light"
     },
     "output_type": "display_data"
    },
    {
     "data": {
      "image/png": "[encoded data removed]",
      "text/plain": [
       "<Figure size 432x288 with 1 Axes>"
      ]
     },
     "metadata": {
      "needs_background": "light"
     },
     "output_type": "display_data"
    },
    {
     "data": {
      "image/png": "[encoded data removed]",
      "text/plain": [
       "<Figure size 432x288 with 1 Axes>"
      ]
     },
     "metadata": {
      "needs_background": "light"
     },
     "output_type": "display_data"
    },
    {
     "data": {
      "image/png": "[encoded data removed]",
      "text/plain": [
       "<Figure size 432x288 with 1 Axes>"
      ]
     },
     "metadata": {
      "needs_background": "light"
     },
     "output_type": "display_data"
    }
   ],
   "source": [
    "for i in numerical_columns_noprice:\n",
    "    sns.scatterplot(df[i], df['price'])\n",
    "    plt.show()"
   ]
  },
  {
   "cell_type": "markdown",
   "metadata": {},
   "source": [
    "- __Checking Numerical Features Through Describe Method:__"
   ]
  },
  {
   "cell_type": "code",
   "execution_count": 20,
   "metadata": {},
   "outputs": [
    {
     "data": {
      "text/html": [
       "<div>\n",
       "<style scoped>\n",
       "    .dataframe tbody tr th:only-of-type {\n",
       "        vertical-align: middle;\n",
       "    }\n",
       "\n",
       "    .dataframe tbody tr th {\n",
       "        vertical-align: top;\n",
       "    }\n",
       "\n",
       "    .dataframe thead th {\n",
       "        text-align: right;\n",
       "    }\n",
       "</style>\n",
       "<table border=\"1\" class=\"dataframe\">\n",
       "  <thead>\n",
       "    <tr style=\"text-align: right;\">\n",
       "      <th></th>\n",
       "      <th>price</th>\n",
       "      <th>lat</th>\n",
       "      <th>lon</th>\n",
       "      <th>parking</th>\n",
       "      <th>bathrooms</th>\n",
       "      <th>bedrooms</th>\n",
       "    </tr>\n",
       "  </thead>\n",
       "  <tbody>\n",
       "    <tr>\n",
       "      <th>count</th>\n",
       "      <td>4.243500e+04</td>\n",
       "      <td>42033.000000</td>\n",
       "      <td>42033.000000</td>\n",
       "      <td>43178.000000</td>\n",
       "      <td>42499.000000</td>\n",
       "      <td>43178.000000</td>\n",
       "    </tr>\n",
       "    <tr>\n",
       "      <th>mean</th>\n",
       "      <td>6.037398e+05</td>\n",
       "      <td>-35.293447</td>\n",
       "      <td>149.096122</td>\n",
       "      <td>1.760017</td>\n",
       "      <td>1.643403</td>\n",
       "      <td>3.193501</td>\n",
       "    </tr>\n",
       "    <tr>\n",
       "      <th>std</th>\n",
       "      <td>3.139764e+05</td>\n",
       "      <td>0.091796</td>\n",
       "      <td>0.040526</td>\n",
       "      <td>0.937361</td>\n",
       "      <td>0.644463</td>\n",
       "      <td>0.990638</td>\n",
       "    </tr>\n",
       "    <tr>\n",
       "      <th>min</th>\n",
       "      <td>5.000000e+04</td>\n",
       "      <td>-35.509975</td>\n",
       "      <td>148.921424</td>\n",
       "      <td>0.000000</td>\n",
       "      <td>1.000000</td>\n",
       "      <td>0.000000</td>\n",
       "    </tr>\n",
       "    <tr>\n",
       "      <th>25%</th>\n",
       "      <td>4.300000e+05</td>\n",
       "      <td>-35.363857</td>\n",
       "      <td>149.067390</td>\n",
       "      <td>1.000000</td>\n",
       "      <td>1.000000</td>\n",
       "      <td>3.000000</td>\n",
       "    </tr>\n",
       "    <tr>\n",
       "      <th>50%</th>\n",
       "      <td>5.390000e+05</td>\n",
       "      <td>-35.270536</td>\n",
       "      <td>149.099522</td>\n",
       "      <td>2.000000</td>\n",
       "      <td>2.000000</td>\n",
       "      <td>3.000000</td>\n",
       "    </tr>\n",
       "    <tr>\n",
       "      <th>75%</th>\n",
       "      <td>6.760000e+05</td>\n",
       "      <td>-35.212323</td>\n",
       "      <td>149.130708</td>\n",
       "      <td>2.000000</td>\n",
       "      <td>2.000000</td>\n",
       "      <td>4.000000</td>\n",
       "    </tr>\n",
       "    <tr>\n",
       "      <th>max</th>\n",
       "      <td>8.000000e+06</td>\n",
       "      <td>-35.138572</td>\n",
       "      <td>149.250290</td>\n",
       "      <td>31.000000</td>\n",
       "      <td>21.000000</td>\n",
       "      <td>14.000000</td>\n",
       "    </tr>\n",
       "  </tbody>\n",
       "</table>\n",
       "</div>"
      ],
      "text/plain": [
       "              price           lat           lon       parking     bathrooms  \\\n",
       "count  4.243500e+04  42033.000000  42033.000000  43178.000000  42499.000000   \n",
       "mean   6.037398e+05    -35.293447    149.096122      1.760017      1.643403   \n",
       "std    3.139764e+05      0.091796      0.040526      0.937361      0.644463   \n",
       "min    5.000000e+04    -35.509975    148.921424      0.000000      1.000000   \n",
       "25%    4.300000e+05    -35.363857    149.067390      1.000000      1.000000   \n",
       "50%    5.390000e+05    -35.270536    149.099522      2.000000      2.000000   \n",
       "75%    6.760000e+05    -35.212323    149.130708      2.000000      2.000000   \n",
       "max    8.000000e+06    -35.138572    149.250290     31.000000     21.000000   \n",
       "\n",
       "           bedrooms  \n",
       "count  43178.000000  \n",
       "mean       3.193501  \n",
       "std        0.990638  \n",
       "min        0.000000  \n",
       "25%        3.000000  \n",
       "50%        3.000000  \n",
       "75%        4.000000  \n",
       "max       14.000000  "
      ]
     },
     "execution_count": 20,
     "metadata": {},
     "output_type": "execute_result"
    }
   ],
   "source": [
    "df[numerical_columns].describe()"
   ]
  },
  {
   "cell_type": "markdown",
   "metadata": {},
   "source": [
    "- __Checking Categorical Features Through Describe Method:__"
   ]
  },
  {
   "cell_type": "code",
   "execution_count": 21,
   "metadata": {},
   "outputs": [
    {
     "data": {
      "text/html": [
       "<div>\n",
       "<style scoped>\n",
       "    .dataframe tbody tr th:only-of-type {\n",
       "        vertical-align: middle;\n",
       "    }\n",
       "\n",
       "    .dataframe tbody tr th {\n",
       "        vertical-align: top;\n",
       "    }\n",
       "\n",
       "    .dataframe thead th {\n",
       "        text-align: right;\n",
       "    }\n",
       "</style>\n",
       "<table border=\"1\" class=\"dataframe\">\n",
       "  <thead>\n",
       "    <tr style=\"text-align: right;\">\n",
       "      <th></th>\n",
       "      <th>datesold</th>\n",
       "      <th>suburb</th>\n",
       "      <th>propertyType</th>\n",
       "      <th>suburbid</th>\n",
       "      <th>postcode</th>\n",
       "    </tr>\n",
       "  </thead>\n",
       "  <tbody>\n",
       "    <tr>\n",
       "      <th>count</th>\n",
       "      <td>43178</td>\n",
       "      <td>43178</td>\n",
       "      <td>43178</td>\n",
       "      <td>43178</td>\n",
       "      <td>43178.000000</td>\n",
       "    </tr>\n",
       "    <tr>\n",
       "      <th>unique</th>\n",
       "      <td>3851</td>\n",
       "      <td>107</td>\n",
       "      <td>2</td>\n",
       "      <td>107</td>\n",
       "      <td>NaN</td>\n",
       "    </tr>\n",
       "    <tr>\n",
       "      <th>top</th>\n",
       "      <td>28/10/2017</td>\n",
       "      <td>Kambah</td>\n",
       "      <td>house</td>\n",
       "      <td>ACT601</td>\n",
       "      <td>NaN</td>\n",
       "    </tr>\n",
       "    <tr>\n",
       "      <th>freq</th>\n",
       "      <td>56</td>\n",
       "      <td>1404</td>\n",
       "      <td>36236</td>\n",
       "      <td>1404</td>\n",
       "      <td>NaN</td>\n",
       "    </tr>\n",
       "    <tr>\n",
       "      <th>mean</th>\n",
       "      <td>NaN</td>\n",
       "      <td>NaN</td>\n",
       "      <td>NaN</td>\n",
       "      <td>NaN</td>\n",
       "      <td>2728.855644</td>\n",
       "    </tr>\n",
       "    <tr>\n",
       "      <th>std</th>\n",
       "      <td>NaN</td>\n",
       "      <td>NaN</td>\n",
       "      <td>NaN</td>\n",
       "      <td>NaN</td>\n",
       "      <td>146.564444</td>\n",
       "    </tr>\n",
       "    <tr>\n",
       "      <th>min</th>\n",
       "      <td>NaN</td>\n",
       "      <td>NaN</td>\n",
       "      <td>NaN</td>\n",
       "      <td>NaN</td>\n",
       "      <td>2092.000000</td>\n",
       "    </tr>\n",
       "    <tr>\n",
       "      <th>25%</th>\n",
       "      <td>NaN</td>\n",
       "      <td>NaN</td>\n",
       "      <td>NaN</td>\n",
       "      <td>NaN</td>\n",
       "      <td>2607.000000</td>\n",
       "    </tr>\n",
       "    <tr>\n",
       "      <th>50%</th>\n",
       "      <td>NaN</td>\n",
       "      <td>NaN</td>\n",
       "      <td>NaN</td>\n",
       "      <td>NaN</td>\n",
       "      <td>2615.000000</td>\n",
       "    </tr>\n",
       "    <tr>\n",
       "      <th>75%</th>\n",
       "      <td>NaN</td>\n",
       "      <td>NaN</td>\n",
       "      <td>NaN</td>\n",
       "      <td>NaN</td>\n",
       "      <td>2905.000000</td>\n",
       "    </tr>\n",
       "    <tr>\n",
       "      <th>max</th>\n",
       "      <td>NaN</td>\n",
       "      <td>NaN</td>\n",
       "      <td>NaN</td>\n",
       "      <td>NaN</td>\n",
       "      <td>2914.000000</td>\n",
       "    </tr>\n",
       "  </tbody>\n",
       "</table>\n",
       "</div>"
      ],
      "text/plain": [
       "          datesold  suburb propertyType suburbid      postcode\n",
       "count        43178   43178        43178    43178  43178.000000\n",
       "unique        3851     107            2      107           NaN\n",
       "top     28/10/2017  Kambah        house   ACT601           NaN\n",
       "freq            56    1404        36236     1404           NaN\n",
       "mean           NaN     NaN          NaN      NaN   2728.855644\n",
       "std            NaN     NaN          NaN      NaN    146.564444\n",
       "min            NaN     NaN          NaN      NaN   2092.000000\n",
       "25%            NaN     NaN          NaN      NaN   2607.000000\n",
       "50%            NaN     NaN          NaN      NaN   2615.000000\n",
       "75%            NaN     NaN          NaN      NaN   2905.000000\n",
       "max            NaN     NaN          NaN      NaN   2914.000000"
      ]
     },
     "execution_count": 21,
     "metadata": {},
     "output_type": "execute_result"
    }
   ],
   "source": [
    "df[categorical_columns].describe(include='all')"
   ]
  },
  {
   "cell_type": "code",
   "execution_count": 22,
   "metadata": {},
   "outputs": [
    {
     "data": {
      "image/png": "[encoded data removed]",
      "text/plain": [
       "<Figure size 720x432 with 2 Axes>"
      ]
     },
     "metadata": {
      "needs_background": "light"
     },
     "output_type": "display_data"
    }
   ],
   "source": [
    "# Correlation Inspection\n",
    "\n",
    "target = 'price'\n",
    "k = 7 # number of variables for heatmap\n",
    "cols = df[numerical_columns].corr().nlargest(k, target)[target].index\n",
    "cm = df[cols].corr()\n",
    "plt.figure(figsize=(10,6))\n",
    "sns.heatmap(cm, annot=True, cmap = 'viridis')\n",
    "plt.title('Correlation')\n",
    "plt.show()"
   ]
  },
  {
   "cell_type": "markdown",
   "metadata": {},
   "source": [
    "Through this heatmap it can be seen that 'lat', and 'lon' columns have relatively small correlation with the 'price' column, while 'bedrooms' has the highest."
   ]
  },
  {
   "cell_type": "markdown",
   "metadata": {},
   "source": [
    "> #### Removing Features"
   ]
  },
  {
   "cell_type": "markdown",
   "metadata": {},
   "source": [
    "- __Checking the Features:__"
   ]
  },
  {
   "cell_type": "code",
   "execution_count": 23,
   "metadata": {},
   "outputs": [
    {
     "data": {
      "text/plain": [
       "['datesold', 'suburb', 'propertyType', 'suburbid', 'postcode']"
      ]
     },
     "execution_count": 23,
     "metadata": {},
     "output_type": "execute_result"
    }
   ],
   "source": [
    "categorical_columns"
   ]
  },
  {
   "cell_type": "code",
   "execution_count": 24,
   "metadata": {},
   "outputs": [
    {
     "data": {
      "text/plain": [
       "['price', 'lat', 'lon', 'parking', 'bathrooms', 'bedrooms']"
      ]
     },
     "execution_count": 24,
     "metadata": {},
     "output_type": "execute_result"
    }
   ],
   "source": [
    "numerical_columns"
   ]
  },
  {
   "cell_type": "markdown",
   "metadata": {},
   "source": [
    "- __Removing 'datesold' and 'suburbid' features:__"
   ]
  },
  {
   "cell_type": "code",
   "execution_count": 25,
   "metadata": {},
   "outputs": [
    {
     "name": "stdout",
     "output_type": "stream",
     "text": [
      "Number of unique values in 'suburb' column:  107\n",
      "Number of unique values in 'suburbid' column:  107\n"
     ]
    }
   ],
   "source": [
    "print(\"Number of unique values in 'suburb' column: \", df['suburb'].nunique())\n",
    "print(\"Number of unique values in 'suburbid' column: \", df['suburbid'].nunique())"
   ]
  },
  {
   "cell_type": "code",
   "execution_count": 26,
   "metadata": {},
   "outputs": [],
   "source": [
    "categorical_columns.remove('datesold')\n",
    "categorical_columns.remove('suburbid')"
   ]
  },
  {
   "cell_type": "code",
   "execution_count": 27,
   "metadata": {},
   "outputs": [
    {
     "data": {
      "text/plain": [
       "['suburb', 'propertyType', 'postcode']"
      ]
     },
     "execution_count": 27,
     "metadata": {},
     "output_type": "execute_result"
    }
   ],
   "source": [
    "categorical_columns"
   ]
  },
  {
   "cell_type": "markdown",
   "metadata": {},
   "source": [
    "'datesold' column is going to be dropped since this feature only beneficial for data analysis and visualization stages; and not in modelling phase. In addition, 'suburbid' feature is also going to be removed since it is just conveying the id of suburbs in 'suburb' column."
   ]
  },
  {
   "cell_type": "markdown",
   "metadata": {},
   "source": [
    "- __Removing 'postcode' feature:__"
   ]
  },
  {
   "cell_type": "code",
   "execution_count": 28,
   "metadata": {},
   "outputs": [
    {
     "name": "stdout",
     "output_type": "stream",
     "text": [
      "Number of unique values in 'suburb' column:  107\n",
      "Number of unique values in 'postcode' column:  32\n"
     ]
    }
   ],
   "source": [
    "print(\"Number of unique values in 'suburb' column: \", df['suburb'].nunique())\n",
    "print(\"Number of unique values in 'postcode' column: \", df['postcode'].nunique())"
   ]
  },
  {
   "cell_type": "code",
   "execution_count": 29,
   "metadata": {},
   "outputs": [],
   "source": [
    "categorical_columns.remove('postcode')"
   ]
  },
  {
   "cell_type": "code",
   "execution_count": 30,
   "metadata": {},
   "outputs": [
    {
     "data": {
      "text/plain": [
       "['suburb', 'propertyType']"
      ]
     },
     "execution_count": 30,
     "metadata": {},
     "output_type": "execute_result"
    }
   ],
   "source": [
    "categorical_columns"
   ]
  },
  {
   "cell_type": "markdown",
   "metadata": {},
   "source": [
    "At this stage, 'postcode' feature is going to be deleted since it covers Canberra area significantly wider than 'suburb' feature, thus it lacks precision. This machine learning model will rely on 'suburb' feature to categorize real estate properties which are being sold in Canberra."
   ]
  },
  {
   "cell_type": "markdown",
   "metadata": {},
   "source": [
    "- __Removing 'lat' and 'lon' features:__"
   ]
  },
  {
   "cell_type": "code",
   "execution_count": 31,
   "metadata": {},
   "outputs": [],
   "source": [
    "numerical_columns.remove('lat')\n",
    "numerical_columns.remove('lon')"
   ]
  },
  {
   "cell_type": "code",
   "execution_count": 32,
   "metadata": {},
   "outputs": [
    {
     "data": {
      "text/plain": [
       "['price', 'parking', 'bathrooms', 'bedrooms']"
      ]
     },
     "execution_count": 32,
     "metadata": {},
     "output_type": "execute_result"
    }
   ],
   "source": [
    "numerical_columns"
   ]
  },
  {
   "cell_type": "markdown",
   "metadata": {},
   "source": [
    "As 'lat' and 'lon' columns have low correlation values with 'price' column and this machine learning model is going to solely rely on 'suburb' as the main feature to categorize properties that are being sold in Canberra, both of them are going to be removed."
   ]
  },
  {
   "cell_type": "code",
   "execution_count": 34,
   "metadata": {},
   "outputs": [
    {
     "data": {
      "text/html": [
       "<div>\n",
       "<style scoped>\n",
       "    .dataframe tbody tr th:only-of-type {\n",
       "        vertical-align: middle;\n",
       "    }\n",
       "\n",
       "    .dataframe tbody tr th {\n",
       "        vertical-align: top;\n",
       "    }\n",
       "\n",
       "    .dataframe thead th {\n",
       "        text-align: right;\n",
       "    }\n",
       "</style>\n",
       "<table border=\"1\" class=\"dataframe\">\n",
       "  <thead>\n",
       "    <tr style=\"text-align: right;\">\n",
       "      <th></th>\n",
       "      <th>datesold</th>\n",
       "      <th>price</th>\n",
       "      <th>suburb</th>\n",
       "      <th>postcode</th>\n",
       "      <th>lat</th>\n",
       "      <th>lon</th>\n",
       "      <th>parking</th>\n",
       "      <th>bathrooms</th>\n",
       "      <th>bedrooms</th>\n",
       "      <th>propertyType</th>\n",
       "      <th>suburbid</th>\n",
       "    </tr>\n",
       "  </thead>\n",
       "  <tbody>\n",
       "    <tr>\n",
       "      <th>0</th>\n",
       "      <td>9/06/2000</td>\n",
       "      <td>223000.0</td>\n",
       "      <td>Nicholls</td>\n",
       "      <td>2913</td>\n",
       "      <td>NaN</td>\n",
       "      <td>NaN</td>\n",
       "      <td>2</td>\n",
       "      <td>2.0</td>\n",
       "      <td>4</td>\n",
       "      <td>house</td>\n",
       "      <td>ACT708</td>\n",
       "    </tr>\n",
       "    <tr>\n",
       "      <th>1</th>\n",
       "      <td>1/01/2001</td>\n",
       "      <td>350000.0</td>\n",
       "      <td>Ngunnawal</td>\n",
       "      <td>2913</td>\n",
       "      <td>NaN</td>\n",
       "      <td>NaN</td>\n",
       "      <td>1</td>\n",
       "      <td>NaN</td>\n",
       "      <td>3</td>\n",
       "      <td>house</td>\n",
       "      <td>ACT706</td>\n",
       "    </tr>\n",
       "    <tr>\n",
       "      <th>2</th>\n",
       "      <td>11/12/2003</td>\n",
       "      <td>550000.0</td>\n",
       "      <td>Weston</td>\n",
       "      <td>2611</td>\n",
       "      <td>NaN</td>\n",
       "      <td>NaN</td>\n",
       "      <td>2</td>\n",
       "      <td>NaN</td>\n",
       "      <td>4</td>\n",
       "      <td>house</td>\n",
       "      <td>ACT441</td>\n",
       "    </tr>\n",
       "    <tr>\n",
       "      <th>3</th>\n",
       "      <td>21/09/2005</td>\n",
       "      <td>276000.0</td>\n",
       "      <td>Isabella Plains</td>\n",
       "      <td>2905</td>\n",
       "      <td>NaN</td>\n",
       "      <td>NaN</td>\n",
       "      <td>1</td>\n",
       "      <td>1.0</td>\n",
       "      <td>3</td>\n",
       "      <td>house</td>\n",
       "      <td>ACT612</td>\n",
       "    </tr>\n",
       "    <tr>\n",
       "      <th>4</th>\n",
       "      <td>1/11/2005</td>\n",
       "      <td>400000.0</td>\n",
       "      <td>Conder</td>\n",
       "      <td>2906</td>\n",
       "      <td>NaN</td>\n",
       "      <td>NaN</td>\n",
       "      <td>2</td>\n",
       "      <td>NaN</td>\n",
       "      <td>5</td>\n",
       "      <td>house</td>\n",
       "      <td>ACT613</td>\n",
       "    </tr>\n",
       "  </tbody>\n",
       "</table>\n",
       "</div>"
      ],
      "text/plain": [
       "     datesold     price           suburb  postcode  lat  lon  parking  \\\n",
       "0   9/06/2000  223000.0         Nicholls      2913  NaN  NaN        2   \n",
       "1   1/01/2001  350000.0        Ngunnawal      2913  NaN  NaN        1   \n",
       "2  11/12/2003  550000.0           Weston      2611  NaN  NaN        2   \n",
       "3  21/09/2005  276000.0  Isabella Plains      2905  NaN  NaN        1   \n",
       "4   1/11/2005  400000.0           Conder      2906  NaN  NaN        2   \n",
       "\n",
       "   bathrooms  bedrooms propertyType suburbid  \n",
       "0        2.0         4        house   ACT708  \n",
       "1        NaN         3        house   ACT706  \n",
       "2        NaN         4        house   ACT441  \n",
       "3        1.0         3        house   ACT612  \n",
       "4        NaN         5        house   ACT613  "
      ]
     },
     "execution_count": 34,
     "metadata": {},
     "output_type": "execute_result"
    }
   ],
   "source": [
    "df.head()"
   ]
  },
  {
   "cell_type": "markdown",
   "metadata": {},
   "source": [
    "- __Updating Data Frame:__"
   ]
  },
  {
   "cell_type": "code",
   "execution_count": 35,
   "metadata": {},
   "outputs": [],
   "source": [
    "df_numerical = df[numerical_columns]\n",
    "df_categorical = df[categorical_columns]\n",
    "df = pd.concat([df_numerical, df_categorical], axis=1)"
   ]
  },
  {
   "cell_type": "code",
   "execution_count": 36,
   "metadata": {},
   "outputs": [
    {
     "data": {
      "text/html": [
       "<div>\n",
       "<style scoped>\n",
       "    .dataframe tbody tr th:only-of-type {\n",
       "        vertical-align: middle;\n",
       "    }\n",
       "\n",
       "    .dataframe tbody tr th {\n",
       "        vertical-align: top;\n",
       "    }\n",
       "\n",
       "    .dataframe thead th {\n",
       "        text-align: right;\n",
       "    }\n",
       "</style>\n",
       "<table border=\"1\" class=\"dataframe\">\n",
       "  <thead>\n",
       "    <tr style=\"text-align: right;\">\n",
       "      <th></th>\n",
       "      <th>price</th>\n",
       "      <th>parking</th>\n",
       "      <th>bathrooms</th>\n",
       "      <th>bedrooms</th>\n",
       "      <th>suburb</th>\n",
       "      <th>propertyType</th>\n",
       "    </tr>\n",
       "  </thead>\n",
       "  <tbody>\n",
       "    <tr>\n",
       "      <th>0</th>\n",
       "      <td>223000.0</td>\n",
       "      <td>2</td>\n",
       "      <td>2.0</td>\n",
       "      <td>4</td>\n",
       "      <td>Nicholls</td>\n",
       "      <td>house</td>\n",
       "    </tr>\n",
       "    <tr>\n",
       "      <th>1</th>\n",
       "      <td>350000.0</td>\n",
       "      <td>1</td>\n",
       "      <td>NaN</td>\n",
       "      <td>3</td>\n",
       "      <td>Ngunnawal</td>\n",
       "      <td>house</td>\n",
       "    </tr>\n",
       "    <tr>\n",
       "      <th>2</th>\n",
       "      <td>550000.0</td>\n",
       "      <td>2</td>\n",
       "      <td>NaN</td>\n",
       "      <td>4</td>\n",
       "      <td>Weston</td>\n",
       "      <td>house</td>\n",
       "    </tr>\n",
       "  </tbody>\n",
       "</table>\n",
       "</div>"
      ],
      "text/plain": [
       "      price  parking  bathrooms  bedrooms     suburb propertyType\n",
       "0  223000.0        2        2.0         4   Nicholls        house\n",
       "1  350000.0        1        NaN         3  Ngunnawal        house\n",
       "2  550000.0        2        NaN         4     Weston        house"
      ]
     },
     "execution_count": 36,
     "metadata": {},
     "output_type": "execute_result"
    }
   ],
   "source": [
    "df.head(3)"
   ]
  },
  {
   "cell_type": "markdown",
   "metadata": {},
   "source": [
    "> #### Removing Missing Values"
   ]
  },
  {
   "cell_type": "markdown",
   "metadata": {},
   "source": [
    "- __Removing Missing Values in 'price' column:__"
   ]
  },
  {
   "cell_type": "code",
   "execution_count": 37,
   "metadata": {},
   "outputs": [
    {
     "data": {
      "text/plain": [
       "price           743\n",
       "parking           0\n",
       "bathrooms       679\n",
       "bedrooms          0\n",
       "suburb            0\n",
       "propertyType      0\n",
       "dtype: int64"
      ]
     },
     "execution_count": 37,
     "metadata": {},
     "output_type": "execute_result"
    }
   ],
   "source": [
    "df.isna().sum()"
   ]
  },
  {
   "cell_type": "code",
   "execution_count": 44,
   "metadata": {},
   "outputs": [],
   "source": [
    "df.dropna(subset=['price'], inplace=True)"
   ]
  },
  {
   "cell_type": "code",
   "execution_count": 45,
   "metadata": {},
   "outputs": [
    {
     "data": {
      "text/plain": [
       "price             0\n",
       "parking           0\n",
       "bathrooms       658\n",
       "bedrooms          0\n",
       "suburb            0\n",
       "propertyType      0\n",
       "dtype: int64"
      ]
     },
     "execution_count": 45,
     "metadata": {},
     "output_type": "execute_result"
    }
   ],
   "source": [
    "df.isna().sum()"
   ]
  },
  {
   "cell_type": "markdown",
   "metadata": {},
   "source": [
    "Missing values in 'price' column are going to be dropped since this machine learning model is depended on the historical datas in this column. Furthermore, missing values that exist in 'bathrooms' feature will be   resolved later through pipeline."
   ]
  },
  {
   "cell_type": "markdown",
   "metadata": {},
   "source": [
    "## Creating Several Machine Learning Benchmark Models"
   ]
  },
  {
   "cell_type": "markdown",
   "metadata": {},
   "source": [
    "- __Determining the Dependent and Independent Features:__"
   ]
  },
  {
   "cell_type": "code",
   "execution_count": 53,
   "metadata": {},
   "outputs": [],
   "source": [
    "# Selecting features and target\n",
    "\n",
    "y = df['price']\n",
    "X = df.drop('price', axis=1)"
   ]
  },
  {
   "cell_type": "code",
   "execution_count": 55,
   "metadata": {},
   "outputs": [
    {
     "data": {
      "text/plain": [
       "0    223000.0\n",
       "1    350000.0\n",
       "2    550000.0\n",
       "3    276000.0\n",
       "4    400000.0\n",
       "Name: price, dtype: float64"
      ]
     },
     "execution_count": 55,
     "metadata": {},
     "output_type": "execute_result"
    }
   ],
   "source": [
    "y[:5]  # checking"
   ]
  },
  {
   "cell_type": "code",
   "execution_count": 56,
   "metadata": {},
   "outputs": [
    {
     "data": {
      "text/html": [
       "<div>\n",
       "<style scoped>\n",
       "    .dataframe tbody tr th:only-of-type {\n",
       "        vertical-align: middle;\n",
       "    }\n",
       "\n",
       "    .dataframe tbody tr th {\n",
       "        vertical-align: top;\n",
       "    }\n",
       "\n",
       "    .dataframe thead th {\n",
       "        text-align: right;\n",
       "    }\n",
       "</style>\n",
       "<table border=\"1\" class=\"dataframe\">\n",
       "  <thead>\n",
       "    <tr style=\"text-align: right;\">\n",
       "      <th></th>\n",
       "      <th>parking</th>\n",
       "      <th>bathrooms</th>\n",
       "      <th>bedrooms</th>\n",
       "      <th>suburb</th>\n",
       "      <th>propertyType</th>\n",
       "    </tr>\n",
       "  </thead>\n",
       "  <tbody>\n",
       "    <tr>\n",
       "      <th>0</th>\n",
       "      <td>2</td>\n",
       "      <td>2.0</td>\n",
       "      <td>4</td>\n",
       "      <td>Nicholls</td>\n",
       "      <td>house</td>\n",
       "    </tr>\n",
       "    <tr>\n",
       "      <th>1</th>\n",
       "      <td>1</td>\n",
       "      <td>NaN</td>\n",
       "      <td>3</td>\n",
       "      <td>Ngunnawal</td>\n",
       "      <td>house</td>\n",
       "    </tr>\n",
       "    <tr>\n",
       "      <th>2</th>\n",
       "      <td>2</td>\n",
       "      <td>NaN</td>\n",
       "      <td>4</td>\n",
       "      <td>Weston</td>\n",
       "      <td>house</td>\n",
       "    </tr>\n",
       "    <tr>\n",
       "      <th>3</th>\n",
       "      <td>1</td>\n",
       "      <td>1.0</td>\n",
       "      <td>3</td>\n",
       "      <td>Isabella Plains</td>\n",
       "      <td>house</td>\n",
       "    </tr>\n",
       "    <tr>\n",
       "      <th>4</th>\n",
       "      <td>2</td>\n",
       "      <td>NaN</td>\n",
       "      <td>5</td>\n",
       "      <td>Conder</td>\n",
       "      <td>house</td>\n",
       "    </tr>\n",
       "  </tbody>\n",
       "</table>\n",
       "</div>"
      ],
      "text/plain": [
       "   parking  bathrooms  bedrooms           suburb propertyType\n",
       "0        2        2.0         4         Nicholls        house\n",
       "1        1        NaN         3        Ngunnawal        house\n",
       "2        2        NaN         4           Weston        house\n",
       "3        1        1.0         3  Isabella Plains        house\n",
       "4        2        NaN         5           Conder        house"
      ]
     },
     "execution_count": 56,
     "metadata": {},
     "output_type": "execute_result"
    }
   ],
   "source": [
    "X.head()"
   ]
  },
  {
   "cell_type": "markdown",
   "metadata": {},
   "source": [
    "- __Splitting Training-validation Set and Test Set:__"
   ]
  },
  {
   "cell_type": "code",
   "execution_count": 59,
   "metadata": {},
   "outputs": [],
   "source": [
    "# Train test split\n",
    "\n",
    "X_train_val, X_test, y_train_val, y_test= train_test_split(X, y, random_state=2021, test_size=0.2)"
   ]
  },
  {
   "cell_type": "markdown",
   "metadata": {},
   "source": [
    "- __Updating Numerical and Categorical Columns:__"
   ]
  },
  {
   "cell_type": "code",
   "execution_count": 76,
   "metadata": {},
   "outputs": [],
   "source": [
    "numerical_columns = list(X.describe().columns)\n",
    "categorical_columns = list(X.describe(exclude='number').columns)"
   ]
  },
  {
   "cell_type": "code",
   "execution_count": 77,
   "metadata": {},
   "outputs": [
    {
     "data": {
      "text/plain": [
       "['parking', 'bathrooms', 'bedrooms']"
      ]
     },
     "execution_count": 77,
     "metadata": {},
     "output_type": "execute_result"
    }
   ],
   "source": [
    "numerical_columns"
   ]
  },
  {
   "cell_type": "code",
   "execution_count": 78,
   "metadata": {},
   "outputs": [
    {
     "data": {
      "text/plain": [
       "['suburb', 'propertyType']"
      ]
     },
     "execution_count": 78,
     "metadata": {},
     "output_type": "execute_result"
    }
   ],
   "source": [
    "categorical_columns"
   ]
  },
  {
   "cell_type": "markdown",
   "metadata": {},
   "source": [
    "- __Creating a Linear Multiple Regression Model:__"
   ]
  },
  {
   "cell_type": "code",
   "execution_count": 90,
   "metadata": {},
   "outputs": [
    {
     "data": {
      "text/plain": [
       "price             0\n",
       "parking           0\n",
       "bathrooms       658\n",
       "bedrooms          0\n",
       "suburb            0\n",
       "propertyType      0\n",
       "dtype: int64"
      ]
     },
     "execution_count": 90,
     "metadata": {},
     "output_type": "execute_result"
    }
   ],
   "source": [
    "df.isna().sum()"
   ]
  },
  {
   "cell_type": "code",
   "execution_count": 91,
   "metadata": {},
   "outputs": [
    {
     "data": {
      "text/plain": [
       "['parking', 'bathrooms', 'bedrooms']"
      ]
     },
     "execution_count": 91,
     "metadata": {},
     "output_type": "execute_result"
    }
   ],
   "source": [
    "numerical_columns"
   ]
  },
  {
   "cell_type": "code",
   "execution_count": 95,
   "metadata": {},
   "outputs": [],
   "source": [
    "# Creating a simple imputer pipeline\n",
    "# imputing missing values in 'bathrooms' column with median resulting to little to no difference in 'bathrooms' standard deviation\n",
    "numerical_pipeline = Pipeline([\n",
    "    ('impute_num', SimpleImputer(strategy='median')),\n",
    "    ('robust', RobustScaler())  # robust to outliers\n",
    "])\n",
    "\n",
    "# Creating a binary encoder pipeline\n",
    "binary_pipeline = Pipeline([\n",
    "    ('binary', ce.BinaryEncoder())\n",
    "])\n",
    "\n",
    "# Creating a onehot encoder pipeline\n",
    "onehot_pipeline = Pipeline([\n",
    "    ('onehot', OneHotEncoder(drop='first'))\n",
    "])\n",
    "\n",
    "\n",
    "transformer = ColumnTransformer([\n",
    "    ('impute_pipe', numerical_pipeline, numerical_columns), \n",
    "    ('onehot_pipe', onehot_pipeline, ['propertyType']),  \n",
    "    ('binary_pipe', binary_pipeline, ['suburb'])    \n",
    "], remainder='passthrough')"
   ]
  },
  {
   "cell_type": "code",
   "execution_count": 97,
   "metadata": {},
   "outputs": [],
   "source": [
    "X_train_val_transform = transformer.fit_transform(X_train_val, y_train_val)\n",
    "X_test_transform = transformer.transform(X_test)"
   ]
  },
  {
   "cell_type": "code",
   "execution_count": 98,
   "metadata": {},
   "outputs": [
    {
     "data": {
      "text/plain": [
       "array([[ 0., -1.,  1., ...,  0.,  0.,  1.],\n",
       "       [-1., -1., -1., ...,  0.,  1.,  0.],\n",
       "       [ 0., -1.,  0., ...,  0.,  1.,  1.],\n",
       "       ...,\n",
       "       [-1.,  0.,  0., ...,  0.,  1.,  0.],\n",
       "       [-1., -1., -1., ...,  1.,  1.,  0.],\n",
       "       [-1., -1.,  1., ...,  1.,  0.,  0.]])"
      ]
     },
     "execution_count": 98,
     "metadata": {},
     "output_type": "execute_result"
    }
   ],
   "source": [
    "X_train_val_transform  # checking"
   ]
  },
  {
   "cell_type": "code",
   "execution_count": 103,
   "metadata": {},
   "outputs": [
    {
     "data": {
      "text/plain": [
       "array([[ 0.,  0., -1., ...,  1.,  1.,  1.],\n",
       "       [ 0.,  0.,  1., ...,  0.,  1.,  0.],\n",
       "       [ 0., -1.,  0., ...,  1.,  0.,  0.],\n",
       "       ...,\n",
       "       [-1., -1.,  0., ...,  0.,  1.,  0.],\n",
       "       [ 0., -1.,  0., ...,  0.,  1.,  0.],\n",
       "       [-1., -1.,  0., ...,  0.,  1.,  1.]])"
      ]
     },
     "execution_count": 103,
     "metadata": {},
     "output_type": "execute_result"
    }
   ],
   "source": [
    "X_test_transform  # checking"
   ]
  },
  {
   "cell_type": "code",
   "execution_count": null,
   "metadata": {},
   "outputs": [],
   "source": [
    "# knn_transformer = ColumnTransformer([\n",
    "#     ('robust', RobustScaler(), list(X.columns))\n",
    "# ], remainder = 'passthrough')  \n",
    "\n",
    "# imbpipe_knn = imbPipeline([\n",
    "#     ('transformer', knn_transformer),\n",
    "#     ('balancing', smote),\n",
    "#     ('clf', knn)\n",
    "# ])"
   ]
  },
  {
   "cell_type": "code",
   "execution_count": 101,
   "metadata": {},
   "outputs": [],
   "source": [
    "x = sm.add_constant(X_train_val_transform)\n",
    "results = sm.OLS(y_train_val, x).fit()"
   ]
  },
  {
   "cell_type": "code",
   "execution_count": 102,
   "metadata": {},
   "outputs": [
    {
     "data": {
      "text/html": [
       "<table class=\"simpletable\">\n",
       "<caption>OLS Regression Results</caption>\n",
       "<tr>\n",
       "  <th>Dep. Variable:</th>          <td>price</td>      <th>  R-squared:         </th>  <td>   0.277</td>  \n",
       "</tr>\n",
       "<tr>\n",
       "  <th>Model:</th>                   <td>OLS</td>       <th>  Adj. R-squared:    </th>  <td>   0.277</td>  \n",
       "</tr>\n",
       "<tr>\n",
       "  <th>Method:</th>             <td>Least Squares</td>  <th>  F-statistic:       </th>  <td>   1181.</td>  \n",
       "</tr>\n",
       "<tr>\n",
       "  <th>Date:</th>             <td>Tue, 16 Feb 2021</td> <th>  Prob (F-statistic):</th>   <td>  0.00</td>   \n",
       "</tr>\n",
       "<tr>\n",
       "  <th>Time:</th>                 <td>16:23:50</td>     <th>  Log-Likelihood:    </th> <td>-4.7140e+05</td>\n",
       "</tr>\n",
       "<tr>\n",
       "  <th>No. Observations:</th>      <td> 33948</td>      <th>  AIC:               </th>  <td>9.428e+05</td> \n",
       "</tr>\n",
       "<tr>\n",
       "  <th>Df Residuals:</th>          <td> 33936</td>      <th>  BIC:               </th>  <td>9.429e+05</td> \n",
       "</tr>\n",
       "<tr>\n",
       "  <th>Df Model:</th>              <td>    11</td>      <th>                     </th>      <td> </td>     \n",
       "</tr>\n",
       "<tr>\n",
       "  <th>Covariance Type:</th>      <td>nonrobust</td>    <th>                     </th>      <td> </td>     \n",
       "</tr>\n",
       "</table>\n",
       "<table class=\"simpletable\">\n",
       "<tr>\n",
       "    <td></td>       <th>coef</th>     <th>std err</th>      <th>t</th>      <th>P>|t|</th>  <th>[0.025</th>    <th>0.975]</th>  \n",
       "</tr>\n",
       "<tr>\n",
       "  <th>const</th> <td> 5.398e+05</td> <td> 4498.996</td> <td>  119.993</td> <td> 0.000</td> <td> 5.31e+05</td> <td> 5.49e+05</td>\n",
       "</tr>\n",
       "<tr>\n",
       "  <th>x1</th>    <td> 2.117e+04</td> <td> 1657.411</td> <td>   12.773</td> <td> 0.000</td> <td> 1.79e+04</td> <td> 2.44e+04</td>\n",
       "</tr>\n",
       "<tr>\n",
       "  <th>x2</th>    <td> 5.978e+04</td> <td> 2430.996</td> <td>   24.591</td> <td> 0.000</td> <td>  5.5e+04</td> <td> 6.45e+04</td>\n",
       "</tr>\n",
       "<tr>\n",
       "  <th>x3</th>    <td> 1.346e+05</td> <td> 1992.100</td> <td>   67.589</td> <td> 0.000</td> <td> 1.31e+05</td> <td> 1.39e+05</td>\n",
       "</tr>\n",
       "<tr>\n",
       "  <th>x4</th>    <td> 3.511e+04</td> <td> 4861.088</td> <td>    7.223</td> <td> 0.000</td> <td> 2.56e+04</td> <td> 4.46e+04</td>\n",
       "</tr>\n",
       "<tr>\n",
       "  <th>x5</th>    <td> 6.004e-12</td> <td> 1.45e-12</td> <td>    4.135</td> <td> 0.000</td> <td> 3.16e-12</td> <td> 8.85e-12</td>\n",
       "</tr>\n",
       "<tr>\n",
       "  <th>x6</th>    <td> 7.921e+04</td> <td> 3381.973</td> <td>   23.422</td> <td> 0.000</td> <td> 7.26e+04</td> <td> 8.58e+04</td>\n",
       "</tr>\n",
       "<tr>\n",
       "  <th>x7</th>    <td> 2.123e+04</td> <td> 3261.937</td> <td>    6.508</td> <td> 0.000</td> <td> 1.48e+04</td> <td> 2.76e+04</td>\n",
       "</tr>\n",
       "<tr>\n",
       "  <th>x8</th>    <td> 5.501e+04</td> <td> 2869.052</td> <td>   19.175</td> <td> 0.000</td> <td> 4.94e+04</td> <td> 6.06e+04</td>\n",
       "</tr>\n",
       "<tr>\n",
       "  <th>x9</th>    <td>-2.302e+04</td> <td> 2854.780</td> <td>   -8.064</td> <td> 0.000</td> <td>-2.86e+04</td> <td>-1.74e+04</td>\n",
       "</tr>\n",
       "<tr>\n",
       "  <th>x10</th>   <td>-1.705e+04</td> <td> 2852.901</td> <td>   -5.977</td> <td> 0.000</td> <td>-2.26e+04</td> <td>-1.15e+04</td>\n",
       "</tr>\n",
       "<tr>\n",
       "  <th>x11</th>   <td>  4.06e+04</td> <td> 2856.785</td> <td>   14.211</td> <td> 0.000</td> <td>  3.5e+04</td> <td> 4.62e+04</td>\n",
       "</tr>\n",
       "<tr>\n",
       "  <th>x12</th>   <td> -976.5748</td> <td> 2836.862</td> <td>   -0.344</td> <td> 0.731</td> <td>-6536.921</td> <td> 4583.771</td>\n",
       "</tr>\n",
       "</table>\n",
       "<table class=\"simpletable\">\n",
       "<tr>\n",
       "  <th>Omnibus:</th>       <td>27983.673</td> <th>  Durbin-Watson:     </th>  <td>   1.993</td>  \n",
       "</tr>\n",
       "<tr>\n",
       "  <th>Prob(Omnibus):</th>  <td> 0.000</td>   <th>  Jarque-Bera (JB):  </th> <td>1265095.117</td>\n",
       "</tr>\n",
       "<tr>\n",
       "  <th>Skew:</th>           <td> 3.688</td>   <th>  Prob(JB):          </th>  <td>    0.00</td>  \n",
       "</tr>\n",
       "<tr>\n",
       "  <th>Kurtosis:</th>       <td>31.982</td>   <th>  Cond. No.          </th>  <td>3.69e+16</td>  \n",
       "</tr>\n",
       "</table><br/><br/>Notes:<br/>[1] Standard Errors assume that the covariance matrix of the errors is correctly specified.<br/>[2] The smallest eigenvalue is 7.13e-29. This might indicate that there are<br/>strong multicollinearity problems or that the design matrix is singular."
      ],
      "text/plain": [
       "<class 'statsmodels.iolib.summary.Summary'>\n",
       "\"\"\"\n",
       "                            OLS Regression Results                            \n",
       "==============================================================================\n",
       "Dep. Variable:                  price   R-squared:                       0.277\n",
       "Model:                            OLS   Adj. R-squared:                  0.277\n",
       "Method:                 Least Squares   F-statistic:                     1181.\n",
       "Date:                Tue, 16 Feb 2021   Prob (F-statistic):               0.00\n",
       "Time:                        16:23:50   Log-Likelihood:            -4.7140e+05\n",
       "No. Observations:               33948   AIC:                         9.428e+05\n",
       "Df Residuals:                   33936   BIC:                         9.429e+05\n",
       "Df Model:                          11                                         \n",
       "Covariance Type:            nonrobust                                         \n",
       "==============================================================================\n",
       "                 coef    std err          t      P>|t|      [0.025      0.975]\n",
       "------------------------------------------------------------------------------\n",
       "const       5.398e+05   4498.996    119.993      0.000    5.31e+05    5.49e+05\n",
       "x1          2.117e+04   1657.411     12.773      0.000    1.79e+04    2.44e+04\n",
       "x2          5.978e+04   2430.996     24.591      0.000     5.5e+04    6.45e+04\n",
       "x3          1.346e+05   1992.100     67.589      0.000    1.31e+05    1.39e+05\n",
       "x4          3.511e+04   4861.088      7.223      0.000    2.56e+04    4.46e+04\n",
       "x5          6.004e-12   1.45e-12      4.135      0.000    3.16e-12    8.85e-12\n",
       "x6          7.921e+04   3381.973     23.422      0.000    7.26e+04    8.58e+04\n",
       "x7          2.123e+04   3261.937      6.508      0.000    1.48e+04    2.76e+04\n",
       "x8          5.501e+04   2869.052     19.175      0.000    4.94e+04    6.06e+04\n",
       "x9         -2.302e+04   2854.780     -8.064      0.000   -2.86e+04   -1.74e+04\n",
       "x10        -1.705e+04   2852.901     -5.977      0.000   -2.26e+04   -1.15e+04\n",
       "x11          4.06e+04   2856.785     14.211      0.000     3.5e+04    4.62e+04\n",
       "x12         -976.5748   2836.862     -0.344      0.731   -6536.921    4583.771\n",
       "==============================================================================\n",
       "Omnibus:                    27983.673   Durbin-Watson:                   1.993\n",
       "Prob(Omnibus):                  0.000   Jarque-Bera (JB):          1265095.117\n",
       "Skew:                           3.688   Prob(JB):                         0.00\n",
       "Kurtosis:                      31.982   Cond. No.                     3.69e+16\n",
       "==============================================================================\n",
       "\n",
       "Notes:\n",
       "[1] Standard Errors assume that the covariance matrix of the errors is correctly specified.\n",
       "[2] The smallest eigenvalue is 7.13e-29. This might indicate that there are\n",
       "strong multicollinearity problems or that the design matrix is singular.\n",
       "\"\"\""
      ]
     },
     "execution_count": 102,
     "metadata": {},
     "output_type": "execute_result"
    }
   ],
   "source": [
    "results.summary()"
   ]
  },
  {
   "cell_type": "code",
   "execution_count": 105,
   "metadata": {},
   "outputs": [
    {
     "data": {
      "image/png": "[encoded data removed]",
      "text/plain": [
       "<Figure size 720x720 with 1 Axes>"
      ]
     },
     "metadata": {
      "needs_background": "light"
     },
     "output_type": "display_data"
    }
   ],
   "source": [
    "plt.figure(figsize=(10,10))\n",
    "sns.distplot(results.resid)\n",
    "plt.xlabel('Residuals')\n",
    "plt.show()"
   ]
  },
  {
   "cell_type": "code",
   "execution_count": 106,
   "metadata": {},
   "outputs": [
    {
     "data": {
      "image/png": "[encoded data removed]",
      "text/plain": [
       "<Figure size 432x288 with 1 Axes>"
      ]
     },
     "metadata": {
      "needs_background": "light"
     },
     "output_type": "display_data"
    }
   ],
   "source": [
    "sm.qqplot(results.resid, line='45')\n",
    "plt.show()"
   ]
  },
  {
   "cell_type": "code",
   "execution_count": 109,
   "metadata": {},
   "outputs": [
    {
     "data": {
      "text/plain": [
       "Text(0, 0.5, 'Residuals')"
      ]
     },
     "execution_count": 109,
     "metadata": {},
     "output_type": "execute_result"
    },
    {
     "data": {
      "image/png": "[encoded data removed]",
      "text/plain": [
       "<Figure size 720x720 with 1 Axes>"
      ]
     },
     "metadata": {
      "needs_background": "light"
     },
     "output_type": "display_data"
    }
   ],
   "source": [
    "plt.figure(figsize=(10,10))\n",
    "sns.scatterplot(results.fittedvalues, results.resid)\n",
    "sns.lineplot(results.fittedvalues,0)\n",
    "plt.xlabel('Fitted Values')\n",
    "plt.ylabel('Residuals')\n",
    "plt.show()"
   ]
  },
  {
   "cell_type": "code",
   "execution_count": null,
   "metadata": {},
   "outputs": [],
   "source": []
  },
  {
   "cell_type": "code",
   "execution_count": null,
   "metadata": {},
   "outputs": [],
   "source": []
  },
  {
   "cell_type": "code",
   "execution_count": null,
   "metadata": {},
   "outputs": [],
   "source": []
  },
  {
   "cell_type": "code",
   "execution_count": null,
   "metadata": {},
   "outputs": [],
   "source": []
  },
  {
   "cell_type": "code",
   "execution_count": null,
   "metadata": {},
   "outputs": [],
   "source": []
  },
  {
   "cell_type": "code",
   "execution_count": null,
   "metadata": {},
   "outputs": [],
   "source": []
  },
  {
   "cell_type": "code",
   "execution_count": null,
   "metadata": {},
   "outputs": [],
   "source": []
  }
 ],
 "metadata": {
  "kernelspec": {
   "display_name": "Python 3",
   "language": "python",
   "name": "python3"
  },
  "language_info": {
   "codemirror_mode": {
    "name": "ipython",
    "version": 3
   },
   "file_extension": ".py",
   "mimetype": "text/x-python",
   "name": "python",
   "nbconvert_exporter": "python",
   "pygments_lexer": "ipython3",
   "version": "3.8.5"
  }
 },
 "nbformat": 4,
 "nbformat_minor": 4
}
