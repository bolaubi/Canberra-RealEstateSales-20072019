{
 "cells": [
  {
   "cell_type": "code",
   "execution_count": 1,
   "metadata": {},
   "outputs": [
    {
     "name": "stderr",
     "output_type": "stream",
     "text": [
      "C:\\Users\\BenedictL\\anaconda3\\lib\\site-packages\\outdated\\utils.py:14: OutdatedPackageWarning: The package pingouin is out of date. Your version is 0.3.8, the latest is 0.3.9.\n",
      "Set the environment variable OUTDATED_IGNORE=1 to disable these warnings.\n",
      "  return warn(\n"
     ]
    }
   ],
   "source": [
    "import numpy as np\n",
    "import pandas as pd\n",
    "import matplotlib.pyplot as plt\n",
    "import seaborn as sns\n",
    "\n",
    "import scipy.stats as stats\n",
    "import pingouin as pg\n",
    "\n",
    "import category_encoders as ce\n",
    "import statsmodels.api as sm\n",
    "from statsmodels.api import OLS\n",
    "import sklearn\n",
    "from sklearn import metrics\n",
    "\n",
    "from sklearn.pipeline import Pipeline\n",
    "from sklearn.preprocessing import MinMaxScaler, StandardScaler, RobustScaler, OneHotEncoder\n",
    "from sklearn.compose import ColumnTransformer\n",
    "from sklearn.impute import SimpleImputer\n",
    "\n",
    "from sklearn.linear_model import LogisticRegression\n",
    "from sklearn.neighbors import KNeighborsRegressor\n",
    "from sklearn.tree import DecisionTreeRegressor\n",
    "from sklearn.ensemble import RandomForestRegressor, GradientBoostingRegressor\n",
    "import xgboost as xgb\n",
    "\n",
    "from sklearn.model_selection import train_test_split, GridSearchCV, RandomizedSearchCV\n",
    "from sklearn.model_selection import cross_val_score, StratifiedKFold, KFold\n",
    "from sklearn.metrics import confusion_matrix, classification_report, f1_score, recall_score, precision_score, plot_confusion_matrix\n",
    "from sklearn.metrics import roc_auc_score, balanced_accuracy_score\n",
    "from imblearn.over_sampling import RandomOverSampler, SMOTE\n",
    "from imblearn.pipeline import Pipeline as imbPipeline\n",
    "\n",
    "import warnings\n",
    "warnings.filterwarnings('ignore')\n",
    "\n",
    "import pickle\n",
    "import joblib\n",
    "\n",
    "sns.set()"
   ]
  },
  {
   "cell_type": "code",
   "execution_count": 5,
   "metadata": {},
   "outputs": [],
   "source": [
    "model = joblib.load('gbr_twlo_final')"
   ]
  },
  {
   "cell_type": "code",
   "execution_count": 6,
   "metadata": {},
   "outputs": [
    {
     "data": {
      "text/plain": [
       "Pipeline(steps=[('transformer',\n",
       "                 ColumnTransformer(remainder='passthrough',\n",
       "                                   transformers=[('impute_num',\n",
       "                                                  SimpleImputer(strategy='median'),\n",
       "                                                  ['parking', 'bathrooms',\n",
       "                                                   'bedrooms']),\n",
       "                                                 ('onehot',\n",
       "                                                  OneHotEncoder(drop='first'),\n",
       "                                                  ['propertyType']),\n",
       "                                                 ('binary', BinaryEncoder(),\n",
       "                                                  ['suburb'])])),\n",
       "                ('reg',\n",
       "                 GradientBoostingRegressor(loss='lad', max_depth=14,\n",
       "                                           random_state=2021))])"
      ]
     },
     "execution_count": 6,
     "metadata": {},
     "output_type": "execute_result"
    }
   ],
   "source": [
    "model"
   ]
  },
  {
   "cell_type": "code",
   "execution_count": 18,
   "metadata": {},
   "outputs": [],
   "source": [
    "def predict_price():\n",
    "    parking_ = abs(int(input('Please input the number of parking lots')))\n",
    "    bathrooms_ = abs(int(input('Please input the number of bathrooms')))\n",
    "    bedrooms_ = abs(int(input('Please input the number of bedrooms')))\n",
    "    suburb_ = input('Please input the suburb').title()\n",
    "    propertyType_ = input('Please input the type of the property').lower()\n",
    "\n",
    "    list_cols_name = ['parking', 'bathrooms', 'bedrooms', 'suburb', 'propertyType']\n",
    "    df = pd.DataFrame([[parking_, bathrooms_, bedrooms_, suburb_, propertyType_]], columns=list_cols_name, index=[0])\n",
    "    price = model.predict(df)[0]\n",
    "    return price"
   ]
  },
  {
   "cell_type": "code",
   "execution_count": 21,
   "metadata": {},
   "outputs": [
    {
     "name": "stdin",
     "output_type": "stream",
     "text": [
      "Please input the number of parking lots 5\n",
      "Please input the number of bathrooms 3\n",
      "Please input the number of bedrooms 4\n",
      "Please input the suburb kambah\n",
      "Please input the type of the property unit\n"
     ]
    },
    {
     "data": {
      "text/plain": [
       "819107.8665533199"
      ]
     },
     "execution_count": 21,
     "metadata": {},
     "output_type": "execute_result"
    }
   ],
   "source": [
    "predict_price()"
   ]
  }
 ],
 "metadata": {
  "kernelspec": {
   "display_name": "Python 3",
   "language": "python",
   "name": "python3"
  },
  "language_info": {
   "codemirror_mode": {
    "name": "ipython",
    "version": 3
   },
   "file_extension": ".py",
   "mimetype": "text/x-python",
   "name": "python",
   "nbconvert_exporter": "python",
   "pygments_lexer": "ipython3",
   "version": "3.8.5"
  }
 },
 "nbformat": 4,
 "nbformat_minor": 4
}
