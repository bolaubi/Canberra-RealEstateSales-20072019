{
 "cells": [
  {
   "cell_type": "markdown",
   "metadata": {},
   "source": [
    "# Canberra Real Estate Sales 2007-2019"
   ]
  },
  {
   "cell_type": "markdown",
   "metadata": {},
   "source": [
    "## Introduction"
   ]
  },
  {
   "cell_type": "markdown",
   "metadata": {},
   "source": [
    "The aim of this project is to conduct exploratory data analysis and construct a regression-based machine learning model for predicting real estate prices in the Canberra district. The selected metric for this project is MAE (Mean Absolute Error) due to the presence of a highly skewed distribution of monetary values, including numerous outliers. MAE is a robust metric when dealing with such outliers."
   ]
  },
  {
   "cell_type": "markdown",
   "metadata": {},
   "source": [
    "> #### The scope of the research problem includes:\n",
    "\n",
    "- Historical data spanning from 2007 to 2019.\n",
    "- A maximum limit set at 5 million for real estate prices (for analysis and visualization purposes)."
   ]
  },
  {
   "cell_type": "markdown",
   "metadata": {},
   "source": [
    "> #### This project caters to the following user groups:\n",
    "- Prospective buyers and renters\n",
    "- Property investors\n",
    "- Individuals interested in renovation opportunities"
   ]
  },
  {
   "cell_type": "markdown",
   "metadata": {},
   "source": [
    "#### Dataset:\n",
    "Data were obtained from HtAG®. HtAG® or Higher than Average Growth is an analytics portal that assists real estate professionals, investors and home buyers in making property-related decisions with the help of timely and actionable real estate market data. HtAG® leverages the benefits of machine learning to rank the growth potential of over 420 Local Government Areas and 6,200 suburbs, Australia wide.\n",
    "\n",
    "Column Descriptions\n",
    "- datesold = date when the property was sold\n",
    "- price = price of the property when it was sold\n",
    "- suburb = suburbs in Canberra, Australia\n",
    "- postcode = postal code of a place\n",
    "- lat = latitude of the location\n",
    "- lon = longitude of the location\n",
    "- parking = number of parking lots\n",
    "- bathrooms = number of bathrooms\n",
    "- bedrooms = number of bedrooms\n",
    "- propertyType = type of the property\n",
    "- suburbid = the id of the suburbs"
   ]
  },
  {
   "cell_type": "markdown",
   "metadata": {},
   "source": [
    "## Data Modelling"
   ]
  },
  {
   "cell_type": "markdown",
   "metadata": {},
   "source": [
    "> #### Import Modules"
   ]
  },
  {
   "cell_type": "code",
   "execution_count": 1,
   "metadata": {},
   "outputs": [
    {
     "name": "stderr",
     "output_type": "stream",
     "text": [
      "C:\\Users\\BenedictL\\anaconda3\\lib\\site-packages\\outdated\\utils.py:14: OutdatedPackageWarning: The package pingouin is out of date. Your version is 0.3.8, the latest is 0.3.10.\n",
      "Set the environment variable OUTDATED_IGNORE=1 to disable these warnings.\n",
      "  return warn(\n"
     ]
    }
   ],
   "source": [
    "import numpy as np\n",
    "import pandas as pd\n",
    "import matplotlib.pyplot as plt\n",
    "import seaborn as sns\n",
    "\n",
    "import scipy.stats as stats\n",
    "import pingouin as pg\n",
    "\n",
    "import category_encoders as ce\n",
    "import statsmodels.api as sm\n",
    "from statsmodels.api import OLS\n",
    "import sklearn\n",
    "from sklearn import metrics\n",
    "\n",
    "from sklearn.pipeline import Pipeline\n",
    "from sklearn.preprocessing import MinMaxScaler, StandardScaler, RobustScaler, OneHotEncoder\n",
    "from sklearn.compose import ColumnTransformer\n",
    "from sklearn.impute import SimpleImputer\n",
    "\n",
    "from sklearn.linear_model import LogisticRegression\n",
    "from sklearn.neighbors import KNeighborsRegressor\n",
    "from sklearn.tree import DecisionTreeRegressor\n",
    "from sklearn.ensemble import RandomForestRegressor, GradientBoostingRegressor\n",
    "import xgboost as xgb\n",
    "\n",
    "from sklearn.model_selection import train_test_split, GridSearchCV, RandomizedSearchCV\n",
    "from sklearn.model_selection import cross_val_score, StratifiedKFold, KFold\n",
    "from sklearn.metrics import confusion_matrix, classification_report, f1_score, recall_score, precision_score, plot_confusion_matrix\n",
    "from sklearn.metrics import roc_auc_score, balanced_accuracy_score\n",
    "from imblearn.over_sampling import RandomOverSampler, SMOTE\n",
    "from imblearn.pipeline import Pipeline as imbPipeline\n",
    "\n",
    "import warnings\n",
    "warnings.filterwarnings('ignore')\n",
    "\n",
    "import pickle\n",
    "import joblib\n",
    "\n",
    "sns.set()"
   ]
  },
  {
   "cell_type": "markdown",
   "metadata": {},
   "source": [
    "> #### Import the Raw Dataset"
   ]
  },
  {
   "cell_type": "code",
   "execution_count": 2,
   "metadata": {},
   "outputs": [],
   "source": [
    "raw_df = pd.read_csv('property_sales_canberra.csv')"
   ]
  },
  {
   "cell_type": "code",
   "execution_count": 3,
   "metadata": {},
   "outputs": [
    {
     "data": {
      "text/html": [
       "<div>\n",
       "<style scoped>\n",
       "    .dataframe tbody tr th:only-of-type {\n",
       "        vertical-align: middle;\n",
       "    }\n",
       "\n",
       "    .dataframe tbody tr th {\n",
       "        vertical-align: top;\n",
       "    }\n",
       "\n",
       "    .dataframe thead th {\n",
       "        text-align: right;\n",
       "    }\n",
       "</style>\n",
       "<table border=\"1\" class=\"dataframe\">\n",
       "  <thead>\n",
       "    <tr style=\"text-align: right;\">\n",
       "      <th></th>\n",
       "      <th>datesold</th>\n",
       "      <th>price</th>\n",
       "      <th>suburb</th>\n",
       "      <th>postcode</th>\n",
       "      <th>lat</th>\n",
       "      <th>lon</th>\n",
       "      <th>parking</th>\n",
       "      <th>bathrooms</th>\n",
       "      <th>bedrooms</th>\n",
       "      <th>propertyType</th>\n",
       "      <th>suburbid</th>\n",
       "    </tr>\n",
       "  </thead>\n",
       "  <tbody>\n",
       "    <tr>\n",
       "      <th>0</th>\n",
       "      <td>9/06/2000</td>\n",
       "      <td>223000.0</td>\n",
       "      <td>Nicholls</td>\n",
       "      <td>2913</td>\n",
       "      <td>NaN</td>\n",
       "      <td>NaN</td>\n",
       "      <td>2</td>\n",
       "      <td>2.0</td>\n",
       "      <td>4</td>\n",
       "      <td>house</td>\n",
       "      <td>ACT708</td>\n",
       "    </tr>\n",
       "    <tr>\n",
       "      <th>1</th>\n",
       "      <td>1/01/2001</td>\n",
       "      <td>350000.0</td>\n",
       "      <td>Ngunnawal</td>\n",
       "      <td>2913</td>\n",
       "      <td>NaN</td>\n",
       "      <td>NaN</td>\n",
       "      <td>1</td>\n",
       "      <td>NaN</td>\n",
       "      <td>3</td>\n",
       "      <td>house</td>\n",
       "      <td>ACT706</td>\n",
       "    </tr>\n",
       "    <tr>\n",
       "      <th>2</th>\n",
       "      <td>11/12/2003</td>\n",
       "      <td>550000.0</td>\n",
       "      <td>Weston</td>\n",
       "      <td>2611</td>\n",
       "      <td>NaN</td>\n",
       "      <td>NaN</td>\n",
       "      <td>2</td>\n",
       "      <td>NaN</td>\n",
       "      <td>4</td>\n",
       "      <td>house</td>\n",
       "      <td>ACT441</td>\n",
       "    </tr>\n",
       "    <tr>\n",
       "      <th>3</th>\n",
       "      <td>21/09/2005</td>\n",
       "      <td>276000.0</td>\n",
       "      <td>Isabella Plains</td>\n",
       "      <td>2905</td>\n",
       "      <td>NaN</td>\n",
       "      <td>NaN</td>\n",
       "      <td>1</td>\n",
       "      <td>1.0</td>\n",
       "      <td>3</td>\n",
       "      <td>house</td>\n",
       "      <td>ACT612</td>\n",
       "    </tr>\n",
       "    <tr>\n",
       "      <th>4</th>\n",
       "      <td>1/11/2005</td>\n",
       "      <td>400000.0</td>\n",
       "      <td>Conder</td>\n",
       "      <td>2906</td>\n",
       "      <td>NaN</td>\n",
       "      <td>NaN</td>\n",
       "      <td>2</td>\n",
       "      <td>NaN</td>\n",
       "      <td>5</td>\n",
       "      <td>house</td>\n",
       "      <td>ACT613</td>\n",
       "    </tr>\n",
       "  </tbody>\n",
       "</table>\n",
       "</div>"
      ],
      "text/plain": [
       "     datesold     price           suburb  postcode  lat  lon  parking  \\\n",
       "0   9/06/2000  223000.0         Nicholls      2913  NaN  NaN        2   \n",
       "1   1/01/2001  350000.0        Ngunnawal      2913  NaN  NaN        1   \n",
       "2  11/12/2003  550000.0           Weston      2611  NaN  NaN        2   \n",
       "3  21/09/2005  276000.0  Isabella Plains      2905  NaN  NaN        1   \n",
       "4   1/11/2005  400000.0           Conder      2906  NaN  NaN        2   \n",
       "\n",
       "   bathrooms  bedrooms propertyType suburbid  \n",
       "0        2.0         4        house   ACT708  \n",
       "1        NaN         3        house   ACT706  \n",
       "2        NaN         4        house   ACT441  \n",
       "3        1.0         3        house   ACT612  \n",
       "4        NaN         5        house   ACT613  "
      ]
     },
     "execution_count": 3,
     "metadata": {},
     "output_type": "execute_result"
    }
   ],
   "source": [
    "raw_df.head()"
   ]
  },
  {
   "cell_type": "markdown",
   "metadata": {},
   "source": [
    "## Preprocessing"
   ]
  },
  {
   "cell_type": "markdown",
   "metadata": {},
   "source": [
    "> #### Descriptive Statistics of the Variables"
   ]
  },
  {
   "cell_type": "code",
   "execution_count": 4,
   "metadata": {},
   "outputs": [
    {
     "name": "stdout",
     "output_type": "stream",
     "text": [
      "<class 'pandas.core.frame.DataFrame'>\n",
      "RangeIndex: 43178 entries, 0 to 43177\n",
      "Data columns (total 11 columns):\n",
      " #   Column        Non-Null Count  Dtype  \n",
      "---  ------        --------------  -----  \n",
      " 0   datesold      43178 non-null  object \n",
      " 1   price         42435 non-null  float64\n",
      " 2   suburb        43178 non-null  object \n",
      " 3   postcode      43178 non-null  int64  \n",
      " 4   lat           42033 non-null  float64\n",
      " 5   lon           42033 non-null  float64\n",
      " 6   parking       43178 non-null  int64  \n",
      " 7   bathrooms     42499 non-null  float64\n",
      " 8   bedrooms      43178 non-null  int64  \n",
      " 9   propertyType  43178 non-null  object \n",
      " 10  suburbid      43178 non-null  object \n",
      "dtypes: float64(4), int64(3), object(4)\n",
      "memory usage: 3.6+ MB\n"
     ]
    }
   ],
   "source": [
    "raw_df.info()"
   ]
  },
  {
   "cell_type": "code",
   "execution_count": 5,
   "metadata": {},
   "outputs": [
    {
     "data": {
      "text/html": [
       "<div>\n",
       "<style scoped>\n",
       "    .dataframe tbody tr th:only-of-type {\n",
       "        vertical-align: middle;\n",
       "    }\n",
       "\n",
       "    .dataframe tbody tr th {\n",
       "        vertical-align: top;\n",
       "    }\n",
       "\n",
       "    .dataframe thead th {\n",
       "        text-align: right;\n",
       "    }\n",
       "</style>\n",
       "<table border=\"1\" class=\"dataframe\">\n",
       "  <thead>\n",
       "    <tr style=\"text-align: right;\">\n",
       "      <th></th>\n",
       "      <th>datesold</th>\n",
       "      <th>price</th>\n",
       "      <th>suburb</th>\n",
       "      <th>postcode</th>\n",
       "      <th>lat</th>\n",
       "      <th>lon</th>\n",
       "      <th>parking</th>\n",
       "      <th>bathrooms</th>\n",
       "      <th>bedrooms</th>\n",
       "      <th>propertyType</th>\n",
       "      <th>suburbid</th>\n",
       "    </tr>\n",
       "  </thead>\n",
       "  <tbody>\n",
       "    <tr>\n",
       "      <th>count</th>\n",
       "      <td>43178</td>\n",
       "      <td>4.243500e+04</td>\n",
       "      <td>43178</td>\n",
       "      <td>43178.000000</td>\n",
       "      <td>42033.000000</td>\n",
       "      <td>42033.000000</td>\n",
       "      <td>43178.000000</td>\n",
       "      <td>42499.000000</td>\n",
       "      <td>43178.000000</td>\n",
       "      <td>43178</td>\n",
       "      <td>43178</td>\n",
       "    </tr>\n",
       "    <tr>\n",
       "      <th>unique</th>\n",
       "      <td>3851</td>\n",
       "      <td>NaN</td>\n",
       "      <td>107</td>\n",
       "      <td>NaN</td>\n",
       "      <td>NaN</td>\n",
       "      <td>NaN</td>\n",
       "      <td>NaN</td>\n",
       "      <td>NaN</td>\n",
       "      <td>NaN</td>\n",
       "      <td>2</td>\n",
       "      <td>107</td>\n",
       "    </tr>\n",
       "    <tr>\n",
       "      <th>top</th>\n",
       "      <td>28/10/2017</td>\n",
       "      <td>NaN</td>\n",
       "      <td>Kambah</td>\n",
       "      <td>NaN</td>\n",
       "      <td>NaN</td>\n",
       "      <td>NaN</td>\n",
       "      <td>NaN</td>\n",
       "      <td>NaN</td>\n",
       "      <td>NaN</td>\n",
       "      <td>house</td>\n",
       "      <td>ACT601</td>\n",
       "    </tr>\n",
       "    <tr>\n",
       "      <th>freq</th>\n",
       "      <td>56</td>\n",
       "      <td>NaN</td>\n",
       "      <td>1404</td>\n",
       "      <td>NaN</td>\n",
       "      <td>NaN</td>\n",
       "      <td>NaN</td>\n",
       "      <td>NaN</td>\n",
       "      <td>NaN</td>\n",
       "      <td>NaN</td>\n",
       "      <td>36236</td>\n",
       "      <td>1404</td>\n",
       "    </tr>\n",
       "    <tr>\n",
       "      <th>mean</th>\n",
       "      <td>NaN</td>\n",
       "      <td>6.037398e+05</td>\n",
       "      <td>NaN</td>\n",
       "      <td>2728.855644</td>\n",
       "      <td>-35.293447</td>\n",
       "      <td>149.096122</td>\n",
       "      <td>1.760017</td>\n",
       "      <td>1.643403</td>\n",
       "      <td>3.193501</td>\n",
       "      <td>NaN</td>\n",
       "      <td>NaN</td>\n",
       "    </tr>\n",
       "    <tr>\n",
       "      <th>std</th>\n",
       "      <td>NaN</td>\n",
       "      <td>3.139764e+05</td>\n",
       "      <td>NaN</td>\n",
       "      <td>146.564444</td>\n",
       "      <td>0.091796</td>\n",
       "      <td>0.040526</td>\n",
       "      <td>0.937361</td>\n",
       "      <td>0.644463</td>\n",
       "      <td>0.990638</td>\n",
       "      <td>NaN</td>\n",
       "      <td>NaN</td>\n",
       "    </tr>\n",
       "    <tr>\n",
       "      <th>min</th>\n",
       "      <td>NaN</td>\n",
       "      <td>5.000000e+04</td>\n",
       "      <td>NaN</td>\n",
       "      <td>2092.000000</td>\n",
       "      <td>-35.509975</td>\n",
       "      <td>148.921424</td>\n",
       "      <td>0.000000</td>\n",
       "      <td>1.000000</td>\n",
       "      <td>0.000000</td>\n",
       "      <td>NaN</td>\n",
       "      <td>NaN</td>\n",
       "    </tr>\n",
       "    <tr>\n",
       "      <th>25%</th>\n",
       "      <td>NaN</td>\n",
       "      <td>4.300000e+05</td>\n",
       "      <td>NaN</td>\n",
       "      <td>2607.000000</td>\n",
       "      <td>-35.363857</td>\n",
       "      <td>149.067390</td>\n",
       "      <td>1.000000</td>\n",
       "      <td>1.000000</td>\n",
       "      <td>3.000000</td>\n",
       "      <td>NaN</td>\n",
       "      <td>NaN</td>\n",
       "    </tr>\n",
       "    <tr>\n",
       "      <th>50%</th>\n",
       "      <td>NaN</td>\n",
       "      <td>5.390000e+05</td>\n",
       "      <td>NaN</td>\n",
       "      <td>2615.000000</td>\n",
       "      <td>-35.270536</td>\n",
       "      <td>149.099522</td>\n",
       "      <td>2.000000</td>\n",
       "      <td>2.000000</td>\n",
       "      <td>3.000000</td>\n",
       "      <td>NaN</td>\n",
       "      <td>NaN</td>\n",
       "    </tr>\n",
       "    <tr>\n",
       "      <th>75%</th>\n",
       "      <td>NaN</td>\n",
       "      <td>6.760000e+05</td>\n",
       "      <td>NaN</td>\n",
       "      <td>2905.000000</td>\n",
       "      <td>-35.212323</td>\n",
       "      <td>149.130708</td>\n",
       "      <td>2.000000</td>\n",
       "      <td>2.000000</td>\n",
       "      <td>4.000000</td>\n",
       "      <td>NaN</td>\n",
       "      <td>NaN</td>\n",
       "    </tr>\n",
       "    <tr>\n",
       "      <th>max</th>\n",
       "      <td>NaN</td>\n",
       "      <td>8.000000e+06</td>\n",
       "      <td>NaN</td>\n",
       "      <td>2914.000000</td>\n",
       "      <td>-35.138572</td>\n",
       "      <td>149.250290</td>\n",
       "      <td>31.000000</td>\n",
       "      <td>21.000000</td>\n",
       "      <td>14.000000</td>\n",
       "      <td>NaN</td>\n",
       "      <td>NaN</td>\n",
       "    </tr>\n",
       "  </tbody>\n",
       "</table>\n",
       "</div>"
      ],
      "text/plain": [
       "          datesold         price  suburb      postcode           lat  \\\n",
       "count        43178  4.243500e+04   43178  43178.000000  42033.000000   \n",
       "unique        3851           NaN     107           NaN           NaN   \n",
       "top     28/10/2017           NaN  Kambah           NaN           NaN   \n",
       "freq            56           NaN    1404           NaN           NaN   \n",
       "mean           NaN  6.037398e+05     NaN   2728.855644    -35.293447   \n",
       "std            NaN  3.139764e+05     NaN    146.564444      0.091796   \n",
       "min            NaN  5.000000e+04     NaN   2092.000000    -35.509975   \n",
       "25%            NaN  4.300000e+05     NaN   2607.000000    -35.363857   \n",
       "50%            NaN  5.390000e+05     NaN   2615.000000    -35.270536   \n",
       "75%            NaN  6.760000e+05     NaN   2905.000000    -35.212323   \n",
       "max            NaN  8.000000e+06     NaN   2914.000000    -35.138572   \n",
       "\n",
       "                 lon       parking     bathrooms      bedrooms propertyType  \\\n",
       "count   42033.000000  43178.000000  42499.000000  43178.000000        43178   \n",
       "unique           NaN           NaN           NaN           NaN            2   \n",
       "top              NaN           NaN           NaN           NaN        house   \n",
       "freq             NaN           NaN           NaN           NaN        36236   \n",
       "mean      149.096122      1.760017      1.643403      3.193501          NaN   \n",
       "std         0.040526      0.937361      0.644463      0.990638          NaN   \n",
       "min       148.921424      0.000000      1.000000      0.000000          NaN   \n",
       "25%       149.067390      1.000000      1.000000      3.000000          NaN   \n",
       "50%       149.099522      2.000000      2.000000      3.000000          NaN   \n",
       "75%       149.130708      2.000000      2.000000      4.000000          NaN   \n",
       "max       149.250290     31.000000     21.000000     14.000000          NaN   \n",
       "\n",
       "       suburbid  \n",
       "count     43178  \n",
       "unique      107  \n",
       "top      ACT601  \n",
       "freq       1404  \n",
       "mean        NaN  \n",
       "std         NaN  \n",
       "min         NaN  \n",
       "25%         NaN  \n",
       "50%         NaN  \n",
       "75%         NaN  \n",
       "max         NaN  "
      ]
     },
     "execution_count": 5,
     "metadata": {},
     "output_type": "execute_result"
    }
   ],
   "source": [
    "raw_df.describe(include='all')"
   ]
  },
  {
   "cell_type": "code",
   "execution_count": 6,
   "metadata": {},
   "outputs": [
    {
     "data": {
      "text/html": [
       "<div>\n",
       "<style scoped>\n",
       "    .dataframe tbody tr th:only-of-type {\n",
       "        vertical-align: middle;\n",
       "    }\n",
       "\n",
       "    .dataframe tbody tr th {\n",
       "        vertical-align: top;\n",
       "    }\n",
       "\n",
       "    .dataframe thead th {\n",
       "        text-align: right;\n",
       "    }\n",
       "</style>\n",
       "<table border=\"1\" class=\"dataframe\">\n",
       "  <thead>\n",
       "    <tr style=\"text-align: right;\">\n",
       "      <th></th>\n",
       "      <th>dataFeatures</th>\n",
       "      <th>dataType</th>\n",
       "      <th>null</th>\n",
       "      <th>nullPct</th>\n",
       "      <th>unique</th>\n",
       "      <th>uniqueSample</th>\n",
       "    </tr>\n",
       "  </thead>\n",
       "  <tbody>\n",
       "    <tr>\n",
       "      <th>0</th>\n",
       "      <td>datesold</td>\n",
       "      <td>object</td>\n",
       "      <td>0</td>\n",
       "      <td>0.00</td>\n",
       "      <td>3851</td>\n",
       "      <td>[15/04/2019, 30/11/2018]</td>\n",
       "    </tr>\n",
       "    <tr>\n",
       "      <th>1</th>\n",
       "      <td>price</td>\n",
       "      <td>float64</td>\n",
       "      <td>743</td>\n",
       "      <td>1.72</td>\n",
       "      <td>2701</td>\n",
       "      <td>[777500.0, 1690000.0]</td>\n",
       "    </tr>\n",
       "    <tr>\n",
       "      <th>2</th>\n",
       "      <td>suburb</td>\n",
       "      <td>object</td>\n",
       "      <td>0</td>\n",
       "      <td>0.00</td>\n",
       "      <td>107</td>\n",
       "      <td>[Bonner, Amaroo]</td>\n",
       "    </tr>\n",
       "    <tr>\n",
       "      <th>3</th>\n",
       "      <td>postcode</td>\n",
       "      <td>int64</td>\n",
       "      <td>0</td>\n",
       "      <td>0.00</td>\n",
       "      <td>32</td>\n",
       "      <td>[2904, 2612]</td>\n",
       "    </tr>\n",
       "    <tr>\n",
       "      <th>4</th>\n",
       "      <td>lat</td>\n",
       "      <td>float64</td>\n",
       "      <td>1145</td>\n",
       "      <td>2.65</td>\n",
       "      <td>29673</td>\n",
       "      <td>[-35.243507, -35.355045000000004]</td>\n",
       "    </tr>\n",
       "    <tr>\n",
       "      <th>5</th>\n",
       "      <td>lon</td>\n",
       "      <td>float64</td>\n",
       "      <td>1145</td>\n",
       "      <td>2.65</td>\n",
       "      <td>28505</td>\n",
       "      <td>[149.062015, 149.1459908]</td>\n",
       "    </tr>\n",
       "    <tr>\n",
       "      <th>6</th>\n",
       "      <td>parking</td>\n",
       "      <td>int64</td>\n",
       "      <td>0</td>\n",
       "      <td>0.00</td>\n",
       "      <td>18</td>\n",
       "      <td>[27, 21]</td>\n",
       "    </tr>\n",
       "    <tr>\n",
       "      <th>7</th>\n",
       "      <td>bathrooms</td>\n",
       "      <td>float64</td>\n",
       "      <td>679</td>\n",
       "      <td>1.57</td>\n",
       "      <td>9</td>\n",
       "      <td>[21.0, 5.0]</td>\n",
       "    </tr>\n",
       "    <tr>\n",
       "      <th>8</th>\n",
       "      <td>bedrooms</td>\n",
       "      <td>int64</td>\n",
       "      <td>0</td>\n",
       "      <td>0.00</td>\n",
       "      <td>13</td>\n",
       "      <td>[4, 0]</td>\n",
       "    </tr>\n",
       "    <tr>\n",
       "      <th>9</th>\n",
       "      <td>propertyType</td>\n",
       "      <td>object</td>\n",
       "      <td>0</td>\n",
       "      <td>0.00</td>\n",
       "      <td>2</td>\n",
       "      <td>[unit, house]</td>\n",
       "    </tr>\n",
       "    <tr>\n",
       "      <th>10</th>\n",
       "      <td>suburbid</td>\n",
       "      <td>object</td>\n",
       "      <td>0</td>\n",
       "      <td>0.00</td>\n",
       "      <td>107</td>\n",
       "      <td>[ACT607, ACT619]</td>\n",
       "    </tr>\n",
       "  </tbody>\n",
       "</table>\n",
       "</div>"
      ],
      "text/plain": [
       "    dataFeatures dataType   null  nullPct  unique  \\\n",
       "0       datesold   object      0     0.00    3851   \n",
       "1          price  float64    743     1.72    2701   \n",
       "2         suburb   object      0     0.00     107   \n",
       "3       postcode    int64      0     0.00      32   \n",
       "4            lat  float64   1145     2.65   29673   \n",
       "5            lon  float64   1145     2.65   28505   \n",
       "6        parking    int64      0     0.00      18   \n",
       "7      bathrooms  float64    679     1.57       9   \n",
       "8       bedrooms    int64      0     0.00      13   \n",
       "9   propertyType   object      0     0.00       2   \n",
       "10      suburbid   object      0     0.00     107   \n",
       "\n",
       "                         uniqueSample  \n",
       "0            [15/04/2019, 30/11/2018]  \n",
       "1               [777500.0, 1690000.0]  \n",
       "2                    [Bonner, Amaroo]  \n",
       "3                        [2904, 2612]  \n",
       "4   [-35.243507, -35.355045000000004]  \n",
       "5           [149.062015, 149.1459908]  \n",
       "6                            [27, 21]  \n",
       "7                         [21.0, 5.0]  \n",
       "8                              [4, 0]  \n",
       "9                       [unit, house]  \n",
       "10                   [ACT607, ACT619]  "
      ]
     },
     "execution_count": 6,
     "metadata": {},
     "output_type": "execute_result"
    }
   ],
   "source": [
    "# Checking raw datasets\n",
    "\n",
    "desc = []\n",
    "for i in raw_df.columns:\n",
    "    desc.append([i,\n",
    "                     raw_df[i].dtypes,\n",
    "                     raw_df[i].isna().sum(),\n",
    "                     round((raw_df[i].isna().sum())/len(raw_df)*100,2),\n",
    "                     raw_df[i].nunique(),\n",
    "                     raw_df[i].drop_duplicates().sample(2).values])\n",
    "pd.DataFrame(desc, columns = ['dataFeatures', 'dataType',' null', 'nullPct', 'unique', 'uniqueSample'])"
   ]
  },
  {
   "cell_type": "code",
   "execution_count": 7,
   "metadata": {},
   "outputs": [
    {
     "data": {
      "image/png": "[encoded data removed]",
      "text/plain": [
       "<Figure size 1080x576 with 1 Axes>"
      ]
     },
     "metadata": {},
     "output_type": "display_data"
    }
   ],
   "source": [
    "plt.figure(figsize=(15,8))\n",
    "sns.heatmap(raw_df.isnull(), yticklabels=False, cbar=False, cmap='viridis')\n",
    "plt.show()"
   ]
  },
  {
   "cell_type": "code",
   "execution_count": 8,
   "metadata": {},
   "outputs": [
    {
     "data": {
      "text/plain": [
       "datesold           0\n",
       "price            743\n",
       "suburb             0\n",
       "postcode           0\n",
       "lat             1145\n",
       "lon             1145\n",
       "parking            0\n",
       "bathrooms        679\n",
       "bedrooms           0\n",
       "propertyType       0\n",
       "suburbid           0\n",
       "dtype: int64"
      ]
     },
     "execution_count": 8,
     "metadata": {},
     "output_type": "execute_result"
    }
   ],
   "source": [
    "raw_df.isna().sum()"
   ]
  },
  {
   "cell_type": "code",
   "execution_count": 9,
   "metadata": {},
   "outputs": [],
   "source": [
    "df = raw_df.copy()"
   ]
  },
  {
   "cell_type": "markdown",
   "metadata": {},
   "source": [
    "- __Determining Numerical and Categorical Features:__"
   ]
  },
  {
   "cell_type": "code",
   "execution_count": 10,
   "metadata": {},
   "outputs": [
    {
     "data": {
      "text/plain": [
       "11"
      ]
     },
     "execution_count": 10,
     "metadata": {},
     "output_type": "execute_result"
    }
   ],
   "source": [
    "len(df.columns)  # checking"
   ]
  },
  {
   "cell_type": "code",
   "execution_count": 11,
   "metadata": {},
   "outputs": [],
   "source": [
    "categorical_columns = list(df.describe(exclude='number').columns)\n",
    "numerical_columns = list(df.describe().columns)"
   ]
  },
  {
   "cell_type": "code",
   "execution_count": 12,
   "metadata": {},
   "outputs": [],
   "source": [
    "numerical_columns.remove('postcode')\n",
    "categorical_columns.append('postcode')"
   ]
  },
  {
   "cell_type": "code",
   "execution_count": 13,
   "metadata": {},
   "outputs": [
    {
     "data": {
      "text/plain": [
       "(['datesold', 'suburb', 'propertyType', 'suburbid', 'postcode'], 5)"
      ]
     },
     "execution_count": 13,
     "metadata": {},
     "output_type": "execute_result"
    }
   ],
   "source": [
    "categorical_columns, len(categorical_columns)"
   ]
  },
  {
   "cell_type": "code",
   "execution_count": 14,
   "metadata": {},
   "outputs": [
    {
     "data": {
      "text/plain": [
       "(['price', 'lat', 'lon', 'parking', 'bathrooms', 'bedrooms'], 6)"
      ]
     },
     "execution_count": 14,
     "metadata": {},
     "output_type": "execute_result"
    }
   ],
   "source": [
    "numerical_columns, len(numerical_columns)"
   ]
  },
  {
   "cell_type": "markdown",
   "metadata": {},
   "source": [
    "- __Checking the Distribution of the Datasets Numerical Features Through Bar Plots:__"
   ]
  },
  {
   "cell_type": "code",
   "execution_count": 15,
   "metadata": {},
   "outputs": [
    {
     "data": {
      "image/png": "[encoded data removed]",
      "text/plain": [
       "<Figure size 576x576 with 1 Axes>"
      ]
     },
     "metadata": {},
     "output_type": "display_data"
    },
    {
     "data": {
      "image/png": "[encoded data removed]",
      "text/plain": [
       "<Figure size 576x576 with 1 Axes>"
      ]
     },
     "metadata": {},
     "output_type": "display_data"
    },
    {
     "data": {
      "image/png": "[encoded data removed]",
      "text/plain": [
       "<Figure size 576x576 with 1 Axes>"
      ]
     },
     "metadata": {},
     "output_type": "display_data"
    },
    {
     "data": {
      "image/png": "[encoded data removed]",
      "text/plain": [
       "<Figure size 576x576 with 1 Axes>"
      ]
     },
     "metadata": {},
     "output_type": "display_data"
    },
    {
     "data": {
      "image/png": "[encoded data removed]",
      "text/plain": [
       "<Figure size 576x576 with 1 Axes>"
      ]
     },
     "metadata": {},
     "output_type": "display_data"
    },
    {
     "data": {
      "image/png": "[encoded data removed]",
      "text/plain": [
       "<Figure size 576x576 with 1 Axes>"
      ]
     },
     "metadata": {},
     "output_type": "display_data"
    }
   ],
   "source": [
    "for i in numerical_columns:\n",
    "    plt.figure(figsize = (8,8))\n",
    "    sns.distplot(df[i], kde=False)"
   ]
  },
  {
   "cell_type": "markdown",
   "metadata": {},
   "source": [
    "- __Using Scatter Plot to See the Relationship Between 'price' Column and Other Numerical Columns:__"
   ]
  },
  {
   "cell_type": "code",
   "execution_count": 16,
   "metadata": {},
   "outputs": [],
   "source": [
    "numerical_columns_noprice = numerical_columns.copy()"
   ]
  },
  {
   "cell_type": "code",
   "execution_count": 17,
   "metadata": {},
   "outputs": [],
   "source": [
    "numerical_columns_noprice.remove('price')"
   ]
  },
  {
   "cell_type": "code",
   "execution_count": 18,
   "metadata": {},
   "outputs": [
    {
     "data": {
      "text/plain": [
       "['lat', 'lon', 'parking', 'bathrooms', 'bedrooms']"
      ]
     },
     "execution_count": 18,
     "metadata": {},
     "output_type": "execute_result"
    }
   ],
   "source": [
    "numerical_columns_noprice"
   ]
  },
  {
   "cell_type": "code",
   "execution_count": 19,
   "metadata": {},
   "outputs": [
    {
     "data": {
      "image/png": "[encoded data removed]",
      "text/plain": [
       "<Figure size 432x288 with 1 Axes>"
      ]
     },
     "metadata": {},
     "output_type": "display_data"
    },
    {
     "data": {
      "image/png": "[encoded data removed]",
      "text/plain": [
       "<Figure size 432x288 with 1 Axes>"
      ]
     },
     "metadata": {},
     "output_type": "display_data"
    },
    {
     "data": {
      "image/png": "[encoded data removed]",
      "text/plain": [
       "<Figure size 432x288 with 1 Axes>"
      ]
     },
     "metadata": {},
     "output_type": "display_data"
    },
    {
     "data": {
      "image/png": "[encoded data removed]",
      "text/plain": [
       "<Figure size 432x288 with 1 Axes>"
      ]
     },
     "metadata": {},
     "output_type": "display_data"
    },
    {
     "data": {
      "image/png": "[encoded data removed]",
      "text/plain": [
       "<Figure size 432x288 with 1 Axes>"
      ]
     },
     "metadata": {},
     "output_type": "display_data"
    }
   ],
   "source": [
    "for i in numerical_columns_noprice:\n",
    "    sns.scatterplot(df[i], df['price'])\n",
    "    plt.show()"
   ]
  },
  {
   "cell_type": "markdown",
   "metadata": {},
   "source": [
    "- __Checking Numerical Features Through Describe Method:__"
   ]
  },
  {
   "cell_type": "code",
   "execution_count": 20,
   "metadata": {},
   "outputs": [
    {
     "data": {
      "text/html": [
       "<div>\n",
       "<style scoped>\n",
       "    .dataframe tbody tr th:only-of-type {\n",
       "        vertical-align: middle;\n",
       "    }\n",
       "\n",
       "    .dataframe tbody tr th {\n",
       "        vertical-align: top;\n",
       "    }\n",
       "\n",
       "    .dataframe thead th {\n",
       "        text-align: right;\n",
       "    }\n",
       "</style>\n",
       "<table border=\"1\" class=\"dataframe\">\n",
       "  <thead>\n",
       "    <tr style=\"text-align: right;\">\n",
       "      <th></th>\n",
       "      <th>price</th>\n",
       "      <th>lat</th>\n",
       "      <th>lon</th>\n",
       "      <th>parking</th>\n",
       "      <th>bathrooms</th>\n",
       "      <th>bedrooms</th>\n",
       "    </tr>\n",
       "  </thead>\n",
       "  <tbody>\n",
       "    <tr>\n",
       "      <th>count</th>\n",
       "      <td>4.243500e+04</td>\n",
       "      <td>42033.000000</td>\n",
       "      <td>42033.000000</td>\n",
       "      <td>43178.000000</td>\n",
       "      <td>42499.000000</td>\n",
       "      <td>43178.000000</td>\n",
       "    </tr>\n",
       "    <tr>\n",
       "      <th>mean</th>\n",
       "      <td>6.037398e+05</td>\n",
       "      <td>-35.293447</td>\n",
       "      <td>149.096122</td>\n",
       "      <td>1.760017</td>\n",
       "      <td>1.643403</td>\n",
       "      <td>3.193501</td>\n",
       "    </tr>\n",
       "    <tr>\n",
       "      <th>std</th>\n",
       "      <td>3.139764e+05</td>\n",
       "      <td>0.091796</td>\n",
       "      <td>0.040526</td>\n",
       "      <td>0.937361</td>\n",
       "      <td>0.644463</td>\n",
       "      <td>0.990638</td>\n",
       "    </tr>\n",
       "    <tr>\n",
       "      <th>min</th>\n",
       "      <td>5.000000e+04</td>\n",
       "      <td>-35.509975</td>\n",
       "      <td>148.921424</td>\n",
       "      <td>0.000000</td>\n",
       "      <td>1.000000</td>\n",
       "      <td>0.000000</td>\n",
       "    </tr>\n",
       "    <tr>\n",
       "      <th>25%</th>\n",
       "      <td>4.300000e+05</td>\n",
       "      <td>-35.363857</td>\n",
       "      <td>149.067390</td>\n",
       "      <td>1.000000</td>\n",
       "      <td>1.000000</td>\n",
       "      <td>3.000000</td>\n",
       "    </tr>\n",
       "    <tr>\n",
       "      <th>50%</th>\n",
       "      <td>5.390000e+05</td>\n",
       "      <td>-35.270536</td>\n",
       "      <td>149.099522</td>\n",
       "      <td>2.000000</td>\n",
       "      <td>2.000000</td>\n",
       "      <td>3.000000</td>\n",
       "    </tr>\n",
       "    <tr>\n",
       "      <th>75%</th>\n",
       "      <td>6.760000e+05</td>\n",
       "      <td>-35.212323</td>\n",
       "      <td>149.130708</td>\n",
       "      <td>2.000000</td>\n",
       "      <td>2.000000</td>\n",
       "      <td>4.000000</td>\n",
       "    </tr>\n",
       "    <tr>\n",
       "      <th>max</th>\n",
       "      <td>8.000000e+06</td>\n",
       "      <td>-35.138572</td>\n",
       "      <td>149.250290</td>\n",
       "      <td>31.000000</td>\n",
       "      <td>21.000000</td>\n",
       "      <td>14.000000</td>\n",
       "    </tr>\n",
       "  </tbody>\n",
       "</table>\n",
       "</div>"
      ],
      "text/plain": [
       "              price           lat           lon       parking     bathrooms  \\\n",
       "count  4.243500e+04  42033.000000  42033.000000  43178.000000  42499.000000   \n",
       "mean   6.037398e+05    -35.293447    149.096122      1.760017      1.643403   \n",
       "std    3.139764e+05      0.091796      0.040526      0.937361      0.644463   \n",
       "min    5.000000e+04    -35.509975    148.921424      0.000000      1.000000   \n",
       "25%    4.300000e+05    -35.363857    149.067390      1.000000      1.000000   \n",
       "50%    5.390000e+05    -35.270536    149.099522      2.000000      2.000000   \n",
       "75%    6.760000e+05    -35.212323    149.130708      2.000000      2.000000   \n",
       "max    8.000000e+06    -35.138572    149.250290     31.000000     21.000000   \n",
       "\n",
       "           bedrooms  \n",
       "count  43178.000000  \n",
       "mean       3.193501  \n",
       "std        0.990638  \n",
       "min        0.000000  \n",
       "25%        3.000000  \n",
       "50%        3.000000  \n",
       "75%        4.000000  \n",
       "max       14.000000  "
      ]
     },
     "execution_count": 20,
     "metadata": {},
     "output_type": "execute_result"
    }
   ],
   "source": [
    "df[numerical_columns].describe()"
   ]
  },
  {
   "cell_type": "markdown",
   "metadata": {},
   "source": [
    "- __Checking Categorical Features Through Describe Method:__"
   ]
  },
  {
   "cell_type": "code",
   "execution_count": 21,
   "metadata": {},
   "outputs": [
    {
     "data": {
      "text/html": [
       "<div>\n",
       "<style scoped>\n",
       "    .dataframe tbody tr th:only-of-type {\n",
       "        vertical-align: middle;\n",
       "    }\n",
       "\n",
       "    .dataframe tbody tr th {\n",
       "        vertical-align: top;\n",
       "    }\n",
       "\n",
       "    .dataframe thead th {\n",
       "        text-align: right;\n",
       "    }\n",
       "</style>\n",
       "<table border=\"1\" class=\"dataframe\">\n",
       "  <thead>\n",
       "    <tr style=\"text-align: right;\">\n",
       "      <th></th>\n",
       "      <th>datesold</th>\n",
       "      <th>suburb</th>\n",
       "      <th>propertyType</th>\n",
       "      <th>suburbid</th>\n",
       "      <th>postcode</th>\n",
       "    </tr>\n",
       "  </thead>\n",
       "  <tbody>\n",
       "    <tr>\n",
       "      <th>count</th>\n",
       "      <td>43178</td>\n",
       "      <td>43178</td>\n",
       "      <td>43178</td>\n",
       "      <td>43178</td>\n",
       "      <td>43178.000000</td>\n",
       "    </tr>\n",
       "    <tr>\n",
       "      <th>unique</th>\n",
       "      <td>3851</td>\n",
       "      <td>107</td>\n",
       "      <td>2</td>\n",
       "      <td>107</td>\n",
       "      <td>NaN</td>\n",
       "    </tr>\n",
       "    <tr>\n",
       "      <th>top</th>\n",
       "      <td>28/10/2017</td>\n",
       "      <td>Kambah</td>\n",
       "      <td>house</td>\n",
       "      <td>ACT601</td>\n",
       "      <td>NaN</td>\n",
       "    </tr>\n",
       "    <tr>\n",
       "      <th>freq</th>\n",
       "      <td>56</td>\n",
       "      <td>1404</td>\n",
       "      <td>36236</td>\n",
       "      <td>1404</td>\n",
       "      <td>NaN</td>\n",
       "    </tr>\n",
       "    <tr>\n",
       "      <th>mean</th>\n",
       "      <td>NaN</td>\n",
       "      <td>NaN</td>\n",
       "      <td>NaN</td>\n",
       "      <td>NaN</td>\n",
       "      <td>2728.855644</td>\n",
       "    </tr>\n",
       "    <tr>\n",
       "      <th>std</th>\n",
       "      <td>NaN</td>\n",
       "      <td>NaN</td>\n",
       "      <td>NaN</td>\n",
       "      <td>NaN</td>\n",
       "      <td>146.564444</td>\n",
       "    </tr>\n",
       "    <tr>\n",
       "      <th>min</th>\n",
       "      <td>NaN</td>\n",
       "      <td>NaN</td>\n",
       "      <td>NaN</td>\n",
       "      <td>NaN</td>\n",
       "      <td>2092.000000</td>\n",
       "    </tr>\n",
       "    <tr>\n",
       "      <th>25%</th>\n",
       "      <td>NaN</td>\n",
       "      <td>NaN</td>\n",
       "      <td>NaN</td>\n",
       "      <td>NaN</td>\n",
       "      <td>2607.000000</td>\n",
       "    </tr>\n",
       "    <tr>\n",
       "      <th>50%</th>\n",
       "      <td>NaN</td>\n",
       "      <td>NaN</td>\n",
       "      <td>NaN</td>\n",
       "      <td>NaN</td>\n",
       "      <td>2615.000000</td>\n",
       "    </tr>\n",
       "    <tr>\n",
       "      <th>75%</th>\n",
       "      <td>NaN</td>\n",
       "      <td>NaN</td>\n",
       "      <td>NaN</td>\n",
       "      <td>NaN</td>\n",
       "      <td>2905.000000</td>\n",
       "    </tr>\n",
       "    <tr>\n",
       "      <th>max</th>\n",
       "      <td>NaN</td>\n",
       "      <td>NaN</td>\n",
       "      <td>NaN</td>\n",
       "      <td>NaN</td>\n",
       "      <td>2914.000000</td>\n",
       "    </tr>\n",
       "  </tbody>\n",
       "</table>\n",
       "</div>"
      ],
      "text/plain": [
       "          datesold  suburb propertyType suburbid      postcode\n",
       "count        43178   43178        43178    43178  43178.000000\n",
       "unique        3851     107            2      107           NaN\n",
       "top     28/10/2017  Kambah        house   ACT601           NaN\n",
       "freq            56    1404        36236     1404           NaN\n",
       "mean           NaN     NaN          NaN      NaN   2728.855644\n",
       "std            NaN     NaN          NaN      NaN    146.564444\n",
       "min            NaN     NaN          NaN      NaN   2092.000000\n",
       "25%            NaN     NaN          NaN      NaN   2607.000000\n",
       "50%            NaN     NaN          NaN      NaN   2615.000000\n",
       "75%            NaN     NaN          NaN      NaN   2905.000000\n",
       "max            NaN     NaN          NaN      NaN   2914.000000"
      ]
     },
     "execution_count": 21,
     "metadata": {},
     "output_type": "execute_result"
    }
   ],
   "source": [
    "df[categorical_columns].describe(include='all')"
   ]
  },
  {
   "cell_type": "code",
   "execution_count": 22,
   "metadata": {},
   "outputs": [
    {
     "data": {
      "image/png": "[encoded data removed]",
      "text/plain": [
       "<Figure size 720x432 with 2 Axes>"
      ]
     },
     "metadata": {},
     "output_type": "display_data"
    }
   ],
   "source": [
    "# Correlation Inspection\n",
    "\n",
    "target = 'price'\n",
    "k = 7 # number of variables for heatmap\n",
    "cols = df[numerical_columns].corr().nlargest(k, target)[target].index\n",
    "cm = df[cols].corr()\n",
    "plt.figure(figsize=(10,6))\n",
    "sns.heatmap(cm, annot=True, cmap = 'viridis')\n",
    "plt.title('Correlation')\n",
    "plt.show()"
   ]
  },
  {
   "cell_type": "markdown",
   "metadata": {},
   "source": [
    "Through this heatmap it can be seen that 'lat', and 'lon' columns have relatively small correlation with the 'price' column, while 'bedrooms' has the highest."
   ]
  },
  {
   "cell_type": "markdown",
   "metadata": {},
   "source": [
    "> #### Removing Features"
   ]
  },
  {
   "cell_type": "markdown",
   "metadata": {},
   "source": [
    "- __Checking the Features:__"
   ]
  },
  {
   "cell_type": "code",
   "execution_count": 23,
   "metadata": {},
   "outputs": [
    {
     "data": {
      "text/plain": [
       "['datesold', 'suburb', 'propertyType', 'suburbid', 'postcode']"
      ]
     },
     "execution_count": 23,
     "metadata": {},
     "output_type": "execute_result"
    }
   ],
   "source": [
    "categorical_columns"
   ]
  },
  {
   "cell_type": "code",
   "execution_count": 24,
   "metadata": {},
   "outputs": [
    {
     "data": {
      "text/plain": [
       "['price', 'lat', 'lon', 'parking', 'bathrooms', 'bedrooms']"
      ]
     },
     "execution_count": 24,
     "metadata": {},
     "output_type": "execute_result"
    }
   ],
   "source": [
    "numerical_columns"
   ]
  },
  {
   "cell_type": "markdown",
   "metadata": {},
   "source": [
    "- __Removing 'datesold' and 'suburbid' features:__"
   ]
  },
  {
   "cell_type": "code",
   "execution_count": 25,
   "metadata": {},
   "outputs": [
    {
     "data": {
      "text/plain": [
       "pandas._libs.tslibs.timestamps.Timestamp"
      ]
     },
     "execution_count": 25,
     "metadata": {},
     "output_type": "execute_result"
    }
   ],
   "source": [
    "df['datesold'] = pd.to_datetime(df['datesold'])\n",
    "type(df['datesold'][0])  # checking"
   ]
  },
  {
   "cell_type": "code",
   "execution_count": 26,
   "metadata": {},
   "outputs": [
    {
     "data": {
      "text/plain": [
       "107"
      ]
     },
     "execution_count": 26,
     "metadata": {},
     "output_type": "execute_result"
    }
   ],
   "source": [
    "df['suburb'].nunique()  # checking 'suburb'"
   ]
  },
  {
   "cell_type": "code",
   "execution_count": 27,
   "metadata": {},
   "outputs": [],
   "source": [
    "# Removing data before 2007 because there are too many missing values\n",
    "\n",
    "df.drop(df[df['datesold'].dt.year<2007].index, inplace=True)"
   ]
  },
  {
   "cell_type": "code",
   "execution_count": 28,
   "metadata": {},
   "outputs": [
    {
     "data": {
      "text/plain": [
       "107"
      ]
     },
     "execution_count": 28,
     "metadata": {},
     "output_type": "execute_result"
    }
   ],
   "source": [
    "df['suburb'].nunique()  # checking 'suburb'"
   ]
  },
  {
   "cell_type": "code",
   "execution_count": 29,
   "metadata": {},
   "outputs": [
    {
     "name": "stdout",
     "output_type": "stream",
     "text": [
      "Number of unique values in 'suburb' column:  107\n",
      "Number of unique values in 'suburbid' column:  107\n"
     ]
    }
   ],
   "source": [
    "print(\"Number of unique values in 'suburb' column: \", df['suburb'].nunique())\n",
    "print(\"Number of unique values in 'suburbid' column: \", df['suburbid'].nunique())"
   ]
  },
  {
   "cell_type": "code",
   "execution_count": 30,
   "metadata": {},
   "outputs": [],
   "source": [
    "categorical_columns.remove('datesold')\n",
    "categorical_columns.remove('suburbid')"
   ]
  },
  {
   "cell_type": "code",
   "execution_count": 31,
   "metadata": {},
   "outputs": [
    {
     "data": {
      "text/plain": [
       "['suburb', 'propertyType', 'postcode']"
      ]
     },
     "execution_count": 31,
     "metadata": {},
     "output_type": "execute_result"
    }
   ],
   "source": [
    "categorical_columns"
   ]
  },
  {
   "cell_type": "markdown",
   "metadata": {},
   "source": [
    "'datesold' column is going to be dropped since this feature only beneficial for data analysis and visualization stages; and not in modelling phase. In addition, 'suburbid' feature is also going to be removed since it is just conveying the id of suburbs in 'suburb' column."
   ]
  },
  {
   "cell_type": "markdown",
   "metadata": {},
   "source": [
    "- __Removing 'postcode' feature:__"
   ]
  },
  {
   "cell_type": "code",
   "execution_count": 32,
   "metadata": {},
   "outputs": [
    {
     "name": "stdout",
     "output_type": "stream",
     "text": [
      "Number of unique values in 'suburb' column:  107\n",
      "Number of unique values in 'postcode' column:  32\n"
     ]
    }
   ],
   "source": [
    "print(\"Number of unique values in 'suburb' column: \", df['suburb'].nunique())\n",
    "print(\"Number of unique values in 'postcode' column: \", df['postcode'].nunique())"
   ]
  },
  {
   "cell_type": "code",
   "execution_count": 33,
   "metadata": {},
   "outputs": [],
   "source": [
    "categorical_columns.remove('postcode')"
   ]
  },
  {
   "cell_type": "code",
   "execution_count": 34,
   "metadata": {},
   "outputs": [
    {
     "data": {
      "text/plain": [
       "['suburb', 'propertyType']"
      ]
     },
     "execution_count": 34,
     "metadata": {},
     "output_type": "execute_result"
    }
   ],
   "source": [
    "categorical_columns"
   ]
  },
  {
   "cell_type": "markdown",
   "metadata": {},
   "source": [
    "At this stage, 'postcode' feature is going to be deleted since it covers Canberra area significantly wider than 'suburb' feature, thus it lacks precision. This machine learning model will rely on 'suburb' feature to categorize real estate properties which are being sold in Canberra."
   ]
  },
  {
   "cell_type": "markdown",
   "metadata": {},
   "source": [
    "- __Removing 'lat' and 'lon' features:__"
   ]
  },
  {
   "cell_type": "code",
   "execution_count": 35,
   "metadata": {},
   "outputs": [],
   "source": [
    "numerical_columns.remove('lat')\n",
    "numerical_columns.remove('lon')"
   ]
  },
  {
   "cell_type": "code",
   "execution_count": 36,
   "metadata": {},
   "outputs": [
    {
     "data": {
      "text/plain": [
       "['price', 'parking', 'bathrooms', 'bedrooms']"
      ]
     },
     "execution_count": 36,
     "metadata": {},
     "output_type": "execute_result"
    }
   ],
   "source": [
    "numerical_columns"
   ]
  },
  {
   "cell_type": "markdown",
   "metadata": {},
   "source": [
    "As 'lat' and 'lon' columns have low correlation values with 'price' column and this machine learning model is going to solely rely on 'suburb' as the main feature to categorize properties that are being sold in Canberra, both of them are going to be removed."
   ]
  },
  {
   "cell_type": "markdown",
   "metadata": {},
   "source": [
    "- __Updating Data Frame:__"
   ]
  },
  {
   "cell_type": "code",
   "execution_count": 37,
   "metadata": {},
   "outputs": [],
   "source": [
    "df_numerical = df[numerical_columns]\n",
    "df_categorical = df[categorical_columns]\n",
    "df = pd.concat([df_numerical, df_categorical], axis=1)"
   ]
  },
  {
   "cell_type": "code",
   "execution_count": 38,
   "metadata": {},
   "outputs": [
    {
     "data": {
      "text/html": [
       "<div>\n",
       "<style scoped>\n",
       "    .dataframe tbody tr th:only-of-type {\n",
       "        vertical-align: middle;\n",
       "    }\n",
       "\n",
       "    .dataframe tbody tr th {\n",
       "        vertical-align: top;\n",
       "    }\n",
       "\n",
       "    .dataframe thead th {\n",
       "        text-align: right;\n",
       "    }\n",
       "</style>\n",
       "<table border=\"1\" class=\"dataframe\">\n",
       "  <thead>\n",
       "    <tr style=\"text-align: right;\">\n",
       "      <th></th>\n",
       "      <th>price</th>\n",
       "      <th>parking</th>\n",
       "      <th>bathrooms</th>\n",
       "      <th>bedrooms</th>\n",
       "      <th>suburb</th>\n",
       "      <th>propertyType</th>\n",
       "    </tr>\n",
       "  </thead>\n",
       "  <tbody>\n",
       "    <tr>\n",
       "      <th>42</th>\n",
       "      <td>450000.0</td>\n",
       "      <td>2</td>\n",
       "      <td>2.0</td>\n",
       "      <td>3</td>\n",
       "      <td>Conder</td>\n",
       "      <td>house</td>\n",
       "    </tr>\n",
       "    <tr>\n",
       "      <th>43</th>\n",
       "      <td>525000.0</td>\n",
       "      <td>2</td>\n",
       "      <td>NaN</td>\n",
       "      <td>4</td>\n",
       "      <td>Pearce</td>\n",
       "      <td>house</td>\n",
       "    </tr>\n",
       "    <tr>\n",
       "      <th>44</th>\n",
       "      <td>250000.0</td>\n",
       "      <td>1</td>\n",
       "      <td>1.0</td>\n",
       "      <td>3</td>\n",
       "      <td>Isabella Plains</td>\n",
       "      <td>house</td>\n",
       "    </tr>\n",
       "  </tbody>\n",
       "</table>\n",
       "</div>"
      ],
      "text/plain": [
       "       price  parking  bathrooms  bedrooms           suburb propertyType\n",
       "42  450000.0        2        2.0         3           Conder        house\n",
       "43  525000.0        2        NaN         4           Pearce        house\n",
       "44  250000.0        1        1.0         3  Isabella Plains        house"
      ]
     },
     "execution_count": 38,
     "metadata": {},
     "output_type": "execute_result"
    }
   ],
   "source": [
    "df.head(3)"
   ]
  },
  {
   "cell_type": "markdown",
   "metadata": {},
   "source": [
    "> #### Removing Missing Values"
   ]
  },
  {
   "cell_type": "markdown",
   "metadata": {},
   "source": [
    "- __Removing Missing Values in 'price' column:__"
   ]
  },
  {
   "cell_type": "code",
   "execution_count": 39,
   "metadata": {},
   "outputs": [
    {
     "data": {
      "text/plain": [
       "price           743\n",
       "parking           0\n",
       "bathrooms       667\n",
       "bedrooms          0\n",
       "suburb            0\n",
       "propertyType      0\n",
       "dtype: int64"
      ]
     },
     "execution_count": 39,
     "metadata": {},
     "output_type": "execute_result"
    }
   ],
   "source": [
    "df.isna().sum()"
   ]
  },
  {
   "cell_type": "code",
   "execution_count": 40,
   "metadata": {},
   "outputs": [],
   "source": [
    "df.dropna(subset=['price'], inplace=True)"
   ]
  },
  {
   "cell_type": "code",
   "execution_count": 41,
   "metadata": {},
   "outputs": [
    {
     "data": {
      "text/plain": [
       "price             0\n",
       "parking           0\n",
       "bathrooms       646\n",
       "bedrooms          0\n",
       "suburb            0\n",
       "propertyType      0\n",
       "dtype: int64"
      ]
     },
     "execution_count": 41,
     "metadata": {},
     "output_type": "execute_result"
    }
   ],
   "source": [
    "df.isna().sum()"
   ]
  },
  {
   "cell_type": "markdown",
   "metadata": {},
   "source": [
    "Missing values in 'price' column are going to be dropped since this machine learning model is depended on the historical data in this column. Furthermore, missing values that exist in 'bathrooms' feature will be   resolved later through pipeline."
   ]
  },
  {
   "cell_type": "markdown",
   "metadata": {},
   "source": [
    "## Machine Learning Modelling"
   ]
  },
  {
   "cell_type": "markdown",
   "metadata": {},
   "source": [
    "- __Determining the Dependent and Independent Features:__"
   ]
  },
  {
   "cell_type": "code",
   "execution_count": 42,
   "metadata": {},
   "outputs": [],
   "source": [
    "# Selecting features and target\n",
    "\n",
    "y = df['price']\n",
    "X = df.drop('price', axis=1)"
   ]
  },
  {
   "cell_type": "code",
   "execution_count": 43,
   "metadata": {},
   "outputs": [
    {
     "data": {
      "text/plain": [
       "42    450000.0\n",
       "43    525000.0\n",
       "44    250000.0\n",
       "45    350000.0\n",
       "46    290000.0\n",
       "Name: price, dtype: float64"
      ]
     },
     "execution_count": 43,
     "metadata": {},
     "output_type": "execute_result"
    }
   ],
   "source": [
    "y[:5]  # checking"
   ]
  },
  {
   "cell_type": "code",
   "execution_count": 44,
   "metadata": {},
   "outputs": [
    {
     "data": {
      "text/html": [
       "<div>\n",
       "<style scoped>\n",
       "    .dataframe tbody tr th:only-of-type {\n",
       "        vertical-align: middle;\n",
       "    }\n",
       "\n",
       "    .dataframe tbody tr th {\n",
       "        vertical-align: top;\n",
       "    }\n",
       "\n",
       "    .dataframe thead th {\n",
       "        text-align: right;\n",
       "    }\n",
       "</style>\n",
       "<table border=\"1\" class=\"dataframe\">\n",
       "  <thead>\n",
       "    <tr style=\"text-align: right;\">\n",
       "      <th></th>\n",
       "      <th>parking</th>\n",
       "      <th>bathrooms</th>\n",
       "      <th>bedrooms</th>\n",
       "      <th>suburb</th>\n",
       "      <th>propertyType</th>\n",
       "    </tr>\n",
       "  </thead>\n",
       "  <tbody>\n",
       "    <tr>\n",
       "      <th>42</th>\n",
       "      <td>2</td>\n",
       "      <td>2.0</td>\n",
       "      <td>3</td>\n",
       "      <td>Conder</td>\n",
       "      <td>house</td>\n",
       "    </tr>\n",
       "    <tr>\n",
       "      <th>43</th>\n",
       "      <td>2</td>\n",
       "      <td>NaN</td>\n",
       "      <td>4</td>\n",
       "      <td>Pearce</td>\n",
       "      <td>house</td>\n",
       "    </tr>\n",
       "    <tr>\n",
       "      <th>44</th>\n",
       "      <td>1</td>\n",
       "      <td>1.0</td>\n",
       "      <td>3</td>\n",
       "      <td>Isabella Plains</td>\n",
       "      <td>house</td>\n",
       "    </tr>\n",
       "    <tr>\n",
       "      <th>45</th>\n",
       "      <td>1</td>\n",
       "      <td>2.0</td>\n",
       "      <td>3</td>\n",
       "      <td>Gordon</td>\n",
       "      <td>house</td>\n",
       "    </tr>\n",
       "    <tr>\n",
       "      <th>46</th>\n",
       "      <td>1</td>\n",
       "      <td>1.0</td>\n",
       "      <td>3</td>\n",
       "      <td>Conder</td>\n",
       "      <td>house</td>\n",
       "    </tr>\n",
       "  </tbody>\n",
       "</table>\n",
       "</div>"
      ],
      "text/plain": [
       "    parking  bathrooms  bedrooms           suburb propertyType\n",
       "42        2        2.0         3           Conder        house\n",
       "43        2        NaN         4           Pearce        house\n",
       "44        1        1.0         3  Isabella Plains        house\n",
       "45        1        2.0         3           Gordon        house\n",
       "46        1        1.0         3           Conder        house"
      ]
     },
     "execution_count": 44,
     "metadata": {},
     "output_type": "execute_result"
    }
   ],
   "source": [
    "X.head()"
   ]
  },
  {
   "cell_type": "markdown",
   "metadata": {},
   "source": [
    "- __Splitting Training-validation Set and Test Set:__"
   ]
  },
  {
   "cell_type": "code",
   "execution_count": 45,
   "metadata": {},
   "outputs": [],
   "source": [
    "# Train test split\n",
    "\n",
    "X_train_val, X_test, y_train_val, y_test= train_test_split(X, y, random_state=2021, test_size=0.2)"
   ]
  },
  {
   "cell_type": "markdown",
   "metadata": {},
   "source": [
    "- __Updating Numerical and Categorical Columns:__"
   ]
  },
  {
   "cell_type": "code",
   "execution_count": 46,
   "metadata": {},
   "outputs": [],
   "source": [
    "numerical_columns = list(X.describe().columns)\n",
    "categorical_columns = list(X.describe(exclude='number').columns)"
   ]
  },
  {
   "cell_type": "code",
   "execution_count": 47,
   "metadata": {},
   "outputs": [
    {
     "data": {
      "text/plain": [
       "['parking', 'bathrooms', 'bedrooms']"
      ]
     },
     "execution_count": 47,
     "metadata": {},
     "output_type": "execute_result"
    }
   ],
   "source": [
    "numerical_columns"
   ]
  },
  {
   "cell_type": "code",
   "execution_count": 48,
   "metadata": {},
   "outputs": [
    {
     "data": {
      "text/plain": [
       "['suburb', 'propertyType']"
      ]
     },
     "execution_count": 48,
     "metadata": {},
     "output_type": "execute_result"
    }
   ],
   "source": [
    "categorical_columns"
   ]
  },
  {
   "cell_type": "markdown",
   "metadata": {},
   "source": [
    "> ## Parametric Benchmark Model"
   ]
  },
  {
   "cell_type": "markdown",
   "metadata": {},
   "source": [
    "- __Creating a Multiple Linear Regression Model:__"
   ]
  },
  {
   "cell_type": "code",
   "execution_count": 49,
   "metadata": {},
   "outputs": [
    {
     "data": {
      "text/plain": [
       "price             0\n",
       "parking           0\n",
       "bathrooms       646\n",
       "bedrooms          0\n",
       "suburb            0\n",
       "propertyType      0\n",
       "dtype: int64"
      ]
     },
     "execution_count": 49,
     "metadata": {},
     "output_type": "execute_result"
    }
   ],
   "source": [
    "df.isna().sum()  # checking"
   ]
  },
  {
   "cell_type": "code",
   "execution_count": 50,
   "metadata": {},
   "outputs": [],
   "source": [
    "# Creating a simple imputer pipeline\n",
    "# imputing missing values in 'bathrooms' column with median resulting in little to no difference in 'bathrooms' standard deviation\n",
    "numerical_pipeline = Pipeline([\n",
    "    ('impute_num', SimpleImputer(strategy='median')),\n",
    "    ('robust', RobustScaler())  # robust to outliers\n",
    "])\n",
    "\n",
    "# Creating a binary encoder pipeline\n",
    "binary_pipeline = Pipeline([\n",
    "    ('binary', ce.BinaryEncoder())\n",
    "])\n",
    "\n",
    "# Creating a onehot encoder pipeline\n",
    "onehot_pipeline = Pipeline([\n",
    "    ('onehot', OneHotEncoder(drop='first'))\n",
    "])\n",
    "\n",
    "# Creating a columns transformer\n",
    "transformer_mlr = ColumnTransformer([\n",
    "    ('impute_pipe', numerical_pipeline, numerical_columns), \n",
    "    ('onehot_pipe', onehot_pipeline, ['propertyType']),  \n",
    "    ('binary_pipe', binary_pipeline, ['suburb'])\n",
    "], remainder='passthrough')"
   ]
  },
  {
   "cell_type": "code",
   "execution_count": 51,
   "metadata": {},
   "outputs": [],
   "source": [
    "X_train_val_transform = transformer_mlr.fit_transform(X_train_val, y_train_val)\n",
    "X_test_transform = transformer_mlr.transform(X_test)"
   ]
  },
  {
   "cell_type": "code",
   "execution_count": 52,
   "metadata": {},
   "outputs": [
    {
     "data": {
      "text/plain": [
       "array([[-1., -1.,  0., ...,  0.,  0.,  1.],\n",
       "       [-1.,  0.,  1., ...,  0.,  1.,  0.],\n",
       "       [-1.,  0.,  0., ...,  0.,  1.,  1.],\n",
       "       ...,\n",
       "       [ 0.,  0.,  1., ...,  1.,  0.,  0.],\n",
       "       [-1., -1.,  0., ...,  0.,  0.,  0.],\n",
       "       [-1.,  1., -1., ...,  1.,  1.,  0.]])"
      ]
     },
     "execution_count": 52,
     "metadata": {},
     "output_type": "execute_result"
    }
   ],
   "source": [
    "X_train_val_transform  # checking"
   ]
  },
  {
   "cell_type": "code",
   "execution_count": 53,
   "metadata": {},
   "outputs": [
    {
     "data": {
      "text/plain": [
       "array([[ 4.,  0.,  3., ...,  1.,  0.,  1.],\n",
       "       [ 1.,  0.,  1., ...,  0.,  1.,  1.],\n",
       "       [ 0.,  0.,  1., ...,  1.,  1.,  0.],\n",
       "       ...,\n",
       "       [-1., -1.,  0., ...,  0.,  1.,  0.],\n",
       "       [-1.,  0.,  0., ...,  1.,  1.,  0.],\n",
       "       [ 0.,  0.,  1., ...,  1.,  1.,  0.]])"
      ]
     },
     "execution_count": 53,
     "metadata": {},
     "output_type": "execute_result"
    }
   ],
   "source": [
    "X_test_transform  # checking"
   ]
  },
  {
   "cell_type": "code",
   "execution_count": 54,
   "metadata": {},
   "outputs": [],
   "source": [
    "x = sm.add_constant(X_train_val_transform)\n",
    "results = sm.OLS(y_train_val, x).fit()"
   ]
  },
  {
   "cell_type": "code",
   "execution_count": 55,
   "metadata": {},
   "outputs": [
    {
     "data": {
      "text/html": [
       "<table class=\"simpletable\">\n",
       "<caption>OLS Regression Results</caption>\n",
       "<tr>\n",
       "  <th>Dep. Variable:</th>          <td>price</td>      <th>  R-squared:         </th>  <td>   0.250</td>  \n",
       "</tr>\n",
       "<tr>\n",
       "  <th>Model:</th>                   <td>OLS</td>       <th>  Adj. R-squared:    </th>  <td>   0.250</td>  \n",
       "</tr>\n",
       "<tr>\n",
       "  <th>Method:</th>             <td>Least Squares</td>  <th>  F-statistic:       </th>  <td>   1030.</td>  \n",
       "</tr>\n",
       "<tr>\n",
       "  <th>Date:</th>             <td>Mon, 01 Mar 2021</td> <th>  Prob (F-statistic):</th>   <td>  0.00</td>   \n",
       "</tr>\n",
       "<tr>\n",
       "  <th>Time:</th>                 <td>20:05:56</td>     <th>  Log-Likelihood:    </th> <td>-4.7248e+05</td>\n",
       "</tr>\n",
       "<tr>\n",
       "  <th>No. Observations:</th>      <td> 33914</td>      <th>  AIC:               </th>  <td>9.450e+05</td> \n",
       "</tr>\n",
       "<tr>\n",
       "  <th>Df Residuals:</th>          <td> 33902</td>      <th>  BIC:               </th>  <td>9.451e+05</td> \n",
       "</tr>\n",
       "<tr>\n",
       "  <th>Df Model:</th>              <td>    11</td>      <th>                     </th>      <td> </td>     \n",
       "</tr>\n",
       "<tr>\n",
       "  <th>Covariance Type:</th>      <td>nonrobust</td>    <th>                     </th>      <td> </td>     \n",
       "</tr>\n",
       "</table>\n",
       "<table class=\"simpletable\">\n",
       "<tr>\n",
       "    <td></td>       <th>coef</th>     <th>std err</th>      <th>t</th>      <th>P>|t|</th>  <th>[0.025</th>    <th>0.975]</th>  \n",
       "</tr>\n",
       "<tr>\n",
       "  <th>const</th> <td> 5.494e+05</td> <td> 4510.902</td> <td>  121.784</td> <td> 0.000</td> <td> 5.41e+05</td> <td> 5.58e+05</td>\n",
       "</tr>\n",
       "<tr>\n",
       "  <th>x1</th>    <td> 2.098e+04</td> <td> 1699.837</td> <td>   12.342</td> <td> 0.000</td> <td> 1.76e+04</td> <td> 2.43e+04</td>\n",
       "</tr>\n",
       "<tr>\n",
       "  <th>x2</th>    <td>  6.11e+04</td> <td> 2508.290</td> <td>   24.360</td> <td> 0.000</td> <td> 5.62e+04</td> <td>  6.6e+04</td>\n",
       "</tr>\n",
       "<tr>\n",
       "  <th>x3</th>    <td> 1.371e+05</td> <td> 2070.622</td> <td>   66.229</td> <td> 0.000</td> <td> 1.33e+05</td> <td> 1.41e+05</td>\n",
       "</tr>\n",
       "<tr>\n",
       "  <th>x4</th>    <td> 5.463e+04</td> <td> 5068.661</td> <td>   10.779</td> <td> 0.000</td> <td> 4.47e+04</td> <td> 6.46e+04</td>\n",
       "</tr>\n",
       "<tr>\n",
       "  <th>x5</th>    <td>-5.738e-11</td> <td> 1.35e-12</td> <td>  -42.498</td> <td> 0.000</td> <td>   -6e-11</td> <td>-5.47e-11</td>\n",
       "</tr>\n",
       "<tr>\n",
       "  <th>x6</th>    <td> 3.238e+04</td> <td> 3503.079</td> <td>    9.244</td> <td> 0.000</td> <td> 2.55e+04</td> <td> 3.92e+04</td>\n",
       "</tr>\n",
       "<tr>\n",
       "  <th>x7</th>    <td> 1.005e+04</td> <td> 3293.860</td> <td>    3.051</td> <td> 0.002</td> <td> 3592.810</td> <td> 1.65e+04</td>\n",
       "</tr>\n",
       "<tr>\n",
       "  <th>x8</th>    <td>-9016.4322</td> <td> 3086.854</td> <td>   -2.921</td> <td> 0.003</td> <td>-1.51e+04</td> <td>-2966.094</td>\n",
       "</tr>\n",
       "<tr>\n",
       "  <th>x9</th>    <td> 2.597e+04</td> <td> 2988.302</td> <td>    8.690</td> <td> 0.000</td> <td> 2.01e+04</td> <td> 3.18e+04</td>\n",
       "</tr>\n",
       "<tr>\n",
       "  <th>x10</th>   <td> 1.552e+04</td> <td> 2987.680</td> <td>    5.195</td> <td> 0.000</td> <td> 9663.928</td> <td> 2.14e+04</td>\n",
       "</tr>\n",
       "<tr>\n",
       "  <th>x11</th>   <td> 4.766e+04</td> <td> 2972.180</td> <td>   16.037</td> <td> 0.000</td> <td> 4.18e+04</td> <td> 5.35e+04</td>\n",
       "</tr>\n",
       "<tr>\n",
       "  <th>x12</th>   <td>-1.072e+04</td> <td> 2984.302</td> <td>   -3.591</td> <td> 0.000</td> <td>-1.66e+04</td> <td>-4866.439</td>\n",
       "</tr>\n",
       "</table>\n",
       "<table class=\"simpletable\">\n",
       "<tr>\n",
       "  <th>Omnibus:</th>       <td>33719.785</td> <th>  Durbin-Watson:     </th>  <td>   2.009</td>  \n",
       "</tr>\n",
       "<tr>\n",
       "  <th>Prob(Omnibus):</th>  <td> 0.000</td>   <th>  Jarque-Bera (JB):  </th> <td>4171387.197</td>\n",
       "</tr>\n",
       "<tr>\n",
       "  <th>Skew:</th>           <td> 4.605</td>   <th>  Prob(JB):          </th>  <td>    0.00</td>  \n",
       "</tr>\n",
       "<tr>\n",
       "  <th>Kurtosis:</th>       <td>56.546</td>   <th>  Cond. No.          </th>  <td>3.47e+16</td>  \n",
       "</tr>\n",
       "</table><br/><br/>Notes:<br/>[1] Standard Errors assume that the covariance matrix of the errors is correctly specified.<br/>[2] The smallest eigenvalue is 7.86e-29. This might indicate that there are<br/>strong multicollinearity problems or that the design matrix is singular."
      ],
      "text/plain": [
       "<class 'statsmodels.iolib.summary.Summary'>\n",
       "\"\"\"\n",
       "                            OLS Regression Results                            \n",
       "==============================================================================\n",
       "Dep. Variable:                  price   R-squared:                       0.250\n",
       "Model:                            OLS   Adj. R-squared:                  0.250\n",
       "Method:                 Least Squares   F-statistic:                     1030.\n",
       "Date:                Mon, 01 Mar 2021   Prob (F-statistic):               0.00\n",
       "Time:                        20:05:56   Log-Likelihood:            -4.7248e+05\n",
       "No. Observations:               33914   AIC:                         9.450e+05\n",
       "Df Residuals:                   33902   BIC:                         9.451e+05\n",
       "Df Model:                          11                                         \n",
       "Covariance Type:            nonrobust                                         \n",
       "==============================================================================\n",
       "                 coef    std err          t      P>|t|      [0.025      0.975]\n",
       "------------------------------------------------------------------------------\n",
       "const       5.494e+05   4510.902    121.784      0.000    5.41e+05    5.58e+05\n",
       "x1          2.098e+04   1699.837     12.342      0.000    1.76e+04    2.43e+04\n",
       "x2           6.11e+04   2508.290     24.360      0.000    5.62e+04     6.6e+04\n",
       "x3          1.371e+05   2070.622     66.229      0.000    1.33e+05    1.41e+05\n",
       "x4          5.463e+04   5068.661     10.779      0.000    4.47e+04    6.46e+04\n",
       "x5         -5.738e-11   1.35e-12    -42.498      0.000      -6e-11   -5.47e-11\n",
       "x6          3.238e+04   3503.079      9.244      0.000    2.55e+04    3.92e+04\n",
       "x7          1.005e+04   3293.860      3.051      0.002    3592.810    1.65e+04\n",
       "x8         -9016.4322   3086.854     -2.921      0.003   -1.51e+04   -2966.094\n",
       "x9          2.597e+04   2988.302      8.690      0.000    2.01e+04    3.18e+04\n",
       "x10         1.552e+04   2987.680      5.195      0.000    9663.928    2.14e+04\n",
       "x11         4.766e+04   2972.180     16.037      0.000    4.18e+04    5.35e+04\n",
       "x12        -1.072e+04   2984.302     -3.591      0.000   -1.66e+04   -4866.439\n",
       "==============================================================================\n",
       "Omnibus:                    33719.785   Durbin-Watson:                   2.009\n",
       "Prob(Omnibus):                  0.000   Jarque-Bera (JB):          4171387.197\n",
       "Skew:                           4.605   Prob(JB):                         0.00\n",
       "Kurtosis:                      56.546   Cond. No.                     3.47e+16\n",
       "==============================================================================\n",
       "\n",
       "Notes:\n",
       "[1] Standard Errors assume that the covariance matrix of the errors is correctly specified.\n",
       "[2] The smallest eigenvalue is 7.86e-29. This might indicate that there are\n",
       "strong multicollinearity problems or that the design matrix is singular.\n",
       "\"\"\""
      ]
     },
     "execution_count": 55,
     "metadata": {},
     "output_type": "execute_result"
    }
   ],
   "source": [
    "results.summary()"
   ]
  },
  {
   "cell_type": "markdown",
   "metadata": {},
   "source": [
    "- __Checking the Distribution of the Residuals:__"
   ]
  },
  {
   "cell_type": "code",
   "execution_count": 56,
   "metadata": {},
   "outputs": [
    {
     "data": {
      "image/png": "[encoded data removed]",
      "text/plain": [
       "<Figure size 720x720 with 1 Axes>"
      ]
     },
     "metadata": {},
     "output_type": "display_data"
    }
   ],
   "source": [
    "plt.figure(figsize=(10,10))\n",
    "sns.distplot(results.resid)\n",
    "plt.xlabel('Residuals')\n",
    "plt.show()"
   ]
  },
  {
   "cell_type": "code",
   "execution_count": 57,
   "metadata": {},
   "outputs": [
    {
     "data": {
      "image/png": "[encoded data removed]",
      "text/plain": [
       "<Figure size 432x288 with 1 Axes>"
      ]
     },
     "metadata": {},
     "output_type": "display_data"
    }
   ],
   "source": [
    "sm.qqplot(results.resid, line='45', alpha=0.5)\n",
    "plt.show()"
   ]
  },
  {
   "cell_type": "markdown",
   "metadata": {},
   "source": [
    "The residuals are not normally distributed. The metric that is going to be used for scoring the machine learning models is 'Mean Absolute Error' (MAE), since there are a lot of outliers."
   ]
  },
  {
   "cell_type": "markdown",
   "metadata": {},
   "source": [
    "- __Residual Analysis: Gauss-Markov__"
   ]
  },
  {
   "cell_type": "code",
   "execution_count": 58,
   "metadata": {},
   "outputs": [
    {
     "data": {
      "image/png": "[encoded data removed]",
      "text/plain": [
       "<Figure size 720x720 with 1 Axes>"
      ]
     },
     "metadata": {},
     "output_type": "display_data"
    }
   ],
   "source": [
    "plt.figure(figsize=(10,10))\n",
    "sns.scatterplot(results.fittedvalues, results.resid, alpha=0.5)\n",
    "sns.lineplot(results.fittedvalues, 0)\n",
    "plt.xlabel('Fitted Values')\n",
    "plt.ylabel('Residuals')\n",
    "plt.show()"
   ]
  },
  {
   "cell_type": "markdown",
   "metadata": {},
   "source": [
    "__Non-constant standard deviation__ - Residuals that show an increasing trend.\n",
    "\n",
    "It is not possible to use a parametric method in this machine learning model, since there is a violation in Gauss Markov rule."
   ]
  },
  {
   "cell_type": "markdown",
   "metadata": {},
   "source": [
    "> ## Non-parametric Benchmark Model"
   ]
  },
  {
   "cell_type": "code",
   "execution_count": 59,
   "metadata": {},
   "outputs": [
    {
     "data": {
      "text/plain": [
       "dict_keys(['explained_variance', 'r2', 'max_error', 'neg_median_absolute_error', 'neg_mean_absolute_error', 'neg_mean_squared_error', 'neg_mean_squared_log_error', 'neg_root_mean_squared_error', 'neg_mean_poisson_deviance', 'neg_mean_gamma_deviance', 'accuracy', 'roc_auc', 'roc_auc_ovr', 'roc_auc_ovo', 'roc_auc_ovr_weighted', 'roc_auc_ovo_weighted', 'balanced_accuracy', 'average_precision', 'neg_log_loss', 'neg_brier_score', 'adjusted_rand_score', 'homogeneity_score', 'completeness_score', 'v_measure_score', 'mutual_info_score', 'adjusted_mutual_info_score', 'normalized_mutual_info_score', 'fowlkes_mallows_score', 'precision', 'precision_macro', 'precision_micro', 'precision_samples', 'precision_weighted', 'recall', 'recall_macro', 'recall_micro', 'recall_samples', 'recall_weighted', 'f1', 'f1_macro', 'f1_micro', 'f1_samples', 'f1_weighted', 'jaccard', 'jaccard_macro', 'jaccard_micro', 'jaccard_samples', 'jaccard_weighted'])"
      ]
     },
     "execution_count": 59,
     "metadata": {},
     "output_type": "execute_result"
    }
   ],
   "source": [
    "sklearn.metrics.SCORERS.keys() "
   ]
  },
  {
   "cell_type": "code",
   "execution_count": 60,
   "metadata": {},
   "outputs": [],
   "source": [
    "kfold = KFold(n_splits = 5, random_state=2021, shuffle=True)"
   ]
  },
  {
   "cell_type": "markdown",
   "metadata": {},
   "source": [
    "- __Creating a Decision Tree Regressor Benchmark Model:__"
   ]
  },
  {
   "cell_type": "code",
   "execution_count": 61,
   "metadata": {},
   "outputs": [],
   "source": [
    "# Scoring: mean absolute error\n",
    "\n",
    "dtr = DecisionTreeRegressor(max_depth=6, criterion='mae', random_state=2021)"
   ]
  },
  {
   "cell_type": "code",
   "execution_count": 62,
   "metadata": {},
   "outputs": [],
   "source": [
    "# imputing missing values in 'bathrooms' column with median resulting in little to no difference in 'bathrooms' standard deviation\n",
    "\n",
    "# Creating a columns transformer\n",
    "transformer_dtr = ColumnTransformer([\n",
    "    ('impute_num', SimpleImputer(strategy='median'), numerical_columns), \n",
    "    ('onehot', OneHotEncoder(drop='first'), ['propertyType']),  \n",
    "    ('binary', ce.BinaryEncoder(), ['suburb'])    \n",
    "], remainder='passthrough')\n",
    "\n",
    "# Creating a pipeline for DTR benchmark model\n",
    "pipe_dtr_bench = Pipeline([\n",
    "    ('transformer', transformer_dtr),\n",
    "    ('reg', dtr)\n",
    "])"
   ]
  },
  {
   "cell_type": "code",
   "execution_count": 63,
   "metadata": {},
   "outputs": [],
   "source": [
    "# Scoring: neg_mean_absolute_error\n",
    "# There is to many outliers in residuals\n",
    "# This metric is negatively-oriented scores, which means lower value is better\n",
    "\n",
    "dtr_bench_cv = cross_val_score(pipe_dtr_bench, X_train_val, y_train_val, cv=kfold, scoring='neg_mean_absolute_error')"
   ]
  },
  {
   "cell_type": "code",
   "execution_count": 64,
   "metadata": {},
   "outputs": [
    {
     "name": "stdout",
     "output_type": "stream",
     "text": [
      "CV DTR Benchmark: [-141108.47044081 -142676.12501843 -140886.6550199  -141580.21214802\n",
      " -139860.60889118]\n",
      "CV DTR Benchmark Mean: -141222.414\n"
     ]
    }
   ],
   "source": [
    "print('CV DTR Benchmark:', dtr_bench_cv)\n",
    "print('CV DTR Benchmark Mean:', round(dtr_bench_cv.mean(), 3))"
   ]
  },
  {
   "cell_type": "markdown",
   "metadata": {},
   "source": [
    "- __Creating a XG Boost Regressor Benchmark Model:__"
   ]
  },
  {
   "cell_type": "code",
   "execution_count": 65,
   "metadata": {},
   "outputs": [],
   "source": [
    "xgbr = xgb.XGBRegressor(max_depth=6, random_state=2021, n_jobs=-1)"
   ]
  },
  {
   "cell_type": "code",
   "execution_count": 66,
   "metadata": {},
   "outputs": [],
   "source": [
    "# imputing missing values in 'bathrooms' column with median resulting in little to no difference in 'bathrooms' standard deviation\n",
    "\n",
    "# Creating a columns transformer\n",
    "transformer_xgbr = ColumnTransformer([\n",
    "    ('impute_num', SimpleImputer(strategy='median'), numerical_columns), \n",
    "    ('onehot', OneHotEncoder(drop='first'), ['propertyType']),  \n",
    "    ('binary', ce.BinaryEncoder(), ['suburb'])    \n",
    "], remainder='passthrough')\n",
    "\n",
    "# Creating a pipeline for XGBR benchmark model\n",
    "pipe_xgbr_bench = Pipeline([\n",
    "    ('transformer', transformer_xgbr),\n",
    "    ('reg', xgbr)\n",
    "])"
   ]
  },
  {
   "cell_type": "code",
   "execution_count": 67,
   "metadata": {},
   "outputs": [],
   "source": [
    "# Scoring: neg_mean_absolute_error\n",
    "# There is to many outliers in residuals\n",
    "# This metric is negatively-oriented scores, which means lower value is better\n",
    "\n",
    "xgbr_bench_cv = cross_val_score(pipe_xgbr_bench, X_train_val, y_train_val, cv=kfold, scoring='neg_mean_absolute_error')"
   ]
  },
  {
   "cell_type": "code",
   "execution_count": 68,
   "metadata": {},
   "outputs": [
    {
     "name": "stdout",
     "output_type": "stream",
     "text": [
      "CV XGBR Benchmark: [-111885.15072262 -112453.80137845 -115318.05289879 -112777.4735172\n",
      " -113633.84423166]\n",
      "CV XGBR Benchmark Mean: -113213.665\n"
     ]
    }
   ],
   "source": [
    "print('CV XGBR Benchmark:', xgbr_bench_cv)\n",
    "print('CV XGBR Benchmark Mean:', round(xgbr_bench_cv.mean(), 3))"
   ]
  },
  {
   "cell_type": "markdown",
   "metadata": {},
   "source": [
    "- __Creating a Gradient Boosting Regressor Benchmark Model:__"
   ]
  },
  {
   "cell_type": "code",
   "execution_count": 69,
   "metadata": {},
   "outputs": [],
   "source": [
    "gbr = GradientBoostingRegressor(max_depth=6, random_state=2021)"
   ]
  },
  {
   "cell_type": "code",
   "execution_count": 70,
   "metadata": {},
   "outputs": [],
   "source": [
    "# imputing missing values in 'bathrooms' column with median resulting in little to no difference in 'bathrooms' standard deviation\n",
    "\n",
    "# Creating a columns transformer\n",
    "transformer_gbr = ColumnTransformer([\n",
    "    ('impute_num', SimpleImputer(strategy='median'), numerical_columns), \n",
    "    ('onehot', OneHotEncoder(drop='first'), ['propertyType']),  \n",
    "    ('binary', ce.BinaryEncoder(), ['suburb'])    \n",
    "], remainder='passthrough')\n",
    "\n",
    "# Creating a pipeline for GBR benchmark model\n",
    "pipe_gbr_bench = Pipeline([\n",
    "    ('transformer', transformer_gbr),\n",
    "    ('reg', gbr)\n",
    "])"
   ]
  },
  {
   "cell_type": "code",
   "execution_count": 71,
   "metadata": {},
   "outputs": [],
   "source": [
    "# Scoring: neg_mean_absolute_error\n",
    "# There is to many outliers in residuals\n",
    "# This metric is negatively-oriented scores, which means lower value is better\n",
    "\n",
    "gbr_bench_cv = cross_val_score(pipe_gbr_bench, X_train_val, y_train_val, cv=kfold, scoring='neg_mean_absolute_error')"
   ]
  },
  {
   "cell_type": "code",
   "execution_count": 72,
   "metadata": {},
   "outputs": [
    {
     "name": "stdout",
     "output_type": "stream",
     "text": [
      "CV GBR Benchmark: [-121351.07674389 -123522.79243016 -122227.63973785 -118499.17035985\n",
      " -122343.41060306]\n",
      "CV GBR Benchmark Mean: -121588.818\n"
     ]
    }
   ],
   "source": [
    "print('CV GBR Benchmark:', gbr_bench_cv)\n",
    "print('CV GBR Benchmark Mean:', round(gbr_bench_cv.mean(), 3))"
   ]
  },
  {
   "cell_type": "markdown",
   "metadata": {},
   "source": [
    "- __Conclusion:__\n",
    "In the benchmark modelling phase, XG Boost Regressor benchmark model is the best machine learning model compared to others. The scoring method that is used to determine the best model is 'Mean Absolute Error' (MAE). This metric is negatively-oriented scores, which means lower value is better."
   ]
  },
  {
   "cell_type": "markdown",
   "metadata": {},
   "source": [
    "> ## Non-parametric Tuned Model"
   ]
  },
  {
   "cell_type": "code",
   "execution_count": 73,
   "metadata": {},
   "outputs": [],
   "source": [
    "kfold = KFold(n_splits = 5, random_state=2021, shuffle=True)"
   ]
  },
  {
   "cell_type": "markdown",
   "metadata": {},
   "source": [
    "- __Creating a Decision Tree Regressor Tuned Model:__"
   ]
  },
  {
   "cell_type": "code",
   "execution_count": 74,
   "metadata": {},
   "outputs": [],
   "source": [
    "# imputing missing values in 'bathrooms' column with median resulting in little to no difference in 'bathrooms' standard deviation\n",
    "\n",
    "# Creating a columns transformer\n",
    "transformer_dtr = ColumnTransformer([\n",
    "    ('impute_num', SimpleImputer(strategy='median'), numerical_columns), \n",
    "    ('onehot', OneHotEncoder(drop='first'), ['propertyType']),  \n",
    "    ('binary', ce.BinaryEncoder(), ['suburb'])    \n",
    "], remainder='passthrough')\n",
    "\n",
    "# Creating a pipeline for DTR tuned model\n",
    "pipe_dtr_tuned = Pipeline([\n",
    "    ('transformer', transformer_dtr),\n",
    "    ('reg', dtr)\n",
    "])"
   ]
  },
  {
   "cell_type": "code",
   "execution_count": 75,
   "metadata": {},
   "outputs": [
    {
     "data": {
      "text/plain": [
       "{'memory': None,\n",
       " 'steps': [('transformer',\n",
       "   ColumnTransformer(remainder='passthrough',\n",
       "                     transformers=[('impute_num', SimpleImputer(strategy='median'),\n",
       "                                    ['parking', 'bathrooms', 'bedrooms']),\n",
       "                                   ('onehot', OneHotEncoder(drop='first'),\n",
       "                                    ['propertyType']),\n",
       "                                   ('binary', BinaryEncoder(), ['suburb'])])),\n",
       "  ('reg',\n",
       "   DecisionTreeRegressor(criterion='mae', max_depth=6, random_state=2021))],\n",
       " 'verbose': False,\n",
       " 'transformer': ColumnTransformer(remainder='passthrough',\n",
       "                   transformers=[('impute_num', SimpleImputer(strategy='median'),\n",
       "                                  ['parking', 'bathrooms', 'bedrooms']),\n",
       "                                 ('onehot', OneHotEncoder(drop='first'),\n",
       "                                  ['propertyType']),\n",
       "                                 ('binary', BinaryEncoder(), ['suburb'])]),\n",
       " 'reg': DecisionTreeRegressor(criterion='mae', max_depth=6, random_state=2021),\n",
       " 'transformer__n_jobs': None,\n",
       " 'transformer__remainder': 'passthrough',\n",
       " 'transformer__sparse_threshold': 0.3,\n",
       " 'transformer__transformer_weights': None,\n",
       " 'transformer__transformers': [('impute_num',\n",
       "   SimpleImputer(strategy='median'),\n",
       "   ['parking', 'bathrooms', 'bedrooms']),\n",
       "  ('onehot', OneHotEncoder(drop='first'), ['propertyType']),\n",
       "  ('binary', BinaryEncoder(), ['suburb'])],\n",
       " 'transformer__verbose': False,\n",
       " 'transformer__impute_num': SimpleImputer(strategy='median'),\n",
       " 'transformer__onehot': OneHotEncoder(drop='first'),\n",
       " 'transformer__binary': BinaryEncoder(),\n",
       " 'transformer__impute_num__add_indicator': False,\n",
       " 'transformer__impute_num__copy': True,\n",
       " 'transformer__impute_num__fill_value': None,\n",
       " 'transformer__impute_num__missing_values': nan,\n",
       " 'transformer__impute_num__strategy': 'median',\n",
       " 'transformer__impute_num__verbose': 0,\n",
       " 'transformer__onehot__categories': 'auto',\n",
       " 'transformer__onehot__drop': 'first',\n",
       " 'transformer__onehot__dtype': numpy.float64,\n",
       " 'transformer__onehot__handle_unknown': 'error',\n",
       " 'transformer__onehot__sparse': True,\n",
       " 'transformer__binary__cols': None,\n",
       " 'transformer__binary__drop_invariant': False,\n",
       " 'transformer__binary__handle_missing': 'value',\n",
       " 'transformer__binary__handle_unknown': 'value',\n",
       " 'transformer__binary__mapping': None,\n",
       " 'transformer__binary__return_df': True,\n",
       " 'transformer__binary__verbose': 0,\n",
       " 'reg__ccp_alpha': 0.0,\n",
       " 'reg__criterion': 'mae',\n",
       " 'reg__max_depth': 6,\n",
       " 'reg__max_features': None,\n",
       " 'reg__max_leaf_nodes': None,\n",
       " 'reg__min_impurity_decrease': 0.0,\n",
       " 'reg__min_impurity_split': None,\n",
       " 'reg__min_samples_leaf': 1,\n",
       " 'reg__min_samples_split': 2,\n",
       " 'reg__min_weight_fraction_leaf': 0.0,\n",
       " 'reg__presort': 'deprecated',\n",
       " 'reg__random_state': 2021,\n",
       " 'reg__splitter': 'best'}"
      ]
     },
     "execution_count": 75,
     "metadata": {},
     "output_type": "execute_result"
    }
   ],
   "source": [
    "pipe_dtr_tuned.get_params()"
   ]
  },
  {
   "cell_type": "code",
   "execution_count": 76,
   "metadata": {},
   "outputs": [
    {
     "name": "stdout",
     "output_type": "stream",
     "text": [
      "Fitting 5 folds for each of 75 candidates, totalling 375 fits\n"
     ]
    },
    {
     "name": "stderr",
     "output_type": "stream",
     "text": [
      "[Parallel(n_jobs=-1)]: Using backend LokyBackend with 8 concurrent workers.\n",
      "[Parallel(n_jobs=-1)]: Done  34 tasks      | elapsed:   18.2s\n",
      "[Parallel(n_jobs=-1)]: Done 184 tasks      | elapsed:  9.5min\n",
      "[Parallel(n_jobs=-1)]: Done 375 out of 375 | elapsed: 18.7min finished\n"
     ]
    },
    {
     "data": {
      "text/plain": [
       "GridSearchCV(cv=KFold(n_splits=5, random_state=2021, shuffle=True),\n",
       "             estimator=Pipeline(steps=[('transformer',\n",
       "                                        ColumnTransformer(remainder='passthrough',\n",
       "                                                          transformers=[('impute_num',\n",
       "                                                                         SimpleImputer(strategy='median'),\n",
       "                                                                         ['parking',\n",
       "                                                                          'bathrooms',\n",
       "                                                                          'bedrooms']),\n",
       "                                                                        ('onehot',\n",
       "                                                                         OneHotEncoder(drop='first'),\n",
       "                                                                         ['propertyType']),\n",
       "                                                                        ('binary',\n",
       "                                                                         BinaryEncoder(),\n",
       "                                                                         ['suburb'])])),\n",
       "                                       ('reg',\n",
       "                                        DecisionTreeRegressor(criterion='mae',\n",
       "                                                              max_depth=6,\n",
       "                                                              random_state=2021))]),\n",
       "             n_jobs=-1,\n",
       "             param_grid={'reg__criterion': ['mse', 'mae', 'friedman_mse'],\n",
       "                         'reg__max_depth': [6, 10, 14, 18, 22],\n",
       "                         'reg__min_samples_split': [2, 3, 4, 5, 6]},\n",
       "             scoring='neg_mean_absolute_error', verbose=1)"
      ]
     },
     "execution_count": 76,
     "metadata": {},
     "output_type": "execute_result"
    }
   ],
   "source": [
    "# DTR Tuned\n",
    "\n",
    "hyperparam_space_dtr = {\n",
    "    'reg__max_depth': [6, 10, 14, 18, 22],\n",
    "    'reg__min_samples_split': [2, 3, 4, 5, 6],\n",
    "    'reg__criterion': ['mse', 'mae', 'friedman_mse']\n",
    "}\n",
    "\n",
    "gridsearch_dtr = GridSearchCV(\n",
    "    pipe_dtr_tuned,\n",
    "    param_grid = hyperparam_space_dtr,\n",
    "    cv = kfold,\n",
    "    scoring = 'neg_mean_absolute_error',\n",
    "    n_jobs =-1,\n",
    "    verbose=1\n",
    ")\n",
    "\n",
    "gridsearch_dtr.fit(X_train_val, y_train_val)"
   ]
  },
  {
   "cell_type": "code",
   "execution_count": 77,
   "metadata": {},
   "outputs": [
    {
     "name": "stdout",
     "output_type": "stream",
     "text": [
      "Best DTR Tuned Model:  Pipeline(steps=[('transformer',\n",
      "                 ColumnTransformer(remainder='passthrough',\n",
      "                                   transformers=[('impute_num',\n",
      "                                                  SimpleImputer(strategy='median'),\n",
      "                                                  ['parking', 'bathrooms',\n",
      "                                                   'bedrooms']),\n",
      "                                                 ('onehot',\n",
      "                                                  OneHotEncoder(drop='first'),\n",
      "                                                  ['propertyType']),\n",
      "                                                 ('binary', BinaryEncoder(),\n",
      "                                                  ['suburb'])])),\n",
      "                ('reg',\n",
      "                 DecisionTreeRegressor(criterion='mae', max_depth=14,\n",
      "                                       min_samples_split=6,\n",
      "                                       random_state=2021))])\n",
      "DTR Tuned Model Best Score:  -110787.52559037149\n",
      "DTR Tuned Model Best Params:  {'reg__criterion': 'mae', 'reg__max_depth': 14, 'reg__min_samples_split': 6}\n"
     ]
    }
   ],
   "source": [
    "print(\"Best DTR Tuned Model: \", gridsearch_dtr.best_estimator_)\n",
    "print(\"DTR Tuned Model Best Score: \", gridsearch_dtr.best_score_)\n",
    "print(\"DTR Tuned Model Best Params: \", gridsearch_dtr.best_params_)"
   ]
  },
  {
   "cell_type": "code",
   "execution_count": 78,
   "metadata": {},
   "outputs": [],
   "source": [
    "dtr_tuned = gridsearch_dtr.best_estimator_\n",
    "dtr_tuned_cv = cross_val_score(dtr_tuned, X_train_val, y_train_val, cv=kfold, scoring='neg_mean_absolute_error', n_jobs=-1)"
   ]
  },
  {
   "cell_type": "code",
   "execution_count": 79,
   "metadata": {},
   "outputs": [
    {
     "name": "stdout",
     "output_type": "stream",
     "text": [
      "CV DTR Tuned: [-110995.23595754 -110590.26743329 -111394.73824267 -109796.48886923\n",
      " -111160.89744913]\n",
      "CV DTR Tuned Mean: -110787.526\n"
     ]
    }
   ],
   "source": [
    "print('CV DTR Tuned:', dtr_tuned_cv)\n",
    "print('CV DTR Tuned Mean:', round(dtr_tuned_cv.mean(), 3))"
   ]
  },
  {
   "cell_type": "code",
   "execution_count": 80,
   "metadata": {},
   "outputs": [
    {
     "data": {
      "text/html": [
       "<div>\n",
       "<style scoped>\n",
       "    .dataframe tbody tr th:only-of-type {\n",
       "        vertical-align: middle;\n",
       "    }\n",
       "\n",
       "    .dataframe tbody tr th {\n",
       "        vertical-align: top;\n",
       "    }\n",
       "\n",
       "    .dataframe thead th {\n",
       "        text-align: right;\n",
       "    }\n",
       "</style>\n",
       "<table border=\"1\" class=\"dataframe\">\n",
       "  <thead>\n",
       "    <tr style=\"text-align: right;\">\n",
       "      <th></th>\n",
       "      <th>mean_fit_time</th>\n",
       "      <th>std_fit_time</th>\n",
       "      <th>mean_score_time</th>\n",
       "      <th>std_score_time</th>\n",
       "      <th>param_reg__criterion</th>\n",
       "      <th>param_reg__max_depth</th>\n",
       "      <th>param_reg__min_samples_split</th>\n",
       "      <th>params</th>\n",
       "      <th>split0_test_score</th>\n",
       "      <th>split1_test_score</th>\n",
       "      <th>split2_test_score</th>\n",
       "      <th>split3_test_score</th>\n",
       "      <th>split4_test_score</th>\n",
       "      <th>mean_test_score</th>\n",
       "      <th>std_test_score</th>\n",
       "      <th>rank_test_score</th>\n",
       "    </tr>\n",
       "  </thead>\n",
       "  <tbody>\n",
       "    <tr>\n",
       "      <th>39</th>\n",
       "      <td>67.504773</td>\n",
       "      <td>3.948210</td>\n",
       "      <td>0.038027</td>\n",
       "      <td>0.002741</td>\n",
       "      <td>mae</td>\n",
       "      <td>14</td>\n",
       "      <td>6</td>\n",
       "      <td>{'reg__criterion': 'mae', 'reg__max_depth': 14...</td>\n",
       "      <td>-110995.235958</td>\n",
       "      <td>-110590.267433</td>\n",
       "      <td>-111394.738243</td>\n",
       "      <td>-109796.488869</td>\n",
       "      <td>-111160.897449</td>\n",
       "      <td>-110787.525590</td>\n",
       "      <td>560.771239</td>\n",
       "      <td>1</td>\n",
       "    </tr>\n",
       "    <tr>\n",
       "      <th>49</th>\n",
       "      <td>76.523977</td>\n",
       "      <td>7.866178</td>\n",
       "      <td>0.034526</td>\n",
       "      <td>0.009395</td>\n",
       "      <td>mae</td>\n",
       "      <td>22</td>\n",
       "      <td>6</td>\n",
       "      <td>{'reg__criterion': 'mae', 'reg__max_depth': 22...</td>\n",
       "      <td>-110695.586245</td>\n",
       "      <td>-110640.432478</td>\n",
       "      <td>-112216.180672</td>\n",
       "      <td>-109900.454076</td>\n",
       "      <td>-111437.567753</td>\n",
       "      <td>-110978.044245</td>\n",
       "      <td>787.287554</td>\n",
       "      <td>2</td>\n",
       "    </tr>\n",
       "    <tr>\n",
       "      <th>44</th>\n",
       "      <td>63.379053</td>\n",
       "      <td>2.243245</td>\n",
       "      <td>0.038227</td>\n",
       "      <td>0.002251</td>\n",
       "      <td>mae</td>\n",
       "      <td>18</td>\n",
       "      <td>6</td>\n",
       "      <td>{'reg__criterion': 'mae', 'reg__max_depth': 18...</td>\n",
       "      <td>-110682.723205</td>\n",
       "      <td>-110640.432478</td>\n",
       "      <td>-112216.180672</td>\n",
       "      <td>-109900.454076</td>\n",
       "      <td>-111481.802492</td>\n",
       "      <td>-110984.318585</td>\n",
       "      <td>793.593616</td>\n",
       "      <td>3</td>\n",
       "    </tr>\n",
       "  </tbody>\n",
       "</table>\n",
       "</div>"
      ],
      "text/plain": [
       "    mean_fit_time  std_fit_time  mean_score_time  std_score_time  \\\n",
       "39      67.504773      3.948210         0.038027        0.002741   \n",
       "49      76.523977      7.866178         0.034526        0.009395   \n",
       "44      63.379053      2.243245         0.038227        0.002251   \n",
       "\n",
       "   param_reg__criterion param_reg__max_depth param_reg__min_samples_split  \\\n",
       "39                  mae                   14                            6   \n",
       "49                  mae                   22                            6   \n",
       "44                  mae                   18                            6   \n",
       "\n",
       "                                               params  split0_test_score  \\\n",
       "39  {'reg__criterion': 'mae', 'reg__max_depth': 14...     -110995.235958   \n",
       "49  {'reg__criterion': 'mae', 'reg__max_depth': 22...     -110695.586245   \n",
       "44  {'reg__criterion': 'mae', 'reg__max_depth': 18...     -110682.723205   \n",
       "\n",
       "    split1_test_score  split2_test_score  split3_test_score  \\\n",
       "39     -110590.267433     -111394.738243     -109796.488869   \n",
       "49     -110640.432478     -112216.180672     -109900.454076   \n",
       "44     -110640.432478     -112216.180672     -109900.454076   \n",
       "\n",
       "    split4_test_score  mean_test_score  std_test_score  rank_test_score  \n",
       "39     -111160.897449   -110787.525590      560.771239                1  \n",
       "49     -111437.567753   -110978.044245      787.287554                2  \n",
       "44     -111481.802492   -110984.318585      793.593616                3  "
      ]
     },
     "execution_count": 80,
     "metadata": {},
     "output_type": "execute_result"
    }
   ],
   "source": [
    "# DTR Tuned Model CV Result\n",
    "\n",
    "gridsearch_dtr_df = pd.DataFrame(gridsearch_dtr.cv_results_)\n",
    "gridsearch_dtr_df.sort_values('rank_test_score').head(3)"
   ]
  },
  {
   "cell_type": "markdown",
   "metadata": {},
   "source": [
    "__There is an improvement in the 'Mean Absolute Error' Score of the Decision Tree Regressor tuned model:__\n",
    "- CV DTR Tuned Mean: -110787.526\n",
    "- CV DTR Benchmark Mean: -141222.414"
   ]
  },
  {
   "cell_type": "markdown",
   "metadata": {},
   "source": [
    "- __Creating a XG Boost Regressor Tuned Model:__"
   ]
  },
  {
   "cell_type": "code",
   "execution_count": 81,
   "metadata": {},
   "outputs": [],
   "source": [
    "# imputing missing values in 'bathrooms' column with median resulting in little to no difference in 'bathrooms' standard deviation\n",
    "\n",
    "# Creating a columns transformer\n",
    "transformer_xgbr = ColumnTransformer([\n",
    "    ('impute_num', SimpleImputer(strategy='median'), numerical_columns), \n",
    "    ('onehot', OneHotEncoder(drop='first'), ['propertyType']),  \n",
    "    ('binary', ce.BinaryEncoder(), ['suburb'])    \n",
    "], remainder='passthrough')\n",
    "\n",
    "# Creating a pipeline for XGBR tuned model\n",
    "pipe_xgbr_tuned = Pipeline([\n",
    "    ('transformer', transformer_xgbr),\n",
    "    ('reg', xgbr)\n",
    "])"
   ]
  },
  {
   "cell_type": "code",
   "execution_count": 82,
   "metadata": {},
   "outputs": [
    {
     "data": {
      "text/plain": [
       "{'memory': None,\n",
       " 'steps': [('transformer',\n",
       "   ColumnTransformer(remainder='passthrough',\n",
       "                     transformers=[('impute_num', SimpleImputer(strategy='median'),\n",
       "                                    ['parking', 'bathrooms', 'bedrooms']),\n",
       "                                   ('onehot', OneHotEncoder(drop='first'),\n",
       "                                    ['propertyType']),\n",
       "                                   ('binary', BinaryEncoder(), ['suburb'])])),\n",
       "  ('reg',\n",
       "   XGBRegressor(base_score=None, booster=None, colsample_bylevel=None,\n",
       "                colsample_bynode=None, colsample_bytree=None, gamma=None,\n",
       "                gpu_id=None, importance_type='gain', interaction_constraints=None,\n",
       "                learning_rate=None, max_delta_step=None, max_depth=6,\n",
       "                min_child_weight=None, missing=nan, monotone_constraints=None,\n",
       "                n_estimators=100, n_jobs=-1, num_parallel_tree=None,\n",
       "                random_state=2021, reg_alpha=None, reg_lambda=None,\n",
       "                scale_pos_weight=None, subsample=None, tree_method=None,\n",
       "                validate_parameters=None, verbosity=None))],\n",
       " 'verbose': False,\n",
       " 'transformer': ColumnTransformer(remainder='passthrough',\n",
       "                   transformers=[('impute_num', SimpleImputer(strategy='median'),\n",
       "                                  ['parking', 'bathrooms', 'bedrooms']),\n",
       "                                 ('onehot', OneHotEncoder(drop='first'),\n",
       "                                  ['propertyType']),\n",
       "                                 ('binary', BinaryEncoder(), ['suburb'])]),\n",
       " 'reg': XGBRegressor(base_score=None, booster=None, colsample_bylevel=None,\n",
       "              colsample_bynode=None, colsample_bytree=None, gamma=None,\n",
       "              gpu_id=None, importance_type='gain', interaction_constraints=None,\n",
       "              learning_rate=None, max_delta_step=None, max_depth=6,\n",
       "              min_child_weight=None, missing=nan, monotone_constraints=None,\n",
       "              n_estimators=100, n_jobs=-1, num_parallel_tree=None,\n",
       "              random_state=2021, reg_alpha=None, reg_lambda=None,\n",
       "              scale_pos_weight=None, subsample=None, tree_method=None,\n",
       "              validate_parameters=None, verbosity=None),\n",
       " 'transformer__n_jobs': None,\n",
       " 'transformer__remainder': 'passthrough',\n",
       " 'transformer__sparse_threshold': 0.3,\n",
       " 'transformer__transformer_weights': None,\n",
       " 'transformer__transformers': [('impute_num',\n",
       "   SimpleImputer(strategy='median'),\n",
       "   ['parking', 'bathrooms', 'bedrooms']),\n",
       "  ('onehot', OneHotEncoder(drop='first'), ['propertyType']),\n",
       "  ('binary', BinaryEncoder(), ['suburb'])],\n",
       " 'transformer__verbose': False,\n",
       " 'transformer__impute_num': SimpleImputer(strategy='median'),\n",
       " 'transformer__onehot': OneHotEncoder(drop='first'),\n",
       " 'transformer__binary': BinaryEncoder(),\n",
       " 'transformer__impute_num__add_indicator': False,\n",
       " 'transformer__impute_num__copy': True,\n",
       " 'transformer__impute_num__fill_value': None,\n",
       " 'transformer__impute_num__missing_values': nan,\n",
       " 'transformer__impute_num__strategy': 'median',\n",
       " 'transformer__impute_num__verbose': 0,\n",
       " 'transformer__onehot__categories': 'auto',\n",
       " 'transformer__onehot__drop': 'first',\n",
       " 'transformer__onehot__dtype': numpy.float64,\n",
       " 'transformer__onehot__handle_unknown': 'error',\n",
       " 'transformer__onehot__sparse': True,\n",
       " 'transformer__binary__cols': None,\n",
       " 'transformer__binary__drop_invariant': False,\n",
       " 'transformer__binary__handle_missing': 'value',\n",
       " 'transformer__binary__handle_unknown': 'value',\n",
       " 'transformer__binary__mapping': None,\n",
       " 'transformer__binary__return_df': True,\n",
       " 'transformer__binary__verbose': 0,\n",
       " 'reg__objective': 'reg:squarederror',\n",
       " 'reg__base_score': None,\n",
       " 'reg__booster': None,\n",
       " 'reg__colsample_bylevel': None,\n",
       " 'reg__colsample_bynode': None,\n",
       " 'reg__colsample_bytree': None,\n",
       " 'reg__gamma': None,\n",
       " 'reg__gpu_id': None,\n",
       " 'reg__importance_type': 'gain',\n",
       " 'reg__interaction_constraints': None,\n",
       " 'reg__learning_rate': None,\n",
       " 'reg__max_delta_step': None,\n",
       " 'reg__max_depth': 6,\n",
       " 'reg__min_child_weight': None,\n",
       " 'reg__missing': nan,\n",
       " 'reg__monotone_constraints': None,\n",
       " 'reg__n_estimators': 100,\n",
       " 'reg__n_jobs': -1,\n",
       " 'reg__num_parallel_tree': None,\n",
       " 'reg__random_state': 2021,\n",
       " 'reg__reg_alpha': None,\n",
       " 'reg__reg_lambda': None,\n",
       " 'reg__scale_pos_weight': None,\n",
       " 'reg__subsample': None,\n",
       " 'reg__tree_method': None,\n",
       " 'reg__validate_parameters': None,\n",
       " 'reg__verbosity': None}"
      ]
     },
     "execution_count": 82,
     "metadata": {},
     "output_type": "execute_result"
    }
   ],
   "source": [
    "pipe_xgbr_tuned.get_params()"
   ]
  },
  {
   "cell_type": "code",
   "execution_count": 83,
   "metadata": {},
   "outputs": [
    {
     "name": "stdout",
     "output_type": "stream",
     "text": [
      "Fitting 5 folds for each of 125 candidates, totalling 625 fits\n"
     ]
    },
    {
     "name": "stderr",
     "output_type": "stream",
     "text": [
      "[Parallel(n_jobs=-1)]: Using backend LokyBackend with 8 concurrent workers.\n",
      "[Parallel(n_jobs=-1)]: Done  34 tasks      | elapsed:  1.6min\n",
      "[Parallel(n_jobs=-1)]: Done 184 tasks      | elapsed: 14.6min\n",
      "[Parallel(n_jobs=-1)]: Done 434 tasks      | elapsed: 33.1min\n",
      "[Parallel(n_jobs=-1)]: Done 625 out of 625 | elapsed: 51.1min finished\n"
     ]
    },
    {
     "data": {
      "text/plain": [
       "GridSearchCV(cv=KFold(n_splits=5, random_state=2021, shuffle=True),\n",
       "             estimator=Pipeline(steps=[('transformer',\n",
       "                                        ColumnTransformer(remainder='passthrough',\n",
       "                                                          transformers=[('impute_num',\n",
       "                                                                         SimpleImputer(strategy='median'),\n",
       "                                                                         ['parking',\n",
       "                                                                          'bathrooms',\n",
       "                                                                          'bedrooms']),\n",
       "                                                                        ('onehot',\n",
       "                                                                         OneHotEncoder(drop='first'),\n",
       "                                                                         ['propertyType']),\n",
       "                                                                        ('binary',\n",
       "                                                                         BinaryEncoder(),\n",
       "                                                                         ['suburb'])])),\n",
       "                                       ('reg',\n",
       "                                        X...\n",
       "                                                     random_state=2021,\n",
       "                                                     reg_alpha=None,\n",
       "                                                     reg_lambda=None,\n",
       "                                                     scale_pos_weight=None,\n",
       "                                                     subsample=None,\n",
       "                                                     tree_method=None,\n",
       "                                                     validate_parameters=None,\n",
       "                                                     verbosity=None))]),\n",
       "             n_jobs=-1,\n",
       "             param_grid={'reg__importance_type': ['gain', 'weight', 'cover',\n",
       "                                                  'total_gain', 'total_cover'],\n",
       "                         'reg__max_depth': [6, 10, 14, 18, 22],\n",
       "                         'reg__n_estimators': [100, 120, 140, 160, 180]},\n",
       "             scoring='neg_mean_absolute_error', verbose=1)"
      ]
     },
     "execution_count": 83,
     "metadata": {},
     "output_type": "execute_result"
    }
   ],
   "source": [
    "# XGBR Tuned\n",
    "\n",
    "hyperparam_space_xgbr = {\n",
    "    'reg__max_depth': [6, 10, 14, 18, 22],\n",
    "    'reg__n_estimators': [100, 120, 140, 160, 180],\n",
    "    'reg__importance_type': ['gain', 'weight', 'cover', 'total_gain', 'total_cover']\n",
    "}\n",
    "\n",
    "gridsearch_xgbr = GridSearchCV(\n",
    "    pipe_xgbr_tuned,\n",
    "    param_grid = hyperparam_space_xgbr,\n",
    "    cv = kfold,\n",
    "    scoring = 'neg_mean_absolute_error',\n",
    "    n_jobs =-1,\n",
    "    verbose=1\n",
    ")\n",
    "\n",
    "gridsearch_xgbr.fit(X_train_val, y_train_val)"
   ]
  },
  {
   "cell_type": "code",
   "execution_count": 84,
   "metadata": {},
   "outputs": [
    {
     "name": "stdout",
     "output_type": "stream",
     "text": [
      "Best XGBR Tuned Model:  Pipeline(steps=[('transformer',\n",
      "                 ColumnTransformer(remainder='passthrough',\n",
      "                                   transformers=[('impute_num',\n",
      "                                                  SimpleImputer(strategy='median'),\n",
      "                                                  ['parking', 'bathrooms',\n",
      "                                                   'bedrooms']),\n",
      "                                                 ('onehot',\n",
      "                                                  OneHotEncoder(drop='first'),\n",
      "                                                  ['propertyType']),\n",
      "                                                 ('binary', BinaryEncoder(),\n",
      "                                                  ['suburb'])])),\n",
      "                ('reg',\n",
      "                 XGBRegressor(base_score=0.5, booster='gbtree',\n",
      "                              colsample_bylevel=1, colsample_b...\n",
      "                              colsample_bytree=1, gamma=0, gpu_id=-1,\n",
      "                              importance_type='gain',\n",
      "                              interaction_constraints='',\n",
      "                              learning_rate=0.300000012, max_delta_step=0,\n",
      "                              max_depth=6, min_child_weight=1, missing=nan,\n",
      "                              monotone_constraints='()', n_estimators=180,\n",
      "                              n_jobs=-1, num_parallel_tree=1, random_state=2021,\n",
      "                              reg_alpha=0, reg_lambda=1, scale_pos_weight=1,\n",
      "                              subsample=1, tree_method='exact',\n",
      "                              validate_parameters=1, verbosity=None))])\n",
      "XGBR Tuned Model Best Score:  -111828.6759501606\n",
      "XGBR Tuned Model Best Params:  {'reg__importance_type': 'gain', 'reg__max_depth': 6, 'reg__n_estimators': 180}\n"
     ]
    }
   ],
   "source": [
    "print(\"Best XGBR Tuned Model: \", gridsearch_xgbr.best_estimator_)\n",
    "print(\"XGBR Tuned Model Best Score: \", gridsearch_xgbr.best_score_)\n",
    "print(\"XGBR Tuned Model Best Params: \", gridsearch_xgbr.best_params_)"
   ]
  },
  {
   "cell_type": "code",
   "execution_count": 85,
   "metadata": {},
   "outputs": [],
   "source": [
    "xgbr_tuned = gridsearch_xgbr.best_estimator_\n",
    "xgbr_tuned_cv = cross_val_score(xgbr_tuned, X_train_val, y_train_val, cv=kfold, scoring='neg_mean_absolute_error', n_jobs=-1)"
   ]
  },
  {
   "cell_type": "code",
   "execution_count": 86,
   "metadata": {},
   "outputs": [
    {
     "name": "stdout",
     "output_type": "stream",
     "text": [
      "CV XGBR Tuned: [-110671.28151894 -111314.67891523 -113325.39943033 -111408.14577574\n",
      " -112423.87411055]\n",
      "CV XGBR Tuned Mean: -111828.676\n"
     ]
    }
   ],
   "source": [
    "print('CV XGBR Tuned:', xgbr_tuned_cv)\n",
    "print('CV XGBR Tuned Mean:', round(xgbr_tuned_cv.mean(), 3))"
   ]
  },
  {
   "cell_type": "code",
   "execution_count": 87,
   "metadata": {},
   "outputs": [
    {
     "data": {
      "text/html": [
       "<div>\n",
       "<style scoped>\n",
       "    .dataframe tbody tr th:only-of-type {\n",
       "        vertical-align: middle;\n",
       "    }\n",
       "\n",
       "    .dataframe tbody tr th {\n",
       "        vertical-align: top;\n",
       "    }\n",
       "\n",
       "    .dataframe thead th {\n",
       "        text-align: right;\n",
       "    }\n",
       "</style>\n",
       "<table border=\"1\" class=\"dataframe\">\n",
       "  <thead>\n",
       "    <tr style=\"text-align: right;\">\n",
       "      <th></th>\n",
       "      <th>mean_fit_time</th>\n",
       "      <th>std_fit_time</th>\n",
       "      <th>mean_score_time</th>\n",
       "      <th>std_score_time</th>\n",
       "      <th>param_reg__importance_type</th>\n",
       "      <th>param_reg__max_depth</th>\n",
       "      <th>param_reg__n_estimators</th>\n",
       "      <th>params</th>\n",
       "      <th>split0_test_score</th>\n",
       "      <th>split1_test_score</th>\n",
       "      <th>split2_test_score</th>\n",
       "      <th>split3_test_score</th>\n",
       "      <th>split4_test_score</th>\n",
       "      <th>mean_test_score</th>\n",
       "      <th>std_test_score</th>\n",
       "      <th>rank_test_score</th>\n",
       "    </tr>\n",
       "  </thead>\n",
       "  <tbody>\n",
       "    <tr>\n",
       "      <th>54</th>\n",
       "      <td>13.470933</td>\n",
       "      <td>0.734519</td>\n",
       "      <td>0.059742</td>\n",
       "      <td>0.002295</td>\n",
       "      <td>cover</td>\n",
       "      <td>6</td>\n",
       "      <td>180</td>\n",
       "      <td>{'reg__importance_type': 'cover', 'reg__max_de...</td>\n",
       "      <td>-110671.281519</td>\n",
       "      <td>-111314.678915</td>\n",
       "      <td>-113325.39943</td>\n",
       "      <td>-111408.145776</td>\n",
       "      <td>-112423.874111</td>\n",
       "      <td>-111828.67595</td>\n",
       "      <td>935.418887</td>\n",
       "      <td>1</td>\n",
       "    </tr>\n",
       "    <tr>\n",
       "      <th>104</th>\n",
       "      <td>14.463035</td>\n",
       "      <td>0.903722</td>\n",
       "      <td>0.057641</td>\n",
       "      <td>0.003995</td>\n",
       "      <td>total_cover</td>\n",
       "      <td>6</td>\n",
       "      <td>180</td>\n",
       "      <td>{'reg__importance_type': 'total_cover', 'reg__...</td>\n",
       "      <td>-110671.281519</td>\n",
       "      <td>-111314.678915</td>\n",
       "      <td>-113325.39943</td>\n",
       "      <td>-111408.145776</td>\n",
       "      <td>-112423.874111</td>\n",
       "      <td>-111828.67595</td>\n",
       "      <td>935.418887</td>\n",
       "      <td>1</td>\n",
       "    </tr>\n",
       "    <tr>\n",
       "      <th>4</th>\n",
       "      <td>23.307294</td>\n",
       "      <td>1.363356</td>\n",
       "      <td>0.070850</td>\n",
       "      <td>0.011474</td>\n",
       "      <td>gain</td>\n",
       "      <td>6</td>\n",
       "      <td>180</td>\n",
       "      <td>{'reg__importance_type': 'gain', 'reg__max_dep...</td>\n",
       "      <td>-110671.281519</td>\n",
       "      <td>-111314.678915</td>\n",
       "      <td>-113325.39943</td>\n",
       "      <td>-111408.145776</td>\n",
       "      <td>-112423.874111</td>\n",
       "      <td>-111828.67595</td>\n",
       "      <td>935.418887</td>\n",
       "      <td>1</td>\n",
       "    </tr>\n",
       "  </tbody>\n",
       "</table>\n",
       "</div>"
      ],
      "text/plain": [
       "     mean_fit_time  std_fit_time  mean_score_time  std_score_time  \\\n",
       "54       13.470933      0.734519         0.059742        0.002295   \n",
       "104      14.463035      0.903722         0.057641        0.003995   \n",
       "4        23.307294      1.363356         0.070850        0.011474   \n",
       "\n",
       "    param_reg__importance_type param_reg__max_depth param_reg__n_estimators  \\\n",
       "54                       cover                    6                     180   \n",
       "104                total_cover                    6                     180   \n",
       "4                         gain                    6                     180   \n",
       "\n",
       "                                                params  split0_test_score  \\\n",
       "54   {'reg__importance_type': 'cover', 'reg__max_de...     -110671.281519   \n",
       "104  {'reg__importance_type': 'total_cover', 'reg__...     -110671.281519   \n",
       "4    {'reg__importance_type': 'gain', 'reg__max_dep...     -110671.281519   \n",
       "\n",
       "     split1_test_score  split2_test_score  split3_test_score  \\\n",
       "54      -111314.678915      -113325.39943     -111408.145776   \n",
       "104     -111314.678915      -113325.39943     -111408.145776   \n",
       "4       -111314.678915      -113325.39943     -111408.145776   \n",
       "\n",
       "     split4_test_score  mean_test_score  std_test_score  rank_test_score  \n",
       "54      -112423.874111    -111828.67595      935.418887                1  \n",
       "104     -112423.874111    -111828.67595      935.418887                1  \n",
       "4       -112423.874111    -111828.67595      935.418887                1  "
      ]
     },
     "execution_count": 87,
     "metadata": {},
     "output_type": "execute_result"
    }
   ],
   "source": [
    "# XGBR Tuned Model CV Result\n",
    "\n",
    "gridsearch_xgbr_df = pd.DataFrame(gridsearch_xgbr.cv_results_)\n",
    "gridsearch_xgbr_df.sort_values('rank_test_score').head(3)"
   ]
  },
  {
   "cell_type": "markdown",
   "metadata": {},
   "source": [
    "__There is an improvement in the 'Mean Absolute Error' Score of the XG Boost Regressor tuned model:__\n",
    "- CV XGBR Tuned Mean: -111828.676\n",
    "- CV XGBR Benchmark Mean: -113213.665"
   ]
  },
  {
   "cell_type": "markdown",
   "metadata": {},
   "source": [
    "- __Creating a Gradient Boosting Regressor Tuned Model:__"
   ]
  },
  {
   "cell_type": "code",
   "execution_count": 88,
   "metadata": {},
   "outputs": [],
   "source": [
    "# imputing missing values in 'bathrooms' column with median resulting in little to no difference in 'bathrooms' standard deviation\n",
    "\n",
    "# Creating a columns transformer\n",
    "transformer_gbr = ColumnTransformer([\n",
    "    ('impute_num', SimpleImputer(strategy='median'), numerical_columns), \n",
    "    ('onehot', OneHotEncoder(drop='first'), ['propertyType']),  \n",
    "    ('binary', ce.BinaryEncoder(), ['suburb'])    \n",
    "], remainder='passthrough')\n",
    "\n",
    "# Creating a pipeline for XGBR tuned model\n",
    "pipe_gbr_tuned = Pipeline([\n",
    "    ('transformer', transformer_gbr),\n",
    "    ('reg', gbr)\n",
    "])"
   ]
  },
  {
   "cell_type": "code",
   "execution_count": 89,
   "metadata": {},
   "outputs": [
    {
     "data": {
      "text/plain": [
       "{'memory': None,\n",
       " 'steps': [('transformer',\n",
       "   ColumnTransformer(remainder='passthrough',\n",
       "                     transformers=[('impute_num', SimpleImputer(strategy='median'),\n",
       "                                    ['parking', 'bathrooms', 'bedrooms']),\n",
       "                                   ('onehot', OneHotEncoder(drop='first'),\n",
       "                                    ['propertyType']),\n",
       "                                   ('binary', BinaryEncoder(), ['suburb'])])),\n",
       "  ('reg', GradientBoostingRegressor(max_depth=6, random_state=2021))],\n",
       " 'verbose': False,\n",
       " 'transformer': ColumnTransformer(remainder='passthrough',\n",
       "                   transformers=[('impute_num', SimpleImputer(strategy='median'),\n",
       "                                  ['parking', 'bathrooms', 'bedrooms']),\n",
       "                                 ('onehot', OneHotEncoder(drop='first'),\n",
       "                                  ['propertyType']),\n",
       "                                 ('binary', BinaryEncoder(), ['suburb'])]),\n",
       " 'reg': GradientBoostingRegressor(max_depth=6, random_state=2021),\n",
       " 'transformer__n_jobs': None,\n",
       " 'transformer__remainder': 'passthrough',\n",
       " 'transformer__sparse_threshold': 0.3,\n",
       " 'transformer__transformer_weights': None,\n",
       " 'transformer__transformers': [('impute_num',\n",
       "   SimpleImputer(strategy='median'),\n",
       "   ['parking', 'bathrooms', 'bedrooms']),\n",
       "  ('onehot', OneHotEncoder(drop='first'), ['propertyType']),\n",
       "  ('binary', BinaryEncoder(), ['suburb'])],\n",
       " 'transformer__verbose': False,\n",
       " 'transformer__impute_num': SimpleImputer(strategy='median'),\n",
       " 'transformer__onehot': OneHotEncoder(drop='first'),\n",
       " 'transformer__binary': BinaryEncoder(),\n",
       " 'transformer__impute_num__add_indicator': False,\n",
       " 'transformer__impute_num__copy': True,\n",
       " 'transformer__impute_num__fill_value': None,\n",
       " 'transformer__impute_num__missing_values': nan,\n",
       " 'transformer__impute_num__strategy': 'median',\n",
       " 'transformer__impute_num__verbose': 0,\n",
       " 'transformer__onehot__categories': 'auto',\n",
       " 'transformer__onehot__drop': 'first',\n",
       " 'transformer__onehot__dtype': numpy.float64,\n",
       " 'transformer__onehot__handle_unknown': 'error',\n",
       " 'transformer__onehot__sparse': True,\n",
       " 'transformer__binary__cols': None,\n",
       " 'transformer__binary__drop_invariant': False,\n",
       " 'transformer__binary__handle_missing': 'value',\n",
       " 'transformer__binary__handle_unknown': 'value',\n",
       " 'transformer__binary__mapping': None,\n",
       " 'transformer__binary__return_df': True,\n",
       " 'transformer__binary__verbose': 0,\n",
       " 'reg__alpha': 0.9,\n",
       " 'reg__ccp_alpha': 0.0,\n",
       " 'reg__criterion': 'friedman_mse',\n",
       " 'reg__init': None,\n",
       " 'reg__learning_rate': 0.1,\n",
       " 'reg__loss': 'ls',\n",
       " 'reg__max_depth': 6,\n",
       " 'reg__max_features': None,\n",
       " 'reg__max_leaf_nodes': None,\n",
       " 'reg__min_impurity_decrease': 0.0,\n",
       " 'reg__min_impurity_split': None,\n",
       " 'reg__min_samples_leaf': 1,\n",
       " 'reg__min_samples_split': 2,\n",
       " 'reg__min_weight_fraction_leaf': 0.0,\n",
       " 'reg__n_estimators': 100,\n",
       " 'reg__n_iter_no_change': None,\n",
       " 'reg__presort': 'deprecated',\n",
       " 'reg__random_state': 2021,\n",
       " 'reg__subsample': 1.0,\n",
       " 'reg__tol': 0.0001,\n",
       " 'reg__validation_fraction': 0.1,\n",
       " 'reg__verbose': 0,\n",
       " 'reg__warm_start': False}"
      ]
     },
     "execution_count": 89,
     "metadata": {},
     "output_type": "execute_result"
    }
   ],
   "source": [
    "pipe_gbr_tuned.get_params()"
   ]
  },
  {
   "cell_type": "code",
   "execution_count": 90,
   "metadata": {},
   "outputs": [
    {
     "name": "stdout",
     "output_type": "stream",
     "text": [
      "Fitting 5 folds for each of 75 candidates, totalling 375 fits\n"
     ]
    },
    {
     "name": "stderr",
     "output_type": "stream",
     "text": [
      "[Parallel(n_jobs=-1)]: Using backend LokyBackend with 8 concurrent workers.\n",
      "[Parallel(n_jobs=-1)]: Done  34 tasks      | elapsed:  1.2min\n",
      "[Parallel(n_jobs=-1)]: Done 184 tasks      | elapsed: 10.1min\n",
      "[Parallel(n_jobs=-1)]: Done 375 out of 375 | elapsed: 99.3min finished\n"
     ]
    },
    {
     "data": {
      "text/plain": [
       "GridSearchCV(cv=KFold(n_splits=5, random_state=2021, shuffle=True),\n",
       "             estimator=Pipeline(steps=[('transformer',\n",
       "                                        ColumnTransformer(remainder='passthrough',\n",
       "                                                          transformers=[('impute_num',\n",
       "                                                                         SimpleImputer(strategy='median'),\n",
       "                                                                         ['parking',\n",
       "                                                                          'bathrooms',\n",
       "                                                                          'bedrooms']),\n",
       "                                                                        ('onehot',\n",
       "                                                                         OneHotEncoder(drop='first'),\n",
       "                                                                         ['propertyType']),\n",
       "                                                                        ('binary',\n",
       "                                                                         BinaryEncoder(),\n",
       "                                                                         ['suburb'])])),\n",
       "                                       ('reg',\n",
       "                                        GradientBoostingRegressor(max_depth=6,\n",
       "                                                                  random_state=2021))]),\n",
       "             n_jobs=-1,\n",
       "             param_grid={'reg__loss': ['ls', 'lad', 'huber'],\n",
       "                         'reg__max_depth': [6, 10, 14, 18, 22],\n",
       "                         'reg__n_estimators': [100, 120, 140, 160, 180]},\n",
       "             scoring='neg_mean_absolute_error', verbose=1)"
      ]
     },
     "execution_count": 90,
     "metadata": {},
     "output_type": "execute_result"
    }
   ],
   "source": [
    "# GBR Tuned\n",
    "\n",
    "hyperparam_space_gbr = {\n",
    "    'reg__max_depth': [6, 10, 14, 18, 22],\n",
    "    'reg__n_estimators': [100, 120, 140, 160, 180],\n",
    "    'reg__loss': ['ls', 'lad', 'huber']\n",
    "}\n",
    "\n",
    "gridsearch_gbr = GridSearchCV(\n",
    "    pipe_gbr_tuned,\n",
    "    param_grid = hyperparam_space_gbr,\n",
    "    cv = kfold,\n",
    "    scoring = 'neg_mean_absolute_error',\n",
    "    n_jobs =-1,\n",
    "    verbose=1\n",
    ")\n",
    "\n",
    "gridsearch_gbr.fit(X_train_val, y_train_val)"
   ]
  },
  {
   "cell_type": "code",
   "execution_count": 91,
   "metadata": {},
   "outputs": [
    {
     "name": "stdout",
     "output_type": "stream",
     "text": [
      "Best GBR Tuned Model:  Pipeline(steps=[('transformer',\n",
      "                 ColumnTransformer(remainder='passthrough',\n",
      "                                   transformers=[('impute_num',\n",
      "                                                  SimpleImputer(strategy='median'),\n",
      "                                                  ['parking', 'bathrooms',\n",
      "                                                   'bedrooms']),\n",
      "                                                 ('onehot',\n",
      "                                                  OneHotEncoder(drop='first'),\n",
      "                                                  ['propertyType']),\n",
      "                                                 ('binary', BinaryEncoder(),\n",
      "                                                  ['suburb'])])),\n",
      "                ('reg',\n",
      "                 GradientBoostingRegressor(loss='lad', max_depth=14,\n",
      "                                           random_state=2021))])\n",
      "GBR Tuned Model Best Score:  -107697.85697877994\n",
      "GBR Tuned Model Best Params:  {'reg__loss': 'lad', 'reg__max_depth': 14, 'reg__n_estimators': 100}\n"
     ]
    }
   ],
   "source": [
    "print(\"Best GBR Tuned Model: \", gridsearch_gbr.best_estimator_)\n",
    "print(\"GBR Tuned Model Best Score: \", gridsearch_gbr.best_score_)\n",
    "print(\"GBR Tuned Model Best Params: \", gridsearch_gbr.best_params_)"
   ]
  },
  {
   "cell_type": "code",
   "execution_count": 92,
   "metadata": {},
   "outputs": [],
   "source": [
    "gbr_tuned = gridsearch_gbr.best_estimator_\n",
    "gbr_tuned_cv = cross_val_score(gbr_tuned, X_train_val, y_train_val, cv=kfold, scoring='neg_mean_absolute_error', n_jobs=-1)"
   ]
  },
  {
   "cell_type": "code",
   "execution_count": 93,
   "metadata": {},
   "outputs": [
    {
     "name": "stdout",
     "output_type": "stream",
     "text": [
      "CV GBR Tuned: [-107837.77297175 -105964.26897026 -109880.51237871 -107002.6091459\n",
      " -107804.12142728]\n",
      "CV GBR Tuned Mean: -107697.857\n"
     ]
    }
   ],
   "source": [
    "print('CV GBR Tuned:', gbr_tuned_cv)\n",
    "print('CV GBR Tuned Mean:', round(gbr_tuned_cv.mean(), 3))"
   ]
  },
  {
   "cell_type": "code",
   "execution_count": 94,
   "metadata": {},
   "outputs": [
    {
     "data": {
      "text/html": [
       "<div>\n",
       "<style scoped>\n",
       "    .dataframe tbody tr th:only-of-type {\n",
       "        vertical-align: middle;\n",
       "    }\n",
       "\n",
       "    .dataframe tbody tr th {\n",
       "        vertical-align: top;\n",
       "    }\n",
       "\n",
       "    .dataframe thead th {\n",
       "        text-align: right;\n",
       "    }\n",
       "</style>\n",
       "<table border=\"1\" class=\"dataframe\">\n",
       "  <thead>\n",
       "    <tr style=\"text-align: right;\">\n",
       "      <th></th>\n",
       "      <th>mean_fit_time</th>\n",
       "      <th>std_fit_time</th>\n",
       "      <th>mean_score_time</th>\n",
       "      <th>std_score_time</th>\n",
       "      <th>param_reg__loss</th>\n",
       "      <th>param_reg__max_depth</th>\n",
       "      <th>param_reg__n_estimators</th>\n",
       "      <th>params</th>\n",
       "      <th>split0_test_score</th>\n",
       "      <th>split1_test_score</th>\n",
       "      <th>split2_test_score</th>\n",
       "      <th>split3_test_score</th>\n",
       "      <th>split4_test_score</th>\n",
       "      <th>mean_test_score</th>\n",
       "      <th>std_test_score</th>\n",
       "      <th>rank_test_score</th>\n",
       "    </tr>\n",
       "  </thead>\n",
       "  <tbody>\n",
       "    <tr>\n",
       "      <th>35</th>\n",
       "      <td>101.118861</td>\n",
       "      <td>12.418587</td>\n",
       "      <td>0.229362</td>\n",
       "      <td>0.033524</td>\n",
       "      <td>lad</td>\n",
       "      <td>14</td>\n",
       "      <td>100</td>\n",
       "      <td>{'reg__loss': 'lad', 'reg__max_depth': 14, 're...</td>\n",
       "      <td>-107837.772972</td>\n",
       "      <td>-105964.268970</td>\n",
       "      <td>-109880.512379</td>\n",
       "      <td>-107002.609146</td>\n",
       "      <td>-107804.121427</td>\n",
       "      <td>-107697.856979</td>\n",
       "      <td>1287.132483</td>\n",
       "      <td>1</td>\n",
       "    </tr>\n",
       "    <tr>\n",
       "      <th>37</th>\n",
       "      <td>124.009260</td>\n",
       "      <td>13.348991</td>\n",
       "      <td>0.269991</td>\n",
       "      <td>0.037898</td>\n",
       "      <td>lad</td>\n",
       "      <td>14</td>\n",
       "      <td>140</td>\n",
       "      <td>{'reg__loss': 'lad', 'reg__max_depth': 14, 're...</td>\n",
       "      <td>-107894.924253</td>\n",
       "      <td>-105938.941970</td>\n",
       "      <td>-109959.275625</td>\n",
       "      <td>-106938.094829</td>\n",
       "      <td>-107763.847809</td>\n",
       "      <td>-107699.016897</td>\n",
       "      <td>1328.775255</td>\n",
       "      <td>2</td>\n",
       "    </tr>\n",
       "    <tr>\n",
       "      <th>36</th>\n",
       "      <td>113.072720</td>\n",
       "      <td>18.532312</td>\n",
       "      <td>0.270191</td>\n",
       "      <td>0.056098</td>\n",
       "      <td>lad</td>\n",
       "      <td>14</td>\n",
       "      <td>120</td>\n",
       "      <td>{'reg__loss': 'lad', 'reg__max_depth': 14, 're...</td>\n",
       "      <td>-107856.572468</td>\n",
       "      <td>-105993.158041</td>\n",
       "      <td>-109896.864122</td>\n",
       "      <td>-106984.258933</td>\n",
       "      <td>-107839.237034</td>\n",
       "      <td>-107714.018120</td>\n",
       "      <td>1288.000471</td>\n",
       "      <td>3</td>\n",
       "    </tr>\n",
       "  </tbody>\n",
       "</table>\n",
       "</div>"
      ],
      "text/plain": [
       "    mean_fit_time  std_fit_time  mean_score_time  std_score_time  \\\n",
       "35     101.118861     12.418587         0.229362        0.033524   \n",
       "37     124.009260     13.348991         0.269991        0.037898   \n",
       "36     113.072720     18.532312         0.270191        0.056098   \n",
       "\n",
       "   param_reg__loss param_reg__max_depth param_reg__n_estimators  \\\n",
       "35             lad                   14                     100   \n",
       "37             lad                   14                     140   \n",
       "36             lad                   14                     120   \n",
       "\n",
       "                                               params  split0_test_score  \\\n",
       "35  {'reg__loss': 'lad', 'reg__max_depth': 14, 're...     -107837.772972   \n",
       "37  {'reg__loss': 'lad', 'reg__max_depth': 14, 're...     -107894.924253   \n",
       "36  {'reg__loss': 'lad', 'reg__max_depth': 14, 're...     -107856.572468   \n",
       "\n",
       "    split1_test_score  split2_test_score  split3_test_score  \\\n",
       "35     -105964.268970     -109880.512379     -107002.609146   \n",
       "37     -105938.941970     -109959.275625     -106938.094829   \n",
       "36     -105993.158041     -109896.864122     -106984.258933   \n",
       "\n",
       "    split4_test_score  mean_test_score  std_test_score  rank_test_score  \n",
       "35     -107804.121427   -107697.856979     1287.132483                1  \n",
       "37     -107763.847809   -107699.016897     1328.775255                2  \n",
       "36     -107839.237034   -107714.018120     1288.000471                3  "
      ]
     },
     "execution_count": 94,
     "metadata": {},
     "output_type": "execute_result"
    }
   ],
   "source": [
    "# GBR Tuned Model CV Result\n",
    "\n",
    "gridsearch_gbr_df = pd.DataFrame(gridsearch_gbr.cv_results_)\n",
    "gridsearch_gbr_df.sort_values('rank_test_score').head(3)"
   ]
  },
  {
   "cell_type": "markdown",
   "metadata": {},
   "source": [
    "__There is an improvement in the 'Mean Absolute Error' Score of the Gradient Boosting Regressor tuned model:__\n",
    "- CV GBR Tuned Mean: -107697.857\n",
    "- CV GBR Benchmark Mean: -121588.818"
   ]
  },
  {
   "cell_type": "markdown",
   "metadata": {},
   "source": [
    "- __Conclusion:__\n",
    "In the model tuning phase, Gradient Boosting Regressor tuned model is the best machine learning model compared to others. The scoring method that is used to determine the best model is 'Mean Absolute Error' (MAE). This metric is negatively-oriented scores, which means lower value is better.\n",
    "\n",
    "- __Conclusion 2:__\n",
    "Gradient Boosting Regressor tuned model (GBR tuned model) is going to be selected as the machine learning model in this project."
   ]
  },
  {
   "cell_type": "markdown",
   "metadata": {},
   "source": [
    "- __Gradient Boosting Regressor Tuned Model with Less Outliers:__"
   ]
  },
  {
   "cell_type": "code",
   "execution_count": 95,
   "metadata": {},
   "outputs": [
    {
     "data": {
      "text/html": [
       "<div>\n",
       "<style scoped>\n",
       "    .dataframe tbody tr th:only-of-type {\n",
       "        vertical-align: middle;\n",
       "    }\n",
       "\n",
       "    .dataframe tbody tr th {\n",
       "        vertical-align: top;\n",
       "    }\n",
       "\n",
       "    .dataframe thead th {\n",
       "        text-align: right;\n",
       "    }\n",
       "</style>\n",
       "<table border=\"1\" class=\"dataframe\">\n",
       "  <thead>\n",
       "    <tr style=\"text-align: right;\">\n",
       "      <th></th>\n",
       "      <th>price</th>\n",
       "      <th>parking</th>\n",
       "      <th>bathrooms</th>\n",
       "      <th>bedrooms</th>\n",
       "      <th>suburb</th>\n",
       "      <th>propertyType</th>\n",
       "    </tr>\n",
       "  </thead>\n",
       "  <tbody>\n",
       "    <tr>\n",
       "      <th>42</th>\n",
       "      <td>450000.0</td>\n",
       "      <td>2</td>\n",
       "      <td>2.0</td>\n",
       "      <td>3</td>\n",
       "      <td>Conder</td>\n",
       "      <td>house</td>\n",
       "    </tr>\n",
       "    <tr>\n",
       "      <th>43</th>\n",
       "      <td>525000.0</td>\n",
       "      <td>2</td>\n",
       "      <td>NaN</td>\n",
       "      <td>4</td>\n",
       "      <td>Pearce</td>\n",
       "      <td>house</td>\n",
       "    </tr>\n",
       "    <tr>\n",
       "      <th>44</th>\n",
       "      <td>250000.0</td>\n",
       "      <td>1</td>\n",
       "      <td>1.0</td>\n",
       "      <td>3</td>\n",
       "      <td>Isabella Plains</td>\n",
       "      <td>house</td>\n",
       "    </tr>\n",
       "  </tbody>\n",
       "</table>\n",
       "</div>"
      ],
      "text/plain": [
       "       price  parking  bathrooms  bedrooms           suburb propertyType\n",
       "42  450000.0        2        2.0         3           Conder        house\n",
       "43  525000.0        2        NaN         4           Pearce        house\n",
       "44  250000.0        1        1.0         3  Isabella Plains        house"
      ]
     },
     "execution_count": 95,
     "metadata": {},
     "output_type": "execute_result"
    }
   ],
   "source": [
    "df.head(3)"
   ]
  },
  {
   "cell_type": "code",
   "execution_count": 96,
   "metadata": {},
   "outputs": [],
   "source": [
    "def stats_(feature):\n",
    "    min_ = df[feature].min()\n",
    "    max_ = df[feature].max()\n",
    "    mean_ = df[feature].mean()\n",
    "    median_ = df[feature].median()\n",
    "    std_ = df[feature].std()\n",
    "\n",
    "    print(f\"Statistics for '{feature}' column:\\n\")\n",
    "    print(f\"Minimum '{feature}': \", min_)\n",
    "    print(f\"Maximum '{feature}': \", max_)\n",
    "    print(f\"Mean '{feature}': \", mean_)\n",
    "    print(f\"Median '{feature}': \", median_)\n",
    "    print(f\"Standard deviation of '{feature}': \", std_)\n",
    "    \n",
    "def detect_outlier_iqr(data):\n",
    "    outliers=[]\n",
    "    data_sorted = sorted(data)\n",
    "    q1, q3= np.percentile(data,[25,75])\n",
    "    iqr = q3 - q1\n",
    "    lower_bound = q1 -(1.5 * iqr) \n",
    "    upper_bound = q3 +(1.5 * iqr) \n",
    "    \n",
    "    for y in data_sorted:\n",
    "        if y < lower_bound or y > upper_bound:\n",
    "            outliers.append(y)\n",
    "    return outliers"
   ]
  },
  {
   "cell_type": "code",
   "execution_count": 97,
   "metadata": {},
   "outputs": [
    {
     "name": "stdout",
     "output_type": "stream",
     "text": [
      "Number of outliers in 'price' column:  2573\n"
     ]
    }
   ],
   "source": [
    "# Checking the amount of outliers in the dataset based on 'lower whisker and upper whisker'\n",
    "\n",
    "print(\"Number of outliers in 'price' column: \", len(detect_outlier_iqr(df['price'])))"
   ]
  },
  {
   "cell_type": "markdown",
   "metadata": {},
   "source": [
    "Dropping outliers based on 'lower whisker and upper whisker' is not the best decission, since the datasets are already heavily skewed and dropping it might reduce a lot of valuable information."
   ]
  },
  {
   "cell_type": "code",
   "execution_count": 98,
   "metadata": {},
   "outputs": [
    {
     "name": "stdout",
     "output_type": "stream",
     "text": [
      "Statistics for 'price' column:\n",
      "\n",
      "Minimum 'price':  50000.0\n",
      "Maximum 'price':  8000000.0\n",
      "Mean 'price':  604017.4660910999\n",
      "Median 'price':  539950.0\n",
      "Standard deviation of 'price':  313997.6317806019\n"
     ]
    }
   ],
   "source": [
    "stats_('price')  # checking"
   ]
  },
  {
   "cell_type": "code",
   "execution_count": 99,
   "metadata": {},
   "outputs": [
    {
     "data": {
      "image/png": "[encoded data removed]",
      "text/plain": [
       "<Figure size 720x720 with 1 Axes>"
      ]
     },
     "metadata": {},
     "output_type": "display_data"
    }
   ],
   "source": [
    "# Data are heavily right-skewed\n",
    "\n",
    "plt.figure(figsize=(10,10))\n",
    "sns.distplot(df['price'], kde=False, bins=100)\n",
    "plt.xticks(rotation=90)\n",
    "plt.title('price')\n",
    "plt.show()"
   ]
  },
  {
   "cell_type": "code",
   "execution_count": 100,
   "metadata": {},
   "outputs": [
    {
     "data": {
      "image/png": "[encoded data removed]",
      "text/plain": [
       "<Figure size 360x360 with 1 Axes>"
      ]
     },
     "metadata": {},
     "output_type": "display_data"
    }
   ],
   "source": [
    "# Checking outliers before dropping some of them through box plot\n",
    "\n",
    "plt.figure(figsize=(5,5))\n",
    "sns.boxplot(y=df['price'])\n",
    "plt.xticks(rotation=90)\n",
    "plt.title('price')\n",
    "plt.show()"
   ]
  },
  {
   "cell_type": "code",
   "execution_count": 101,
   "metadata": {},
   "outputs": [],
   "source": [
    "# Creating 'PriceRange' column to better see where the distribution of the outliers\n",
    "\n",
    "df['PriceRange'] = np.where(df['price'] <= 1000000, '0 - 1M',  \n",
    "                                       np.where ((df['price'] > 1000000) & (df['price'] <= 2000000), '1M - 2M',\n",
    "                                                np.where((df['price'] > 2000000) & (df['price'] <= 3000000), '2M - 3M',\n",
    "                                                        np.where((df['price']>3000000) & (df['price']<=4000000), '3M - 4M',\n",
    "                                                                np.where((df['price']>4000000) & (df['price']<=5000000), '4M - 5M',\n",
    "                                                                        np.where((df['price']>5000000) & (df['price']<=6000000), '5M - 6M',\n",
    "                                                                                np.where((df['price']>6000000) & (df['price']<=7000000), '6M - 7M', \n",
    "                                                                                         np.where((df['price']>7000000) & (df['price']<=8000000), '7M - 8M', \n",
    "                                                                                                 np.where((df['price']>8000000) & (df['price']<=9000000), '8M -9 M', ''\n",
    "                                                                                                                 )))))))))"
   ]
  },
  {
   "cell_type": "code",
   "execution_count": 102,
   "metadata": {},
   "outputs": [
    {
     "data": {
      "text/html": [
       "<div>\n",
       "<style scoped>\n",
       "    .dataframe tbody tr th:only-of-type {\n",
       "        vertical-align: middle;\n",
       "    }\n",
       "\n",
       "    .dataframe tbody tr th {\n",
       "        vertical-align: top;\n",
       "    }\n",
       "\n",
       "    .dataframe thead tr th {\n",
       "        text-align: left;\n",
       "    }\n",
       "\n",
       "    .dataframe thead tr:last-of-type th {\n",
       "        text-align: right;\n",
       "    }\n",
       "</style>\n",
       "<table border=\"1\" class=\"dataframe\">\n",
       "  <thead>\n",
       "    <tr>\n",
       "      <th></th>\n",
       "      <th>PriceRange</th>\n",
       "    </tr>\n",
       "    <tr>\n",
       "      <th></th>\n",
       "      <th>count</th>\n",
       "    </tr>\n",
       "    <tr>\n",
       "      <th>PriceRange</th>\n",
       "      <th></th>\n",
       "    </tr>\n",
       "  </thead>\n",
       "  <tbody>\n",
       "    <tr>\n",
       "      <th>0 - 1M</th>\n",
       "      <td>39795</td>\n",
       "    </tr>\n",
       "    <tr>\n",
       "      <th>1M - 2M</th>\n",
       "      <td>2449</td>\n",
       "    </tr>\n",
       "    <tr>\n",
       "      <th>2M - 3M</th>\n",
       "      <td>114</td>\n",
       "    </tr>\n",
       "    <tr>\n",
       "      <th>3M - 4M</th>\n",
       "      <td>24</td>\n",
       "    </tr>\n",
       "    <tr>\n",
       "      <th>4M - 5M</th>\n",
       "      <td>6</td>\n",
       "    </tr>\n",
       "    <tr>\n",
       "      <th>5M - 6M</th>\n",
       "      <td>2</td>\n",
       "    </tr>\n",
       "    <tr>\n",
       "      <th>6M - 7M</th>\n",
       "      <td>1</td>\n",
       "    </tr>\n",
       "    <tr>\n",
       "      <th>7M - 8M</th>\n",
       "      <td>2</td>\n",
       "    </tr>\n",
       "  </tbody>\n",
       "</table>\n",
       "</div>"
      ],
      "text/plain": [
       "           PriceRange\n",
       "                count\n",
       "PriceRange           \n",
       "0 - 1M          39795\n",
       "1M - 2M          2449\n",
       "2M - 3M           114\n",
       "3M - 4M            24\n",
       "4M - 5M             6\n",
       "5M - 6M             2\n",
       "6M - 7M             1\n",
       "7M - 8M             2"
      ]
     },
     "execution_count": 102,
     "metadata": {},
     "output_type": "execute_result"
    }
   ],
   "source": [
    "df.groupby(['PriceRange']).agg({'PriceRange': ['count']})"
   ]
  },
  {
   "cell_type": "markdown",
   "metadata": {},
   "source": [
    "__It can be seen from the table above:__\n",
    "\n",
    "- 2 data items in the range 5M - 6M\n",
    "- 1 data item in the range 6M - 7M\n",
    "- 2 data items in the range 7M - 8M\n",
    "\n",
    "For the purpose of this analysis, all data that are mentioned above are going to be dropped. Hence, the maximum real estate price for this analysis is capped at 5M."
   ]
  },
  {
   "cell_type": "code",
   "execution_count": 103,
   "metadata": {},
   "outputs": [],
   "source": [
    "df.drop(df[\n",
    "    (df['PriceRange']=='5M - 6M') |\n",
    "    (df['PriceRange']=='6M - 7M') |\n",
    "    (df['PriceRange']=='7M - 8M') \n",
    "].index, inplace=True)"
   ]
  },
  {
   "cell_type": "code",
   "execution_count": 104,
   "metadata": {},
   "outputs": [
    {
     "data": {
      "text/html": [
       "<div>\n",
       "<style scoped>\n",
       "    .dataframe tbody tr th:only-of-type {\n",
       "        vertical-align: middle;\n",
       "    }\n",
       "\n",
       "    .dataframe tbody tr th {\n",
       "        vertical-align: top;\n",
       "    }\n",
       "\n",
       "    .dataframe thead tr th {\n",
       "        text-align: left;\n",
       "    }\n",
       "\n",
       "    .dataframe thead tr:last-of-type th {\n",
       "        text-align: right;\n",
       "    }\n",
       "</style>\n",
       "<table border=\"1\" class=\"dataframe\">\n",
       "  <thead>\n",
       "    <tr>\n",
       "      <th></th>\n",
       "      <th>PriceRange</th>\n",
       "    </tr>\n",
       "    <tr>\n",
       "      <th></th>\n",
       "      <th>count</th>\n",
       "    </tr>\n",
       "    <tr>\n",
       "      <th>PriceRange</th>\n",
       "      <th></th>\n",
       "    </tr>\n",
       "  </thead>\n",
       "  <tbody>\n",
       "    <tr>\n",
       "      <th>0 - 1M</th>\n",
       "      <td>39795</td>\n",
       "    </tr>\n",
       "    <tr>\n",
       "      <th>1M - 2M</th>\n",
       "      <td>2449</td>\n",
       "    </tr>\n",
       "    <tr>\n",
       "      <th>2M - 3M</th>\n",
       "      <td>114</td>\n",
       "    </tr>\n",
       "    <tr>\n",
       "      <th>3M - 4M</th>\n",
       "      <td>24</td>\n",
       "    </tr>\n",
       "    <tr>\n",
       "      <th>4M - 5M</th>\n",
       "      <td>6</td>\n",
       "    </tr>\n",
       "  </tbody>\n",
       "</table>\n",
       "</div>"
      ],
      "text/plain": [
       "           PriceRange\n",
       "                count\n",
       "PriceRange           \n",
       "0 - 1M          39795\n",
       "1M - 2M          2449\n",
       "2M - 3M           114\n",
       "3M - 4M            24\n",
       "4M - 5M             6"
      ]
     },
     "execution_count": 104,
     "metadata": {},
     "output_type": "execute_result"
    }
   ],
   "source": [
    "df.groupby(['PriceRange']).agg({'PriceRange': ['count']})  # checking"
   ]
  },
  {
   "cell_type": "code",
   "execution_count": 105,
   "metadata": {},
   "outputs": [
    {
     "data": {
      "image/png": "[encoded data removed]",
      "text/plain": [
       "<Figure size 360x360 with 1 Axes>"
      ]
     },
     "metadata": {},
     "output_type": "display_data"
    }
   ],
   "source": [
    "# Checking outliers after dropping some of them through box plot\n",
    "\n",
    "plt.figure(figsize=(5,5))\n",
    "sns.boxplot(y=df['price'])\n",
    "plt.xticks(rotation=90)\n",
    "plt.title('price')\n",
    "plt.show()"
   ]
  },
  {
   "cell_type": "code",
   "execution_count": 106,
   "metadata": {},
   "outputs": [
    {
     "data": {
      "image/png": "[encoded data removed]",
      "text/plain": [
       "<Figure size 720x720 with 1 Axes>"
      ]
     },
     "metadata": {},
     "output_type": "display_data"
    }
   ],
   "source": [
    "# Data are still right-skewed, however it is less significant than before\n",
    "\n",
    "plt.figure(figsize=(10,10))\n",
    "sns.distplot(df['price'], kde=False, bins=100)\n",
    "plt.xticks(rotation=90)\n",
    "plt.title('price')\n",
    "plt.show()"
   ]
  },
  {
   "cell_type": "markdown",
   "metadata": {},
   "source": [
    "- __Updating the Dependent and Independent Features:__"
   ]
  },
  {
   "cell_type": "code",
   "execution_count": 107,
   "metadata": {},
   "outputs": [],
   "source": [
    "# Updating features and target\n",
    "\n",
    "y2 = df['price']\n",
    "X2 = df.drop(['price', 'PriceRange'], axis=1)"
   ]
  },
  {
   "cell_type": "code",
   "execution_count": 108,
   "metadata": {},
   "outputs": [
    {
     "data": {
      "text/plain": [
       "42    450000.0\n",
       "43    525000.0\n",
       "44    250000.0\n",
       "45    350000.0\n",
       "46    290000.0\n",
       "Name: price, dtype: float64"
      ]
     },
     "execution_count": 108,
     "metadata": {},
     "output_type": "execute_result"
    }
   ],
   "source": [
    "y2[:5]  # checking"
   ]
  },
  {
   "cell_type": "code",
   "execution_count": 109,
   "metadata": {},
   "outputs": [
    {
     "data": {
      "text/plain": [
       "count    4.238800e+04\n",
       "mean     6.033177e+05\n",
       "std      3.071396e+05\n",
       "min      5.000000e+04\n",
       "25%      4.300000e+05\n",
       "50%      5.399500e+05\n",
       "75%      6.770000e+05\n",
       "max      4.700000e+06\n",
       "Name: price, dtype: float64"
      ]
     },
     "execution_count": 109,
     "metadata": {},
     "output_type": "execute_result"
    }
   ],
   "source": [
    "y2.describe()"
   ]
  },
  {
   "cell_type": "code",
   "execution_count": 110,
   "metadata": {},
   "outputs": [
    {
     "data": {
      "text/html": [
       "<div>\n",
       "<style scoped>\n",
       "    .dataframe tbody tr th:only-of-type {\n",
       "        vertical-align: middle;\n",
       "    }\n",
       "\n",
       "    .dataframe tbody tr th {\n",
       "        vertical-align: top;\n",
       "    }\n",
       "\n",
       "    .dataframe thead th {\n",
       "        text-align: right;\n",
       "    }\n",
       "</style>\n",
       "<table border=\"1\" class=\"dataframe\">\n",
       "  <thead>\n",
       "    <tr style=\"text-align: right;\">\n",
       "      <th></th>\n",
       "      <th>parking</th>\n",
       "      <th>bathrooms</th>\n",
       "      <th>bedrooms</th>\n",
       "      <th>suburb</th>\n",
       "      <th>propertyType</th>\n",
       "    </tr>\n",
       "  </thead>\n",
       "  <tbody>\n",
       "    <tr>\n",
       "      <th>42</th>\n",
       "      <td>2</td>\n",
       "      <td>2.0</td>\n",
       "      <td>3</td>\n",
       "      <td>Conder</td>\n",
       "      <td>house</td>\n",
       "    </tr>\n",
       "    <tr>\n",
       "      <th>43</th>\n",
       "      <td>2</td>\n",
       "      <td>NaN</td>\n",
       "      <td>4</td>\n",
       "      <td>Pearce</td>\n",
       "      <td>house</td>\n",
       "    </tr>\n",
       "    <tr>\n",
       "      <th>44</th>\n",
       "      <td>1</td>\n",
       "      <td>1.0</td>\n",
       "      <td>3</td>\n",
       "      <td>Isabella Plains</td>\n",
       "      <td>house</td>\n",
       "    </tr>\n",
       "    <tr>\n",
       "      <th>45</th>\n",
       "      <td>1</td>\n",
       "      <td>2.0</td>\n",
       "      <td>3</td>\n",
       "      <td>Gordon</td>\n",
       "      <td>house</td>\n",
       "    </tr>\n",
       "    <tr>\n",
       "      <th>46</th>\n",
       "      <td>1</td>\n",
       "      <td>1.0</td>\n",
       "      <td>3</td>\n",
       "      <td>Conder</td>\n",
       "      <td>house</td>\n",
       "    </tr>\n",
       "  </tbody>\n",
       "</table>\n",
       "</div>"
      ],
      "text/plain": [
       "    parking  bathrooms  bedrooms           suburb propertyType\n",
       "42        2        2.0         3           Conder        house\n",
       "43        2        NaN         4           Pearce        house\n",
       "44        1        1.0         3  Isabella Plains        house\n",
       "45        1        2.0         3           Gordon        house\n",
       "46        1        1.0         3           Conder        house"
      ]
     },
     "execution_count": 110,
     "metadata": {},
     "output_type": "execute_result"
    }
   ],
   "source": [
    "X2.head()  # checking"
   ]
  },
  {
   "cell_type": "code",
   "execution_count": 111,
   "metadata": {},
   "outputs": [
    {
     "data": {
      "text/html": [
       "<div>\n",
       "<style scoped>\n",
       "    .dataframe tbody tr th:only-of-type {\n",
       "        vertical-align: middle;\n",
       "    }\n",
       "\n",
       "    .dataframe tbody tr th {\n",
       "        vertical-align: top;\n",
       "    }\n",
       "\n",
       "    .dataframe thead th {\n",
       "        text-align: right;\n",
       "    }\n",
       "</style>\n",
       "<table border=\"1\" class=\"dataframe\">\n",
       "  <thead>\n",
       "    <tr style=\"text-align: right;\">\n",
       "      <th></th>\n",
       "      <th>parking</th>\n",
       "      <th>bathrooms</th>\n",
       "      <th>bedrooms</th>\n",
       "      <th>suburb</th>\n",
       "      <th>propertyType</th>\n",
       "    </tr>\n",
       "  </thead>\n",
       "  <tbody>\n",
       "    <tr>\n",
       "      <th>count</th>\n",
       "      <td>42388.000000</td>\n",
       "      <td>41742.000000</td>\n",
       "      <td>42388.000000</td>\n",
       "      <td>42388</td>\n",
       "      <td>42388</td>\n",
       "    </tr>\n",
       "    <tr>\n",
       "      <th>unique</th>\n",
       "      <td>NaN</td>\n",
       "      <td>NaN</td>\n",
       "      <td>NaN</td>\n",
       "      <td>107</td>\n",
       "      <td>2</td>\n",
       "    </tr>\n",
       "    <tr>\n",
       "      <th>top</th>\n",
       "      <td>NaN</td>\n",
       "      <td>NaN</td>\n",
       "      <td>NaN</td>\n",
       "      <td>Kambah</td>\n",
       "      <td>house</td>\n",
       "    </tr>\n",
       "    <tr>\n",
       "      <th>freq</th>\n",
       "      <td>NaN</td>\n",
       "      <td>NaN</td>\n",
       "      <td>NaN</td>\n",
       "      <td>1387</td>\n",
       "      <td>35580</td>\n",
       "    </tr>\n",
       "    <tr>\n",
       "      <th>mean</th>\n",
       "      <td>1.758847</td>\n",
       "      <td>1.641464</td>\n",
       "      <td>3.193026</td>\n",
       "      <td>NaN</td>\n",
       "      <td>NaN</td>\n",
       "    </tr>\n",
       "    <tr>\n",
       "      <th>std</th>\n",
       "      <td>0.937610</td>\n",
       "      <td>0.643715</td>\n",
       "      <td>0.989918</td>\n",
       "      <td>NaN</td>\n",
       "      <td>NaN</td>\n",
       "    </tr>\n",
       "    <tr>\n",
       "      <th>min</th>\n",
       "      <td>0.000000</td>\n",
       "      <td>1.000000</td>\n",
       "      <td>0.000000</td>\n",
       "      <td>NaN</td>\n",
       "      <td>NaN</td>\n",
       "    </tr>\n",
       "    <tr>\n",
       "      <th>25%</th>\n",
       "      <td>1.000000</td>\n",
       "      <td>1.000000</td>\n",
       "      <td>3.000000</td>\n",
       "      <td>NaN</td>\n",
       "      <td>NaN</td>\n",
       "    </tr>\n",
       "    <tr>\n",
       "      <th>50%</th>\n",
       "      <td>2.000000</td>\n",
       "      <td>2.000000</td>\n",
       "      <td>3.000000</td>\n",
       "      <td>NaN</td>\n",
       "      <td>NaN</td>\n",
       "    </tr>\n",
       "    <tr>\n",
       "      <th>75%</th>\n",
       "      <td>2.000000</td>\n",
       "      <td>2.000000</td>\n",
       "      <td>4.000000</td>\n",
       "      <td>NaN</td>\n",
       "      <td>NaN</td>\n",
       "    </tr>\n",
       "    <tr>\n",
       "      <th>max</th>\n",
       "      <td>31.000000</td>\n",
       "      <td>21.000000</td>\n",
       "      <td>14.000000</td>\n",
       "      <td>NaN</td>\n",
       "      <td>NaN</td>\n",
       "    </tr>\n",
       "  </tbody>\n",
       "</table>\n",
       "</div>"
      ],
      "text/plain": [
       "             parking     bathrooms      bedrooms  suburb propertyType\n",
       "count   42388.000000  41742.000000  42388.000000   42388        42388\n",
       "unique           NaN           NaN           NaN     107            2\n",
       "top              NaN           NaN           NaN  Kambah        house\n",
       "freq             NaN           NaN           NaN    1387        35580\n",
       "mean        1.758847      1.641464      3.193026     NaN          NaN\n",
       "std         0.937610      0.643715      0.989918     NaN          NaN\n",
       "min         0.000000      1.000000      0.000000     NaN          NaN\n",
       "25%         1.000000      1.000000      3.000000     NaN          NaN\n",
       "50%         2.000000      2.000000      3.000000     NaN          NaN\n",
       "75%         2.000000      2.000000      4.000000     NaN          NaN\n",
       "max        31.000000     21.000000     14.000000     NaN          NaN"
      ]
     },
     "execution_count": 111,
     "metadata": {},
     "output_type": "execute_result"
    }
   ],
   "source": [
    "X2.describe(include='all')"
   ]
  },
  {
   "cell_type": "markdown",
   "metadata": {},
   "source": [
    "- __Updating Training-validation Set and Test Set:__"
   ]
  },
  {
   "cell_type": "code",
   "execution_count": 112,
   "metadata": {},
   "outputs": [],
   "source": [
    "# Train test split\n",
    "\n",
    "X_train_val2, X_test2, y_train_val2, y_test2 = train_test_split(X2, y2, random_state=2021, test_size=0.2)"
   ]
  },
  {
   "cell_type": "markdown",
   "metadata": {},
   "source": [
    "- __Gradient Boosting Regressor Tuned Model with Less Outliers (WLO):__"
   ]
  },
  {
   "cell_type": "code",
   "execution_count": 113,
   "metadata": {},
   "outputs": [
    {
     "name": "stdout",
     "output_type": "stream",
     "text": [
      "Fitting 5 folds for each of 75 candidates, totalling 375 fits\n"
     ]
    },
    {
     "name": "stderr",
     "output_type": "stream",
     "text": [
      "[Parallel(n_jobs=-1)]: Using backend LokyBackend with 8 concurrent workers.\n",
      "[Parallel(n_jobs=-1)]: Done  34 tasks      | elapsed:   53.7s\n",
      "[Parallel(n_jobs=-1)]: Done 184 tasks      | elapsed:  8.7min\n",
      "[Parallel(n_jobs=-1)]: Done 375 out of 375 | elapsed: 88.4min finished\n"
     ]
    },
    {
     "data": {
      "text/plain": [
       "GridSearchCV(cv=KFold(n_splits=5, random_state=2021, shuffle=True),\n",
       "             estimator=Pipeline(steps=[('transformer',\n",
       "                                        ColumnTransformer(remainder='passthrough',\n",
       "                                                          transformers=[('impute_num',\n",
       "                                                                         SimpleImputer(strategy='median'),\n",
       "                                                                         ['parking',\n",
       "                                                                          'bathrooms',\n",
       "                                                                          'bedrooms']),\n",
       "                                                                        ('onehot',\n",
       "                                                                         OneHotEncoder(drop='first'),\n",
       "                                                                         ['propertyType']),\n",
       "                                                                        ('binary',\n",
       "                                                                         BinaryEncoder(),\n",
       "                                                                         ['suburb'])])),\n",
       "                                       ('reg',\n",
       "                                        GradientBoostingRegressor(max_depth=6,\n",
       "                                                                  random_state=2021))]),\n",
       "             n_jobs=-1,\n",
       "             param_grid={'reg__loss': ['ls', 'lad', 'huber'],\n",
       "                         'reg__max_depth': [6, 10, 14, 18, 22],\n",
       "                         'reg__n_estimators': [100, 120, 140, 160, 180]},\n",
       "             scoring='neg_mean_absolute_error', verbose=1)"
      ]
     },
     "execution_count": 113,
     "metadata": {},
     "output_type": "execute_result"
    }
   ],
   "source": [
    "gridsearch_gbr.fit(X_train_val2, y_train_val2)"
   ]
  },
  {
   "cell_type": "code",
   "execution_count": 114,
   "metadata": {},
   "outputs": [
    {
     "name": "stdout",
     "output_type": "stream",
     "text": [
      "Best GBR Tuned (WLO) Model:  Pipeline(steps=[('transformer',\n",
      "                 ColumnTransformer(remainder='passthrough',\n",
      "                                   transformers=[('impute_num',\n",
      "                                                  SimpleImputer(strategy='median'),\n",
      "                                                  ['parking', 'bathrooms',\n",
      "                                                   'bedrooms']),\n",
      "                                                 ('onehot',\n",
      "                                                  OneHotEncoder(drop='first'),\n",
      "                                                  ['propertyType']),\n",
      "                                                 ('binary', BinaryEncoder(),\n",
      "                                                  ['suburb'])])),\n",
      "                ('reg',\n",
      "                 GradientBoostingRegressor(loss='lad', max_depth=14,\n",
      "                                           random_state=2021))])\n",
      "GBR Tuned (WLO) Model Best Score:  -107049.26927892472\n",
      "GBR Tuned (WLO) Model Best Params:  {'reg__loss': 'lad', 'reg__max_depth': 14, 'reg__n_estimators': 100}\n"
     ]
    }
   ],
   "source": [
    "print(\"Best GBR Tuned (WLO) Model: \", gridsearch_gbr.best_estimator_)\n",
    "print(\"GBR Tuned (WLO) Model Best Score: \", gridsearch_gbr.best_score_)\n",
    "print(\"GBR Tuned (WLO) Model Best Params: \", gridsearch_gbr.best_params_)"
   ]
  },
  {
   "cell_type": "code",
   "execution_count": 115,
   "metadata": {},
   "outputs": [],
   "source": [
    "gbr_tuned2 = gridsearch_gbr.best_estimator_\n",
    "gbr_tuned_cv2 = cross_val_score(gbr_tuned2, X_train_val2, y_train_val2, cv=kfold, scoring='neg_mean_absolute_error', n_jobs=-1)"
   ]
  },
  {
   "cell_type": "code",
   "execution_count": 116,
   "metadata": {},
   "outputs": [
    {
     "name": "stdout",
     "output_type": "stream",
     "text": [
      "CV GBR Tuned (WLO): [-107040.65956366 -105282.62979534 -108017.4498503  -105770.18601122\n",
      " -109135.4211741 ]\n",
      "CV GBR Tuned (WLO) Mean: -107049.269\n"
     ]
    }
   ],
   "source": [
    "print('CV GBR Tuned (WLO):', gbr_tuned_cv2)\n",
    "print('CV GBR Tuned (WLO) Mean:', round(gbr_tuned_cv2.mean(), 3))"
   ]
  },
  {
   "cell_type": "code",
   "execution_count": 117,
   "metadata": {},
   "outputs": [
    {
     "data": {
      "text/html": [
       "<div>\n",
       "<style scoped>\n",
       "    .dataframe tbody tr th:only-of-type {\n",
       "        vertical-align: middle;\n",
       "    }\n",
       "\n",
       "    .dataframe tbody tr th {\n",
       "        vertical-align: top;\n",
       "    }\n",
       "\n",
       "    .dataframe thead th {\n",
       "        text-align: right;\n",
       "    }\n",
       "</style>\n",
       "<table border=\"1\" class=\"dataframe\">\n",
       "  <thead>\n",
       "    <tr style=\"text-align: right;\">\n",
       "      <th></th>\n",
       "      <th>mean_fit_time</th>\n",
       "      <th>std_fit_time</th>\n",
       "      <th>mean_score_time</th>\n",
       "      <th>std_score_time</th>\n",
       "      <th>param_reg__loss</th>\n",
       "      <th>param_reg__max_depth</th>\n",
       "      <th>param_reg__n_estimators</th>\n",
       "      <th>params</th>\n",
       "      <th>split0_test_score</th>\n",
       "      <th>split1_test_score</th>\n",
       "      <th>split2_test_score</th>\n",
       "      <th>split3_test_score</th>\n",
       "      <th>split4_test_score</th>\n",
       "      <th>mean_test_score</th>\n",
       "      <th>std_test_score</th>\n",
       "      <th>rank_test_score</th>\n",
       "    </tr>\n",
       "  </thead>\n",
       "  <tbody>\n",
       "    <tr>\n",
       "      <th>35</th>\n",
       "      <td>80.154648</td>\n",
       "      <td>5.706122</td>\n",
       "      <td>0.190335</td>\n",
       "      <td>0.013551</td>\n",
       "      <td>lad</td>\n",
       "      <td>14</td>\n",
       "      <td>100</td>\n",
       "      <td>{'reg__loss': 'lad', 'reg__max_depth': 14, 're...</td>\n",
       "      <td>-107040.659564</td>\n",
       "      <td>-105282.629795</td>\n",
       "      <td>-108017.449850</td>\n",
       "      <td>-105770.186011</td>\n",
       "      <td>-109135.421174</td>\n",
       "      <td>-107049.269279</td>\n",
       "      <td>1417.501079</td>\n",
       "      <td>1</td>\n",
       "    </tr>\n",
       "    <tr>\n",
       "      <th>37</th>\n",
       "      <td>100.990674</td>\n",
       "      <td>7.357786</td>\n",
       "      <td>0.266188</td>\n",
       "      <td>0.049468</td>\n",
       "      <td>lad</td>\n",
       "      <td>14</td>\n",
       "      <td>140</td>\n",
       "      <td>{'reg__loss': 'lad', 'reg__max_depth': 14, 're...</td>\n",
       "      <td>-107052.914102</td>\n",
       "      <td>-105321.110743</td>\n",
       "      <td>-107969.778836</td>\n",
       "      <td>-105743.558179</td>\n",
       "      <td>-109196.090319</td>\n",
       "      <td>-107056.690436</td>\n",
       "      <td>1424.593257</td>\n",
       "      <td>2</td>\n",
       "    </tr>\n",
       "    <tr>\n",
       "      <th>36</th>\n",
       "      <td>91.602052</td>\n",
       "      <td>7.595401</td>\n",
       "      <td>0.212750</td>\n",
       "      <td>0.019738</td>\n",
       "      <td>lad</td>\n",
       "      <td>14</td>\n",
       "      <td>120</td>\n",
       "      <td>{'reg__loss': 'lad', 'reg__max_depth': 14, 're...</td>\n",
       "      <td>-107081.730549</td>\n",
       "      <td>-105294.989047</td>\n",
       "      <td>-107964.669017</td>\n",
       "      <td>-105764.078974</td>\n",
       "      <td>-109235.313046</td>\n",
       "      <td>-107068.156127</td>\n",
       "      <td>1438.417704</td>\n",
       "      <td>3</td>\n",
       "    </tr>\n",
       "  </tbody>\n",
       "</table>\n",
       "</div>"
      ],
      "text/plain": [
       "    mean_fit_time  std_fit_time  mean_score_time  std_score_time  \\\n",
       "35      80.154648      5.706122         0.190335        0.013551   \n",
       "37     100.990674      7.357786         0.266188        0.049468   \n",
       "36      91.602052      7.595401         0.212750        0.019738   \n",
       "\n",
       "   param_reg__loss param_reg__max_depth param_reg__n_estimators  \\\n",
       "35             lad                   14                     100   \n",
       "37             lad                   14                     140   \n",
       "36             lad                   14                     120   \n",
       "\n",
       "                                               params  split0_test_score  \\\n",
       "35  {'reg__loss': 'lad', 'reg__max_depth': 14, 're...     -107040.659564   \n",
       "37  {'reg__loss': 'lad', 'reg__max_depth': 14, 're...     -107052.914102   \n",
       "36  {'reg__loss': 'lad', 'reg__max_depth': 14, 're...     -107081.730549   \n",
       "\n",
       "    split1_test_score  split2_test_score  split3_test_score  \\\n",
       "35     -105282.629795     -108017.449850     -105770.186011   \n",
       "37     -105321.110743     -107969.778836     -105743.558179   \n",
       "36     -105294.989047     -107964.669017     -105764.078974   \n",
       "\n",
       "    split4_test_score  mean_test_score  std_test_score  rank_test_score  \n",
       "35     -109135.421174   -107049.269279     1417.501079                1  \n",
       "37     -109196.090319   -107056.690436     1424.593257                2  \n",
       "36     -109235.313046   -107068.156127     1438.417704                3  "
      ]
     },
     "execution_count": 117,
     "metadata": {},
     "output_type": "execute_result"
    }
   ],
   "source": [
    "# GBR Tuned Model CV Result\n",
    "\n",
    "gridsearch_gbr_df2 = pd.DataFrame(gridsearch_gbr.cv_results_)\n",
    "gridsearch_gbr_df2.sort_values('rank_test_score').head(3)"
   ]
  },
  {
   "cell_type": "markdown",
   "metadata": {},
   "source": [
    "__There is an improvement in the 'Mean Absolute Error' Score of the Gradient Boosting Regressor tuned with less outliers (WLO) model:__\n",
    "- CV GBR Tuned (WLO) Mean: -107049.269\n",
    "- CV GBR Tuned Mean: -107697.857"
   ]
  },
  {
   "cell_type": "code",
   "execution_count": 118,
   "metadata": {},
   "outputs": [],
   "source": [
    "y_pred2 = gbr_tuned2.predict(X_test2)"
   ]
  },
  {
   "cell_type": "code",
   "execution_count": 119,
   "metadata": {},
   "outputs": [
    {
     "name": "stdout",
     "output_type": "stream",
     "text": [
      "MAE: 107282.83223519333\n"
     ]
    }
   ],
   "source": [
    "print('MAE:', metrics.mean_absolute_error(y_test2, y_pred2))"
   ]
  },
  {
   "cell_type": "markdown",
   "metadata": {},
   "source": [
    "- __Conclusion:__\n",
    "Gradient Boosting Regressor tuned with less outliers model (GBR Tuned W.L.O Model) is going to be selected as the final machine learning model in this project.\n",
    "\n",
    "- __Conclusion 2:__\n",
    "The maximum price of this project has been capped at 5M due to some outliers removal."
   ]
  },
  {
   "cell_type": "markdown",
   "metadata": {},
   "source": [
    "> ## Saving Final Model: Gradient Boosting Regressor Tuned with Less Outliers Model:"
   ]
  },
  {
   "cell_type": "markdown",
   "metadata": {},
   "source": [
    "- __Fitting Final Model with X and y Data that Have Less Outliers:__"
   ]
  },
  {
   "cell_type": "code",
   "execution_count": 120,
   "metadata": {},
   "outputs": [
    {
     "data": {
      "text/plain": [
       "Pipeline(steps=[('transformer',\n",
       "                 ColumnTransformer(remainder='passthrough',\n",
       "                                   transformers=[('impute_num',\n",
       "                                                  SimpleImputer(strategy='median'),\n",
       "                                                  ['parking', 'bathrooms',\n",
       "                                                   'bedrooms']),\n",
       "                                                 ('onehot',\n",
       "                                                  OneHotEncoder(drop='first'),\n",
       "                                                  ['propertyType']),\n",
       "                                                 ('binary', BinaryEncoder(),\n",
       "                                                  ['suburb'])])),\n",
       "                ('reg',\n",
       "                 GradientBoostingRegressor(loss='lad', max_depth=14,\n",
       "                                           random_state=2021))])"
      ]
     },
     "execution_count": 120,
     "metadata": {},
     "output_type": "execute_result"
    }
   ],
   "source": [
    "gbr_tuned2.fit(X2, y2)"
   ]
  },
  {
   "cell_type": "markdown",
   "metadata": {},
   "source": [
    "- __Saving Final Model:__"
   ]
  },
  {
   "cell_type": "code",
   "execution_count": 121,
   "metadata": {},
   "outputs": [
    {
     "data": {
      "text/plain": [
       "['gbr_twlo_final']"
      ]
     },
     "execution_count": 121,
     "metadata": {},
     "output_type": "execute_result"
    }
   ],
   "source": [
    "joblib.dump(gbr_tuned2, 'gbr_twlo_final')"
   ]
  }
 ],
 "metadata": {
  "kernelspec": {
   "display_name": "Python 3 (ipykernel)",
   "language": "python",
   "name": "python3"
  },
  "language_info": {
   "codemirror_mode": {
    "name": "ipython",
    "version": 3
   },
   "file_extension": ".py",
   "mimetype": "text/x-python",
   "name": "python",
   "nbconvert_exporter": "python",
   "pygments_lexer": "ipython3",
   "version": "3.8.13"
  }
 },
 "nbformat": 4,
 "nbformat_minor": 4
}
